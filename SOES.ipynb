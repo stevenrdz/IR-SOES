{
  "nbformat": 4,
  "nbformat_minor": 0,
  "metadata": {
    "colab": {
      "name": "SOES.ipynb",
      "provenance": [],
      "collapsed_sections": [
        "m9QtwYuuIS6N",
        "FcljReVfIZ8H",
        "Rvp8LvmALVwC"
      ],
      "toc_visible": true,
      "authorship_tag": "ABX9TyP0XK/EYnkFg0BVF8d62Jju",
      "include_colab_link": true
    },
    "kernelspec": {
      "name": "python3",
      "display_name": "Python 3"
    }
  },
  "cells": [
    {
      "cell_type": "markdown",
      "metadata": {
        "id": "view-in-github",
        "colab_type": "text"
      },
      "source": [
        "<a href=\"https://colab.research.google.com/github/stevenrdz/IR-SOES/blob/master/SOES.ipynb\" target=\"_parent\"><img src=\"https://colab.research.google.com/assets/colab-badge.svg\" alt=\"Open In Colab\"/></a>"
      ]
    },
    {
      "cell_type": "code",
      "metadata": {
        "id": "rDlWxMaH6Tzd",
        "colab_type": "code",
        "colab": {
          "base_uri": "https://localhost:8080/",
          "height": 921
        },
        "outputId": "af5d3573-a46f-4059-ced8-cf48fa2054a4"
      },
      "source": [
        "!pip install spacy\n",
        "!python -m spacy download es_core_news_md"
      ],
      "execution_count": null,
      "outputs": [
        {
          "output_type": "stream",
          "text": [
            "Requirement already satisfied: spacy in /usr/local/lib/python3.6/dist-packages (2.2.4)\n",
            "Requirement already satisfied: cymem<2.1.0,>=2.0.2 in /usr/local/lib/python3.6/dist-packages (from spacy) (2.0.3)\n",
            "Requirement already satisfied: murmurhash<1.1.0,>=0.28.0 in /usr/local/lib/python3.6/dist-packages (from spacy) (1.0.2)\n",
            "Requirement already satisfied: numpy>=1.15.0 in /usr/local/lib/python3.6/dist-packages (from spacy) (1.18.5)\n",
            "Requirement already satisfied: thinc==7.4.0 in /usr/local/lib/python3.6/dist-packages (from spacy) (7.4.0)\n",
            "Requirement already satisfied: srsly<1.1.0,>=1.0.2 in /usr/local/lib/python3.6/dist-packages (from spacy) (1.0.2)\n",
            "Requirement already satisfied: setuptools in /usr/local/lib/python3.6/dist-packages (from spacy) (49.1.0)\n",
            "Requirement already satisfied: preshed<3.1.0,>=3.0.2 in /usr/local/lib/python3.6/dist-packages (from spacy) (3.0.2)\n",
            "Requirement already satisfied: tqdm<5.0.0,>=4.38.0 in /usr/local/lib/python3.6/dist-packages (from spacy) (4.41.1)\n",
            "Requirement already satisfied: blis<0.5.0,>=0.4.0 in /usr/local/lib/python3.6/dist-packages (from spacy) (0.4.1)\n",
            "Requirement already satisfied: wasabi<1.1.0,>=0.4.0 in /usr/local/lib/python3.6/dist-packages (from spacy) (0.7.1)\n",
            "Requirement already satisfied: plac<1.2.0,>=0.9.6 in /usr/local/lib/python3.6/dist-packages (from spacy) (1.1.3)\n",
            "Requirement already satisfied: catalogue<1.1.0,>=0.0.7 in /usr/local/lib/python3.6/dist-packages (from spacy) (1.0.0)\n",
            "Requirement already satisfied: requests<3.0.0,>=2.13.0 in /usr/local/lib/python3.6/dist-packages (from spacy) (2.23.0)\n",
            "Requirement already satisfied: importlib-metadata>=0.20; python_version < \"3.8\" in /usr/local/lib/python3.6/dist-packages (from catalogue<1.1.0,>=0.0.7->spacy) (1.7.0)\n",
            "Requirement already satisfied: urllib3!=1.25.0,!=1.25.1,<1.26,>=1.21.1 in /usr/local/lib/python3.6/dist-packages (from requests<3.0.0,>=2.13.0->spacy) (1.24.3)\n",
            "Requirement already satisfied: idna<3,>=2.5 in /usr/local/lib/python3.6/dist-packages (from requests<3.0.0,>=2.13.0->spacy) (2.10)\n",
            "Requirement already satisfied: certifi>=2017.4.17 in /usr/local/lib/python3.6/dist-packages (from requests<3.0.0,>=2.13.0->spacy) (2020.6.20)\n",
            "Requirement already satisfied: chardet<4,>=3.0.2 in /usr/local/lib/python3.6/dist-packages (from requests<3.0.0,>=2.13.0->spacy) (3.0.4)\n",
            "Requirement already satisfied: zipp>=0.5 in /usr/local/lib/python3.6/dist-packages (from importlib-metadata>=0.20; python_version < \"3.8\"->catalogue<1.1.0,>=0.0.7->spacy) (3.1.0)\n",
            "Collecting es_core_news_md==2.2.5\n",
            "\u001b[?25l  Downloading https://github.com/explosion/spacy-models/releases/download/es_core_news_md-2.2.5/es_core_news_md-2.2.5.tar.gz (78.4MB)\n",
            "\u001b[K     |████████████████████████████████| 78.4MB 1.3MB/s \n",
            "\u001b[?25hRequirement already satisfied: spacy>=2.2.2 in /usr/local/lib/python3.6/dist-packages (from es_core_news_md==2.2.5) (2.2.4)\n",
            "Requirement already satisfied: plac<1.2.0,>=0.9.6 in /usr/local/lib/python3.6/dist-packages (from spacy>=2.2.2->es_core_news_md==2.2.5) (1.1.3)\n",
            "Requirement already satisfied: preshed<3.1.0,>=3.0.2 in /usr/local/lib/python3.6/dist-packages (from spacy>=2.2.2->es_core_news_md==2.2.5) (3.0.2)\n",
            "Requirement already satisfied: requests<3.0.0,>=2.13.0 in /usr/local/lib/python3.6/dist-packages (from spacy>=2.2.2->es_core_news_md==2.2.5) (2.23.0)\n",
            "Requirement already satisfied: tqdm<5.0.0,>=4.38.0 in /usr/local/lib/python3.6/dist-packages (from spacy>=2.2.2->es_core_news_md==2.2.5) (4.41.1)\n",
            "Requirement already satisfied: catalogue<1.1.0,>=0.0.7 in /usr/local/lib/python3.6/dist-packages (from spacy>=2.2.2->es_core_news_md==2.2.5) (1.0.0)\n",
            "Requirement already satisfied: murmurhash<1.1.0,>=0.28.0 in /usr/local/lib/python3.6/dist-packages (from spacy>=2.2.2->es_core_news_md==2.2.5) (1.0.2)\n",
            "Requirement already satisfied: cymem<2.1.0,>=2.0.2 in /usr/local/lib/python3.6/dist-packages (from spacy>=2.2.2->es_core_news_md==2.2.5) (2.0.3)\n",
            "Requirement already satisfied: setuptools in /usr/local/lib/python3.6/dist-packages (from spacy>=2.2.2->es_core_news_md==2.2.5) (49.1.0)\n",
            "Requirement already satisfied: srsly<1.1.0,>=1.0.2 in /usr/local/lib/python3.6/dist-packages (from spacy>=2.2.2->es_core_news_md==2.2.5) (1.0.2)\n",
            "Requirement already satisfied: wasabi<1.1.0,>=0.4.0 in /usr/local/lib/python3.6/dist-packages (from spacy>=2.2.2->es_core_news_md==2.2.5) (0.7.1)\n",
            "Requirement already satisfied: thinc==7.4.0 in /usr/local/lib/python3.6/dist-packages (from spacy>=2.2.2->es_core_news_md==2.2.5) (7.4.0)\n",
            "Requirement already satisfied: blis<0.5.0,>=0.4.0 in /usr/local/lib/python3.6/dist-packages (from spacy>=2.2.2->es_core_news_md==2.2.5) (0.4.1)\n",
            "Requirement already satisfied: numpy>=1.15.0 in /usr/local/lib/python3.6/dist-packages (from spacy>=2.2.2->es_core_news_md==2.2.5) (1.18.5)\n",
            "Requirement already satisfied: chardet<4,>=3.0.2 in /usr/local/lib/python3.6/dist-packages (from requests<3.0.0,>=2.13.0->spacy>=2.2.2->es_core_news_md==2.2.5) (3.0.4)\n",
            "Requirement already satisfied: idna<3,>=2.5 in /usr/local/lib/python3.6/dist-packages (from requests<3.0.0,>=2.13.0->spacy>=2.2.2->es_core_news_md==2.2.5) (2.10)\n",
            "Requirement already satisfied: certifi>=2017.4.17 in /usr/local/lib/python3.6/dist-packages (from requests<3.0.0,>=2.13.0->spacy>=2.2.2->es_core_news_md==2.2.5) (2020.6.20)\n",
            "Requirement already satisfied: urllib3!=1.25.0,!=1.25.1,<1.26,>=1.21.1 in /usr/local/lib/python3.6/dist-packages (from requests<3.0.0,>=2.13.0->spacy>=2.2.2->es_core_news_md==2.2.5) (1.24.3)\n",
            "Requirement already satisfied: importlib-metadata>=0.20; python_version < \"3.8\" in /usr/local/lib/python3.6/dist-packages (from catalogue<1.1.0,>=0.0.7->spacy>=2.2.2->es_core_news_md==2.2.5) (1.7.0)\n",
            "Requirement already satisfied: zipp>=0.5 in /usr/local/lib/python3.6/dist-packages (from importlib-metadata>=0.20; python_version < \"3.8\"->catalogue<1.1.0,>=0.0.7->spacy>=2.2.2->es_core_news_md==2.2.5) (3.1.0)\n",
            "Building wheels for collected packages: es-core-news-md\n",
            "  Building wheel for es-core-news-md (setup.py) ... \u001b[?25l\u001b[?25hdone\n",
            "  Created wheel for es-core-news-md: filename=es_core_news_md-2.2.5-cp36-none-any.whl size=79649483 sha256=3d8e8e9116972f3ef9b454fe9604edd9dd82be4a53063e200dbb8591c0bf91b4\n",
            "  Stored in directory: /tmp/pip-ephem-wheel-cache-s0m8kd4v/wheels/b7/bb/a3/29ab5cf80c2c0a8fa0f2af8402fdace3f159e8265f0fdcbcdb\n",
            "Successfully built es-core-news-md\n",
            "Installing collected packages: es-core-news-md\n",
            "Successfully installed es-core-news-md-2.2.5\n",
            "\u001b[38;5;2m✔ Download and installation successful\u001b[0m\n",
            "You can now load the model via spacy.load('es_core_news_md')\n"
          ],
          "name": "stdout"
        }
      ]
    },
    {
      "cell_type": "code",
      "metadata": {
        "id": "62EgQaiixIPV",
        "colab_type": "code",
        "colab": {
          "base_uri": "https://localhost:8080/",
          "height": 102
        },
        "outputId": "6335cdc7-a318-4b11-d838-7e36be15da9a"
      },
      "source": [
        "import nltk\n",
        "nltk.download('stopwords')\n",
        "nltk.download('punkt')"
      ],
      "execution_count": null,
      "outputs": [
        {
          "output_type": "stream",
          "text": [
            "[nltk_data] Downloading package stopwords to /root/nltk_data...\n",
            "[nltk_data]   Unzipping corpora/stopwords.zip.\n",
            "[nltk_data] Downloading package punkt to /root/nltk_data...\n",
            "[nltk_data]   Unzipping tokenizers/punkt.zip.\n"
          ],
          "name": "stdout"
        },
        {
          "output_type": "execute_result",
          "data": {
            "text/plain": [
              "True"
            ]
          },
          "metadata": {
            "tags": []
          },
          "execution_count": 2
        }
      ]
    },
    {
      "cell_type": "code",
      "metadata": {
        "id": "dW074_De73it",
        "colab_type": "code",
        "colab": {
          "base_uri": "https://localhost:8080/",
          "height": 122
        },
        "outputId": "adc96957-d89d-4faa-9851-89b98ddd1541"
      },
      "source": [
        "from google.colab import files\n",
        "from google.colab import drive\n",
        "drive.mount('/content/gdrive')"
      ],
      "execution_count": null,
      "outputs": [
        {
          "output_type": "stream",
          "text": [
            "Go to this URL in a browser: https://accounts.google.com/o/oauth2/auth?client_id=947318989803-6bn6qk8qdgf4n4g3pfee6491hc0brc4i.apps.googleusercontent.com&redirect_uri=urn%3aietf%3awg%3aoauth%3a2.0%3aoob&response_type=code&scope=email%20https%3a%2f%2fwww.googleapis.com%2fauth%2fdocs.test%20https%3a%2f%2fwww.googleapis.com%2fauth%2fdrive%20https%3a%2f%2fwww.googleapis.com%2fauth%2fdrive.photos.readonly%20https%3a%2f%2fwww.googleapis.com%2fauth%2fpeopleapi.readonly\n",
            "\n",
            "Enter your authorization code:\n",
            "··········\n",
            "Mounted at /content/gdrive\n"
          ],
          "name": "stdout"
        }
      ]
    },
    {
      "cell_type": "code",
      "metadata": {
        "id": "p3fAyvwXiXuy",
        "colab_type": "code",
        "colab": {
          "base_uri": "https://localhost:8080/",
          "height": 34
        },
        "outputId": "82ea8a08-dc69-4ded-dd9c-e22f9c7d9b7d"
      },
      "source": [
        "from time import time\n",
        "start_nb = time()\n",
        "\n",
        "start = time()\n",
        "import pandas as pd\n",
        "from nltk import SnowballStemmer\n",
        "from nltk.corpus import stopwords\n",
        "import re\n",
        "from nltk import word_tokenize\n",
        "\n",
        "import es_core_news_md\n",
        "nlp = es_core_news_md.load()\n",
        "\n",
        "es_stops = set(stopwords.words('spanish'))\n",
        "Snowball_stemmer = SnowballStemmer('spanish')\n",
        "\n",
        "print('Importación de Librerias. %.2f segundos' % (time() - start))"
      ],
      "execution_count": null,
      "outputs": [
        {
          "output_type": "stream",
          "text": [
            "Importación de Librerias. 21.85 segundos\n"
          ],
          "name": "stdout"
        }
      ]
    },
    {
      "cell_type": "markdown",
      "metadata": {
        "id": "tOXCGO4uI8C2",
        "colab_type": "text"
      },
      "source": [
        "# PRE-PROCESSED"
      ]
    },
    {
      "cell_type": "markdown",
      "metadata": {
        "id": "W_LratP0JLZE",
        "colab_type": "text"
      },
      "source": [
        "### DATASET"
      ]
    },
    {
      "cell_type": "code",
      "metadata": {
        "id": "Y5ZKX68J4iG4",
        "colab_type": "code",
        "colab": {
          "base_uri": "https://localhost:8080/",
          "height": 221
        },
        "outputId": "a6cef6b1-7ed5-4167-af84-4a4c683ede0a"
      },
      "source": [
        "start = time()\n",
        "dataset = pd.read_csv('//content/gdrive/My Drive/df.csv',\n",
        "                      sep=';', encoding='utf-8-sig')\n",
        "dataset_size = len(dataset)\n",
        "\n",
        "\n",
        "print('Dataset generado. %.2f segundos' % (time() - start))\n",
        "dataset.head()"
      ],
      "execution_count": null,
      "outputs": [
        {
          "output_type": "stream",
          "text": [
            "Dataset generado. 0.68 segundos\n"
          ],
          "name": "stdout"
        },
        {
          "output_type": "execute_result",
          "data": {
            "text/html": [
              "<div>\n",
              "<style scoped>\n",
              "    .dataframe tbody tr th:only-of-type {\n",
              "        vertical-align: middle;\n",
              "    }\n",
              "\n",
              "    .dataframe tbody tr th {\n",
              "        vertical-align: top;\n",
              "    }\n",
              "\n",
              "    .dataframe thead th {\n",
              "        text-align: right;\n",
              "    }\n",
              "</style>\n",
              "<table border=\"1\" class=\"dataframe\">\n",
              "  <thead>\n",
              "    <tr style=\"text-align: right;\">\n",
              "      <th></th>\n",
              "      <th>Id</th>\n",
              "      <th>Title</th>\n",
              "      <th>Body</th>\n",
              "    </tr>\n",
              "  </thead>\n",
              "  <tbody>\n",
              "    <tr>\n",
              "      <th>0</th>\n",
              "      <td>286498</td>\n",
              "      <td>Debugear código Django utilizando Docker</td>\n",
              "      <td>&lt;p&gt;Les cuento.\\r\\nEstoy realizando un proyecto...</td>\n",
              "    </tr>\n",
              "    <tr>\n",
              "      <th>1</th>\n",
              "      <td>226916</td>\n",
              "      <td>En el file.conf muestra Error usando Superviso...</td>\n",
              "      <td>&lt;p&gt;Al configurar el file.conf&lt;br&gt;\\r\\nruta : su...</td>\n",
              "    </tr>\n",
              "    <tr>\n",
              "      <th>2</th>\n",
              "      <td>161561</td>\n",
              "      <td>Ejecutar navegador en pantalla completa al ini...</td>\n",
              "      <td>&lt;p&gt;Estoy realizando un &lt;em&gt;proyecto Domotico&lt;/...</td>\n",
              "    </tr>\n",
              "    <tr>\n",
              "      <th>3</th>\n",
              "      <td>230560</td>\n",
              "      <td>Pagina web en blanco</td>\n",
              "      <td>&lt;p&gt;Buen dia \\r\\nNo se por que mi pagina web sa...</td>\n",
              "    </tr>\n",
              "    <tr>\n",
              "      <th>4</th>\n",
              "      <td>309146</td>\n",
              "      <td>Obtengo el error I/Choreographer: Skipped 110 ...</td>\n",
              "      <td>&lt;p&gt;Estoy trabajando en android studio intentan...</td>\n",
              "    </tr>\n",
              "  </tbody>\n",
              "</table>\n",
              "</div>"
            ],
            "text/plain": [
              "       Id  ...                                               Body\n",
              "0  286498  ...  <p>Les cuento.\\r\\nEstoy realizando un proyecto...\n",
              "1  226916  ...  <p>Al configurar el file.conf<br>\\r\\nruta : su...\n",
              "2  161561  ...  <p>Estoy realizando un <em>proyecto Domotico</...\n",
              "3  230560  ...  <p>Buen dia \\r\\nNo se por que mi pagina web sa...\n",
              "4  309146  ...  <p>Estoy trabajando en android studio intentan...\n",
              "\n",
              "[5 rows x 3 columns]"
            ]
          },
          "metadata": {
            "tags": []
          },
          "execution_count": 5
        }
      ]
    },
    {
      "cell_type": "markdown",
      "metadata": {
        "id": "pekPnFXiJA0e",
        "colab_type": "text"
      },
      "source": [
        "### LEMATIZACIÓN"
      ]
    },
    {
      "cell_type": "code",
      "metadata": {
        "id": "2DSSL7vrgKs4",
        "colab_type": "code",
        "colab": {}
      },
      "source": [
        "def preprocess_lemma(doc):\n",
        "    separator = ' '\n",
        "    label = re.compile('<.*?>')\n",
        "    doc = re.sub(label, '', doc)\n",
        "    doc = doc.lower()  # Minuscula todo el texto.\n",
        "    doc = word_tokenize(doc)  # Dividir en palabras.\n",
        "    doc = [w for w in doc if not w in es_stops]  # Eliminar stopwords.\n",
        "    doc = [w for w in doc if w.isalpha()]  # Eliminar numbers and punctuation.\n",
        "    doc = separator.join(doc)\n",
        "    doc = nlp(doc)\n",
        "    doc = [w.lemma_ for w in doc]\n",
        "    return doc"
      ],
      "execution_count": null,
      "outputs": []
    },
    {
      "cell_type": "code",
      "metadata": {
        "id": "n2wSzh6Y2aJ0",
        "colab_type": "code",
        "colab": {
          "base_uri": "https://localhost:8080/",
          "height": 436
        },
        "outputId": "1bdd6447-9ed0-4f4d-b7ac-785f176a8170"
      },
      "source": [
        "start = time()\n",
        "dataset['Lemma_Title'] = dataset.apply(\n",
        "        lambda dataset: preprocess_lemma(dataset['Title']), axis=1)\n",
        "dataset['Lemma_Body'] = dataset.apply(\n",
        "        lambda dataset: preprocess_lemma(dataset['Body']), axis=1)\n",
        "print('Dataset generado. %.2f segundos' % (time() - start))\n",
        "dataset.iloc[:,[3,4]]"
      ],
      "execution_count": null,
      "outputs": [
        {
          "output_type": "stream",
          "text": [
            "Dataset generado. 34.01 segundos\n"
          ],
          "name": "stdout"
        },
        {
          "output_type": "execute_result",
          "data": {
            "text/html": [
              "<div>\n",
              "<style scoped>\n",
              "    .dataframe tbody tr th:only-of-type {\n",
              "        vertical-align: middle;\n",
              "    }\n",
              "\n",
              "    .dataframe tbody tr th {\n",
              "        vertical-align: top;\n",
              "    }\n",
              "\n",
              "    .dataframe thead th {\n",
              "        text-align: right;\n",
              "    }\n",
              "</style>\n",
              "<table border=\"1\" class=\"dataframe\">\n",
              "  <thead>\n",
              "    <tr style=\"text-align: right;\">\n",
              "      <th></th>\n",
              "      <th>Lemma_Title</th>\n",
              "      <th>Lemma_Body</th>\n",
              "    </tr>\n",
              "  </thead>\n",
              "  <tbody>\n",
              "    <tr>\n",
              "      <th>0</th>\n",
              "      <td>[debugear, código, django, utilizar, docker]</td>\n",
              "      <td>[contar, realizar, proyectar, django, utilizar...</td>\n",
              "    </tr>\n",
              "    <tr>\n",
              "      <th>1</th>\n",
              "      <td>[mostrar, error, usar, supervisor, digital, oc...</td>\n",
              "      <td>[configurar, ruta, sudar, nano, program, factu...</td>\n",
              "    </tr>\n",
              "    <tr>\n",
              "      <th>2</th>\n",
              "      <td>[ejecutar, navegador, pantalla, completo, inic...</td>\n",
              "      <td>[realizar, proyectar, domotico, siguiente, com...</td>\n",
              "    </tr>\n",
              "    <tr>\n",
              "      <th>3</th>\n",
              "      <td>[paginar, web, blanco]</td>\n",
              "      <td>[bueno, dia, paginar, web, salir, blanco, algu...</td>\n",
              "    </tr>\n",
              "    <tr>\n",
              "      <th>4</th>\n",
              "      <td>[obtener, error, skipped, frames, the, applica...</td>\n",
              "      <td>[trabajar, android, studio, intentar, hacer, c...</td>\n",
              "    </tr>\n",
              "    <tr>\n",
              "      <th>...</th>\n",
              "      <td>...</td>\n",
              "      <td>...</td>\n",
              "    </tr>\n",
              "    <tr>\n",
              "      <th>1079</th>\n",
              "      <td>[conexion, remoto, sql, server, linux, mint]</td>\n",
              "      <td>[instalar, sql, server, linux, mint, basar, da...</td>\n",
              "    </tr>\n",
              "    <tr>\n",
              "      <th>1080</th>\n",
              "      <td>[crear, basar, dato, centos, funcionar]</td>\n",
              "      <td>[utilizar, centos, seguir, instrucción, sitiar...</td>\n",
              "    </tr>\n",
              "    <tr>\n",
              "      <th>1081</th>\n",
              "      <td>[hacer, respaldar, basar, dato, terminal]</td>\n",
              "      <td>[basar, dato, milisegundo, sql, server, expres...</td>\n",
              "    </tr>\n",
              "    <tr>\n",
              "      <th>1082</th>\n",
              "      <td>[aplicación, windows, linux, wine]</td>\n",
              "      <td>[aplicación, desarrollar, utilizar, cámara, es...</td>\n",
              "    </tr>\n",
              "    <tr>\n",
              "      <th>1083</th>\n",
              "      <td>[wordpress, solicitar, servidor, usuario, ftp,...</td>\n",
              "      <td>[problema, poner, permiso, entrar, do, servido...</td>\n",
              "    </tr>\n",
              "  </tbody>\n",
              "</table>\n",
              "<p>1084 rows × 2 columns</p>\n",
              "</div>"
            ],
            "text/plain": [
              "                                            Lemma_Title                                         Lemma_Body\n",
              "0          [debugear, código, django, utilizar, docker]  [contar, realizar, proyectar, django, utilizar...\n",
              "1     [mostrar, error, usar, supervisor, digital, oc...  [configurar, ruta, sudar, nano, program, factu...\n",
              "2     [ejecutar, navegador, pantalla, completo, inic...  [realizar, proyectar, domotico, siguiente, com...\n",
              "3                                [paginar, web, blanco]  [bueno, dia, paginar, web, salir, blanco, algu...\n",
              "4     [obtener, error, skipped, frames, the, applica...  [trabajar, android, studio, intentar, hacer, c...\n",
              "...                                                 ...                                                ...\n",
              "1079       [conexion, remoto, sql, server, linux, mint]  [instalar, sql, server, linux, mint, basar, da...\n",
              "1080            [crear, basar, dato, centos, funcionar]  [utilizar, centos, seguir, instrucción, sitiar...\n",
              "1081          [hacer, respaldar, basar, dato, terminal]  [basar, dato, milisegundo, sql, server, expres...\n",
              "1082                 [aplicación, windows, linux, wine]  [aplicación, desarrollar, utilizar, cámara, es...\n",
              "1083  [wordpress, solicitar, servidor, usuario, ftp,...  [problema, poner, permiso, entrar, do, servido...\n",
              "\n",
              "[1084 rows x 2 columns]"
            ]
          },
          "metadata": {
            "tags": []
          },
          "execution_count": 7
        }
      ]
    },
    {
      "cell_type": "markdown",
      "metadata": {
        "id": "Ax27boXvJFGc",
        "colab_type": "text"
      },
      "source": [
        "### STEMMER"
      ]
    },
    {
      "cell_type": "code",
      "metadata": {
        "id": "aToiGtAB2T1_",
        "colab_type": "code",
        "colab": {}
      },
      "source": [
        "def preprocess_stem(doc):\n",
        "    label = re.compile('<.*?>')\n",
        "    doc = re.sub(label, '', doc)\n",
        "    doc = doc.lower()  # Minuscula todo el texto.\n",
        "    doc = word_tokenize(doc)  # Dividir en palabras.\n",
        "    doc = [w for w in doc if not w in es_stops]  # Eliminar stopwords.\n",
        "    doc = [w for w in doc if w.isalpha()]  # Eliminar numbers and punctuation.\n",
        "    doc = [Snowball_stemmer.stem(w) for w in doc]  # Extraer raices o stems (Stemming)\n",
        "    return doc"
      ],
      "execution_count": null,
      "outputs": []
    },
    {
      "cell_type": "code",
      "metadata": {
        "id": "zOhDPy7SZ79W",
        "colab_type": "code",
        "colab": {
          "base_uri": "https://localhost:8080/",
          "height": 436
        },
        "outputId": "fe9ed277-f88a-45f5-aa20-0229ff05b343"
      },
      "source": [
        "start = time()\n",
        "dataset['Stem_Title'] = dataset.apply(\n",
        "        lambda dataset: preprocess_stem(dataset['Title']), axis=1)\n",
        "dataset['Stem_Body'] = dataset.apply(\n",
        "        lambda dataset: preprocess_stem(dataset['Body']), axis=1)\n",
        "print('Preprocesado completo. %.2f segundos' % (time() - start))\n",
        "dataset.iloc[:,[5,6]]"
      ],
      "execution_count": null,
      "outputs": [
        {
          "output_type": "stream",
          "text": [
            "Preprocesado completo. 3.78 segundos\n"
          ],
          "name": "stdout"
        },
        {
          "output_type": "execute_result",
          "data": {
            "text/html": [
              "<div>\n",
              "<style scoped>\n",
              "    .dataframe tbody tr th:only-of-type {\n",
              "        vertical-align: middle;\n",
              "    }\n",
              "\n",
              "    .dataframe tbody tr th {\n",
              "        vertical-align: top;\n",
              "    }\n",
              "\n",
              "    .dataframe thead th {\n",
              "        text-align: right;\n",
              "    }\n",
              "</style>\n",
              "<table border=\"1\" class=\"dataframe\">\n",
              "  <thead>\n",
              "    <tr style=\"text-align: right;\">\n",
              "      <th></th>\n",
              "      <th>Stem_Title</th>\n",
              "      <th>Stem_Body</th>\n",
              "    </tr>\n",
              "  </thead>\n",
              "  <tbody>\n",
              "    <tr>\n",
              "      <th>0</th>\n",
              "      <td>[debug, codig, djang, utiliz, dock]</td>\n",
              "      <td>[cuent, realiz, proyect, djang, utiliz, pychar...</td>\n",
              "    </tr>\n",
              "    <tr>\n",
              "      <th>1</th>\n",
              "      <td>[muestr, error, usand, supervisor, digital, oc...</td>\n",
              "      <td>[configur, rut, sud, nan, program, facturaempr...</td>\n",
              "    </tr>\n",
              "    <tr>\n",
              "      <th>2</th>\n",
              "      <td>[ejecut, naveg, pantall, complet, inici, linux]</td>\n",
              "      <td>[realiz, proyect, domot, siguient, component, ...</td>\n",
              "    </tr>\n",
              "    <tr>\n",
              "      <th>3</th>\n",
              "      <td>[pagin, web, blanc]</td>\n",
              "      <td>[buen, dia, pagin, web, sal, blanc, algui, pod...</td>\n",
              "    </tr>\n",
              "    <tr>\n",
              "      <th>4</th>\n",
              "      <td>[obteng, error, skipp, fram, the, application,...</td>\n",
              "      <td>[trabaj, andro, studi, intent, hac, conexion, ...</td>\n",
              "    </tr>\n",
              "    <tr>\n",
              "      <th>...</th>\n",
              "      <td>...</td>\n",
              "      <td>...</td>\n",
              "    </tr>\n",
              "    <tr>\n",
              "      <th>1079</th>\n",
              "      <td>[conexion, remot, sql, serv, linux, mint]</td>\n",
              "      <td>[instal, sql, serv, linux, mint, bas, dat, cre...</td>\n",
              "    </tr>\n",
              "    <tr>\n",
              "      <th>1080</th>\n",
              "      <td>[cre, bas, dat, cent, funcion]</td>\n",
              "      <td>[utiliz, cent, segu, instruccion, siti, micros...</td>\n",
              "    </tr>\n",
              "    <tr>\n",
              "      <th>1081</th>\n",
              "      <td>[hac, respald, bas, dat, terminal]</td>\n",
              "      <td>[bas, dat, ms, sql, serv, express, ubuntu, adm...</td>\n",
              "    </tr>\n",
              "    <tr>\n",
              "      <th>1082</th>\n",
              "      <td>[aplic, windows, linux, win]</td>\n",
              "      <td>[aplic, desarroll, utiliz, cam, escan, lector,...</td>\n",
              "    </tr>\n",
              "    <tr>\n",
              "      <th>1083</th>\n",
              "      <td>[wordpress, solicit, servidor, usuari, ftp, co...</td>\n",
              "      <td>[problem, puest, permis, entrar, dos, servidor...</td>\n",
              "    </tr>\n",
              "  </tbody>\n",
              "</table>\n",
              "<p>1084 rows × 2 columns</p>\n",
              "</div>"
            ],
            "text/plain": [
              "                                             Stem_Title                                          Stem_Body\n",
              "0                   [debug, codig, djang, utiliz, dock]  [cuent, realiz, proyect, djang, utiliz, pychar...\n",
              "1     [muestr, error, usand, supervisor, digital, oc...  [configur, rut, sud, nan, program, facturaempr...\n",
              "2       [ejecut, naveg, pantall, complet, inici, linux]  [realiz, proyect, domot, siguient, component, ...\n",
              "3                                   [pagin, web, blanc]  [buen, dia, pagin, web, sal, blanc, algui, pod...\n",
              "4     [obteng, error, skipp, fram, the, application,...  [trabaj, andro, studi, intent, hac, conexion, ...\n",
              "...                                                 ...                                                ...\n",
              "1079          [conexion, remot, sql, serv, linux, mint]  [instal, sql, serv, linux, mint, bas, dat, cre...\n",
              "1080                     [cre, bas, dat, cent, funcion]  [utiliz, cent, segu, instruccion, siti, micros...\n",
              "1081                 [hac, respald, bas, dat, terminal]  [bas, dat, ms, sql, serv, express, ubuntu, adm...\n",
              "1082                       [aplic, windows, linux, win]  [aplic, desarroll, utiliz, cam, escan, lector,...\n",
              "1083  [wordpress, solicit, servidor, usuari, ftp, co...  [problem, puest, permis, entrar, dos, servidor...\n",
              "\n",
              "[1084 rows x 2 columns]"
            ]
          },
          "metadata": {
            "tags": []
          },
          "execution_count": 9
        }
      ]
    },
    {
      "cell_type": "markdown",
      "metadata": {
        "id": "SWjnwjz2KkWy",
        "colab_type": "text"
      },
      "source": [
        "### PRE-PROCESADO (SOLO STOPWORD & SIGNOS DE PUNTUACIÓN)"
      ]
    },
    {
      "cell_type": "code",
      "metadata": {
        "id": "VSVVmiSbKwA5",
        "colab_type": "code",
        "colab": {}
      },
      "source": [
        "def preprocess(doc):\n",
        "    label = re.compile('<.*?>')\n",
        "    doc = re.sub(label, '', doc)\n",
        "    doc = doc.lower()  # Minuscula todo el texto.\n",
        "    doc = word_tokenize(doc)  # Dividir en palabras.\n",
        "    doc = [w for w in doc if not w in es_stops]  # Eliminar stopwords.\n",
        "    doc = [w for w in doc if w.isalpha()]  # Eliminar numbers and punctuation.\n",
        "    return doc"
      ],
      "execution_count": null,
      "outputs": []
    },
    {
      "cell_type": "code",
      "metadata": {
        "id": "4PuDD6gdK1ga",
        "colab_type": "code",
        "colab": {
          "base_uri": "https://localhost:8080/",
          "height": 436
        },
        "outputId": "f80e93a7-ae9e-428e-a401-7ab2c8ca103a"
      },
      "source": [
        "start = time()\n",
        "dataset['Processed_Title'] = dataset.apply(\n",
        "        lambda dataset: preprocess(dataset['Title']), axis=1)\n",
        "dataset['Processed_Body'] = dataset.apply(\n",
        "        lambda dataset: preprocess(dataset['Body']), axis=1)\n",
        "print('Preprocesado completo. %.2f segundos' % (time() - start))\n",
        "dataset.iloc[:,[7,8]]"
      ],
      "execution_count": null,
      "outputs": [
        {
          "output_type": "stream",
          "text": [
            "Preprocesado completo. 1.69 segundos\n"
          ],
          "name": "stdout"
        },
        {
          "output_type": "execute_result",
          "data": {
            "text/html": [
              "<div>\n",
              "<style scoped>\n",
              "    .dataframe tbody tr th:only-of-type {\n",
              "        vertical-align: middle;\n",
              "    }\n",
              "\n",
              "    .dataframe tbody tr th {\n",
              "        vertical-align: top;\n",
              "    }\n",
              "\n",
              "    .dataframe thead th {\n",
              "        text-align: right;\n",
              "    }\n",
              "</style>\n",
              "<table border=\"1\" class=\"dataframe\">\n",
              "  <thead>\n",
              "    <tr style=\"text-align: right;\">\n",
              "      <th></th>\n",
              "      <th>Processed_Title</th>\n",
              "      <th>Processed_Body</th>\n",
              "    </tr>\n",
              "  </thead>\n",
              "  <tbody>\n",
              "    <tr>\n",
              "      <th>0</th>\n",
              "      <td>[debugear, código, django, utilizando, docker]</td>\n",
              "      <td>[cuento, realizando, proyecto, django, utilizo...</td>\n",
              "    </tr>\n",
              "    <tr>\n",
              "      <th>1</th>\n",
              "      <td>[muestra, error, usando, supervisor, digital, ...</td>\n",
              "      <td>[configurar, ruta, sudo, nano, program, factur...</td>\n",
              "    </tr>\n",
              "    <tr>\n",
              "      <th>2</th>\n",
              "      <td>[ejecutar, navegador, pantalla, completa, inic...</td>\n",
              "      <td>[realizando, proyecto, domotico, siguientes, c...</td>\n",
              "    </tr>\n",
              "    <tr>\n",
              "      <th>3</th>\n",
              "      <td>[pagina, web, blanco]</td>\n",
              "      <td>[buen, dia, pagina, web, sale, blanco, alguien...</td>\n",
              "    </tr>\n",
              "    <tr>\n",
              "      <th>4</th>\n",
              "      <td>[obtengo, error, skipped, frames, the, applica...</td>\n",
              "      <td>[trabajando, android, studio, intentando, hace...</td>\n",
              "    </tr>\n",
              "    <tr>\n",
              "      <th>...</th>\n",
              "      <td>...</td>\n",
              "      <td>...</td>\n",
              "    </tr>\n",
              "    <tr>\n",
              "      <th>1079</th>\n",
              "      <td>[conexion, remota, sql, server, linux, mint]</td>\n",
              "      <td>[instalado, sql, server, linux, mint, base, da...</td>\n",
              "    </tr>\n",
              "    <tr>\n",
              "      <th>1080</th>\n",
              "      <td>[crear, base, datos, centos, funciona]</td>\n",
              "      <td>[utilizando, centos, seguí, instrucciones, sit...</td>\n",
              "    </tr>\n",
              "    <tr>\n",
              "      <th>1081</th>\n",
              "      <td>[hacer, respaldo, base, datos, terminal]</td>\n",
              "      <td>[base, datos, ms, sql, server, express, ubuntu...</td>\n",
              "    </tr>\n",
              "    <tr>\n",
              "      <th>1082</th>\n",
              "      <td>[aplicación, windows, linux, wine]</td>\n",
              "      <td>[aplicación, desarrollada, utiliza, cámara, es...</td>\n",
              "    </tr>\n",
              "    <tr>\n",
              "      <th>1083</th>\n",
              "      <td>[wordpress, solicita, servidor, usuario, ftp, ...</td>\n",
              "      <td>[problema, puesto, permisos, entrar, dos, serv...</td>\n",
              "    </tr>\n",
              "  </tbody>\n",
              "</table>\n",
              "<p>1084 rows × 2 columns</p>\n",
              "</div>"
            ],
            "text/plain": [
              "                                        Processed_Title                                     Processed_Body\n",
              "0        [debugear, código, django, utilizando, docker]  [cuento, realizando, proyecto, django, utilizo...\n",
              "1     [muestra, error, usando, supervisor, digital, ...  [configurar, ruta, sudo, nano, program, factur...\n",
              "2     [ejecutar, navegador, pantalla, completa, inic...  [realizando, proyecto, domotico, siguientes, c...\n",
              "3                                 [pagina, web, blanco]  [buen, dia, pagina, web, sale, blanco, alguien...\n",
              "4     [obtengo, error, skipped, frames, the, applica...  [trabajando, android, studio, intentando, hace...\n",
              "...                                                 ...                                                ...\n",
              "1079       [conexion, remota, sql, server, linux, mint]  [instalado, sql, server, linux, mint, base, da...\n",
              "1080             [crear, base, datos, centos, funciona]  [utilizando, centos, seguí, instrucciones, sit...\n",
              "1081           [hacer, respaldo, base, datos, terminal]  [base, datos, ms, sql, server, express, ubuntu...\n",
              "1082                 [aplicación, windows, linux, wine]  [aplicación, desarrollada, utiliza, cámara, es...\n",
              "1083  [wordpress, solicita, servidor, usuario, ftp, ...  [problema, puesto, permisos, entrar, dos, serv...\n",
              "\n",
              "[1084 rows x 2 columns]"
            ]
          },
          "metadata": {
            "tags": []
          },
          "execution_count": 11
        }
      ]
    },
    {
      "cell_type": "markdown",
      "metadata": {
        "id": "7UVYt9t4IJlf",
        "colab_type": "text"
      },
      "source": [
        "# WORD MOVER DISTANCE (WMD)"
      ]
    },
    {
      "cell_type": "code",
      "metadata": {
        "id": "osgvZycT8hUt",
        "colab_type": "code",
        "colab": {}
      },
      "source": [
        "from sklearn.model_selection import train_test_split "
      ],
      "execution_count": null,
      "outputs": []
    },
    {
      "cell_type": "markdown",
      "metadata": {
        "id": "m9QtwYuuIS6N",
        "colab_type": "text"
      },
      "source": [
        "### WMD - LEMMA"
      ]
    },
    {
      "cell_type": "code",
      "metadata": {
        "id": "a3D68qO09BFZ",
        "colab_type": "code",
        "colab": {
          "base_uri": "https://localhost:8080/"
        },
        "outputId": "804cc4e2-4fdf-4f41-aa51-4c9975f994db"
      },
      "source": [
        "train_l, test_l = train_test_split(dataset['Lemma_Title'], test_size = 0.20, shuffle = False)\n",
        "\n",
        "print(\"(Lemma) Ejemplos usados para entrenar: \", len(train_l))\n",
        "print(\"(Lemma) Ejemplos usados para test: \", len(test_l))"
      ],
      "execution_count": null,
      "outputs": [
        {
          "output_type": "stream",
          "text": [
            "(Lemma) Ejemplos usados para entrenar:  867\n",
            "(Lemma) Ejemplos usados para test:  217\n"
          ],
          "name": "stdout"
        }
      ]
    },
    {
      "cell_type": "code",
      "metadata": {
        "id": "x6BH--rXYKJT",
        "colab_type": "code",
        "colab": {
          "base_uri": "https://localhost:8080/"
        },
        "outputId": "76253361-3fd5-46ce-a04e-fb1db62220b7"
      },
      "source": [
        "test_l"
      ],
      "execution_count": null,
      "outputs": [
        {
          "output_type": "execute_result",
          "data": {
            "text/plain": [
              "867                 [backup, postgresql, error, password]\n",
              "868     [ejecutar, sentenciar, postgresql, líneo, coma...\n",
              "869                          [raspberry, pi, kali, linux]\n",
              "870     [existir, alguno, alternativo, raspberry, pi, ...\n",
              "871     [problema, instalar, drive, adaptador, usb, wi...\n",
              "                              ...                        \n",
              "1079         [conexion, remoto, sql, server, linux, mint]\n",
              "1080              [crear, basar, dato, centos, funcionar]\n",
              "1081            [hacer, respaldar, basar, dato, terminal]\n",
              "1082                   [aplicación, windows, linux, wine]\n",
              "1083    [wordpress, solicitar, servidor, usuario, ftp,...\n",
              "Name: Lemma_Title, Length: 217, dtype: object"
            ]
          },
          "metadata": {
            "tags": []
          },
          "execution_count": 14
        }
      ]
    },
    {
      "cell_type": "code",
      "metadata": {
        "id": "x5cZ-zwQ-UMn",
        "colab_type": "code",
        "colab": {}
      },
      "source": [
        "lemma_title = dataset['Lemma_Title'].to_list()\n",
        "\n",
        "title = dataset['Title'].to_list()"
      ],
      "execution_count": null,
      "outputs": []
    },
    {
      "cell_type": "code",
      "metadata": {
        "id": "ohMTAZoM9M7Z",
        "colab_type": "code",
        "colab": {
          "base_uri": "https://localhost:8080/"
        },
        "outputId": "83dcc18e-cbaa-42bb-dbdd-fb4ccf4147f0"
      },
      "source": [
        "from gensim.models import Word2Vec\n",
        "\n",
        "model_l = Word2Vec(lemma_title, workers=3, size=100)\n",
        "\n",
        "# Inicialización de WmdSimilarity.\n",
        "from gensim.similarities import WmdSimilarity\n",
        "num_best = 10\n",
        "instancia_l = WmdSimilarity(test_l, model_l, num_best)\n",
        "print(instancia_l)"
      ],
      "execution_count": null,
      "outputs": [
        {
          "output_type": "stream",
          "text": [
            "WmdSimilarity<217 docs, 100 features>\n"
          ],
          "name": "stdout"
        }
      ]
    },
    {
      "cell_type": "code",
      "metadata": {
        "id": "R8OjOpxK-tUI",
        "colab_type": "code",
        "colab": {
          "base_uri": "https://localhost:8080/"
        },
        "outputId": "e97b8758-becd-4231-f000-daf6d0fe019b"
      },
      "source": [
        "start = time()\n",
        "\n",
        "msj_l = 'Error al automatizar la instalación de Postgresql 9.4 en sistema embebido con Debian'\n",
        "bus_l = preprocess_lemma(msj_l)\n",
        "\n",
        "sim_l = instancia_l[bus_l]\n",
        "print(len(sim_l))\n",
        "print ('Cell took %.2f seconds to run.' %(time() - start))"
      ],
      "execution_count": null,
      "outputs": [
        {
          "output_type": "stream",
          "text": [
            "10\n",
            "Cell took 0.11 seconds to run.\n"
          ],
          "name": "stdout"
        }
      ]
    },
    {
      "cell_type": "code",
      "metadata": {
        "id": "lMsC_-di-7pO",
        "colab_type": "code",
        "colab": {
          "base_uri": "https://localhost:8080/"
        },
        "outputId": "35c12177-260f-4b0c-b6c1-43d47413c1ec"
      },
      "source": [
        "print ('Busqueda: ', msj_l)\n",
        "print(\"-------------------------------------------------------\")\n",
        "for i in range(num_best): # (num_best)\n",
        "    print (title[sim_l[i][0]],'---> sim = %.4f' % sim_l[i][1])"
      ],
      "execution_count": null,
      "outputs": [
        {
          "output_type": "stream",
          "text": [
            "Busqueda:  Error al automatizar la instalación de Postgresql 9.4 en sistema embebido con Debian\n",
            "-------------------------------------------------------\n",
            "problemas con la configuracion de GitLab, netbeans y linux ---> sim = 0.5331\n",
            "¿Como agregar varios puertos al mismo contenedor de Docker? ---> sim = 0.5294\n",
            "Como ejecutar mas de un archivo que esta en un parámetro de jenkins ---> sim = 0.5230\n",
            "grep combinado con echo ---> sim = 0.5230\n",
            "bash script mostrar información de procesos ---> sim = 0.5229\n",
            "¿Cómo mostrar en pantalla solo los archivos de noviembre y diciembre para luego hacerle un grep? ---> sim = 0.5227\n",
            "Problema con git en local ---> sim = 0.5222\n",
            "¿Qué puerto TCP usa el programa ping? ---> sim = 0.5206\n",
            "Pantalla completa Kali Linux VirtualBox? ---> sim = 0.5177\n",
            "Instalar entorno grafico en VPS Linux? ---> sim = 0.5166\n"
          ],
          "name": "stdout"
        }
      ]
    },
    {
      "cell_type": "markdown",
      "metadata": {
        "id": "FcljReVfIZ8H",
        "colab_type": "text"
      },
      "source": [
        "### WMD - STEMMER"
      ]
    },
    {
      "cell_type": "code",
      "metadata": {
        "id": "X9j9kdt6GvTt",
        "colab_type": "code",
        "colab": {
          "base_uri": "https://localhost:8080/"
        },
        "outputId": "93fb8da7-f253-4630-86f1-928baf4b8782"
      },
      "source": [
        "train_s, test_s = train_test_split(dataset['Stem_Title'], test_size = 0.20, shuffle = False)\n",
        "\n",
        "print(\"(Stemm) Ejemplos usados para entrenar: \", len(train_s))\n",
        "print(\"(Stemm) Ejemplos usados para test: \", len(test_s))"
      ],
      "execution_count": null,
      "outputs": [
        {
          "output_type": "stream",
          "text": [
            "(Stemm) Ejemplos usados para entrenar:  867\n",
            "(Stemm) Ejemplos usados para test:  217\n"
          ],
          "name": "stdout"
        }
      ]
    },
    {
      "cell_type": "code",
      "metadata": {
        "id": "qF-3bFkeG38q",
        "colab_type": "code",
        "colab": {}
      },
      "source": [
        "stemm_title = dataset['Stem_Title'].to_list()\n",
        "\n",
        "title = dataset['Title'].to_list()"
      ],
      "execution_count": null,
      "outputs": []
    },
    {
      "cell_type": "code",
      "metadata": {
        "id": "-8qxO2axG6Wa",
        "colab_type": "code",
        "colab": {
          "base_uri": "https://localhost:8080/"
        },
        "outputId": "8b44d1ba-ad83-491b-f501-530de22680df"
      },
      "source": [
        "from gensim.models import Word2Vec\n",
        "# Train Word2Vec on all the restaurants.\n",
        "model_s = Word2Vec(stemm_title, workers=3, size=100)\n",
        "\n",
        "# Inicialización de WmdSimilarity.\n",
        "from gensim.similarities import WmdSimilarity\n",
        "num_best = 10\n",
        "instancia_s = WmdSimilarity(test_s, model_s, num_best)\n",
        "print(instancia_s)"
      ],
      "execution_count": null,
      "outputs": [
        {
          "output_type": "stream",
          "text": [
            "WmdSimilarity<217 docs, 100 features>\n"
          ],
          "name": "stdout"
        }
      ]
    },
    {
      "cell_type": "code",
      "metadata": {
        "id": "sPU3lf3pHCQi",
        "colab_type": "code",
        "colab": {
          "base_uri": "https://localhost:8080/"
        },
        "outputId": "c40d4749-167f-42a4-cbd4-8b5a90ffae3b"
      },
      "source": [
        "start = time()\n",
        "\n",
        "msj_s = 'Error al automatizar la instalación de Postgresql 9.4 en sistema embebido con Debian'\n",
        "bus_s = preprocess_stem(msj_s)\n",
        "\n",
        "sim_s = instancia_s[bus_s] \n",
        "print(len(sim_s))\n",
        "print ('Cell took %.2f seconds to run.' %(time() - start))"
      ],
      "execution_count": null,
      "outputs": [
        {
          "output_type": "stream",
          "text": [
            "10\n",
            "Cell took 0.09 seconds to run.\n"
          ],
          "name": "stdout"
        }
      ]
    },
    {
      "cell_type": "code",
      "metadata": {
        "id": "W_M0efoVHHfi",
        "colab_type": "code",
        "colab": {
          "base_uri": "https://localhost:8080/"
        },
        "outputId": "af0e5168-7f2a-4957-9d6a-6399f1068c99"
      },
      "source": [
        "print ('Busqueda: ', msj_s)\n",
        "print(\"-------------------------------------------------------\")\n",
        "for i in range(num_best): # (num_best)\n",
        "    print (title[sim_s[i][0]],'---> sim = %.4f' % sim_s[i][1])"
      ],
      "execution_count": null,
      "outputs": [
        {
          "output_type": "stream",
          "text": [
            "Busqueda:  Error al automatizar la instalación de Postgresql 9.4 en sistema embebido con Debian\n",
            "-------------------------------------------------------\n",
            "¿Cómo mostrar en pantalla solo los archivos de noviembre y diciembre para luego hacerle un grep? ---> sim = 0.6383\n",
            "Cambiar permisos de carpetas compartidas con docker-compose ---> sim = 0.6328\n",
            "¿como puedo solucionar esto kernel panic not syncing vfs unable en parrot? ---> sim = 0.6328\n",
            "Problema server vsftpd linux ---> sim = 0.6244\n",
            "Pantalla completa Kali Linux VirtualBox? ---> sim = 0.6233\n",
            "moodle apache centos 7 ---> sim = 0.6228\n",
            "¿Como hago para reinstalar libbz2.so.1.0? ---> sim = 0.5738\n",
            "problemas con la configuracion de GitLab, netbeans y linux ---> sim = 0.5670\n",
            "Obtengo el error I/Choreographer: Skipped 110 frames! The application may be doing too much work on its main thread ---> sim = 0.5579\n",
            "Las siguientes advertencias me da mysqltuner ---> sim = 0.5542\n"
          ],
          "name": "stdout"
        }
      ]
    },
    {
      "cell_type": "markdown",
      "metadata": {
        "id": "Rvp8LvmALVwC",
        "colab_type": "text"
      },
      "source": [
        "### WMD - TEXT"
      ]
    },
    {
      "cell_type": "code",
      "metadata": {
        "colab_type": "code",
        "id": "ygCUxgG2t689",
        "colab": {}
      },
      "source": [
        "def preprocess(doc):\n",
        "    label = re.compile('<.*?>')\n",
        "    doc = re.sub(label, '', doc)\n",
        "    doc = doc.lower()  # Minuscula todo el texto.\n",
        "    doc = word_tokenize(doc)  # Dividir en palabras.\n",
        "    doc = [w for w in doc if not w in es_stops]  # Eliminar stopwords.\n",
        "    doc = [w for w in doc if w.isalpha()]  # Eliminar numbers and punctuation.\n",
        "    return doc"
      ],
      "execution_count": null,
      "outputs": []
    },
    {
      "cell_type": "code",
      "metadata": {
        "id": "ZFizV6iWLYMb",
        "colab_type": "code",
        "colab": {
          "base_uri": "https://localhost:8080/",
          "height": 51
        },
        "outputId": "fe208f03-243a-414b-a238-eae895137d88"
      },
      "source": [
        "train_p, test_p = train_test_split(dataset['Processed_Title'], test_size = 0.20, shuffle = False)\n",
        "\n",
        "print(\"Ejemplos usados para entrenar: \", len(train_p))\n",
        "print(\"Ejemplos usados para test: \", len(test_p))"
      ],
      "execution_count": null,
      "outputs": [
        {
          "output_type": "stream",
          "text": [
            "Ejemplos usados para entrenar:  867\n",
            "Ejemplos usados para test:  217\n"
          ],
          "name": "stdout"
        }
      ]
    },
    {
      "cell_type": "code",
      "metadata": {
        "id": "pmK92B29SBOy",
        "colab_type": "code",
        "colab": {
          "base_uri": "https://localhost:8080/",
          "height": 221
        },
        "outputId": "5a5e7427-6b9a-4261-cbbd-2a2d70d8b68c"
      },
      "source": [
        "test_p"
      ],
      "execution_count": null,
      "outputs": [
        {
          "output_type": "execute_result",
          "data": {
            "text/plain": [
              "867                 [backup, postgresql, error, password]\n",
              "868     [ejecutar, sentencias, postgresql, línea, coma...\n",
              "869                          [raspberry, pi, kali, linux]\n",
              "870     [existe, alguna, alternativa, raspberry, pi, c...\n",
              "871     [problema, instalar, drive, adaptador, usb, wi...\n",
              "                              ...                        \n",
              "1079         [conexion, remota, sql, server, linux, mint]\n",
              "1080               [crear, base, datos, centos, funciona]\n",
              "1081             [hacer, respaldo, base, datos, terminal]\n",
              "1082                   [aplicación, windows, linux, wine]\n",
              "1083    [wordpress, solicita, servidor, usuario, ftp, ...\n",
              "Name: Processed_Title, Length: 217, dtype: object"
            ]
          },
          "metadata": {
            "tags": []
          },
          "execution_count": 25
        }
      ]
    },
    {
      "cell_type": "code",
      "metadata": {
        "id": "Zs0J52WILgaX",
        "colab_type": "code",
        "colab": {}
      },
      "source": [
        "processed_title = dataset['Processed_Title'].to_list()\n",
        "\n",
        "title = dataset['Title'].to_list()"
      ],
      "execution_count": null,
      "outputs": []
    },
    {
      "cell_type": "code",
      "metadata": {
        "id": "ma4NSAvxLh4v",
        "colab_type": "code",
        "colab": {
          "base_uri": "https://localhost:8080/",
          "height": 34
        },
        "outputId": "43b2f22b-2047-4c78-af6a-cf5a2f53609e"
      },
      "source": [
        "from gensim.models import Word2Vec\n",
        "# Train Word2Vec on all the restaurants.\n",
        "model_p = Word2Vec(processed_title, workers=3, size=100)\n",
        "\n",
        "# Inicialización de WmdSimilarity.\n",
        "from gensim.similarities import WmdSimilarity\n",
        "num_best = 10\n",
        "instancia_p = WmdSimilarity(train_p, model_p, num_best=10)\n",
        "print(instancia_p)"
      ],
      "execution_count": null,
      "outputs": [
        {
          "output_type": "stream",
          "text": [
            "WmdSimilarity<867 docs, 100 features>\n"
          ],
          "name": "stdout"
        }
      ]
    },
    {
      "cell_type": "code",
      "metadata": {
        "id": "YDnLKdfLLjaB",
        "colab_type": "code",
        "colab": {
          "base_uri": "https://localhost:8080/",
          "height": 51
        },
        "outputId": "06e6508e-95a8-415e-a877-927f86a4687c"
      },
      "source": [
        "start = time()\n",
        "\n",
        "msj_p = 'Error al automatizar la instalación de Postgresql 9.4 en sistema embebido con Debian'\n",
        "bus_p = preprocess(msj_p)\n",
        "\n",
        "sim_p = instancia_p[bus_p]\n",
        "print(len(sim_p))\n",
        "print ('Cell took %.2f seconds to run.' %(time() - start))"
      ],
      "execution_count": null,
      "outputs": [
        {
          "output_type": "stream",
          "text": [
            "10\n",
            "Cell took 0.30 seconds to run.\n"
          ],
          "name": "stdout"
        }
      ]
    },
    {
      "cell_type": "code",
      "metadata": {
        "id": "YAblRguQLk5I",
        "colab_type": "code",
        "colab": {
          "base_uri": "https://localhost:8080/",
          "height": 241
        },
        "outputId": "cd514b36-38ed-4e95-bff1-eeb634eeb9c0"
      },
      "source": [
        "print ('Busqueda: ', msj_p)\n",
        "print(\"-------------------------------------------------------\")\n",
        "for i in range(num_best): # (num_best)\n",
        "    print (title[sim_p[i][0]],'---> sim = %.4f' % sim_p[i][1])"
      ],
      "execution_count": null,
      "outputs": [
        {
          "output_type": "stream",
          "text": [
            "Busqueda:  Error al automatizar la instalación de Postgresql 9.4 en sistema embebido con Debian\n",
            "-------------------------------------------------------\n",
            "Error al automatizar la instalación de Postgresql 9.4 en sistema embebido con Debian ---> sim = 1.0000\n",
            "Tengo un error constante en Debian cuando quiero actualizar mi sistema ---> sim = 0.6509\n",
            "Error: spawn EACCES -- Derivados debian -- ionic ---> sim = 0.6067\n",
            "I/O Error: Sistema de archivos de solo lectura en SSD (XUBUNTU) ---> sim = 0.6061\n",
            "Error al instalar php-db en Debian 10 Buster ---> sim = 0.5958\n",
            "Bash Script Linux Error al pasarle argumentos ---> sim = 0.5173\n",
            "¿Cómo montar un disco duro NTFS en Linux (Debian)? ---> sim = 0.5164\n",
            "¿Como correjir el Error al instala el editor sublime text desde repositorios ppa en las distribuciones Linux Mint o Lubuntu? ---> sim = 0.5145\n",
            "Como Abrir el puerto 53 udp en un servidor debian 8 ---> sim = 0.5138\n",
            "Error inicio de sesión, Linux Deepin 15.5 ---> sim = 0.5129\n"
          ],
          "name": "stdout"
        }
      ]
    },
    {
      "cell_type": "code",
      "metadata": {
        "id": "Hn1gBKhwEge3",
        "colab_type": "code",
        "colab": {
          "base_uri": "https://localhost:8080/",
          "height": 419
        },
        "outputId": "598ff218-51f7-4bf8-bf3c-fed88d6695b3"
      },
      "source": [
        "dataset.iloc[:,[3,5,7]]"
      ],
      "execution_count": null,
      "outputs": [
        {
          "output_type": "execute_result",
          "data": {
            "text/html": [
              "<div>\n",
              "<style scoped>\n",
              "    .dataframe tbody tr th:only-of-type {\n",
              "        vertical-align: middle;\n",
              "    }\n",
              "\n",
              "    .dataframe tbody tr th {\n",
              "        vertical-align: top;\n",
              "    }\n",
              "\n",
              "    .dataframe thead th {\n",
              "        text-align: right;\n",
              "    }\n",
              "</style>\n",
              "<table border=\"1\" class=\"dataframe\">\n",
              "  <thead>\n",
              "    <tr style=\"text-align: right;\">\n",
              "      <th></th>\n",
              "      <th>Lemma_Title</th>\n",
              "      <th>Stem_Title</th>\n",
              "      <th>Processed_Title</th>\n",
              "    </tr>\n",
              "  </thead>\n",
              "  <tbody>\n",
              "    <tr>\n",
              "      <th>0</th>\n",
              "      <td>[debugear, código, django, utilizar, docker]</td>\n",
              "      <td>[debug, codig, djang, utiliz, dock]</td>\n",
              "      <td>[debugear, código, django, utilizando, docker]</td>\n",
              "    </tr>\n",
              "    <tr>\n",
              "      <th>1</th>\n",
              "      <td>[mostrar, error, usar, supervisor, digital, oc...</td>\n",
              "      <td>[muestr, error, usand, supervisor, digital, oc...</td>\n",
              "      <td>[muestra, error, usando, supervisor, digital, ...</td>\n",
              "    </tr>\n",
              "    <tr>\n",
              "      <th>2</th>\n",
              "      <td>[ejecutar, navegador, pantalla, completo, inic...</td>\n",
              "      <td>[ejecut, naveg, pantall, complet, inici, linux]</td>\n",
              "      <td>[ejecutar, navegador, pantalla, completa, inic...</td>\n",
              "    </tr>\n",
              "    <tr>\n",
              "      <th>3</th>\n",
              "      <td>[paginar, web, blanco]</td>\n",
              "      <td>[pagin, web, blanc]</td>\n",
              "      <td>[pagina, web, blanco]</td>\n",
              "    </tr>\n",
              "    <tr>\n",
              "      <th>4</th>\n",
              "      <td>[obtener, error, skipped, frames, the, applica...</td>\n",
              "      <td>[obteng, error, skipp, fram, the, application,...</td>\n",
              "      <td>[obtengo, error, skipped, frames, the, applica...</td>\n",
              "    </tr>\n",
              "    <tr>\n",
              "      <th>...</th>\n",
              "      <td>...</td>\n",
              "      <td>...</td>\n",
              "      <td>...</td>\n",
              "    </tr>\n",
              "    <tr>\n",
              "      <th>1079</th>\n",
              "      <td>[conexion, remoto, sql, server, linux, mint]</td>\n",
              "      <td>[conexion, remot, sql, serv, linux, mint]</td>\n",
              "      <td>[conexion, remota, sql, server, linux, mint]</td>\n",
              "    </tr>\n",
              "    <tr>\n",
              "      <th>1080</th>\n",
              "      <td>[crear, basar, dato, centos, funcionar]</td>\n",
              "      <td>[cre, bas, dat, cent, funcion]</td>\n",
              "      <td>[crear, base, datos, centos, funciona]</td>\n",
              "    </tr>\n",
              "    <tr>\n",
              "      <th>1081</th>\n",
              "      <td>[hacer, respaldar, basar, dato, terminal]</td>\n",
              "      <td>[hac, respald, bas, dat, terminal]</td>\n",
              "      <td>[hacer, respaldo, base, datos, terminal]</td>\n",
              "    </tr>\n",
              "    <tr>\n",
              "      <th>1082</th>\n",
              "      <td>[aplicación, windows, linux, wine]</td>\n",
              "      <td>[aplic, windows, linux, win]</td>\n",
              "      <td>[aplicación, windows, linux, wine]</td>\n",
              "    </tr>\n",
              "    <tr>\n",
              "      <th>1083</th>\n",
              "      <td>[wordpress, solicitar, servidor, usuario, ftp,...</td>\n",
              "      <td>[wordpress, solicit, servidor, usuari, ftp, co...</td>\n",
              "      <td>[wordpress, solicita, servidor, usuario, ftp, ...</td>\n",
              "    </tr>\n",
              "  </tbody>\n",
              "</table>\n",
              "<p>1084 rows × 3 columns</p>\n",
              "</div>"
            ],
            "text/plain": [
              "                                            Lemma_Title  ...                                    Processed_Title\n",
              "0          [debugear, código, django, utilizar, docker]  ...     [debugear, código, django, utilizando, docker]\n",
              "1     [mostrar, error, usar, supervisor, digital, oc...  ...  [muestra, error, usando, supervisor, digital, ...\n",
              "2     [ejecutar, navegador, pantalla, completo, inic...  ...  [ejecutar, navegador, pantalla, completa, inic...\n",
              "3                                [paginar, web, blanco]  ...                              [pagina, web, blanco]\n",
              "4     [obtener, error, skipped, frames, the, applica...  ...  [obtengo, error, skipped, frames, the, applica...\n",
              "...                                                 ...  ...                                                ...\n",
              "1079       [conexion, remoto, sql, server, linux, mint]  ...       [conexion, remota, sql, server, linux, mint]\n",
              "1080            [crear, basar, dato, centos, funcionar]  ...             [crear, base, datos, centos, funciona]\n",
              "1081          [hacer, respaldar, basar, dato, terminal]  ...           [hacer, respaldo, base, datos, terminal]\n",
              "1082                 [aplicación, windows, linux, wine]  ...                 [aplicación, windows, linux, wine]\n",
              "1083  [wordpress, solicitar, servidor, usuario, ftp,...  ...  [wordpress, solicita, servidor, usuario, ftp, ...\n",
              "\n",
              "[1084 rows x 3 columns]"
            ]
          },
          "metadata": {
            "tags": []
          },
          "execution_count": 30
        }
      ]
    },
    {
      "cell_type": "markdown",
      "metadata": {
        "id": "6jpkzXMVcKFo",
        "colab_type": "text"
      },
      "source": [
        "# VECTOR SPACE MODEL (VSM)"
      ]
    },
    {
      "cell_type": "code",
      "metadata": {
        "id": "ar_D7og8cS1L",
        "colab_type": "code",
        "colab": {}
      },
      "source": [
        "from collections import Counter\n",
        "import numpy as np\n",
        "import math\n",
        "\n",
        "p_title = dataset['Processed_Title'].to_list()\n",
        "p_body = dataset['Processed_Body'].to_list()\n",
        "\n",
        "N = len(dataset) # N = Cantidad de documentos\n",
        "alpha = 0.3\n",
        "DF = {}\n",
        "\n",
        "for i in range(N):\n",
        "  for w in p_title[i]:\n",
        "      try:\n",
        "        DF[w].add(i)\n",
        "      except:\n",
        "        DF[w] = {i}\n",
        "  for w in p_body[i]:\n",
        "      try:\n",
        "        DF[w].add(i)\n",
        "      except:\n",
        "        DF[w] = {i}\n",
        "\n",
        "for i in DF:\n",
        "        DF[i] = len(DF[i])\n",
        "\n",
        "total_vocab_size = len(DF)\n",
        "total_vocab = [x for x in DF]"
      ],
      "execution_count": null,
      "outputs": []
    },
    {
      "cell_type": "code",
      "metadata": {
        "id": "NDCOpBocud-C",
        "colab_type": "code",
        "colab": {}
      },
      "source": [
        "def doc_freq(DF, word):\n",
        "    c = 0\n",
        "    try:\n",
        "        c = DF[word]\n",
        "    except:\n",
        "        pass\n",
        "    return c"
      ],
      "execution_count": null,
      "outputs": []
    },
    {
      "cell_type": "code",
      "metadata": {
        "id": "I9xS2AlItrEp",
        "colab_type": "code",
        "colab": {
          "base_uri": "https://localhost:8080/",
          "height": 68
        },
        "outputId": "3b574b6c-bae7-4e7f-d562-8636e9b0596c"
      },
      "source": [
        "    start = time()\n",
        "\n",
        "    doc = 0\n",
        "    tf_idf_title = {}\n",
        "\n",
        "    for i in range(N):\n",
        "        tokens = p_body[i]\n",
        "        counter = Counter(tokens + p_title[i])\n",
        "        words_count = len(tokens + p_title[i])\n",
        "        for token in np.unique(tokens):\n",
        "            tf = counter[token] / words_count\n",
        "            df = doc_freq(DF, token)\n",
        "            idf = np.log((N + 1) / (df + 1))\n",
        "            tf_idf_title[doc, token] = tf * idf\n",
        "        doc += 1\n",
        "\n",
        "    doc = 0\n",
        "    tf_idf_body = {}\n",
        "\n",
        "    for i in range(N):\n",
        "        tokens = p_title[i]\n",
        "        counter = Counter(tokens + p_body[i])\n",
        "        words_count = len(tokens + p_body[i])\n",
        "        for token in np.unique(tokens):\n",
        "            tf = counter[token] / words_count\n",
        "            df = doc_freq(DF, token)\n",
        "            # numerator is added 1 to avoid negative values\n",
        "            idf = np.log((N + 1) / (df + 1))  \n",
        "            tf_idf_body[doc, token] = tf * idf\n",
        "        doc += 1\n",
        "\n",
        "    for i in tf_idf_title:\n",
        "        tf_idf_title[i] *= alpha\n",
        "\n",
        "    for i in tf_idf_body:\n",
        "        tf_idf_title[i] = tf_idf_body[i]\n",
        "\n",
        "    # D = Matriz TF-IDF de terminos de documentos\n",
        "    D = np.zeros((N, total_vocab_size)) \n",
        "    for i in tf_idf_title:\n",
        "        try:\n",
        "            ind = total_vocab.index(i[1])\n",
        "            D[i[0]][ind] = tf_idf_title[i]\n",
        "        except:\n",
        "            pass\n",
        "\n",
        "    print('Matriz TF-IDF de terminos de documentos generada. %.2f segundos' % (time() - start))\n",
        "    print(D[0])\n",
        "    print(D[1])"
      ],
      "execution_count": null,
      "outputs": [
        {
          "output_type": "stream",
          "text": [
            "Matriz TF-IDF de terminos de documentos generada. 2.55 segundos\n",
            "[0.16144072 0.05125391 0.12287463 ... 0.         0.         0.        ]\n",
            "[0. 0. 0. ... 0. 0. 0.]\n"
          ],
          "name": "stdout"
        }
      ]
    },
    {
      "cell_type": "code",
      "metadata": {
        "id": "D9y3aAjTv8Fe",
        "colab_type": "code",
        "colab": {}
      },
      "source": [
        "def cosine_sim(a, b):\n",
        "    cos_sim = np.dot(a, b)/(np.linalg.norm(a)*np.linalg.norm(b))\n",
        "    return cos_sim"
      ],
      "execution_count": null,
      "outputs": []
    },
    {
      "cell_type": "code",
      "metadata": {
        "id": "q2ktKKvlwqbl",
        "colab_type": "code",
        "colab": {}
      },
      "source": [
        "def print_doc(dataset, id):\n",
        "    with pd.option_context('display.max_colwidth', 500):\n",
        "        print(dataset.iloc[[id], [0,1]])"
      ],
      "execution_count": null,
      "outputs": []
    },
    {
      "cell_type": "code",
      "metadata": {
        "id": "6uGx9a9KuvUn",
        "colab_type": "code",
        "colab": {
          "base_uri": "https://localhost:8080/",
          "height": 442
        },
        "outputId": "5c32582f-bf9a-4d7a-c390-800f41ab0374"
      },
      "source": [
        "start = time()\n",
        "\n",
        "def gen_vector(tokens):\n",
        "        Q = np.zeros((len(total_vocab)))\n",
        "        counter = Counter(tokens)\n",
        "        words_count = len(tokens)\n",
        "        for token in np.unique(tokens):\n",
        "            tf = counter[token] / words_count\n",
        "            df = doc_freq(DF, token)\n",
        "            idf = math.log((N + 1) / (df + 1))\n",
        "            try:\n",
        "                ind = total_vocab.index(token)\n",
        "                Q[ind] = tf * idf\n",
        "            except:\n",
        "                pass\n",
        "        return Q\n",
        "\n",
        "def cosine_similarity(k, query):\n",
        "        tokens = preprocess(query)\n",
        "        print(\"\\nQuery:\", query)\n",
        "        d_cosines = []\n",
        "        query_vector = gen_vector(tokens)\n",
        "        for d in D:\n",
        "            d_cosines.append(cosine_sim(query_vector, d))\n",
        "        index_sort = np.array(d_cosines).argsort()[-k:][::-1]\n",
        "        value_array = np.array(d_cosines)\n",
        "        value_sort = np.sort(value_array)[-k:][::-1]\n",
        "        res = []\n",
        "        for i in range(k):\n",
        "            res.append((index_sort[i], value_sort[i]))\n",
        "        return res\n",
        "\n",
        "results = cosine_similarity(5, \"Error al automatizar la instalación de Postgresql 9.4 en sistema embebido con Debian\")\n",
        "\n",
        "print(\"\\n\")\n",
        "for i in range(len(results)):\n",
        "  print_doc(dataset, results[i][0])\n",
        "  print(\"sim: \",results[i]) \n",
        "  print(\"-------------------------------------------------------\")\n",
        "\n",
        "print('Tiempo de ejecución: %.2f segundos' % (time() - start))"
      ],
      "execution_count": null,
      "outputs": [
        {
          "output_type": "stream",
          "text": [
            "\n",
            "Query: Error al automatizar la instalación de Postgresql 9.4 en sistema embebido con Debian\n",
            "\n",
            "\n",
            "         Id                                                                                 Title\n",
            "232  306013  Error al automatizar la instalación de Postgresql 9.4 en sistema embebido con Debian\n",
            "sim:  (232, 0.423063333240842)\n",
            "-------------------------------------------------------\n",
            "         Id                                                                            Title\n",
            "868  282752  ¿Como ejecutar sentencias postgresql desde la línea de comandos en CentOs 6.10?\n",
            "sim:  (868, 0.2507828665460338)\n",
            "-------------------------------------------------------\n",
            "         Id                                                                               Title\n",
            "1008  50954  ¿Conectar PHP linux a una base de datos alojada en el s.o windows (DB POSTGRESQL)?\n",
            "sim:  (1008, 0.24049054527499789)\n",
            "-------------------------------------------------------\n",
            "       Id                                     Title\n",
            "741  2960  Automatizar tareas de cambio de permisos\n",
            "sim:  (741, 0.2090737248576708)\n",
            "-------------------------------------------------------\n",
            "         Id                                       Title\n",
            "867  281968  Backup postgresql pg_dump - Error password\n",
            "sim:  (867, 0.19138710218876395)\n",
            "-------------------------------------------------------\n",
            "Tiempo de ejecución: 0.09 segundos\n"
          ],
          "name": "stdout"
        }
      ]
    },
    {
      "cell_type": "markdown",
      "metadata": {
        "id": "vSRChxFSmmto",
        "colab_type": "text"
      },
      "source": [
        "# TEST"
      ]
    },
    {
      "cell_type": "code",
      "metadata": {
        "id": "xiXoHsGbOUIl",
        "colab_type": "code",
        "colab": {
          "base_uri": "https://localhost:8080/",
          "height": 221
        },
        "outputId": "b48cb249-ce23-4eb8-d581-447f065ce02a"
      },
      "source": [
        "start = time()\n",
        "data = pd.read_csv('//content/gdrive/My Drive/df.csv',\n",
        "                      sep=';', encoding='utf-8-sig')\n",
        "data_size = len(data)\n",
        "\n",
        "\n",
        "print('Dataset generado. %.2f segundos' % (time() - start))\n",
        "data.head()"
      ],
      "execution_count": 75,
      "outputs": [
        {
          "output_type": "stream",
          "text": [
            "Dataset generado. 0.04 segundos\n"
          ],
          "name": "stdout"
        },
        {
          "output_type": "execute_result",
          "data": {
            "text/html": [
              "<div>\n",
              "<style scoped>\n",
              "    .dataframe tbody tr th:only-of-type {\n",
              "        vertical-align: middle;\n",
              "    }\n",
              "\n",
              "    .dataframe tbody tr th {\n",
              "        vertical-align: top;\n",
              "    }\n",
              "\n",
              "    .dataframe thead th {\n",
              "        text-align: right;\n",
              "    }\n",
              "</style>\n",
              "<table border=\"1\" class=\"dataframe\">\n",
              "  <thead>\n",
              "    <tr style=\"text-align: right;\">\n",
              "      <th></th>\n",
              "      <th>Id</th>\n",
              "      <th>Title</th>\n",
              "      <th>Body</th>\n",
              "    </tr>\n",
              "  </thead>\n",
              "  <tbody>\n",
              "    <tr>\n",
              "      <th>0</th>\n",
              "      <td>286498</td>\n",
              "      <td>Debugear código Django utilizando Docker</td>\n",
              "      <td>&lt;p&gt;Les cuento.\\r\\nEstoy realizando un proyecto...</td>\n",
              "    </tr>\n",
              "    <tr>\n",
              "      <th>1</th>\n",
              "      <td>226916</td>\n",
              "      <td>En el file.conf muestra Error usando Superviso...</td>\n",
              "      <td>&lt;p&gt;Al configurar el file.conf&lt;br&gt;\\r\\nruta : su...</td>\n",
              "    </tr>\n",
              "    <tr>\n",
              "      <th>2</th>\n",
              "      <td>161561</td>\n",
              "      <td>Ejecutar navegador en pantalla completa al ini...</td>\n",
              "      <td>&lt;p&gt;Estoy realizando un &lt;em&gt;proyecto Domotico&lt;/...</td>\n",
              "    </tr>\n",
              "    <tr>\n",
              "      <th>3</th>\n",
              "      <td>230560</td>\n",
              "      <td>Pagina web en blanco</td>\n",
              "      <td>&lt;p&gt;Buen dia \\r\\nNo se por que mi pagina web sa...</td>\n",
              "    </tr>\n",
              "    <tr>\n",
              "      <th>4</th>\n",
              "      <td>309146</td>\n",
              "      <td>Obtengo el error I/Choreographer: Skipped 110 ...</td>\n",
              "      <td>&lt;p&gt;Estoy trabajando en android studio intentan...</td>\n",
              "    </tr>\n",
              "  </tbody>\n",
              "</table>\n",
              "</div>"
            ],
            "text/plain": [
              "       Id  ...                                               Body\n",
              "0  286498  ...  <p>Les cuento.\\r\\nEstoy realizando un proyecto...\n",
              "1  226916  ...  <p>Al configurar el file.conf<br>\\r\\nruta : su...\n",
              "2  161561  ...  <p>Estoy realizando un <em>proyecto Domotico</...\n",
              "3  230560  ...  <p>Buen dia \\r\\nNo se por que mi pagina web sa...\n",
              "4  309146  ...  <p>Estoy trabajando en android studio intentan...\n",
              "\n",
              "[5 rows x 3 columns]"
            ]
          },
          "metadata": {
            "tags": []
          },
          "execution_count": 75
        }
      ]
    },
    {
      "cell_type": "code",
      "metadata": {
        "id": "6ROXc7VeGej2",
        "colab_type": "code",
        "colab": {}
      },
      "source": [
        "from sklearn.feature_extraction.text import CountVectorizer"
      ],
      "execution_count": null,
      "outputs": []
    },
    {
      "cell_type": "code",
      "metadata": {
        "id": "MuYvSOZSuH3Z",
        "colab_type": "code",
        "colab": {}
      },
      "source": [
        "def preprocess_test(doc):\n",
        "    label = re.compile(r'\\d+')\n",
        "    doc = re.sub(label, '', doc)\n",
        "    doc = doc.lower()  # Minuscula todo el texto.\n",
        "    # doc = word_tokenize(doc)  # Dividir en palabras.\n",
        "    # doc = [w for w in doc if not w in es_stops]  # Eliminar stopwords.\n",
        "    # doc = [w for w in doc if w.isalpha()]  # Eliminar numbers and punctuation.\n",
        "    return doc"
      ],
      "execution_count": 393,
      "outputs": []
    },
    {
      "cell_type": "code",
      "metadata": {
        "id": "nB-1Ny4suNzj",
        "colab_type": "code",
        "colab": {
          "base_uri": "https://localhost:8080/",
          "height": 221
        },
        "outputId": "2d972704-39b2-46f7-c611-fb042499ff86"
      },
      "source": [
        "start = time()\n",
        "data = pd.read_csv('//content/gdrive/My Drive/df.csv',\n",
        "                      sep=';', encoding='utf-8-sig')\n",
        "\n",
        "\n",
        "print('Dataset generado. %.2f segundos' % (time() - start))\n",
        "data.head()"
      ],
      "execution_count": 394,
      "outputs": [
        {
          "output_type": "stream",
          "text": [
            "Dataset generado. 0.04 segundos\n"
          ],
          "name": "stdout"
        },
        {
          "output_type": "execute_result",
          "data": {
            "text/html": [
              "<div>\n",
              "<style scoped>\n",
              "    .dataframe tbody tr th:only-of-type {\n",
              "        vertical-align: middle;\n",
              "    }\n",
              "\n",
              "    .dataframe tbody tr th {\n",
              "        vertical-align: top;\n",
              "    }\n",
              "\n",
              "    .dataframe thead th {\n",
              "        text-align: right;\n",
              "    }\n",
              "</style>\n",
              "<table border=\"1\" class=\"dataframe\">\n",
              "  <thead>\n",
              "    <tr style=\"text-align: right;\">\n",
              "      <th></th>\n",
              "      <th>Id</th>\n",
              "      <th>Title</th>\n",
              "      <th>Body</th>\n",
              "    </tr>\n",
              "  </thead>\n",
              "  <tbody>\n",
              "    <tr>\n",
              "      <th>0</th>\n",
              "      <td>286498</td>\n",
              "      <td>Debugear código Django utilizando Docker</td>\n",
              "      <td>&lt;p&gt;Les cuento.\\r\\nEstoy realizando un proyecto...</td>\n",
              "    </tr>\n",
              "    <tr>\n",
              "      <th>1</th>\n",
              "      <td>226916</td>\n",
              "      <td>En el file.conf muestra Error usando Superviso...</td>\n",
              "      <td>&lt;p&gt;Al configurar el file.conf&lt;br&gt;\\r\\nruta : su...</td>\n",
              "    </tr>\n",
              "    <tr>\n",
              "      <th>2</th>\n",
              "      <td>161561</td>\n",
              "      <td>Ejecutar navegador en pantalla completa al ini...</td>\n",
              "      <td>&lt;p&gt;Estoy realizando un &lt;em&gt;proyecto Domotico&lt;/...</td>\n",
              "    </tr>\n",
              "    <tr>\n",
              "      <th>3</th>\n",
              "      <td>230560</td>\n",
              "      <td>Pagina web en blanco</td>\n",
              "      <td>&lt;p&gt;Buen dia \\r\\nNo se por que mi pagina web sa...</td>\n",
              "    </tr>\n",
              "    <tr>\n",
              "      <th>4</th>\n",
              "      <td>309146</td>\n",
              "      <td>Obtengo el error I/Choreographer: Skipped 110 ...</td>\n",
              "      <td>&lt;p&gt;Estoy trabajando en android studio intentan...</td>\n",
              "    </tr>\n",
              "  </tbody>\n",
              "</table>\n",
              "</div>"
            ],
            "text/plain": [
              "       Id  ...                                               Body\n",
              "0  286498  ...  <p>Les cuento.\\r\\nEstoy realizando un proyecto...\n",
              "1  226916  ...  <p>Al configurar el file.conf<br>\\r\\nruta : su...\n",
              "2  161561  ...  <p>Estoy realizando un <em>proyecto Domotico</...\n",
              "3  230560  ...  <p>Buen dia \\r\\nNo se por que mi pagina web sa...\n",
              "4  309146  ...  <p>Estoy trabajando en android studio intentan...\n",
              "\n",
              "[5 rows x 3 columns]"
            ]
          },
          "metadata": {
            "tags": []
          },
          "execution_count": 394
        }
      ]
    },
    {
      "cell_type": "code",
      "metadata": {
        "id": "uPJ9YX2fGeeU",
        "colab_type": "code",
        "colab": {
          "base_uri": "https://localhost:8080/",
          "height": 419
        },
        "outputId": "7549a3cd-92f9-472e-f1c3-14268de7d44a"
      },
      "source": [
        "test = dataset['Title'].to_list()\n",
        "data['Processed_Title'] = data.apply(\n",
        "        lambda data: preprocess_test(data['Title']), axis=1)\n",
        "\n",
        "data.iloc[:,[1,3]]"
      ],
      "execution_count": 395,
      "outputs": [
        {
          "output_type": "execute_result",
          "data": {
            "text/html": [
              "<div>\n",
              "<style scoped>\n",
              "    .dataframe tbody tr th:only-of-type {\n",
              "        vertical-align: middle;\n",
              "    }\n",
              "\n",
              "    .dataframe tbody tr th {\n",
              "        vertical-align: top;\n",
              "    }\n",
              "\n",
              "    .dataframe thead th {\n",
              "        text-align: right;\n",
              "    }\n",
              "</style>\n",
              "<table border=\"1\" class=\"dataframe\">\n",
              "  <thead>\n",
              "    <tr style=\"text-align: right;\">\n",
              "      <th></th>\n",
              "      <th>Title</th>\n",
              "      <th>Processed_Title</th>\n",
              "    </tr>\n",
              "  </thead>\n",
              "  <tbody>\n",
              "    <tr>\n",
              "      <th>0</th>\n",
              "      <td>Debugear código Django utilizando Docker</td>\n",
              "      <td>debugear código django utilizando docker</td>\n",
              "    </tr>\n",
              "    <tr>\n",
              "      <th>1</th>\n",
              "      <td>En el file.conf muestra Error usando Superviso...</td>\n",
              "      <td>en el file.conf muestra error usando superviso...</td>\n",
              "    </tr>\n",
              "    <tr>\n",
              "      <th>2</th>\n",
              "      <td>Ejecutar navegador en pantalla completa al ini...</td>\n",
              "      <td>ejecutar navegador en pantalla completa al ini...</td>\n",
              "    </tr>\n",
              "    <tr>\n",
              "      <th>3</th>\n",
              "      <td>Pagina web en blanco</td>\n",
              "      <td>pagina web en blanco</td>\n",
              "    </tr>\n",
              "    <tr>\n",
              "      <th>4</th>\n",
              "      <td>Obtengo el error I/Choreographer: Skipped 110 ...</td>\n",
              "      <td>obtengo el error i/choreographer: skipped  fra...</td>\n",
              "    </tr>\n",
              "    <tr>\n",
              "      <th>...</th>\n",
              "      <td>...</td>\n",
              "      <td>...</td>\n",
              "    </tr>\n",
              "    <tr>\n",
              "      <th>1079</th>\n",
              "      <td>Conexion remota de SQL Server linux mint 19</td>\n",
              "      <td>conexion remota de sql server linux mint</td>\n",
              "    </tr>\n",
              "    <tr>\n",
              "      <th>1080</th>\n",
              "      <td>Crear base de datos en mssql-server en centos ...</td>\n",
              "      <td>crear base de datos en mssql-server en centos ...</td>\n",
              "    </tr>\n",
              "    <tr>\n",
              "      <th>1081</th>\n",
              "      <td>Como hacer un respaldo de la base de datos des...</td>\n",
              "      <td>como hacer un respaldo de la base de datos des...</td>\n",
              "    </tr>\n",
              "    <tr>\n",
              "      <th>1082</th>\n",
              "      <td>Aplicación de Windows en Linux con WINE</td>\n",
              "      <td>aplicación de windows en linux con wine</td>\n",
              "    </tr>\n",
              "    <tr>\n",
              "      <th>1083</th>\n",
              "      <td>Wordpress me solicita mi servidor usuario ftp ...</td>\n",
              "      <td>wordpress me solicita mi servidor usuario ftp ...</td>\n",
              "    </tr>\n",
              "  </tbody>\n",
              "</table>\n",
              "<p>1084 rows × 2 columns</p>\n",
              "</div>"
            ],
            "text/plain": [
              "                                                  Title                                    Processed_Title\n",
              "0              Debugear código Django utilizando Docker           debugear código django utilizando docker\n",
              "1     En el file.conf muestra Error usando Superviso...  en el file.conf muestra error usando superviso...\n",
              "2     Ejecutar navegador en pantalla completa al ini...  ejecutar navegador en pantalla completa al ini...\n",
              "3                                  Pagina web en blanco                               pagina web en blanco\n",
              "4     Obtengo el error I/Choreographer: Skipped 110 ...  obtengo el error i/choreographer: skipped  fra...\n",
              "...                                                 ...                                                ...\n",
              "1079        Conexion remota de SQL Server linux mint 19          conexion remota de sql server linux mint \n",
              "1080  Crear base de datos en mssql-server en centos ...  crear base de datos en mssql-server en centos ...\n",
              "1081  Como hacer un respaldo de la base de datos des...  como hacer un respaldo de la base de datos des...\n",
              "1082            Aplicación de Windows en Linux con WINE            aplicación de windows en linux con wine\n",
              "1083  Wordpress me solicita mi servidor usuario ftp ...  wordpress me solicita mi servidor usuario ftp ...\n",
              "\n",
              "[1084 rows x 2 columns]"
            ]
          },
          "metadata": {
            "tags": []
          },
          "execution_count": 395
        }
      ]
    },
    {
      "cell_type": "code",
      "metadata": {
        "id": "SHjnnD-09swN",
        "colab_type": "code",
        "colab": {
          "base_uri": "https://localhost:8080/",
          "height": 71
        },
        "outputId": "3061e224-3314-4c83-9065-dc7b12747f0e"
      },
      "source": [
        "from sklearn.feature_extraction.text import CountVectorizer\n",
        "import pandas as pd\n",
        "import string\n",
        "\n",
        "punct = string.punctuation\n",
        "com = \"''¿¡\"\n",
        "punct = punct + com\n",
        "print(punct)\n",
        "\n",
        "new_stops = set(stopwords.words('spanish') + list(punct))\n",
        "print(new_stops)\n",
        "\n",
        "# Create the Document Term Matrix\n",
        "vectorizer = CountVectorizer(stop_words=new_stops, tokenizer=word_tokenize, preprocessor=preprocess_test)"
      ],
      "execution_count": 397,
      "outputs": [
        {
          "output_type": "stream",
          "text": [
            "!\"#$%&'()*+,-./:;<=>?@[\\]^_`{|}~''¿¡\n",
            "{'tenías', 'sería', 'hubieses', 'habríamos', 'sentid', 'esté', 'tuvieron', '}', 'tuyas', 'estaremos', 'estaríais', 'es', 'hube', 'tendríamos', 'ante', 'él', 'lo', 'habíamos', 'esto', '¡', 'todo', 'habrían', 'hubieras', 'habidas', 'tendremos', 'habíais', 'tuviste', 'estuvieseis', 'estada', 'soy', '#', 'seré', 'tuvisteis', 'fuésemos', 'nosotras', 'quienes', 'hubiéramos', 'ese', 'le', 'tendrás', 'habrás', 'esos', 'tuviese', 'en', 'nuestras', 'tenidas', 'estando', 'sentida', 'entre', 'nos', 'son', 'estéis', 'tuvierais', 'durante', 'estaréis', 'nuestra', 'cual', 'suyos', '=', 'esas', 'las', 'mías', 'fuerais', 'desde', 'tendría', '<', 'unos', 'fuesen', 'cuando', 'ti', 'estarías', 'otra', 'fuéramos', 'habiendo', 'teniendo', 'tuvieras', 'tenéis', ',', '{', 'más', 'tuya', 'tú', 'mío', 'habría', ';', 'tened', ':', 'tengan', ')', '~', 'tuyos', 'habido', 'tenía', 'fuese', 'estaban', 'sentido', 'estuvieron', 'porque', 'un', 'tuyo', 'esa', 'estadas', 'hayamos', 'hubo', 'nuestros', 'estuviste', 'esta', 'se', 'fueras', 'sean', 'estaría', 'para', 'sentidas', '-', 'vuestra', 'mucho', 'eran', 'otras', 'como', 'mi', 'que', '(', 'habré', 'algunas', '*', 'estuviésemos', 'hubiste', 'tuvieses', 'éramos', 'tenga', 'estado', 'a', 'vosotros', 'estuviese', 'tuviésemos', 'me', 'ha', 'habrá', 'teníais', 'la', 'tus', 'estos', 'tenida', 'estábamos', 'tenían', 'mí', '`', 'mía', 'de', 'estuviesen', 'suyas', 'hubimos', 'está', 'vuestro', 'tienen', 'habrán', 'otro', 'estuvieses', 'del', 'estarían', 'suyo', 'mis', 'tuvieseis', 'quien', 'había', '/', 'estaríamos', 'nuestro', 'serás', 'fueseis', 'habida', 'habías', 'tiene', 'tuviesen', 'seríamos', 'otros', 'o', 'míos', 'estén', 'somos', 'seáis', 'estaba', 'una', 'al', 'estuvieran', 'seamos', 'tendréis', 'seríais', 'estará', 'tienes', 'están', 'habréis', '_', 'seréis', 'ya', 'todos', 'habidos', 'les', 'vuestras', 'con', 'hubierais', 'tuvo', 'hubiesen', 'teníamos', 'haya', 'sois', 'nada', 'hayan', '+', 'fuimos', 'también', 'os', 'seremos', 'e', 'qué', 'tuve', 'hubiésemos', 'te', \"'\", 'ellas', 'sintiendo', 'hubieseis', 'estemos', 'sea', '[', 'tengas', 'tenidos', 'no', 'vosotras', 'hubiera', 'tendrías', 'algo', '|', 'serán', 'donde', 'estuve', 'los', 'muchos', 'habían', 'habrías', 'estés', 'hemos', 'tendrán', 'fuiste', 'estuvieras', 'tendré', 'su', 'habéis', 'tuviéramos', 'tanto', 'tengáis', 'tendríais', 'estuviéramos', 'el', 'habremos', 'estuviera', 'sí', 'estad', 'yo', 'fuera', ']', 'tengo', '?', 'tenido', 'pero', 'tuvimos', '>', 'eres', 'seas', 'sin', 'por', 'fueron', 'serían', 'tuvieran', '^', 'fuisteis', '$', 'poco', '!', 'algunos', 'hayáis', 'suya', 'tendrá', 'muy', 'fue', 'sentidos', '%', 'has', 'ellos', 'uno', 'fueran', 'vuestros', 'ella', 'hubisteis', 'estabas', 'estas', 'hayas', 'y', 'estáis', 'erais', 'estar', 'estuvisteis', 'tu', 'ni', 'fueses', 'sus', 'eso', 'tenemos', 'siente', '&', 'estuvierais', 'serías', 'contra', 'estuvo', 'antes', 'tendrían', 'estamos', 'nosotros', 'estuvimos', 'estás', 'fui', 'tuviera', 'estados', 'hasta', 'hubiese', 'estaré', 'habríais', 'eras', '¿', 'estoy', 'era', 'estarán', 'hay', 'tengamos', 'este', '@', 'será', 'he', 'estarás', 'han', 'sobre', 'estabais', '\"', '\\\\', 'hubieron', 'hubieran', '.'}\n"
          ],
          "name": "stdout"
        }
      ]
    },
    {
      "cell_type": "code",
      "metadata": {
        "id": "xLYrw3jVUKIv",
        "colab_type": "code",
        "colab": {
          "base_uri": "https://localhost:8080/",
          "height": 207
        },
        "outputId": "a23c2fc7-6183-4d13-c560-75f7621d14ef"
      },
      "source": [
        "print(vectorizer.vocabulary_)\n",
        "print(vectorizer.get_feature_names())\n",
        "print(vector.shape)\n",
        "print(vector.toarray())"
      ],
      "execution_count": 410,
      "outputs": [
        {
          "output_type": "stream",
          "text": [
            "{'debugear': 527, 'código': 504, 'django': 635, 'utilizando': 1958, 'docker': 639, 'file.conf': 820, 'muestra': 1261, 'error': 742, 'usando': 1948, 'supervisor': 1822, 'digital': 608, 'ocean': 1336, '¿alguna': 2080, 'opcion': 1352, 'corregirlo': 462, 'ejecutar': 686, 'navegador': 1291, 'pantalla': 1383, 'completa': 382, 'iniciar': 1010, 's.o': 1666, 'linux': 1140, 'pagina': 1379, 'web': 2029, 'blanco': 248, 'obtengo': 1333, 'i/choreographer': 958, 'skipped': 1754, 'frames': 850, 'the': 1873, 'application': 166, 'may': 1204, 'be': 241, 'doing': 645, 'too': 1891, 'much': 1258, 'work': 2049, 'on': 1350, 'its': 1063, 'main': 1180, 'thread': 1875, 'java': 1067, 'android': 135, 'generar': 879, 'documento': 642, 'partir': 1400, 'plantilla': 1454, '.docx': 42, 'comando': 363, '¿error': 2097, 'realizar': 1572, 'deploy': 557, 'heroku': 936, 'desinstalar': 580, 'lanzar': 1098, 'comandos': 364, 'bloqueo': 254, 'proyectos': 1518, 'netbeans': 1299, 'centos': 319, '¿como': 2083, 'configurar': 414, 'bien': 242, 'javafx': 1070, 'intentado': 1040, 'casi': 310, 'sigo': 1736, 'errores': 743, 'java_home': 1069, 'querer': 1552, 'archivo': 172, '.sh': 48, 'librerias': 1128, 'ruta': 1661, 'jdk': 1073, 'mint': 1225, 'jax': 1072, 'ws': 2052, 'webserviceclient': 2030, 'problema': 1494, 'duda': 658, 'windows': 2043, 'implementación': 973, 'hilos': 941, 'vs': 2019, 'script': 1682, 'mysql': 1269, 'llamadas': 1148, 'sistema': 1747, 'desplegar': 581, 'proyecto': 1517, 'angularcli': 138, 'sevidor': 1722, 'nodejs': 1309, 'habilitar': 918, 'localización': 1156, 'pop': 1465, 'up': 1942, 'javascript': 1071, 'entro': 728, 'módem': 1276, 'zte': 2074, 'mf': 1221, 'cdn': 317, 'jquery': 1080, 'funcionando': 863, 'instalacion': 1021, 'angular': 136, 'lite': 1145, 'bits': 247, 'apagar': 153, 'reiniciar': 1609, 'operativo': 1363, 'serialport': 1710, 'funciona': 861, 'servicio': 1714, 'debian': 524, 'si': 1730, 'manualmente': 1193, '¿cómo': 2090, 'referirme': 1599, 'servidor': 1716, 'red': 1587, 'local': 1154, 'tamaño': 1844, 'fichero': 816, 'final': 827, 'wikidata': 2040, 'laravel': 1099, 'puedo': 1526, 'visualizar': 2007, 'imágenes': 982, 'subir': 1808, 'hosting': 946, 'denegado': 551, 'ejecuta': 678, 'crear': 480, 'nuevo': 1321, 'mkdir': 1230, 'permission': 1420, 'denied': 552, 'composer': 387, 'update': 1943, 'kali': 1085, 'agregar': 112, 'binario': 243, 'virtualbox': 1999, 'vagrant': 1965, 'server': 1712, '¿los': 2102, 'archivos': 173, '.htaccess': 43, 'funcionan': 862, 'vm': 2009, 'google': 892, 'cloud': 348, '.net': 44, 'core': 455, 'auto': 208, 'ejecutable': 679, 'app.config': 164, 'console': 424, 'instalar': 1026, 'dotnet': 650, 'ol': 1349, 'activar': 95, 'debian/apache': 525, 'nginx': 1303, 'mostrar': 1248, 'personalizado': 1425, 'acceder': 89, 'virtualhost': 2001, 'apache': 149, 'reinicio': 1610, 'moodle': 1246, 'programa': 1507, 'escuchando': 750, 'puerto': 1528, 'cluster': 350, 'mariadb': 1198, 'timeout': 1881, 'poner': 1464, 'sitio': 1750, 'visible': 2003, 'ip': 1057, 'publica': 1520, 'subdominio': 1807, 'unificar': 1934, 'configuración': 413, 'http': 950, 'https': 952, 'certificado': 324, 'ssl': 1790, 'incorrecto': 991, 'err_cert_common_name_invalid': 738, 'uso': 1954, 'apropiado': 168, 'tener': 1857, 'múltiples': 1280, 'cajas': 285, 'misma': 1228, 'distribución': 632, 'gnu/linux': 890, 'diversos': 634, 'proxy': 1516, 'dominios': 648, 'sub': 1802, 'dominio': 647, 'pobible': 1462, 'recuperar': 1584, 'borrado': 261, '-r': 27, '¿existe': 2100, 'alguna': 116, 'combinación': 365, 'teclas': 1854, 'imprimir': 981, 'caracteres': 301, 'ascii': 192, 'informes': 1003, 'tablas': 1840, 'dañadas': 517, 'recortar': 1583, 'multimedia': 1266, 'línea': 1172, 'quedarme': 1550, 'línas': 1171, 'bloque': 250, 'solamente': 1763, 'contiene': 441, 'patrón': 1409, 'determinado': 590, 'trabajar': 1898, 'decimales': 528, 'shell': 1727, 'condicional': 401, 'if': 963, 'else': 697, 'renombrar': 1621, 'espacios': 752, 'sed': 1690, 'suma': 1818, 'n': 1281, 'cantidad': 299, 'numeros': 1325, 'bash': 237, '``': 75, 'connection': 418, 'closed': 347, \"''\": 0, 'acceso': 90, 'ssh': 1789, 'autocomplete': 210, '¿por': 2104, 'da': 506, 'syntax': 1831, 'unexpected': 1933, 'end': 713, 'of': 1344, 'file': 819, 'verificar': 1984, 'cadena': 283, 'ingresada': 1005, 'encuentra': 710, 'dentro': 553, 'rango': 1564, 'numérico': 1326, 'hora': 943, 'ejecutará': 687, 'cron': 487, 'timedatectl': 1880, 'horas': 944, 'diferentes': 607, 'app': 163, 'engine': 714, 'tareas': 1848, 'cronjob': 488, 'solo': 1768, 'noviembre': 1316, 'diciembre': 603, 'luego': 1169, 'hacerle': 922, 'grep': 903, 'cambiar': 290, 'permisos': 1419, 'carpetas': 306, 'compartidas': 373, 'docker-compose': 640, 'mail': 1179, 'especiales': 755, 'bios': 245, 'vez': 1990, 'cambiarlo': 291, 'kernel': 1088, 'localizar': 1157, 'mas': 1199, 'recientes': 1579, 'cada': 282, 'carpeta': 305, 'árbol': 2117, 'ciertos': 335, 'campos': 296, 'varias': 1974, 'lineas': 1138, 'usar': 1949, '`cut`': 78, 'dato': 515, 'referente': 1598, 'insert': 1018, 'tabla': 1839, 'informix': 1004, 'mover': 1251, 'directorio': 616, 'determinados': 591, 'directorios': 617, 'dependiendo': 556, 'extension': 792, 'combinado': 366, 'echo': 668, 'información': 1002, 'procesos': 1500, 'hacer': 921, \"'dig\": 3, 'lista': 1142, 'dns': 637, 'comprobar': 390, 'coinciden': 356, 'agrupar': 113, 'aplicación': 161, 'cut': 498, 'wc': 2028, '¿convertir': 2086, 'meses': 1219, 'string': 1799, 'enteros': 722, 'eliminar': 695, 'tags': 1842, 'html': 949, 'mediante': 1208, 'systemctl': 1836, 'redirigir': 1595, 'salida': 1669, 'principio': 1490, 'contador': 432, 'igual': 967, 'valor': 1969, 'correctamente': 459, 'hago': 925, 'través': 1906, 'crontab': 490, 'des': 562, 'comentar': 368, 'linea': 1137, 'especifica': 756, 'texto': 1871, 'iguales': 968, 'segundo': 1694, 'campo': 295, 'terminal': 1860, 'conseguir': 420, 'proceso': 1499, 'lanzado': 1097, 'muera': 1260, 'terminar': 1862, 'variable': 1971, 'comillas': 369, '¿qué': 2111, 'significa': 1733, 'simbolo': 1740, \"'~\": 16, 'contenido': 439, 'concreto': 399, 'sintaxis': 1745, 'near': 1293, 'token': 1889, 'split': 1781, 'pide': 1446, 'input': 1016, 'name': 1285, 'aún': 225, 'ingreso': 1007, 'posible': 1472, 'paquete': 1385, '.tar': 50, 'comprimido': 388, 'bzip': 273, 'descomprimirlo': 573, 'título': 1915, 'leo': 1114, '/usr/bin/env': 67, 'extraer': 798, 'datos': 516, 'bloques': 255, 'puede': 1524, 'aparezcan': 157, 'sustituir': 1826, 'awk': 217, 'guardar': 913, 'estándar': 765, 'mensajes': 1217, 'existe': 780, 'palabra': 1380, 'lea': 1104, 'multiples': 1268, 'parametros': 1391, 'ciclo': 332, 'tar': 1845, 'actúe': 101, 'ficheros': 817, 'listados': 1143, 'filtrado': 824, 'líneas': 1173, 'unix': 1938, 'introducir': 1051, 'ls': 1166, 'contar': 434, 'zip': 2070, 'falla': 802, 'volverlo': 2015, 'consola': 423, 'yum': 2068, 'instalado': 1023, 'lentitud': 1112, 'internet': 1047, 'localhost': 1155, 'sumar': 1819, 'detectar': 587, 'cierre': 333, 'sesión': 1719, 'zabbix': 2069, 'saber': 1667, 'pid': 1444, 'actual': 96, 'konsole': 1091, 'frontend': 854, 'creando': 479, '.bat': 35, 'ssd': 1788, 'compilar': 380, 'ningún': 1305, 'codeblocks': 353, 'openssl': 1357, 'ubuntu': 1918, 'establecer': 761, 'sonido': 1773, 'canales': 298, 'manjaro': 1189, 'deepen': 533, 'conectar': 404, 'dispositivo': 627, 'hdmi': 931, 'driver': 653, 'specified': 1779, 'ignoring': 966, 'this': 1874, 'device': 595, 'copiar': 453, 'contenida': 438, 'tcp': 1851, 'usa': 1946, 'ping': 1448, 'encontrar': 707, 'menos': 1215, 'número': 1328, 'días': 664, 'copia': 451, 'seguridad': 1696, 'rsync': 1657, 'tarea': 1847, 'ultimo': 1928, 'dia': 599, 'mes': 1218, '-e': 22, 'usuario': 1955, 'root': 1653, '¿eliminar': 2096, 'muchas': 1259, 'diferente': 606, '.deb': 40, 'tar.gz': 1846, 'drivers': 655, 'ejecuto': 689, '.desktop': 41, 'resolver': 1636, 'nombre': 1310, 'sftp': 1723, 'varios': 1975, 'puertos': 1529, 'mismo': 1229, 'contenedor': 435, 'idioma': 962, 'gitlab': 885, 'teclado': 1853, 'español': 754, 'navegadores': 1292, 'despues': 583, 'agrandar': 111, 'particion': 1395, 'logica': 1161, 'ejecutado': 682, 'veces': 1977, 'usuarios': 1956, 'reinstalar': 1611, 'libbz.so..': 1119, 'tipos': 1884, 'shortstring': 1729, 'ansichar': 140, 'ansistring': 141, 'delphi': 547, 'tokio': 1890, 'encontraron': 708, 'procesar': 1497, '/var/cache/apt/archives/papirus-icon-theme_-_all.deb': 69, 'container': 433, 'waiting': 2025, 'for': 838, 'headers': 932, 'designar': 578, 'correcta': 458, 'amazon': 126, 'ami': 130, 'principal': 1489, 'instala': 1020, 'eclipse': 669, 'logic': 1160, 'sendmail': 1703, 'especificar': 757, 'smtp': 1756, 'distinto': 629, 'assembler': 199, 'lee': 1107, 'digitos': 610, 'separar': 1706, 'modo': 1235, 'super': 1820, 'disitrbucion': 624, 'basado': 235, 'fedora': 814, 'adios': 106, 'desactivar': 563, 'gestos': 882, 'doble': 638, 'toque': 1892, 'live': 1146, 'usb': 1951, 'system': 1835, 'read': 1570, 'only': 1351, 'abrir': 85, 'especifico': 759, 'problemas': 1495, 'firefox': 831, 'openstreemap': 1358, 'descargar': 569, 'sitioweb': 1752, 'gnu': 889, 'wget': 2032, 'firewall-cmd': 833, 'filtrar': 825, 'vsftpd': 2021, 'ftp': 856, 'powershell': 1478, 'volver': 2014, 'función': 866, 'anterior': 143, 'leyendo': 1117, '¿cuál': 2088, 'significado': 1734, 'perl': 1417, 'spell': 1780, 'checkig': 329, 'is': 1061, 'unavalable': 1930, 'word': 2047, 'list': 1141, 'can': 297, 'found': 848, 'language': 1096, 'es-es': 744, 'git': 884, 'ejecutando': 685, 'python': 1540, 'rama': 1563, 'encima': 705, 'origin/master': 1373, 'clonar': 346, 'repositorio': 1627, 'pida': 1445, 'contraseña': 444, 'push': 1535, 'hace': 919, 'quitar': 1556, 'salto': 1672, 'remmapping': 1613, 'remapear': 1612, 'ciertas': 334, 'filenotfounderror': 822, 'errno': 740, 's.gpg-agent.browser': 1665, 'arreglar': 187, \"'s.gpg-agent.extra\": 14, '¿porqué': 2106, 'producen': 1502, 'cómo': 505, 'solucionan': 1769, 'gpg': 895, 'palabras': 1381, 'terminen': 1864, '.com': 36, 'solucionar': 1770, 'panic': 1382, 'not': 1313, 'syncing': 1830, 'vfs': 1991, 'unable': 1929, 'parrot': 1392, 'entorno': 725, 'grafico': 902, 'vps': 2018, 'enviar': 730, 'post': 1473, 'orange': 1370, 'pi': 1443, 'xdg-utils': 2058, 'intellij': 1039, 'arranco': 183, 'ionic': 1055, 'aplicacion': 159, 'ios': 1056, 'darling': 510, 'fsevents': 855, 'dar': 508, 'tiempo': 1877, 'redireccion': 1591, 'msbuild': 1256, 'jenkins': 1074, 'parámetro': 1401, 'jsp': 1082, 'construir': 427, 'pdf': 1413, 'latex': 1101, 'obtener': 1331, 'porcentaje': 1466, 'ram': 1562, 'disk': 625, 'plano': 1453, '`kill`': 80, \"'y\": 15, '`sudo': 83, 'apt': 169, 'install': 1028, '-y': 28, 'mongodb`': 1240, 'apt-get': 170, 'malformed': 1184, 'line': 1136, 'in': 983, 'source': 1776, 'arranque': 184, 'listar': 1144, 'login': 1162, 'cliente': 345, 'oc': 1335, 'openshift': 1356, 'siguientes': 1739, 'advertencias': 107, 'mysqltuner': 1273, 'mongodb': 1239, 'refused': 1601, 'configuraciones': 412, 'replicación': 1624, 'replicaset': 1625, 'manera': 1188, 'assembly': 200, 'intel': 1038, 'x': 2054, 'raw': 1568, 'malloc': 1185, 'nasm': 1289, 'ld': 1102, 'configuracion': 411, 'ejecutables': 680, 'multiplataforma': 1267, 'qt': 1547, 'pésimo': 1543, 'rendimiento': 1620, 'modulo': 1237, 'netfilter': 1300, 'firewall': 832, 'iptables': 1059, 'deshabilitar': 577, 'log': 1159, 'específicos': 760, 'location': 1158, 'reverse': 1647, 'responde': 1638, 'bad': 229, 'magic': 1178, 'number': 1323, 'cifrar/descifrar': 338, 'temporarales': 1856, 'actualizaciones': 98, 'fallidas': 805, 'open': 1354, 'suse': 1824, 'modificar': 1233, 'perfil': 1416, 'oracle': 1369, 'según': 1698, 'variables': 1972, 'memoria': 1214, 'c': 275, 'intentar': 1041, 'conectarse': 406, 'sql': 1783, 'plus': 1461, 'protegido': 1514, 'convertir': 449, 'espanol': 753, 'nombres': 1311, 'metadata': 1220, 'evitar': 772, 'nfs': 1301, 'informacion': 1001, 'emulando': 703, '/proc/net': 64, 'conectarme': 405, 'reh': 1607, 'hat': 929, 'phpmyadmin': 1442, 'automatizar': 211, 'instalación': 1022, 'postgresql': 1476, 'embebido': 699, 'ayuda': 220, 'apache/php/postgesql': 151, 'conexión': 409, 'consultar': 429, 'posgresql': 1470, 'finalizado': 828, 'redimensionar': 1590, '/var': 68, 'gparted': 894, 'demo.py': 549, '/root/snowboy-master/resources/models/snowboy.umdl': 65, 'módulo': 1277, 'requests': 1631, 'creator': 483, 'depuración': 559, 'remota': 1614, 'libreras': 1126, 'r': 1558, 'as': 191, '‘': 2123, 'lib': 1118, '’': 2124, 'unspecified': 1941, 'osrm': 1375, '`rm': 82, 'encontrado': 706, 'path': 1407, 'levantar': 1116, 'interfaces': 1044, \"'máscara\": 8, 'subred': 1811, 'comado': 362, \"'ip\": 5, 'frag-off': 849, 'nftables': 1302, 'macchanger': 1177, 'mac': 1176, 'aprendiendo': 167, 'i/o': 959, 'posibilidad': 1471, 'resultado': 1643, 'continuación': 443, 'carácter': 307, 'aparece': 154, 'borrar': 262, 'anteriores': 144, 'fecha': 811, 'determinada': 589, 'indicada': 994, 'dependencia': 554, 'particular': 1399, 'generación': 877, 'rpm': 1655, 'rsh': 1656, 'ruby': 1658, 'opensuse': 1359, '¿saben': 2113, 'freeling': 851, 'inicio': 1012, 'rails': 1561, \"'rails\": 11, 's': 1664, 'bundler': 266, 'backtrace': 227, 'soluciono': 1771, 'java.lang.noclassdeffounderror': 1068, 'could': 471, 'initialize': 1013, 'class': 342, 'mainprincipal': 1181, 'apace': 148, 'spark': 1777, 'bucle': 265, 'detecta': 586, 'tipo': 1882, 'escribir': 746, 'operador': 1362, 'test': 1867, 'ver': 1982, 'u': 1916, 'fuente': 858, 'algún': 117, 'realiza': 1571, 'redhat': 1588, 'editar': 671, 'especificas': 758, 'maquinas': 1196, 'tieneen': 1878, 'fecha/hora': 812, 'erronea': 741, 'ansible': 139, 'copias': 454, 'incrementales': 992, 'secuencia': 1687, 'corto': 469, 'primera': 1488, 'letra': 1115, 'condiciones': 402, 'importar': 977, 'pfx': 1433, 'openvas': 1360, 'rutinas': 1663, 'redimensionamiento': 1589, 'espacio': 751, 'servidores': 1717, 'correo': 465, 'postfix': 1474, 'dovecot': 651, 'montar': 1245, 'decodificar': 531, 'enviada': 729, 'gps': 896, 'gta': 911, 'redireccionar': 1593, 'url': 1945, 'rundeck': 1659, 'interno': 1048, '¿conectar': 2084, 'fallar': 804, 'travez': 1905, 'habilitados': 917, 'udp': 1922, 'inversa': 1052, 'tunnel': 1913, 'remoto': 1616, 'tunel': 1912, 'inverso': 1053, 'ocupado': 1342, 'cerrado': 321, 'acción': 92, 'restringir': 1642, 'grupo': 906, 'invitados': 1054, 'puedan': 1523, 'salir': 1670, '/home/': 61, 'output': 1378, 'romper': 1652, 'while': 2034, 'logs': 1164, 'ejecutados': 683, 'via': 1993, 'lograr': 1163, 'respaldo': 1637, 'empaquetado': 700, 'forma': 842, 'profesional': 1503, 'vía': 2023, 'ejecución': 677, 'vala': 1966, 'corra': 456, 'rhel': 1650, 'creo': 486, 'duplica': 660, 'signo': 1735, 'formato': 845, 'scripting': 1683, 'comparar': 372, 'dos': 649, 'valores': 1970, 'incluya': 987, 'comun': 396, 'tercer': 1858, 'muestro': 1263, '/etc/group': 57, 'consulta': 428, 'preparada': 1482, 'sqlite': 1784, 'cambio': 292, 'baja': 230, 'prioridad': 1491, 'llaves': 1150, 'públicas': 1544, 'sudo': 1815, 'at': 203, 'programo': 1511, 'ignorar': 964, 'parada': 1387, 'servicios': 1715, 'estan': 762, 'destino': 585, 'fuentes': 859, 'powerline': 1477, 'vim': 1994, 'terminal/': 1861, 'terminator': 1863, 'hash': 928, 'distintas': 628, 'gráficamente': 908, 'creado': 478, 'ñ': 2119, 'genera': 876, 'arg': 176, 'redireccionamiento': 1592, 'traefik': 1900, 'v': 1961, 'node': 1307, 'angular/cli': 137, 'vea': 1976, 'formas': 843, 'unir': 1937, 'ldap': 1103, 'contengan': 437, 'página': 1541, 'credenciales': 484, 'bluetooth': 256, 'inicia': 1008, 'después': 584, 'actualización': 99, 'leer': 1108, 'diréctamente': 621, 'disco': 622, 'caché': 281, 'quiere': 1554, 'decir': 529, 'inciar': 984, 'asteriscos': 202, 'raspberry': 1565, 'poder': 1463, 'mensaje': 1216, 'warning': 2026, '.run': 47, 'gksu': 886, './': 31, 'equivalente': 736, 'lamp': 1095, 'delegar': 546, 'maquina': 1195, 'virtual': 1998, 'ser': 1707, 'visualizado': 2006, 'proteger': 1513, 'cp': 472, 'wine': 2044, 'grub': 905, 'dual-boot': 657, 'dejó': 544, 'funcionar': 864, '/boot/grub': 54, '/grub': 59, 'decirle': 530, 'cargador': 304, '¿que': 2110, 'hacen': 920, 'entiendo': 724, 'aumentar': 206, 'partición': 1398, 'raíz': 1569, 'encuentro': 712, 'dispara': 626, 'when': 2033, 'loading': 1153, '/home/hernan/.profile': 62, 'lector': 1105, 'permite': 1423, 'zoom': 2073, 'totales': 1894, 'redirección': 1594, 'plesk': 1457, 'timed': 1879, 'out': 1377, 'dev-disk-by\\\\partuuid-ebccc\\\\xd.device': 594, 'radeon': 1559, 'vega': 1979, 'failed': 801, 'to': 1887, 'conect': 403, 'journal': 1079, 'socket': 1760, 'nas': 1288, 'pc': 1411, 'mount': 1250, '¿escuchar': 2099, 'afuera': 108, 'averiguar': 215, 'tipografñia': 1883, 'intento': 1042, 'entrar': 727, 'screen': 1681, 'existente': 781, 'interfaz': 1045, '¿donde': 2093, 'almacenadas': 119, 'descargas': 570, 'actualiza': 97, 'eufi': 770, 'lento': 1113, 'docker-machine': 641, 'create': 482, '-d': 20, 'default': 535, 'elementary': 693, 'ambigua': 128, 'actualizar': 100, 'xampp': 2057, '¿es': 2098, 'normal': 1312, 'instale': 1027, 'mal': 1183, 'extensión': 793, 'syslog.conf': 1834, 'cifrar': 337, 'descifrar': 572, 'pgp': 1435, 'txt': 1914, 'dat': 512, 'csv': 491, 'arquitectura': 180, 'amd': 129, 'armvf': 179, 'absoluta': 87, 'mdsum': 1207, 'forzar': 847, 'stderr': 1796, 'stdout': 1797, 'separandolas': 1705, 'cuál': 500, 'diferencia': 604, 'expresión': 789, 'regular': 1605, 'rechace': 1576, 'casos': 311, 'port': 1467, 'virtualizacion': 2002, 'vmware': 2010, 'wxmaxima': 2053, 'dirigir': 619, 'trafico': 1901, 'bridge': 264, 'todas': 1888, 'páginas': 1542, 'móviles': 1279, 'httpd': 951, 'asociar': 197, '/var/www/inventaros': 71, 'hotlinking': 947, 'individuales': 998, 'enjauladas': 715, 'correos': 466, 'squirrelmail': 1786, 'migración': 1223, 'window': 2042, 'casa': 309, 'visualizarlo': 2008, 'mia': 1222, 'publico': 1521, 'antiguedad': 145, 'mejor': 1211, 'opción': 1353, 'oficialmente': 1346, 'sistemas': 1748, 'operativos': 1364, 'agente': 110, 'ocs': 1338, 'visualiza': 2005, 'externo': 796, 'leido': 1109, 'lp': 1165, '¿puedo': 2109, 'cualquier': 493, 'compartir': 375, 'solaris': 1764, 'samba': 1674, 'equipo': 735, 'llamar': 1149, 'subsistema': 1812, 'dual': 656, 'computador': 392, 'arranca': 181, 'vpn': 2017, 'aparezca': 156, 'imposible': 979, 'antergos': 142, 'wireless': 2045, 'symfony': 1829, 'base': 236, 'usarlo': 1950, 'host': 945, 'exportar': 787, 'traves': 1904, 'colocar': 359, 'cuenta': 495, 'kubuntu': 1093, 'siempre': 1732, 'conecte': 407, 'easyname': 666, 'tras': 1902, 'access': 91, 'user': 1952, \"'root\": 12, \"'localhost\": 7, 'using': 1953, 'password': 1406, 'yes': 2065, 'secure': 1688, 'client': 344, 'motor': 1249, 'mysql-server': 1270, 'hy': 955, 'ca': 278, \"n't\": 1282, 'connect': 415, 'through': 1876, \"'/var/run/mysqld/mysqld.sock\": 1, 'tratar': 1903, 'plugin': 1459, 'cymysql': 502, 'restaurar': 1641, '.sql': 49, 'copiando': 452, 'foreign': 840, 'key': 1089, 'certbot': 323, 'ec': 667, 'spawn': 1778, 'eacces': 665, '--': 19, 'derivados': 561, 'compose': 386, 'node.js': 1308, 'arrancar': 182, 'formulario': 846, 'dejo': 543, 'descomprimo': 574, 'gener': 875, 'config.m': 410, 'database': 514, 'selected': 1699, 'compilación': 377, 'sass': 1675, 'npm': 1317, 'uncaught': 1931, 'exception': 774, \"'jonnyw\\\\phantomjs\\\\exception\\\\invalidexecutableexception\": 6, 'extraccion': 797, 'imagenes': 972, 'phantomjs': 1436, 'php': 1437, 'pfsense': 1432, 'integrar': 1037, '.csv': 39, 'acentos': 93, 'subcarpeta': 1804, 'sesiones': 1718, 'enterprise': 723, 'api': 158, 'calculo': 286, 'consumo': 431, 'snmp': 1757, '¿configurar': 2085, 'codeigniter': 354, './php': 32, 'php-db': 1438, 'buster': 270, 'quiero': 1555, 'registro': 1603, 'portal': 1468, 'cautivo': 314, 'syslog': 1833, 'recibo': 1578, 'mpdf': 1253, 'rutas': 1662, 'conexion': 408, 'documentroot': 644, 'librería': 1129, 'mbstring': 1206, 'formatear': 844, 'discos': 623, 'php-mbregex': 1439, 'ubuntu/linux': 1920, 'currently': 497, 'handle': 926, 'request': 1630, '-q': 26, 'utilizar': 1959, 'libreoffice': 1125, 'seguro': 1697, 'php.ini': 1440, 'depurar': 560, 'visual': 2004, 'studio': 1801, 'code': 352, 'corren': 464, 'corre': 457, 'phpinfo': 1441, 'multi': 1265, 'plataforma': 1455, 'mosquitto': 1247, 'parte': 1393, 'provoca': 1515, 'yii': 2066, 'mysqli_real_connect': 1272, 'hy/': 956, '¿hay': 2101, 'diferencias': 605, 'programar': 1509, '¿ayuda': 2081, 'call': 288, 'undefined': 1932, 'function': 867, 'mysql_error': 1271, 'consultas': 430, 'externas': 795, 'shell_exec': 1728, 'settings': 1721, \"'s\": 13, 'emulador': 702, 'suena': 1816, 'distro': 633, 'uninstalling': 1935, 'will': 2041, 'remove': 1617, 'data': 513, '¿eclipse': 2095, 'desarrollo': 564, 'aplicaciones': 160, 'libreria': 1127, 'opencv': 1355, '¿cual': 2087, 'tarjeta': 1849, 'removible': 1618, 'sd': 1685, 'card': 303, 'xamarin': 2056, 'gcm': 872, 'dirección': 614, 'ethernet': 769, 'versiones': 1988, 'gradle': 900, 'please': 1456, 'include': 985, 'your': 2067, 'or': 1367, 'quito': 1557, 'abro': 86, 'externa': 794, 'utilzando': 1960, 'patrones': 1408, 'patterns': 1410, 'asp.net': 198, 'consejos': 421, 'mejorar': 1212, 'crea': 475, 'backup': 228, 'enviarlo': 731, 'automáticamente': 212, 'misconf': 1227, 'redis': 1596, 'compute': 395, 'remotamente': 1615, 'buscar': 268, 'día': 663, 'semana': 1701, 'indicando': 995, 'profundidad': 1505, 'deep': 532, 'chown': 331, 'chmod': 330, 'n-ésima': 1283, 'bootstrap': 259, 'fork': 841, 'devuelva': 597, 'resultados': 1644, 'variably': 1973, 'modified': 1234, 'scope': 1680, 'reparar': 1622, 'haga': 924, 'verificación': 1983, 'struct': 1800, 'addres': 105, 'lenguaje': 1111, 'chdir': 326, 'devuelve': 598, 'ipv': 1060, 'semáforos': 1702, 'mpi': 1254, 'referencia': 1597, 'definir': 539, '`omp_get_thread_num': 81, '¿dónde': 2094, 'guardan': 912, 'storage': 1798, 'size': 1753, \"'p\": 9, 'known': 1090, 'orden': 1371, 'argumentos': 177, 'getopt': 883, 'necesita': 1295, 'cerrar': 322, 'pipes': 1451, 'utilizan': 1957, 'desbordamiento': 568, 'funcion': 860, 'testigos': 1869, 'pipe': 1450, 'concurrencia': 400, 'filósofos': 826, 'comensales': 367, 'reconocer': 1581, 'lectura': 1106, 'segmentation': 1691, 'fault': 810, 'dumped': 659, 'vector': 1978, 'cuándo': 501, 'libera': 1120, 'puntero': 1531, 'devuelto': 596, 'cambia': 289, 'ultima': 1927, 'modificación': 1231, '¿acceso': 2079, 'compilado': 378, 'resolución': 1635, 'version': 1987, 'glibcxx_..': 887, 'erlang': 737, 'última': 2120, 'retornar': 1645, 'funciones': 865, 'punto': 1533, 'flotante': 835, 'inline': 1014, 'asm': 195, 'librerías': 1130, 'gcc': 871, 'gotoxy': 893, 'consegui': 419, 'ejemplo': 690, 'crearla': 481, 'codigo': 355, 'makefile': 1182, 'borra': 260, '.o': 45, 'compilo': 381, 'enlazador': 719, 'enlaza': 717, 'solicitud': 1767, 'simular': 1744, 'comportamiento': 385, 'implementar': 975, 'aleatoria': 115, 'números': 1329, 'llamada': 1147, 'cree': 485, 'hecho': 933, 'quede': 1551, 'elimina': 694, 'float': 834, 'añadir': 223, 'dev': 593, 'c++': 276, 'paso': 1405, 'escrito': 747, 'definida': 537, 'pasar': 1403, 'modificada': 1232, 'driver.c': 654, 'test.c': 1868, 'cpputest': 473, '¿puede': 2108, 'hijo': 940, 'zombie': 2072, 'huérfano': 954, 'despliegue': 582, '«': 2075, 'find': 830, 'command': 370, \"'dotnet\": 4, 'ef': 673, '»': 2078, 'serie': 1711, 'escritorio': 748, 'monodevelop': 1241, 'ventana': 1980, 'coordenadas': 450, 'c/c++': 277, 'cc': 315, '.cpp': 38, '¿declaración': 2092, 'implícita': 976, 'incompatible': 988, 'interna': 1046, 'exit': 782, 'g++': 868, 'limpiar': 1135, 'int': 1034, 'medio': 1210, 'parametro': 1390, 'presionó': 1486, 'tecla': 1852, 'enter': 721, 'std': 1795, ':out_of_range': 73, 'concatenar': 398, 'array': 185, 'char': 325, 'entrada': 726, 'incorrecta': 990, 'cin.false': 339, 'análisis': 147, 'escritura': 749, 'ofstream': 1347, 'versus': 1989, 'valgrind': 1967, 'compilacion': 376, 'ejecucion': 676, 'ejecute': 688, 'tira': 1885, 'enlazado': 718, 'fondo': 837, '¿problema': 2107, 'bcftools': 239, 'ploidy.o': 1458, 'paralelizar': 1388, 'calculos': 287, 'matriz': 1203, 'scatter': 1677, 'gatter': 870, 'violacion': 1995, 'segmento': 1692, 'punteros': 1532, 'dinamica': 611, 'shadow': 1725, 'member': 1213, 'deprecated': 558, 'conversion': 448, 'from': 853, 'constant': 425, 'icono': 960, 'asociado': 196, 'dibujar': 600, 'qpainter': 1545, 'qpixmap': 1546, 'correr': 467, 'gedit': 874, 'cuda': 494, 'sólo': 1838, 'gpu': 898, 'producción': 1501, '/data': 55, 'envío': 734, 'compilador': 379, 'clase': 341, 'implementada': 974, 'ocj': 1337, 'partes': 1394, 'fallan': 803, 'unsatisfiedlinkerror': 1940, 'swt-pi-gtk-': 1828, 'setea': 1720, 'app.jar': 165, 'recursos': 1586, 'instalo': 1031, 'programas': 1510, 'descargo': 571, 'burp': 267, 'suite': 1817, 'js': 1081, 'definitivamente': 541, '¿cuáles': 2089, 'daños': 518, 'pueden': 1525, 'causados': 312, 'herramientas': 937, 'pentesting': 1414, 'mantener': 1190, 'abierto': 84, 'carácteres': 308, 'raid': 1560, 'hard': 927, 'reset': 1633, 'adaptador': 102, 'puente': 1527, 'xubuntu': 2064, 'retrieve': 1646, 'repository': 1629, 'repomd.xml': 1626, 'addons': 104, 'verify': 1985, 'and': 134, 'try': 1910, 'again': 109, 'instancia': 1032, 'aws': 218, 'arsys': 190, 'arroja': 188, 'alojados': 123, 'estáticas': 767, 'bloquear': 253, 'desbloquearlos': 566, 'clave': 343, 'amateur': 125, 'º': 2077, 'software': 1762, 'libre': 1123, 'reseller': 1632, 'banahosting': 233, 'aplico': 162, 'match': 1201, 'service': 1713, 'colores': 360, 'module': 1236, 'dm-raid': 636, 'lmde': 1151, '¿comando': 2082, 'start': 1793, 'ksmserver': 1092, 'check': 327, 'installation': 1030, '¿se': 2114, 'tp': 1896, 'link': 1139, 'tf': 1872, 'instalando': 1025, '.xls': 53, 'image': 969, 'scan': 1676, 'demas': 548, '¿son': 2115, 'preferibles': 1480, 'bloqueantes': 252, 'whm': 2035, '¿porque': 2105, 'añado': 224, 'ubicación': 1917, 'dice': 602, 'intentos': 1043, 'load': 1152, 'average': 214, 'procesador': 1496, 'nucleos': 1319, 'fallo': 806, 'volumen': 2013, 'lvm': 1170, '/dev/sdxy': 56, 'ignored': 965, 'by': 272, 'filtering': 823, 'semaforos': 1700, 'compartidos': 374, 'mantenerlas': 1191, 'corregir': 461, 'dependencias': 555, 'reviso': 1648, 'cambios': 293, 'hicieron': 939, 'realizó': 1573, 'paquetes': 1386, 'conservar': 422, 'nuevos': 1322, 'wordpress': 2048, 'eventos': 771, 'gamepad': 869, 'uinput': 1925, 'xlsx': 2061, 'aix': 114, 'cdrom': 318, 'montado': 1243, 'conveniente': 447, 'ordenador': 1372, 'bajos': 232, 'correjir': 463, 'editor': 672, 'sublime': 1809, 'text': 1870, 'repositorios': 1628, 'ppa': 1479, 'distribuciones': 631, 'lubuntu': 1168, 'posea': 1469, 'deepin': 534, 'matar': 1200, 'desconocido': 575, 'apaga': 152, 'audio': 205, 'lts': 1167, '-ld': 24, 'falta': 807, 'estática': 766, '/permisos': 63, 'tower': 1895, 'awx': 219, 'perdida': 1415, 'bootear': 258, 'dd': 521, 'colaborativo': 358, 'wifi': 2037, 'pcie': 1412, 'personalizados': 1426, 'darshan': 511, 'solus': 1772, 'contenidos': 440, 'libreelec': 1124, 'lakka': 1094, '...': 30, 'vacia': 1962, 'acl': 94, 'other': 1376, 'reinicia': 1608, 'suspende': 1825, 'gdrive': 873, 'verla': 1986, 'dolphin': 646, 'jack': 1065, 'estropeado': 764, 'busqueda': 269, 'ejecutan': 684, 'definiendo': 538, 'check_mem': 328, 'nagios': 1284, 'debo': 526, 'elegir': 692, 'sslh': 1791, 'ipsec': 1058, 'centreon': 320, 'osmosdr': 1374, 'gnuradio': 891, 'segura': 1695, '/snap': 66, 'volcado': 2012, 'hexadecimal': 938, 'deja': 542, 'hacerlo': 923, 'wifislax': 2038, 'grafica': 901, 'jetty': 1076, 'hudson': 953, 'archiva': 171, 'why': 2036, 'folders': 836, 'have': 930, 'permissions': 1421, 'sort': 1775, 'debería': 523, '/var/www/html/': 70, 'task': 1850, 'puntos': 1534, 'montage': 1244, '/home': 60, 'forbidden': 839, 'apache/..': 150, 'htaccess': 948, '..': 29, 'scientific': 1679, 'permita': 1422, 'darle': 509, 'revés': 1649, '¿de': 2091, 'reanudar': 1574, 'interrumpida': 1050, 'sub-directorios': 1803, 'comprimiendo': 389, 'ocurrencia': 1343, 'mayúscula': 1205, 'añada': 222, 'guarde': 914, 'alias': 118, 'aparentemente': 155, '/etc/passwd': 58, 'cuyo': 499, 'uid': 1923, 'contenga': 436, 'único': 2122, 'regla': 1604, 'udev': 1921, 'queda': 1549, 'cd': 316, 'etc': 768, 'restar': 1640, 'nanosegundos': 1287, 'simple': 1742, '+n': 17, 'exactos': 773, 'moverse': 1252, 'cmd': 351, 'símbolo': 1837, 'delante': 545, 'expansiones': 784, 'indirectas': 997, 'compruebo': 391, 'deshabilitados': 576, 'lógica': 1174, 'pl/sql': 1452, 'dd/mm/yyyy': 522, 'filas': 818, 'búsqueda': 274, 'avanzada': 213, 'juntar': 1083, 'tres': 1907, 'notificación': 1315, 'telnet': 1855, 'recursiva': 1585, '.bashrc': 34, '.bash_profile': 33, 'paralelo': 1389, 'muevo': 1264, 'arrays': 186, 'finalizar': 829, 'ingresar': 1006, 'último': 2121, 'numero': 1324, 'cifra': 336, 'exlciur': 783, 'empaquetar': 701, 'creada': 477, 'ejecutada': 681, 'pasarle': 1404, 'seguimiento': 1693, 'tail': 1843, '-f': 23, 'incrementar': 993, 'fechas': 813, 'efecto': 674, 'borre': 263, 'grabc': 899, 'registrar': 1602, 'pulsación': 1530, 'f': 799, 'autoclick': 209, 'capturar': 300, 'indicar': 996, 'dada': 507, '¿recorrer': 2112, 'query': 1553, 'fi': 815, 'arroje': 189, 'vacío': 1963, 'exclude=´': 775, 'dir_ignorar': 613, '´': 2076, 'validar': 1968, 'termina': 1859, '.txt': 51, 'marca': 1197, 'sido': 1731, 'usan': 1947, 'personas': 1427, 'máquina': 1274, 'so': 1759, 'guest': 916, 'xp': 2062, 'obtenido': 1334, 'ocultar': 1339, 'groupadd': 904, 'duplicados': 661, 'slackware': 1755, 'current': 496, 'eliminarlos': 696, 'rm': 1651, 'preprocesador': 1483, 'interpreta': 1049, '“': 2125, '”': 2126, 'constante': 426, 'oid': 1348, 'clamav': 340, 'antivirus': 146, 'infectados': 999, 'necesito': 1296, 'hello': 934, 'world': 2051, 'exponer': 786, 'snmp_exporter': 1758, 'prometheus': 1512, 'estica': 763, 'permanente': 1418, 'minutos': 1226, 'correcto': 460, 'manejo': 1187, 'workrave': 2050, 'encender': 704, 'jessie': 1075, 'pregunta': 1481, 'nessus': 1298, 'inicialización': 1009, 'infinita': 1000, 'inicie': 1011, 'ambiente': 127, 'gráfico': 909, 'cloudradar': 349, ':dwc_otg_hcd_urb_enqueue': 72, 'connected': 417, 'duro': 662, 'ntfs': 1318, 'mapear': 1194, 'aun': 207, 'cotenedor': 470, 'vnc': 2011, 'controlar': 445, 'permitir': 1424, 'enlace': 716, 'simbólico': 1741, 'jaula': 1066, 'soporte': 1774, 'sitios': 1751, 'proftpd': 1504, 'particiones': 1397, 'gentoo': 881, 'gpt': 897, 'status': 1794, 'contienen': 442, 'bitbucket': 246, 'jira': 1077, 'presionar': 1485, 'ctrl': 492, 'optimización': 1365, 'imagemagick': 970, 'tesseract': 1866, 'swap': 1827, 'medida': 1209, 'insertan': 1019, 'obtengan': 1332, 'procesen': 1498, 'instantaneamente': 1033, '¿un': 2116, 'pertenecer': 1428, 'defecto': 536, 'postgres': 1475, 'pg_dump': 1434, 'sentencias': 1704, 'alternativa': 124, 'bajo': 231, 'nat': 1290, 'drive': 652, 'wifit': 2039, 'tp-link': 1897, 'tl-wnn': 1886, 'serena': 1708, 'bind': 244, 'expresiones': 788, 'regulares': 1606, 'genero': 880, 'faltantes': 808, 'ms': 1255, 'office': 1345, '.conf': 37, 'sh': 1724, 'recorrer': 1582, 'vuelva': 2022, 'tabuladores': 1841, 'uniq': 1936, 'remplazo': 1619, 'bloqueado': 251, 'analice': 131, 'computadoras': 394, 'terramaster': 1865, 'f-': 800, 'limitados': 1133, 'asignar': 193, 'analizar': 132, 'oración': 1368, 'columna': 361, 'creación': 476, 'dinamico': 612, 'muestre': 1262, 'vacíos': 1964, 'trabajo': 1899, 'determinar': 592, 'triangulo': 1908, 'excluir': 776, 'características': 302, 'putty': 1536, 'pueda': 1522, 'identificar': 961, 'explorador': 785, 'spotify': 1782, 'sigue': 1737, 'solicitando': 1766, 'privada': 1492, 'comparan': 371, 'cadenas': 284, '`at`': 77, 'parámetros': 1402, 'operaciones': 1361, 'cambiándoles': 294, 'upgrade': 1944, 'limitar': 1134, 'ancho': 133, 'banda': 234, 'computadora': 393, 'ninguna': 1304, 'gráfica': 907, '¿para': 2103, 'sirve': 1746, '-des': 21, '-out': 25, 'izquierda': 1064, 'nuevamente': 1320, 'documentos': 643, 'oculto': 1340, 'máximo': 1275, 'ulimit': 1926, 'definirlo': 540, 'accede': 88, 'subcarpetas': 1805, 'particionado': 1396, 'lógico': 1175, '+ubuntu': 18, 'resolucion': 1634, '`apt-get': 76, 'install`': 1029, 'subdirectorio': 1806, 'largo': 1100, 'cable': 280, 'mate': 1202, 'freir': 852, 'effects': 675, 'kdenlive': 1087, 'xrdp': 2063, 'sysinfyx.db': 1832, 'boot': 257, 'intalar': 1035, 'pantheon': 1384, 'additions': 103, 'excluyendo': 777, 'aritméticas': 178, 'simples': 1743, 'busybox': 271, 'router': 1654, 'negra': 1297, 'ensamblador': 720, 'x-': 2055, 'desbloquear': 565, 'pestañas': 1429, 'joomla': 1078, 'componente': 384, 'cabeceras': 279, 'incluir': 986, 'ocultos': 1341, 'reboot': 1575, 'nvidia': 1327, 'causó': 313, 'almohadilla': 121, 'nivel': 1306, 'monousuario': 1242, 'mantenimiento/administrativas': 1192, 'cronjobs': 489, 'siguiente': 1738, 'coincidencia': 357, 'vi': 1992, 'i/': 957, 'sr': 1787, 'sector': 1686, 'distribucion': 630, 'guesst': 915, 'virt-manager': 1997, 'homólogo': 942, 'probind': 1493, 'edd': 670, 'archlinux': 174, '`hostname`': 79, 'ligero': 1131, 'rechazada': 1577, 'corruptas': 468, 'innodb': 1015, 'bd': 240, 'desbloqueo': 567, 'encriptándola': 709, 'running': 1660, 'with': 2046, 'secure-file-priv': 1689, 'option': 1366, 'escalamiento': 745, 'digitalocean': 609, 'instaladores': 1024, 'electron': 691, 'wav': 2027, 'kbps': 1086, 'itraf': 1062, 'completar': 383, 'directiva': 615, 'dirname': 620, '__file__': 74, 'tty': 1911, 'present': 1484, 'askpass': 194, 'program': 1506, 'petición': 1431, 'envios': 732, 'email': 698, 'ssmtp': 1792, 'fatal': 809, 'controller': 446, 'uilizando': 1924, 'ziparchive': 2071, 'refrescar': 1600, 'incomprensible': 989, 'integracion': 1036, 'ptpasswd': 1519, 'salta': 1671, 'err_empty_response': 739, 'unlink': 1939, 'file_put_contents': 821, 'heredan': 935, 'superior': 1821, 'fuciona': 857, 'lemp': 1110, 'ubuntu/debian': 1919, 'prestashop': 1487, 'alojada': 122, 'db': 519, 'migrar': 1224, 'sale': 1668, 'éste': 2118, 'virtualenv': 2000, 'reconocedor': 1580, 'voz': 2016, 'arecord': 175, 'exif': 779, 'imagen': 971, 'cpu': 474, 'almacenar': 120, 'diccionario': 601, 'envíar': 733, 'dbus': 520, 'violación': 1996, \"'core\": 2, 'generado': 878, 'peticion': 1430, 'limitación': 1132, 'ble': 249, 'programada': 1508, 'encuentre': 711, 'necesarias': 1294, 'exelearning': 778, 'cámara': 503, 'gstreamer': 910, 'detener': 588, 'vídeo': 2024, 'library': 1122, 'notebook': 1314, 'jupyter': 1084, 'módulos': 1278, 'pip': 1449, 'insecureplatformwarning': 1017, 'tor': 1893, 'assertionerror': 201, 'supported': 1823, 'scheme': 1678, 'socksh': 1761, 'trisquel': 1909, 'demonios': 550, 'respuesta': 1639, 'sucede': 1813, 'pillow': 1447, 'pygame': 1537, 'atributeerror': 204, 'mandar': 1186, 'impresora': 980, 'qtarmsim': 1548, 'websocket': 2031, 'saltos': 1673, 'avisar': 216, 'baudrate': 238, 'raspian': 1567, 'comunicación': 397, 'serial': 1709, 'modulos': 1238, 'scripts': 1684, 'extencion': 791, '.pyw': 46, \"'python\": 10, 'importerror': 978, 'named': 1286, 'site': 1749, 'designer': 579, 'b+': 226, 'raspbian': 1566, 'repl': 1623, 'expulsar': 790, 'pyodbc': 1538, 'pyqt': 1539, 'vscode': 2020, 'libfblas.so': 1121, 'shared': 1726, 'object': 1330, 'such': 1814, 'directory': 618, '.x': 52, 'sublimetext': 1810, 'xfc-terminal': 2060, 'gnome-terminal': 888, 'venv': 1981, 'azure': 221, 'xe': 2059, 'sqlplus': 1785, 'connectar': 416, 'mssql-server': 1257, 'solicita': 1765, 'plugins': 1460}\n",
            "[\"''\", \"'/var/run/mysqld/mysqld.sock\", \"'core\", \"'dig\", \"'dotnet\", \"'ip\", \"'jonnyw\\\\phantomjs\\\\exception\\\\invalidexecutableexception\", \"'localhost\", \"'máscara\", \"'p\", \"'python\", \"'rails\", \"'root\", \"'s\", \"'s.gpg-agent.extra\", \"'y\", \"'~\", '+n', '+ubuntu', '--', '-d', '-des', '-e', '-f', '-ld', '-out', '-q', '-r', '-y', '..', '...', './', './php', '.bash_profile', '.bashrc', '.bat', '.com', '.conf', '.cpp', '.csv', '.deb', '.desktop', '.docx', '.htaccess', '.net', '.o', '.pyw', '.run', '.sh', '.sql', '.tar', '.txt', '.x', '.xls', '/boot/grub', '/data', '/dev/sdxy', '/etc/group', '/etc/passwd', '/grub', '/home', '/home/', '/home/hernan/.profile', '/permisos', '/proc/net', '/root/snowboy-master/resources/models/snowboy.umdl', '/snap', '/usr/bin/env', '/var', '/var/cache/apt/archives/papirus-icon-theme_-_all.deb', '/var/www/html/', '/var/www/inventaros', ':dwc_otg_hcd_urb_enqueue', ':out_of_range', '__file__', '``', '`apt-get', '`at`', '`cut`', '`hostname`', '`kill`', '`omp_get_thread_num', '`rm', '`sudo', 'abierto', 'abrir', 'abro', 'absoluta', 'accede', 'acceder', 'acceso', 'access', 'acción', 'acentos', 'acl', 'activar', 'actual', 'actualiza', 'actualizaciones', 'actualización', 'actualizar', 'actúe', 'adaptador', 'additions', 'addons', 'addres', 'adios', 'advertencias', 'afuera', 'again', 'agente', 'agrandar', 'agregar', 'agrupar', 'aix', 'aleatoria', 'alguna', 'algún', 'alias', 'almacenadas', 'almacenar', 'almohadilla', 'alojada', 'alojados', 'alternativa', 'amateur', 'amazon', 'ambiente', 'ambigua', 'amd', 'ami', 'analice', 'analizar', 'ancho', 'and', 'android', 'angular', 'angular/cli', 'angularcli', 'ansible', 'ansichar', 'ansistring', 'antergos', 'anterior', 'anteriores', 'antiguedad', 'antivirus', 'análisis', 'apace', 'apache', 'apache/..', 'apache/php/postgesql', 'apaga', 'apagar', 'aparece', 'aparentemente', 'aparezca', 'aparezcan', 'api', 'aplicacion', 'aplicaciones', 'aplicación', 'aplico', 'app', 'app.config', 'app.jar', 'application', 'aprendiendo', 'apropiado', 'apt', 'apt-get', 'archiva', 'archivo', 'archivos', 'archlinux', 'arecord', 'arg', 'argumentos', 'aritméticas', 'armvf', 'arquitectura', 'arranca', 'arrancar', 'arranco', 'arranque', 'array', 'arrays', 'arreglar', 'arroja', 'arroje', 'arsys', 'as', 'ascii', 'asignar', 'askpass', 'asm', 'asociado', 'asociar', 'asp.net', 'assembler', 'assembly', 'assertionerror', 'asteriscos', 'at', 'atributeerror', 'audio', 'aumentar', 'aun', 'auto', 'autoclick', 'autocomplete', 'automatizar', 'automáticamente', 'avanzada', 'average', 'averiguar', 'avisar', 'awk', 'aws', 'awx', 'ayuda', 'azure', 'añada', 'añadir', 'añado', 'aún', 'b+', 'backtrace', 'backup', 'bad', 'baja', 'bajo', 'bajos', 'banahosting', 'banda', 'basado', 'base', 'bash', 'baudrate', 'bcftools', 'bd', 'be', 'bien', 'binario', 'bind', 'bios', 'bitbucket', 'bits', 'blanco', 'ble', 'bloque', 'bloqueado', 'bloqueantes', 'bloquear', 'bloqueo', 'bloques', 'bluetooth', 'boot', 'bootear', 'bootstrap', 'borra', 'borrado', 'borrar', 'borre', 'bridge', 'bucle', 'bundler', 'burp', 'buscar', 'busqueda', 'buster', 'busybox', 'by', 'bzip', 'búsqueda', 'c', 'c++', 'c/c++', 'ca', 'cabeceras', 'cable', 'caché', 'cada', 'cadena', 'cadenas', 'cajas', 'calculo', 'calculos', 'call', 'cambia', 'cambiar', 'cambiarlo', 'cambio', 'cambios', 'cambiándoles', 'campo', 'campos', 'can', 'canales', 'cantidad', 'capturar', 'caracteres', 'características', 'card', 'cargador', 'carpeta', 'carpetas', 'carácter', 'carácteres', 'casa', 'casi', 'casos', 'causados', 'causó', 'cautivo', 'cc', 'cd', 'cdn', 'cdrom', 'centos', 'centreon', 'cerrado', 'cerrar', 'certbot', 'certificado', 'char', 'chdir', 'check', 'check_mem', 'checkig', 'chmod', 'chown', 'ciclo', 'cierre', 'ciertas', 'ciertos', 'cifra', 'cifrar', 'cifrar/descifrar', 'cin.false', 'clamav', 'clase', 'class', 'clave', 'client', 'cliente', 'clonar', 'closed', 'cloud', 'cloudradar', 'cluster', 'cmd', 'code', 'codeblocks', 'codeigniter', 'codigo', 'coinciden', 'coincidencia', 'colaborativo', 'colocar', 'colores', 'columna', 'comado', 'comando', 'comandos', 'combinación', 'combinado', 'comensales', 'comentar', 'comillas', 'command', 'comparan', 'comparar', 'compartidas', 'compartidos', 'compartir', 'compilacion', 'compilación', 'compilado', 'compilador', 'compilar', 'compilo', 'completa', 'completar', 'componente', 'comportamiento', 'compose', 'composer', 'comprimido', 'comprimiendo', 'comprobar', 'compruebo', 'computador', 'computadora', 'computadoras', 'compute', 'comun', 'comunicación', 'concatenar', 'concreto', 'concurrencia', 'condicional', 'condiciones', 'conect', 'conectar', 'conectarme', 'conectarse', 'conecte', 'conexion', 'conexión', 'config.m', 'configuracion', 'configuraciones', 'configuración', 'configurar', 'connect', 'connectar', 'connected', 'connection', 'consegui', 'conseguir', 'consejos', 'conservar', 'consola', 'console', 'constant', 'constante', 'construir', 'consulta', 'consultar', 'consultas', 'consumo', 'contador', 'container', 'contar', 'contenedor', 'contenga', 'contengan', 'contenida', 'contenido', 'contenidos', 'contiene', 'contienen', 'continuación', 'contraseña', 'controlar', 'controller', 'conveniente', 'conversion', 'convertir', 'coordenadas', 'copia', 'copiando', 'copiar', 'copias', 'core', 'corra', 'corre', 'correcta', 'correctamente', 'correcto', 'corregir', 'corregirlo', 'correjir', 'corren', 'correo', 'correos', 'correr', 'corruptas', 'corto', 'cotenedor', 'could', 'cp', 'cpputest', 'cpu', 'crea', 'creación', 'creada', 'creado', 'creando', 'crear', 'crearla', 'create', 'creator', 'credenciales', 'cree', 'creo', 'cron', 'cronjob', 'cronjobs', 'crontab', 'csv', 'ctrl', 'cualquier', 'cuda', 'cuenta', 'current', 'currently', 'cut', 'cuyo', 'cuál', 'cuándo', 'cymysql', 'cámara', 'código', 'cómo', 'da', 'dada', 'dar', 'darle', 'darling', 'darshan', 'dat', 'data', 'database', 'dato', 'datos', 'dañadas', 'daños', 'db', 'dbus', 'dd', 'dd/mm/yyyy', 'debería', 'debian', 'debian/apache', 'debo', 'debugear', 'decimales', 'decir', 'decirle', 'decodificar', 'deep', 'deepen', 'deepin', 'default', 'defecto', 'definida', 'definiendo', 'definir', 'definirlo', 'definitivamente', 'deja', 'dejo', 'dejó', 'delante', 'delegar', 'delphi', 'demas', 'demo.py', 'demonios', 'denegado', 'denied', 'dentro', 'dependencia', 'dependencias', 'dependiendo', 'deploy', 'deprecated', 'depuración', 'depurar', 'derivados', 'des', 'desactivar', 'desarrollo', 'desbloquear', 'desbloquearlos', 'desbloqueo', 'desbordamiento', 'descargar', 'descargas', 'descargo', 'descifrar', 'descomprimirlo', 'descomprimo', 'desconocido', 'deshabilitados', 'deshabilitar', 'designar', 'designer', 'desinstalar', 'desplegar', 'despliegue', 'despues', 'después', 'destino', 'detecta', 'detectar', 'detener', 'determinada', 'determinado', 'determinados', 'determinar', 'dev', 'dev-disk-by\\\\partuuid-ebccc\\\\xd.device', 'device', 'devuelto', 'devuelva', 'devuelve', 'dia', 'dibujar', 'diccionario', 'dice', 'diciembre', 'diferencia', 'diferencias', 'diferente', 'diferentes', 'digital', 'digitalocean', 'digitos', 'dinamica', 'dinamico', 'dir_ignorar', 'dirección', 'directiva', 'directorio', 'directorios', 'directory', 'dirigir', 'dirname', 'diréctamente', 'disco', 'discos', 'disitrbucion', 'disk', 'dispara', 'dispositivo', 'distintas', 'distinto', 'distribucion', 'distribuciones', 'distribución', 'distro', 'diversos', 'django', 'dm-raid', 'dns', 'doble', 'docker', 'docker-compose', 'docker-machine', 'documento', 'documentos', 'documentroot', 'doing', 'dolphin', 'dominio', 'dominios', 'dos', 'dotnet', 'dovecot', 'drive', 'driver', 'driver.c', 'drivers', 'dual', 'dual-boot', 'duda', 'dumped', 'duplica', 'duplicados', 'duro', 'día', 'días', 'eacces', 'easyname', 'ec', 'echo', 'eclipse', 'edd', 'editar', 'editor', 'ef', 'efecto', 'effects', 'ejecucion', 'ejecución', 'ejecuta', 'ejecutable', 'ejecutables', 'ejecutada', 'ejecutado', 'ejecutados', 'ejecutan', 'ejecutando', 'ejecutar', 'ejecutará', 'ejecute', 'ejecuto', 'ejemplo', 'electron', 'elegir', 'elementary', 'elimina', 'eliminar', 'eliminarlos', 'else', 'email', 'embebido', 'empaquetado', 'empaquetar', 'emulador', 'emulando', 'encender', 'encima', 'encontrado', 'encontrar', 'encontraron', 'encriptándola', 'encuentra', 'encuentre', 'encuentro', 'end', 'engine', 'enjauladas', 'enlace', 'enlaza', 'enlazado', 'enlazador', 'ensamblador', 'enter', 'enteros', 'enterprise', 'entiendo', 'entorno', 'entrada', 'entrar', 'entro', 'enviada', 'enviar', 'enviarlo', 'envios', 'envíar', 'envío', 'equipo', 'equivalente', 'erlang', 'err_cert_common_name_invalid', 'err_empty_response', 'errno', 'erronea', 'error', 'errores', 'es-es', 'escalamiento', 'escribir', 'escrito', 'escritorio', 'escritura', 'escuchando', 'espacio', 'espacios', 'espanol', 'español', 'especiales', 'especifica', 'especificar', 'especificas', 'especifico', 'específicos', 'establecer', 'estan', 'estica', 'estropeado', 'estándar', 'estática', 'estáticas', 'etc', 'ethernet', 'eufi', 'eventos', 'evitar', 'exactos', 'exception', 'exclude=´', 'excluir', 'excluyendo', 'exelearning', 'exif', 'existe', 'existente', 'exit', 'exlciur', 'expansiones', 'explorador', 'exponer', 'exportar', 'expresiones', 'expresión', 'expulsar', 'extencion', 'extension', 'extensión', 'externa', 'externas', 'externo', 'extraccion', 'extraer', 'f', 'f-', 'failed', 'falla', 'fallan', 'fallar', 'fallidas', 'fallo', 'falta', 'faltantes', 'fatal', 'fault', 'fecha', 'fecha/hora', 'fechas', 'fedora', 'fi', 'fichero', 'ficheros', 'filas', 'file', 'file.conf', 'file_put_contents', 'filenotfounderror', 'filtering', 'filtrado', 'filtrar', 'filósofos', 'final', 'finalizado', 'finalizar', 'find', 'firefox', 'firewall', 'firewall-cmd', 'float', 'flotante', 'folders', 'fondo', 'for', 'forbidden', 'foreign', 'fork', 'forma', 'formas', 'formatear', 'formato', 'formulario', 'forzar', 'found', 'frag-off', 'frames', 'freeling', 'freir', 'from', 'frontend', 'fsevents', 'ftp', 'fuciona', 'fuente', 'fuentes', 'funcion', 'funciona', 'funcionan', 'funcionando', 'funcionar', 'funciones', 'función', 'function', 'g++', 'gamepad', 'gatter', 'gcc', 'gcm', 'gdrive', 'gedit', 'gener', 'genera', 'generación', 'generado', 'generar', 'genero', 'gentoo', 'gestos', 'getopt', 'git', 'gitlab', 'gksu', 'glibcxx_..', 'gnome-terminal', 'gnu', 'gnu/linux', 'gnuradio', 'google', 'gotoxy', 'gparted', 'gpg', 'gps', 'gpt', 'gpu', 'grabc', 'gradle', 'grafica', 'grafico', 'grep', 'groupadd', 'grub', 'grupo', 'gráfica', 'gráficamente', 'gráfico', 'gstreamer', 'gta', 'guardan', 'guardar', 'guarde', 'guesst', 'guest', 'habilitados', 'habilitar', 'hace', 'hacen', 'hacer', 'hacerle', 'hacerlo', 'haga', 'hago', 'handle', 'hard', 'hash', 'hat', 'have', 'hdmi', 'headers', 'hecho', 'hello', 'heredan', 'heroku', 'herramientas', 'hexadecimal', 'hicieron', 'hijo', 'hilos', 'homólogo', 'hora', 'horas', 'host', 'hosting', 'hotlinking', 'htaccess', 'html', 'http', 'httpd', 'https', 'hudson', 'huérfano', 'hy', 'hy/', 'i/', 'i/choreographer', 'i/o', 'icono', 'identificar', 'idioma', 'if', 'ignorar', 'ignored', 'ignoring', 'igual', 'iguales', 'image', 'imagemagick', 'imagen', 'imagenes', 'implementación', 'implementada', 'implementar', 'implícita', 'importar', 'importerror', 'imposible', 'impresora', 'imprimir', 'imágenes', 'in', 'inciar', 'include', 'incluir', 'incluya', 'incompatible', 'incomprensible', 'incorrecta', 'incorrecto', 'incrementales', 'incrementar', 'indicada', 'indicando', 'indicar', 'indirectas', 'individuales', 'infectados', 'infinita', 'informacion', 'información', 'informes', 'informix', 'ingresada', 'ingresar', 'ingreso', 'inicia', 'inicialización', 'iniciar', 'inicie', 'inicio', 'initialize', 'inline', 'innodb', 'input', 'insecureplatformwarning', 'insert', 'insertan', 'instala', 'instalacion', 'instalación', 'instalado', 'instaladores', 'instalando', 'instalar', 'instale', 'install', 'install`', 'installation', 'instalo', 'instancia', 'instantaneamente', 'int', 'intalar', 'integracion', 'integrar', 'intel', 'intellij', 'intentado', 'intentar', 'intento', 'intentos', 'interfaces', 'interfaz', 'interna', 'internet', 'interno', 'interpreta', 'interrumpida', 'introducir', 'inversa', 'inverso', 'invitados', 'ionic', 'ios', 'ip', 'ipsec', 'iptables', 'ipv', 'is', 'itraf', 'its', 'izquierda', 'jack', 'jaula', 'java', 'java.lang.noclassdeffounderror', 'java_home', 'javafx', 'javascript', 'jax', 'jdk', 'jenkins', 'jessie', 'jetty', 'jira', 'joomla', 'journal', 'jquery', 'js', 'jsp', 'juntar', 'jupyter', 'kali', 'kbps', 'kdenlive', 'kernel', 'key', 'known', 'konsole', 'ksmserver', 'kubuntu', 'lakka', 'lamp', 'language', 'lanzado', 'lanzar', 'laravel', 'largo', 'latex', 'ld', 'ldap', 'lea', 'lector', 'lectura', 'lee', 'leer', 'leido', 'lemp', 'lenguaje', 'lentitud', 'lento', 'leo', 'letra', 'levantar', 'leyendo', 'lib', 'libbz.so..', 'libera', 'libfblas.so', 'library', 'libre', 'libreelec', 'libreoffice', 'libreras', 'libreria', 'librerias', 'librería', 'librerías', 'ligero', 'limitación', 'limitados', 'limitar', 'limpiar', 'line', 'linea', 'lineas', 'link', 'linux', 'list', 'lista', 'listados', 'listar', 'lite', 'live', 'llamada', 'llamadas', 'llamar', 'llaves', 'lmde', 'load', 'loading', 'local', 'localhost', 'localización', 'localizar', 'location', 'log', 'logic', 'logica', 'login', 'lograr', 'logs', 'lp', 'ls', 'lts', 'lubuntu', 'luego', 'lvm', 'línas', 'línea', 'líneas', 'lógica', 'lógico', 'mac', 'macchanger', 'magic', 'mail', 'main', 'mainprincipal', 'makefile', 'mal', 'malformed', 'malloc', 'mandar', 'manejo', 'manera', 'manjaro', 'mantener', 'mantenerlas', 'mantenimiento/administrativas', 'manualmente', 'mapear', 'maquina', 'maquinas', 'marca', 'mariadb', 'mas', 'matar', 'match', 'mate', 'matriz', 'may', 'mayúscula', 'mbstring', 'mdsum', 'mediante', 'medida', 'medio', 'mejor', 'mejorar', 'member', 'memoria', 'menos', 'mensaje', 'mensajes', 'mes', 'meses', 'metadata', 'mf', 'mia', 'migración', 'migrar', 'mint', 'minutos', 'misconf', 'misma', 'mismo', 'mkdir', 'modificación', 'modificada', 'modificar', 'modified', 'modo', 'module', 'modulo', 'modulos', 'mongodb', 'mongodb`', 'monodevelop', 'monousuario', 'montado', 'montage', 'montar', 'moodle', 'mosquitto', 'mostrar', 'motor', 'mount', 'mover', 'moverse', 'mpdf', 'mpi', 'ms', 'msbuild', 'mssql-server', 'much', 'muchas', 'muera', 'muestra', 'muestre', 'muestro', 'muevo', 'multi', 'multimedia', 'multiplataforma', 'multiples', 'mysql', 'mysql-server', 'mysql_error', 'mysqli_real_connect', 'mysqltuner', 'máquina', 'máximo', 'módem', 'módulo', 'módulos', 'móviles', 'múltiples', 'n', \"n't\", 'n-ésima', 'nagios', 'name', 'named', 'nanosegundos', 'nas', 'nasm', 'nat', 'navegador', 'navegadores', 'near', 'necesarias', 'necesita', 'necesito', 'negra', 'nessus', 'netbeans', 'netfilter', 'nfs', 'nftables', 'nginx', 'ninguna', 'ningún', 'nivel', 'node', 'node.js', 'nodejs', 'nombre', 'nombres', 'normal', 'not', 'notebook', 'notificación', 'noviembre', 'npm', 'ntfs', 'nucleos', 'nuevamente', 'nuevo', 'nuevos', 'number', 'numero', 'numeros', 'numérico', 'nvidia', 'número', 'números', 'object', 'obtener', 'obtengan', 'obtengo', 'obtenido', 'oc', 'ocean', 'ocj', 'ocs', 'ocultar', 'oculto', 'ocultos', 'ocupado', 'ocurrencia', 'of', 'office', 'oficialmente', 'ofstream', 'oid', 'ol', 'on', 'only', 'opcion', 'opción', 'open', 'opencv', 'openshift', 'openssl', 'openstreemap', 'opensuse', 'openvas', 'operaciones', 'operador', 'operativo', 'operativos', 'optimización', 'option', 'or', 'oración', 'oracle', 'orange', 'orden', 'ordenador', 'origin/master', 'osmosdr', 'osrm', 'other', 'out', 'output', 'pagina', 'palabra', 'palabras', 'panic', 'pantalla', 'pantheon', 'paquete', 'paquetes', 'parada', 'paralelizar', 'paralelo', 'parametro', 'parametros', 'parrot', 'parte', 'partes', 'particion', 'particionado', 'particiones', 'partición', 'particular', 'partir', 'parámetro', 'parámetros', 'pasar', 'pasarle', 'paso', 'password', 'path', 'patrones', 'patrón', 'patterns', 'pc', 'pcie', 'pdf', 'pentesting', 'perdida', 'perfil', 'perl', 'permanente', 'permisos', 'permission', 'permissions', 'permita', 'permite', 'permitir', 'personalizado', 'personalizados', 'personas', 'pertenecer', 'pestañas', 'peticion', 'petición', 'pfsense', 'pfx', 'pg_dump', 'pgp', 'phantomjs', 'php', 'php-db', 'php-mbregex', 'php.ini', 'phpinfo', 'phpmyadmin', 'pi', 'pid', 'pida', 'pide', 'pillow', 'ping', 'pip', 'pipe', 'pipes', 'pl/sql', 'plano', 'plantilla', 'plataforma', 'please', 'plesk', 'ploidy.o', 'plugin', 'plugins', 'plus', 'pobible', 'poder', 'poner', 'pop', 'porcentaje', 'port', 'portal', 'posea', 'posgresql', 'posibilidad', 'posible', 'post', 'postfix', 'postgres', 'postgresql', 'powerline', 'powershell', 'ppa', 'preferibles', 'pregunta', 'preparada', 'preprocesador', 'present', 'presionar', 'presionó', 'prestashop', 'primera', 'principal', 'principio', 'prioridad', 'privada', 'probind', 'problema', 'problemas', 'procesador', 'procesar', 'procesen', 'proceso', 'procesos', 'producción', 'producen', 'profesional', 'proftpd', 'profundidad', 'program', 'programa', 'programada', 'programar', 'programas', 'programo', 'prometheus', 'proteger', 'protegido', 'provoca', 'proxy', 'proyecto', 'proyectos', 'ptpasswd', 'publica', 'publico', 'pueda', 'puedan', 'puede', 'pueden', 'puedo', 'puente', 'puerto', 'puertos', 'pulsación', 'puntero', 'punteros', 'punto', 'puntos', 'push', 'putty', 'pygame', 'pyodbc', 'pyqt', 'python', 'página', 'páginas', 'pésimo', 'públicas', 'qpainter', 'qpixmap', 'qt', 'qtarmsim', 'queda', 'quedarme', 'quede', 'querer', 'query', 'quiere', 'quiero', 'quitar', 'quito', 'r', 'radeon', 'raid', 'rails', 'ram', 'rama', 'rango', 'raspberry', 'raspbian', 'raspian', 'raw', 'raíz', 'read', 'realiza', 'realizar', 'realizó', 'reanudar', 'reboot', 'rechace', 'rechazada', 'recibo', 'recientes', 'reconocedor', 'reconocer', 'recorrer', 'recortar', 'recuperar', 'recursiva', 'recursos', 'red', 'redhat', 'redimensionamiento', 'redimensionar', 'redireccion', 'redireccionamiento', 'redireccionar', 'redirección', 'redirigir', 'redis', 'referencia', 'referente', 'referirme', 'refrescar', 'refused', 'registrar', 'registro', 'regla', 'regular', 'regulares', 'reh', 'reinicia', 'reiniciar', 'reinicio', 'reinstalar', 'remapear', 'remmapping', 'remota', 'remotamente', 'remoto', 'remove', 'removible', 'remplazo', 'rendimiento', 'renombrar', 'reparar', 'repl', 'replicación', 'replicaset', 'repomd.xml', 'repositorio', 'repositorios', 'repository', 'request', 'requests', 'reseller', 'reset', 'resolucion', 'resolución', 'resolver', 'respaldo', 'responde', 'respuesta', 'restar', 'restaurar', 'restringir', 'resultado', 'resultados', 'retornar', 'retrieve', 'reverse', 'reviso', 'revés', 'rhel', 'rm', 'romper', 'root', 'router', 'rpm', 'rsh', 'rsync', 'ruby', 'rundeck', 'running', 'ruta', 'rutas', 'rutinas', 's', 's.gpg-agent.browser', 's.o', 'saber', 'sale', 'salida', 'salir', 'salta', 'salto', 'saltos', 'samba', 'sass', 'scan', 'scatter', 'scheme', 'scientific', 'scope', 'screen', 'script', 'scripting', 'scripts', 'sd', 'sector', 'secuencia', 'secure', 'secure-file-priv', 'sed', 'segmentation', 'segmento', 'seguimiento', 'segundo', 'segura', 'seguridad', 'seguro', 'según', 'selected', 'semaforos', 'semana', 'semáforos', 'sendmail', 'sentencias', 'separandolas', 'separar', 'ser', 'serena', 'serial', 'serialport', 'serie', 'server', 'service', 'servicio', 'servicios', 'servidor', 'servidores', 'sesiones', 'sesión', 'setea', 'settings', 'sevidor', 'sftp', 'sh', 'shadow', 'shared', 'shell', 'shell_exec', 'shortstring', 'si', 'sido', 'siempre', 'significa', 'significado', 'signo', 'sigo', 'sigue', 'siguiente', 'siguientes', 'simbolo', 'simbólico', 'simple', 'simples', 'simular', 'sintaxis', 'sirve', 'sistema', 'sistemas', 'site', 'sitio', 'sitios', 'sitioweb', 'size', 'skipped', 'slackware', 'smtp', 'snmp', 'snmp_exporter', 'so', 'socket', 'socksh', 'software', 'solamente', 'solaris', 'solicita', 'solicitando', 'solicitud', 'solo', 'solucionan', 'solucionar', 'soluciono', 'solus', 'sonido', 'soporte', 'sort', 'source', 'spark', 'spawn', 'specified', 'spell', 'split', 'spotify', 'sql', 'sqlite', 'sqlplus', 'squirrelmail', 'sr', 'ssd', 'ssh', 'ssl', 'sslh', 'ssmtp', 'start', 'status', 'std', 'stderr', 'stdout', 'storage', 'string', 'struct', 'studio', 'sub', 'sub-directorios', 'subcarpeta', 'subcarpetas', 'subdirectorio', 'subdominio', 'subir', 'sublime', 'sublimetext', 'subred', 'subsistema', 'sucede', 'such', 'sudo', 'suena', 'suite', 'suma', 'sumar', 'super', 'superior', 'supervisor', 'supported', 'suse', 'suspende', 'sustituir', 'swap', 'swt-pi-gtk-', 'symfony', 'syncing', 'syntax', 'sysinfyx.db', 'syslog', 'syslog.conf', 'system', 'systemctl', 'símbolo', 'sólo', 'tabla', 'tablas', 'tabuladores', 'tags', 'tail', 'tamaño', 'tar', 'tar.gz', 'tarea', 'tareas', 'tarjeta', 'task', 'tcp', 'tecla', 'teclado', 'teclas', 'telnet', 'temporarales', 'tener', 'tercer', 'termina', 'terminal', 'terminal/', 'terminar', 'terminator', 'terminen', 'terramaster', 'tesseract', 'test', 'test.c', 'testigos', 'text', 'texto', 'tf', 'the', 'this', 'thread', 'through', 'tiempo', 'tieneen', 'timed', 'timedatectl', 'timeout', 'tipo', 'tipografñia', 'tipos', 'tira', 'tl-wnn', 'to', 'todas', 'token', 'tokio', 'too', 'toque', 'tor', 'totales', 'tower', 'tp', 'tp-link', 'trabajar', 'trabajo', 'traefik', 'trafico', 'tras', 'tratar', 'traves', 'travez', 'través', 'tres', 'triangulo', 'trisquel', 'try', 'tty', 'tunel', 'tunnel', 'txt', 'título', 'u', 'ubicación', 'ubuntu', 'ubuntu/debian', 'ubuntu/linux', 'udev', 'udp', 'uid', 'uilizando', 'uinput', 'ulimit', 'ultima', 'ultimo', 'unable', 'unavalable', 'uncaught', 'undefined', 'unexpected', 'unificar', 'uninstalling', 'uniq', 'unir', 'unix', 'unlink', 'unsatisfiedlinkerror', 'unspecified', 'up', 'update', 'upgrade', 'url', 'usa', 'usan', 'usando', 'usar', 'usarlo', 'usb', 'user', 'using', 'uso', 'usuario', 'usuarios', 'utilizan', 'utilizando', 'utilizar', 'utilzando', 'v', 'vacia', 'vacío', 'vacíos', 'vagrant', 'vala', 'valgrind', 'validar', 'valor', 'valores', 'variable', 'variables', 'variably', 'varias', 'varios', 'vea', 'veces', 'vector', 'vega', 'ventana', 'venv', 'ver', 'verificación', 'verificar', 'verify', 'verla', 'version', 'versiones', 'versus', 'vez', 'vfs', 'vi', 'via', 'vim', 'violacion', 'violación', 'virt-manager', 'virtual', 'virtualbox', 'virtualenv', 'virtualhost', 'virtualizacion', 'visible', 'visual', 'visualiza', 'visualizado', 'visualizar', 'visualizarlo', 'vm', 'vmware', 'vnc', 'volcado', 'volumen', 'volver', 'volverlo', 'voz', 'vpn', 'vps', 'vs', 'vscode', 'vsftpd', 'vuelva', 'vía', 'vídeo', 'waiting', 'warning', 'wav', 'wc', 'web', 'webserviceclient', 'websocket', 'wget', 'when', 'while', 'whm', 'why', 'wifi', 'wifislax', 'wifit', 'wikidata', 'will', 'window', 'windows', 'wine', 'wireless', 'with', 'word', 'wordpress', 'work', 'workrave', 'world', 'ws', 'wxmaxima', 'x', 'x-', 'xamarin', 'xampp', 'xdg-utils', 'xe', 'xfc-terminal', 'xlsx', 'xp', 'xrdp', 'xubuntu', 'yes', 'yii', 'your', 'yum', 'zabbix', 'zip', 'ziparchive', 'zombie', 'zoom', 'zte', '«', '´', 'º', '»', '¿acceso', '¿alguna', '¿ayuda', '¿comando', '¿como', '¿conectar', '¿configurar', '¿convertir', '¿cual', '¿cuál', '¿cuáles', '¿cómo', '¿de', '¿declaración', '¿donde', '¿dónde', '¿eclipse', '¿eliminar', '¿error', '¿es', '¿escuchar', '¿existe', '¿hay', '¿los', '¿para', '¿por', '¿porque', '¿porqué', '¿problema', '¿puede', '¿puedo', '¿que', '¿qué', '¿recorrer', '¿saben', '¿se', '¿son', '¿un', 'árbol', 'éste', 'ñ', 'última', 'último', 'único', '‘', '’', '“', '”']\n",
            "(1084, 2153)\n",
            "[[0 0 0 ... 0 0 0]\n",
            " [0 0 0 ... 0 0 0]\n",
            " [0 0 0 ... 0 0 0]\n",
            " ...\n",
            " [0 0 0 ... 0 0 0]\n",
            " [0 0 0 ... 0 0 0]\n",
            " [0 0 0 ... 0 0 0]]\n"
          ],
          "name": "stdout"
        }
      ]
    },
    {
      "cell_type": "code",
      "metadata": {
        "id": "FnfbWhK8Su-B",
        "colab_type": "code",
        "colab": {
          "base_uri": "https://localhost:8080/",
          "height": 102
        },
        "outputId": "c066d45b-4390-49db-d2a8-ceb0147733b9"
      },
      "source": [
        "sparse_matrix = vectorizer.fit_transform(test)\n",
        "print(sparse_matrix[0:1])"
      ],
      "execution_count": 400,
      "outputs": [
        {
          "output_type": "stream",
          "text": [
            "  (0, 527)\t1\n",
            "  (0, 504)\t1\n",
            "  (0, 635)\t1\n",
            "  (0, 1958)\t1\n",
            "  (0, 639)\t1\n"
          ],
          "name": "stdout"
        }
      ]
    },
    {
      "cell_type": "code",
      "metadata": {
        "id": "nk6pPa1ESsIL",
        "colab_type": "code",
        "colab": {
          "base_uri": "https://localhost:8080/",
          "height": 136
        },
        "outputId": "c36a3373-508d-4df6-b572-0b12b2a020ff"
      },
      "source": [
        "doc_term_matrix = sparse_matrix.todense()\n",
        "doc_term_matrix"
      ],
      "execution_count": 401,
      "outputs": [
        {
          "output_type": "execute_result",
          "data": {
            "text/plain": [
              "matrix([[0, 0, 0, ..., 0, 0, 0],\n",
              "        [0, 0, 0, ..., 0, 0, 0],\n",
              "        [0, 0, 0, ..., 0, 0, 0],\n",
              "        ...,\n",
              "        [0, 0, 0, ..., 0, 0, 0],\n",
              "        [0, 0, 0, ..., 0, 0, 0],\n",
              "        [0, 0, 0, ..., 0, 0, 0]])"
            ]
          },
          "metadata": {
            "tags": []
          },
          "execution_count": 401
        }
      ]
    },
    {
      "cell_type": "code",
      "metadata": {
        "id": "qsak3W_TdoNo",
        "colab_type": "code",
        "colab": {}
      },
      "source": [
        "\n",
        "X = vectorizer.fit_transform(corpus)"
      ],
      "execution_count": null,
      "outputs": []
    },
    {
      "cell_type": "code",
      "metadata": {
        "id": "fUGPn3PLSoNG",
        "colab_type": "code",
        "colab": {
          "base_uri": "https://localhost:8080/",
          "height": 136
        },
        "outputId": "ca26daed-7726-4633-8c7b-07cc9dbbf4e3"
      },
      "source": [
        "from sklearn.metrics.pairwise import cosine_similarity\n",
        "print(cosine_similarity(sparse_matrix, sparse_matrix))"
      ],
      "execution_count": 402,
      "outputs": [
        {
          "output_type": "stream",
          "text": [
            "[[1.         0.         0.         ... 0.         0.         0.        ]\n",
            " [0.         1.         0.         ... 0.         0.         0.        ]\n",
            " [0.         0.         1.         ... 0.         0.18898224 0.        ]\n",
            " ...\n",
            " [0.         0.         0.         ... 1.         0.         0.        ]\n",
            " [0.         0.         0.18898224 ... 0.         1.         0.        ]\n",
            " [0.         0.         0.         ... 0.         0.         1.        ]]\n"
          ],
          "name": "stdout"
        }
      ]
    },
    {
      "cell_type": "code",
      "metadata": {
        "id": "6aTAxROkU10V",
        "colab_type": "code",
        "colab": {
          "base_uri": "https://localhost:8080/",
          "height": 34
        },
        "outputId": "10841f53-525e-41fe-8be2-c3e612978a6e"
      },
      "source": [
        "from sklearn.metrics.pairwise import linear_kernel\n",
        "cosine_similarities = linear_kernel(doc_term_matrix[232], doc_term_matrix).flatten()\n",
        "print(cosine_similarities)"
      ],
      "execution_count": 407,
      "outputs": [
        {
          "output_type": "stream",
          "text": [
            "[0. 1. 0. ... 0. 0. 0.]\n"
          ],
          "name": "stdout"
        }
      ]
    },
    {
      "cell_type": "code",
      "metadata": {
        "id": "HCjdG0N_U9ir",
        "colab_type": "code",
        "colab": {
          "base_uri": "https://localhost:8080/",
          "height": 51
        },
        "outputId": "c0315a89-b063-43ef-bbe7-bde8b9cf8221"
      },
      "source": [
        "related_docs_indices = cosine_similarities.argsort()[:-6:-1]\n",
        "print(related_docs_indices)\n",
        "\n",
        "print(cosine_similarities[related_docs_indices])\n"
      ],
      "execution_count": 413,
      "outputs": [
        {
          "output_type": "stream",
          "text": [
            "[232 842  65 490 457]\n",
            "[7. 3. 2. 2. 2.]\n"
          ],
          "name": "stdout"
        }
      ]
    },
    {
      "cell_type": "code",
      "metadata": {
        "id": "sDBrUx88VR2C",
        "colab_type": "code",
        "colab": {
          "base_uri": "https://localhost:8080/",
          "height": 102
        },
        "outputId": "fa23d4d7-8ce3-4cd7-a19b-4f6f7ea80609"
      },
      "source": [
        "print(test[232])\n",
        "print(test[842])\n",
        "print(test[65])\n",
        "print(test[490])\n",
        "print(test[457])"
      ],
      "execution_count": 414,
      "outputs": [
        {
          "output_type": "stream",
          "text": [
            "Error al automatizar la instalación de Postgresql 9.4 en sistema embebido con Debian\n",
            "Tengo un error constante en Debian cuando quiero actualizar mi sistema\n",
            "¿Por qué me da el error \"syntax error: unexpected end of file\"?\n",
            "¿Ayuda me da este error al hacer en consulta en Mysql Uncaught Error: Call to undefined function mysql_error()?\n",
            "Error al instalar php-db en Debian 10 Buster\n"
          ],
          "name": "stdout"
        }
      ]
    },
    {
      "cell_type": "markdown",
      "metadata": {
        "id": "uy9y08kqIj7O",
        "colab_type": "text"
      },
      "source": [
        "TEST - SOFT COSINE"
      ]
    }
  ]
}