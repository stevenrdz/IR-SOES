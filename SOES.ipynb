{
  "nbformat": 4,
  "nbformat_minor": 0,
  "metadata": {
    "colab": {
      "name": "SOES.ipynb",
      "provenance": [],
      "collapsed_sections": [
        "m9QtwYuuIS6N",
        "FcljReVfIZ8H",
        "Rvp8LvmALVwC"
      ],
      "toc_visible": true,
      "authorship_tag": "ABX9TyPffkJGbKiPxdHef9bPSFmC",
      "include_colab_link": true
    },
    "kernelspec": {
      "name": "python3",
      "display_name": "Python 3"
    }
  },
  "cells": [
    {
      "cell_type": "markdown",
      "metadata": {
        "id": "view-in-github",
        "colab_type": "text"
      },
      "source": [
        "<a href=\"https://colab.research.google.com/github/stevenrdz/IR-SOES/blob/master/SOES.ipynb\" target=\"_parent\"><img src=\"https://colab.research.google.com/assets/colab-badge.svg\" alt=\"Open In Colab\"/></a>"
      ]
    },
    {
      "cell_type": "code",
      "metadata": {
        "id": "rDlWxMaH6Tzd",
        "colab_type": "code",
        "colab": {
          "base_uri": "https://localhost:8080/",
          "height": 768
        },
        "outputId": "96ef4b3f-fc3e-44b5-a2ee-0e7e9a7e96f5"
      },
      "source": [
        "!pip install spacy\n",
        "!python -m spacy download es_core_news_md"
      ],
      "execution_count": 1,
      "outputs": [
        {
          "output_type": "stream",
          "text": [
            "Requirement already satisfied: spacy in /usr/local/lib/python3.6/dist-packages (2.2.4)\n",
            "Requirement already satisfied: preshed<3.1.0,>=3.0.2 in /usr/local/lib/python3.6/dist-packages (from spacy) (3.0.2)\n",
            "Requirement already satisfied: tqdm<5.0.0,>=4.38.0 in /usr/local/lib/python3.6/dist-packages (from spacy) (4.41.1)\n",
            "Requirement already satisfied: requests<3.0.0,>=2.13.0 in /usr/local/lib/python3.6/dist-packages (from spacy) (2.23.0)\n",
            "Requirement already satisfied: srsly<1.1.0,>=1.0.2 in /usr/local/lib/python3.6/dist-packages (from spacy) (1.0.2)\n",
            "Requirement already satisfied: blis<0.5.0,>=0.4.0 in /usr/local/lib/python3.6/dist-packages (from spacy) (0.4.1)\n",
            "Requirement already satisfied: setuptools in /usr/local/lib/python3.6/dist-packages (from spacy) (49.1.0)\n",
            "Requirement already satisfied: numpy>=1.15.0 in /usr/local/lib/python3.6/dist-packages (from spacy) (1.18.5)\n",
            "Requirement already satisfied: thinc==7.4.0 in /usr/local/lib/python3.6/dist-packages (from spacy) (7.4.0)\n",
            "Requirement already satisfied: murmurhash<1.1.0,>=0.28.0 in /usr/local/lib/python3.6/dist-packages (from spacy) (1.0.2)\n",
            "Requirement already satisfied: wasabi<1.1.0,>=0.4.0 in /usr/local/lib/python3.6/dist-packages (from spacy) (0.7.1)\n",
            "Requirement already satisfied: plac<1.2.0,>=0.9.6 in /usr/local/lib/python3.6/dist-packages (from spacy) (1.1.3)\n",
            "Requirement already satisfied: catalogue<1.1.0,>=0.0.7 in /usr/local/lib/python3.6/dist-packages (from spacy) (1.0.0)\n",
            "Requirement already satisfied: cymem<2.1.0,>=2.0.2 in /usr/local/lib/python3.6/dist-packages (from spacy) (2.0.3)\n",
            "Requirement already satisfied: chardet<4,>=3.0.2 in /usr/local/lib/python3.6/dist-packages (from requests<3.0.0,>=2.13.0->spacy) (3.0.4)\n",
            "Requirement already satisfied: idna<3,>=2.5 in /usr/local/lib/python3.6/dist-packages (from requests<3.0.0,>=2.13.0->spacy) (2.10)\n",
            "Requirement already satisfied: urllib3!=1.25.0,!=1.25.1,<1.26,>=1.21.1 in /usr/local/lib/python3.6/dist-packages (from requests<3.0.0,>=2.13.0->spacy) (1.24.3)\n",
            "Requirement already satisfied: certifi>=2017.4.17 in /usr/local/lib/python3.6/dist-packages (from requests<3.0.0,>=2.13.0->spacy) (2020.6.20)\n",
            "Requirement already satisfied: importlib-metadata>=0.20; python_version < \"3.8\" in /usr/local/lib/python3.6/dist-packages (from catalogue<1.1.0,>=0.0.7->spacy) (1.7.0)\n",
            "Requirement already satisfied: zipp>=0.5 in /usr/local/lib/python3.6/dist-packages (from importlib-metadata>=0.20; python_version < \"3.8\"->catalogue<1.1.0,>=0.0.7->spacy) (3.1.0)\n",
            "Requirement already satisfied: es_core_news_md==2.2.5 from https://github.com/explosion/spacy-models/releases/download/es_core_news_md-2.2.5/es_core_news_md-2.2.5.tar.gz#egg=es_core_news_md==2.2.5 in /usr/local/lib/python3.6/dist-packages (2.2.5)\n",
            "Requirement already satisfied: spacy>=2.2.2 in /usr/local/lib/python3.6/dist-packages (from es_core_news_md==2.2.5) (2.2.4)\n",
            "Requirement already satisfied: murmurhash<1.1.0,>=0.28.0 in /usr/local/lib/python3.6/dist-packages (from spacy>=2.2.2->es_core_news_md==2.2.5) (1.0.2)\n",
            "Requirement already satisfied: tqdm<5.0.0,>=4.38.0 in /usr/local/lib/python3.6/dist-packages (from spacy>=2.2.2->es_core_news_md==2.2.5) (4.41.1)\n",
            "Requirement already satisfied: requests<3.0.0,>=2.13.0 in /usr/local/lib/python3.6/dist-packages (from spacy>=2.2.2->es_core_news_md==2.2.5) (2.23.0)\n",
            "Requirement already satisfied: thinc==7.4.0 in /usr/local/lib/python3.6/dist-packages (from spacy>=2.2.2->es_core_news_md==2.2.5) (7.4.0)\n",
            "Requirement already satisfied: catalogue<1.1.0,>=0.0.7 in /usr/local/lib/python3.6/dist-packages (from spacy>=2.2.2->es_core_news_md==2.2.5) (1.0.0)\n",
            "Requirement already satisfied: plac<1.2.0,>=0.9.6 in /usr/local/lib/python3.6/dist-packages (from spacy>=2.2.2->es_core_news_md==2.2.5) (1.1.3)\n",
            "Requirement already satisfied: numpy>=1.15.0 in /usr/local/lib/python3.6/dist-packages (from spacy>=2.2.2->es_core_news_md==2.2.5) (1.18.5)\n",
            "Requirement already satisfied: cymem<2.1.0,>=2.0.2 in /usr/local/lib/python3.6/dist-packages (from spacy>=2.2.2->es_core_news_md==2.2.5) (2.0.3)\n",
            "Requirement already satisfied: srsly<1.1.0,>=1.0.2 in /usr/local/lib/python3.6/dist-packages (from spacy>=2.2.2->es_core_news_md==2.2.5) (1.0.2)\n",
            "Requirement already satisfied: setuptools in /usr/local/lib/python3.6/dist-packages (from spacy>=2.2.2->es_core_news_md==2.2.5) (49.1.0)\n",
            "Requirement already satisfied: preshed<3.1.0,>=3.0.2 in /usr/local/lib/python3.6/dist-packages (from spacy>=2.2.2->es_core_news_md==2.2.5) (3.0.2)\n",
            "Requirement already satisfied: wasabi<1.1.0,>=0.4.0 in /usr/local/lib/python3.6/dist-packages (from spacy>=2.2.2->es_core_news_md==2.2.5) (0.7.1)\n",
            "Requirement already satisfied: blis<0.5.0,>=0.4.0 in /usr/local/lib/python3.6/dist-packages (from spacy>=2.2.2->es_core_news_md==2.2.5) (0.4.1)\n",
            "Requirement already satisfied: urllib3!=1.25.0,!=1.25.1,<1.26,>=1.21.1 in /usr/local/lib/python3.6/dist-packages (from requests<3.0.0,>=2.13.0->spacy>=2.2.2->es_core_news_md==2.2.5) (1.24.3)\n",
            "Requirement already satisfied: idna<3,>=2.5 in /usr/local/lib/python3.6/dist-packages (from requests<3.0.0,>=2.13.0->spacy>=2.2.2->es_core_news_md==2.2.5) (2.10)\n",
            "Requirement already satisfied: chardet<4,>=3.0.2 in /usr/local/lib/python3.6/dist-packages (from requests<3.0.0,>=2.13.0->spacy>=2.2.2->es_core_news_md==2.2.5) (3.0.4)\n",
            "Requirement already satisfied: certifi>=2017.4.17 in /usr/local/lib/python3.6/dist-packages (from requests<3.0.0,>=2.13.0->spacy>=2.2.2->es_core_news_md==2.2.5) (2020.6.20)\n",
            "Requirement already satisfied: importlib-metadata>=0.20; python_version < \"3.8\" in /usr/local/lib/python3.6/dist-packages (from catalogue<1.1.0,>=0.0.7->spacy>=2.2.2->es_core_news_md==2.2.5) (1.7.0)\n",
            "Requirement already satisfied: zipp>=0.5 in /usr/local/lib/python3.6/dist-packages (from importlib-metadata>=0.20; python_version < \"3.8\"->catalogue<1.1.0,>=0.0.7->spacy>=2.2.2->es_core_news_md==2.2.5) (3.1.0)\n",
            "\u001b[38;5;2m✔ Download and installation successful\u001b[0m\n",
            "You can now load the model via spacy.load('es_core_news_md')\n"
          ],
          "name": "stdout"
        }
      ]
    },
    {
      "cell_type": "code",
      "metadata": {
        "id": "62EgQaiixIPV",
        "colab_type": "code",
        "colab": {
          "base_uri": "https://localhost:8080/",
          "height": 102
        },
        "outputId": "774ec623-ea26-4a42-e559-4d15b4ccba32"
      },
      "source": [
        "import nltk\n",
        "nltk.download('stopwords')\n",
        "nltk.download('punkt')"
      ],
      "execution_count": 2,
      "outputs": [
        {
          "output_type": "stream",
          "text": [
            "[nltk_data] Downloading package stopwords to /root/nltk_data...\n",
            "[nltk_data]   Package stopwords is already up-to-date!\n",
            "[nltk_data] Downloading package punkt to /root/nltk_data...\n",
            "[nltk_data]   Package punkt is already up-to-date!\n"
          ],
          "name": "stdout"
        },
        {
          "output_type": "execute_result",
          "data": {
            "text/plain": [
              "True"
            ]
          },
          "metadata": {
            "tags": []
          },
          "execution_count": 2
        }
      ]
    },
    {
      "cell_type": "code",
      "metadata": {
        "id": "dW074_De73it",
        "colab_type": "code",
        "colab": {
          "base_uri": "https://localhost:8080/",
          "height": 34
        },
        "outputId": "727bb10b-70b0-4132-ea4c-c321bff5ae82"
      },
      "source": [
        "from google.colab import files\n",
        "from google.colab import drive\n",
        "drive.mount('/content/gdrive')"
      ],
      "execution_count": 3,
      "outputs": [
        {
          "output_type": "stream",
          "text": [
            "Drive already mounted at /content/gdrive; to attempt to forcibly remount, call drive.mount(\"/content/gdrive\", force_remount=True).\n"
          ],
          "name": "stdout"
        }
      ]
    },
    {
      "cell_type": "code",
      "metadata": {
        "id": "p3fAyvwXiXuy",
        "colab_type": "code",
        "colab": {
          "base_uri": "https://localhost:8080/",
          "height": 34
        },
        "outputId": "57adb719-ff27-474d-acb8-a936de7ef10c"
      },
      "source": [
        "from time import time\n",
        "start_nb = time()\n",
        "\n",
        "start = time()\n",
        "import pandas as pd\n",
        "from nltk import SnowballStemmer\n",
        "from nltk.corpus import stopwords\n",
        "import re\n",
        "from nltk import word_tokenize\n",
        "\n",
        "import es_core_news_md\n",
        "nlp = es_core_news_md.load()\n",
        "\n",
        "es_stops = set(stopwords.words('spanish'))\n",
        "Snowball_stemmer = SnowballStemmer('spanish')\n",
        "\n",
        "print('Importación de Librerias. %.2f segundos' % (time() - start))"
      ],
      "execution_count": 4,
      "outputs": [
        {
          "output_type": "stream",
          "text": [
            "Importación de Librerias. 18.09 segundos\n"
          ],
          "name": "stdout"
        }
      ]
    },
    {
      "cell_type": "markdown",
      "metadata": {
        "id": "tOXCGO4uI8C2",
        "colab_type": "text"
      },
      "source": [
        "# PRE-PROCESSED"
      ]
    },
    {
      "cell_type": "markdown",
      "metadata": {
        "id": "W_LratP0JLZE",
        "colab_type": "text"
      },
      "source": [
        "### DATASET"
      ]
    },
    {
      "cell_type": "code",
      "metadata": {
        "id": "Y5ZKX68J4iG4",
        "colab_type": "code",
        "colab": {
          "base_uri": "https://localhost:8080/",
          "height": 221
        },
        "outputId": "6867a87e-2a78-473f-ad83-6c1a157a011b"
      },
      "source": [
        "start = time()\n",
        "dataset = pd.read_csv('//content/gdrive/My Drive/df.csv',\n",
        "                      sep=';', encoding='utf-8-sig')\n",
        "dataset_size = len(dataset)\n",
        "\n",
        "\n",
        "print('Dataset generado. %.2f segundos' % (time() - start))\n",
        "dataset.head()"
      ],
      "execution_count": 5,
      "outputs": [
        {
          "output_type": "stream",
          "text": [
            "Dataset generado. 0.04 segundos\n"
          ],
          "name": "stdout"
        },
        {
          "output_type": "execute_result",
          "data": {
            "text/html": [
              "<div>\n",
              "<style scoped>\n",
              "    .dataframe tbody tr th:only-of-type {\n",
              "        vertical-align: middle;\n",
              "    }\n",
              "\n",
              "    .dataframe tbody tr th {\n",
              "        vertical-align: top;\n",
              "    }\n",
              "\n",
              "    .dataframe thead th {\n",
              "        text-align: right;\n",
              "    }\n",
              "</style>\n",
              "<table border=\"1\" class=\"dataframe\">\n",
              "  <thead>\n",
              "    <tr style=\"text-align: right;\">\n",
              "      <th></th>\n",
              "      <th>Id</th>\n",
              "      <th>Title</th>\n",
              "      <th>Body</th>\n",
              "    </tr>\n",
              "  </thead>\n",
              "  <tbody>\n",
              "    <tr>\n",
              "      <th>0</th>\n",
              "      <td>286498</td>\n",
              "      <td>Debugear código Django utilizando Docker</td>\n",
              "      <td>&lt;p&gt;Les cuento.\\r\\nEstoy realizando un proyecto...</td>\n",
              "    </tr>\n",
              "    <tr>\n",
              "      <th>1</th>\n",
              "      <td>226916</td>\n",
              "      <td>En el file.conf muestra Error usando Superviso...</td>\n",
              "      <td>&lt;p&gt;Al configurar el file.conf&lt;br&gt;\\r\\nruta : su...</td>\n",
              "    </tr>\n",
              "    <tr>\n",
              "      <th>2</th>\n",
              "      <td>161561</td>\n",
              "      <td>Ejecutar navegador en pantalla completa al ini...</td>\n",
              "      <td>&lt;p&gt;Estoy realizando un &lt;em&gt;proyecto Domotico&lt;/...</td>\n",
              "    </tr>\n",
              "    <tr>\n",
              "      <th>3</th>\n",
              "      <td>230560</td>\n",
              "      <td>Pagina web en blanco</td>\n",
              "      <td>&lt;p&gt;Buen dia \\r\\nNo se por que mi pagina web sa...</td>\n",
              "    </tr>\n",
              "    <tr>\n",
              "      <th>4</th>\n",
              "      <td>309146</td>\n",
              "      <td>Obtengo el error I/Choreographer: Skipped 110 ...</td>\n",
              "      <td>&lt;p&gt;Estoy trabajando en android studio intentan...</td>\n",
              "    </tr>\n",
              "  </tbody>\n",
              "</table>\n",
              "</div>"
            ],
            "text/plain": [
              "       Id  ...                                               Body\n",
              "0  286498  ...  <p>Les cuento.\\r\\nEstoy realizando un proyecto...\n",
              "1  226916  ...  <p>Al configurar el file.conf<br>\\r\\nruta : su...\n",
              "2  161561  ...  <p>Estoy realizando un <em>proyecto Domotico</...\n",
              "3  230560  ...  <p>Buen dia \\r\\nNo se por que mi pagina web sa...\n",
              "4  309146  ...  <p>Estoy trabajando en android studio intentan...\n",
              "\n",
              "[5 rows x 3 columns]"
            ]
          },
          "metadata": {
            "tags": []
          },
          "execution_count": 5
        }
      ]
    },
    {
      "cell_type": "markdown",
      "metadata": {
        "id": "pekPnFXiJA0e",
        "colab_type": "text"
      },
      "source": [
        "### LEMATIZACIÓN"
      ]
    },
    {
      "cell_type": "code",
      "metadata": {
        "id": "2DSSL7vrgKs4",
        "colab_type": "code",
        "colab": {}
      },
      "source": [
        "def preprocess_lemma(doc):\n",
        "    separator = ' '\n",
        "    label = re.compile('<.*?>')\n",
        "    doc = re.sub(label, '', doc)\n",
        "    doc = doc.lower()  # Minuscula todo el texto.\n",
        "    doc = word_tokenize(doc)  # Dividir en palabras.\n",
        "    doc = [w for w in doc if not w in es_stops]  # Eliminar stopwords.\n",
        "    doc = [w for w in doc if w.isalpha()]  # Eliminar numbers and punctuation.\n",
        "    doc = separator.join(doc)\n",
        "    doc = nlp(doc)\n",
        "    doc = [w.lemma_ for w in doc]\n",
        "    return doc"
      ],
      "execution_count": 6,
      "outputs": []
    },
    {
      "cell_type": "code",
      "metadata": {
        "id": "n2wSzh6Y2aJ0",
        "colab_type": "code",
        "colab": {
          "base_uri": "https://localhost:8080/",
          "height": 436
        },
        "outputId": "20ee85e9-423d-4cf9-c534-e083207a84c0"
      },
      "source": [
        "start = time()\n",
        "dataset['Lemma_Title'] = dataset.apply(\n",
        "        lambda dataset: preprocess_lemma(dataset['Title']), axis=1)\n",
        "dataset['Lemma_Body'] = dataset.apply(\n",
        "        lambda dataset: preprocess_lemma(dataset['Body']), axis=1)\n",
        "print('Dataset generado. %.2f segundos' % (time() - start))\n",
        "dataset.iloc[:,[3,4]]"
      ],
      "execution_count": 7,
      "outputs": [
        {
          "output_type": "stream",
          "text": [
            "Dataset generado. 27.11 segundos\n"
          ],
          "name": "stdout"
        },
        {
          "output_type": "execute_result",
          "data": {
            "text/html": [
              "<div>\n",
              "<style scoped>\n",
              "    .dataframe tbody tr th:only-of-type {\n",
              "        vertical-align: middle;\n",
              "    }\n",
              "\n",
              "    .dataframe tbody tr th {\n",
              "        vertical-align: top;\n",
              "    }\n",
              "\n",
              "    .dataframe thead th {\n",
              "        text-align: right;\n",
              "    }\n",
              "</style>\n",
              "<table border=\"1\" class=\"dataframe\">\n",
              "  <thead>\n",
              "    <tr style=\"text-align: right;\">\n",
              "      <th></th>\n",
              "      <th>Lemma_Title</th>\n",
              "      <th>Lemma_Body</th>\n",
              "    </tr>\n",
              "  </thead>\n",
              "  <tbody>\n",
              "    <tr>\n",
              "      <th>0</th>\n",
              "      <td>[debugear, código, django, utilizar, docker]</td>\n",
              "      <td>[contar, realizar, proyectar, django, utilizar...</td>\n",
              "    </tr>\n",
              "    <tr>\n",
              "      <th>1</th>\n",
              "      <td>[mostrar, error, usar, supervisor, digital, oc...</td>\n",
              "      <td>[configurar, ruta, sudar, nano, program, factu...</td>\n",
              "    </tr>\n",
              "    <tr>\n",
              "      <th>2</th>\n",
              "      <td>[ejecutar, navegador, pantalla, completo, inic...</td>\n",
              "      <td>[realizar, proyectar, domotico, siguiente, com...</td>\n",
              "    </tr>\n",
              "    <tr>\n",
              "      <th>3</th>\n",
              "      <td>[paginar, web, blanco]</td>\n",
              "      <td>[bueno, dia, paginar, web, salir, blanco, algu...</td>\n",
              "    </tr>\n",
              "    <tr>\n",
              "      <th>4</th>\n",
              "      <td>[obtener, error, skipped, frames, the, applica...</td>\n",
              "      <td>[trabajar, android, studio, intentar, hacer, c...</td>\n",
              "    </tr>\n",
              "    <tr>\n",
              "      <th>...</th>\n",
              "      <td>...</td>\n",
              "      <td>...</td>\n",
              "    </tr>\n",
              "    <tr>\n",
              "      <th>1079</th>\n",
              "      <td>[conexion, remoto, sql, server, linux, mint]</td>\n",
              "      <td>[instalar, sql, server, linux, mint, basar, da...</td>\n",
              "    </tr>\n",
              "    <tr>\n",
              "      <th>1080</th>\n",
              "      <td>[crear, basar, dato, centos, funcionar]</td>\n",
              "      <td>[utilizar, centos, seguir, instrucción, sitiar...</td>\n",
              "    </tr>\n",
              "    <tr>\n",
              "      <th>1081</th>\n",
              "      <td>[hacer, respaldar, basar, dato, terminal]</td>\n",
              "      <td>[basar, dato, milisegundo, sql, server, expres...</td>\n",
              "    </tr>\n",
              "    <tr>\n",
              "      <th>1082</th>\n",
              "      <td>[aplicación, windows, linux, wine]</td>\n",
              "      <td>[aplicación, desarrollar, utilizar, cámara, es...</td>\n",
              "    </tr>\n",
              "    <tr>\n",
              "      <th>1083</th>\n",
              "      <td>[wordpress, solicitar, servidor, usuario, ftp,...</td>\n",
              "      <td>[problema, poner, permiso, entrar, do, servido...</td>\n",
              "    </tr>\n",
              "  </tbody>\n",
              "</table>\n",
              "<p>1084 rows × 2 columns</p>\n",
              "</div>"
            ],
            "text/plain": [
              "                                            Lemma_Title                                         Lemma_Body\n",
              "0          [debugear, código, django, utilizar, docker]  [contar, realizar, proyectar, django, utilizar...\n",
              "1     [mostrar, error, usar, supervisor, digital, oc...  [configurar, ruta, sudar, nano, program, factu...\n",
              "2     [ejecutar, navegador, pantalla, completo, inic...  [realizar, proyectar, domotico, siguiente, com...\n",
              "3                                [paginar, web, blanco]  [bueno, dia, paginar, web, salir, blanco, algu...\n",
              "4     [obtener, error, skipped, frames, the, applica...  [trabajar, android, studio, intentar, hacer, c...\n",
              "...                                                 ...                                                ...\n",
              "1079       [conexion, remoto, sql, server, linux, mint]  [instalar, sql, server, linux, mint, basar, da...\n",
              "1080            [crear, basar, dato, centos, funcionar]  [utilizar, centos, seguir, instrucción, sitiar...\n",
              "1081          [hacer, respaldar, basar, dato, terminal]  [basar, dato, milisegundo, sql, server, expres...\n",
              "1082                 [aplicación, windows, linux, wine]  [aplicación, desarrollar, utilizar, cámara, es...\n",
              "1083  [wordpress, solicitar, servidor, usuario, ftp,...  [problema, poner, permiso, entrar, do, servido...\n",
              "\n",
              "[1084 rows x 2 columns]"
            ]
          },
          "metadata": {
            "tags": []
          },
          "execution_count": 7
        }
      ]
    },
    {
      "cell_type": "markdown",
      "metadata": {
        "id": "Ax27boXvJFGc",
        "colab_type": "text"
      },
      "source": [
        "### STEMMER"
      ]
    },
    {
      "cell_type": "code",
      "metadata": {
        "id": "aToiGtAB2T1_",
        "colab_type": "code",
        "colab": {}
      },
      "source": [
        "def preprocess_stem(doc):\n",
        "    label = re.compile('<.*?>')\n",
        "    doc = re.sub(label, '', doc)\n",
        "    doc = doc.lower()  # Minuscula todo el texto.\n",
        "    doc = word_tokenize(doc)  # Dividir en palabras.\n",
        "    doc = [w for w in doc if not w in es_stops]  # Eliminar stopwords.\n",
        "    doc = [w for w in doc if w.isalpha()]  # Eliminar numbers and punctuation.\n",
        "    doc = [Snowball_stemmer.stem(w) for w in doc]  # Extraer raices o stems (Stemming)\n",
        "    return doc"
      ],
      "execution_count": 8,
      "outputs": []
    },
    {
      "cell_type": "code",
      "metadata": {
        "id": "zOhDPy7SZ79W",
        "colab_type": "code",
        "colab": {
          "base_uri": "https://localhost:8080/",
          "height": 0
        },
        "outputId": "f763e0e9-895b-4219-863f-2ee05a9907cc"
      },
      "source": [
        "start = time()\n",
        "dataset['Stem_Title'] = dataset.apply(\n",
        "        lambda dataset: preprocess_stem(dataset['Title']), axis=1)\n",
        "dataset['Stem_Body'] = dataset.apply(\n",
        "        lambda dataset: preprocess_stem(dataset['Body']), axis=1)\n",
        "print('Preprocesado completo. %.2f segundos' % (time() - start))\n",
        "dataset.iloc[:,[5,6]]"
      ],
      "execution_count": 9,
      "outputs": [
        {
          "output_type": "stream",
          "text": [
            "Preprocesado completo. 3.40 segundos\n"
          ],
          "name": "stdout"
        },
        {
          "output_type": "execute_result",
          "data": {
            "text/html": [
              "<div>\n",
              "<style scoped>\n",
              "    .dataframe tbody tr th:only-of-type {\n",
              "        vertical-align: middle;\n",
              "    }\n",
              "\n",
              "    .dataframe tbody tr th {\n",
              "        vertical-align: top;\n",
              "    }\n",
              "\n",
              "    .dataframe thead th {\n",
              "        text-align: right;\n",
              "    }\n",
              "</style>\n",
              "<table border=\"1\" class=\"dataframe\">\n",
              "  <thead>\n",
              "    <tr style=\"text-align: right;\">\n",
              "      <th></th>\n",
              "      <th>Stem_Title</th>\n",
              "      <th>Stem_Body</th>\n",
              "    </tr>\n",
              "  </thead>\n",
              "  <tbody>\n",
              "    <tr>\n",
              "      <th>0</th>\n",
              "      <td>[debug, codig, djang, utiliz, dock]</td>\n",
              "      <td>[cuent, realiz, proyect, djang, utiliz, pychar...</td>\n",
              "    </tr>\n",
              "    <tr>\n",
              "      <th>1</th>\n",
              "      <td>[muestr, error, usand, supervisor, digital, oc...</td>\n",
              "      <td>[configur, rut, sud, nan, program, facturaempr...</td>\n",
              "    </tr>\n",
              "    <tr>\n",
              "      <th>2</th>\n",
              "      <td>[ejecut, naveg, pantall, complet, inici, linux]</td>\n",
              "      <td>[realiz, proyect, domot, siguient, component, ...</td>\n",
              "    </tr>\n",
              "    <tr>\n",
              "      <th>3</th>\n",
              "      <td>[pagin, web, blanc]</td>\n",
              "      <td>[buen, dia, pagin, web, sal, blanc, algui, pod...</td>\n",
              "    </tr>\n",
              "    <tr>\n",
              "      <th>4</th>\n",
              "      <td>[obteng, error, skipp, fram, the, application,...</td>\n",
              "      <td>[trabaj, andro, studi, intent, hac, conexion, ...</td>\n",
              "    </tr>\n",
              "    <tr>\n",
              "      <th>...</th>\n",
              "      <td>...</td>\n",
              "      <td>...</td>\n",
              "    </tr>\n",
              "    <tr>\n",
              "      <th>1079</th>\n",
              "      <td>[conexion, remot, sql, serv, linux, mint]</td>\n",
              "      <td>[instal, sql, serv, linux, mint, bas, dat, cre...</td>\n",
              "    </tr>\n",
              "    <tr>\n",
              "      <th>1080</th>\n",
              "      <td>[cre, bas, dat, cent, funcion]</td>\n",
              "      <td>[utiliz, cent, segu, instruccion, siti, micros...</td>\n",
              "    </tr>\n",
              "    <tr>\n",
              "      <th>1081</th>\n",
              "      <td>[hac, respald, bas, dat, terminal]</td>\n",
              "      <td>[bas, dat, ms, sql, serv, express, ubuntu, adm...</td>\n",
              "    </tr>\n",
              "    <tr>\n",
              "      <th>1082</th>\n",
              "      <td>[aplic, windows, linux, win]</td>\n",
              "      <td>[aplic, desarroll, utiliz, cam, escan, lector,...</td>\n",
              "    </tr>\n",
              "    <tr>\n",
              "      <th>1083</th>\n",
              "      <td>[wordpress, solicit, servidor, usuari, ftp, co...</td>\n",
              "      <td>[problem, puest, permis, entrar, dos, servidor...</td>\n",
              "    </tr>\n",
              "  </tbody>\n",
              "</table>\n",
              "<p>1084 rows × 2 columns</p>\n",
              "</div>"
            ],
            "text/plain": [
              "                                             Stem_Title                                          Stem_Body\n",
              "0                   [debug, codig, djang, utiliz, dock]  [cuent, realiz, proyect, djang, utiliz, pychar...\n",
              "1     [muestr, error, usand, supervisor, digital, oc...  [configur, rut, sud, nan, program, facturaempr...\n",
              "2       [ejecut, naveg, pantall, complet, inici, linux]  [realiz, proyect, domot, siguient, component, ...\n",
              "3                                   [pagin, web, blanc]  [buen, dia, pagin, web, sal, blanc, algui, pod...\n",
              "4     [obteng, error, skipp, fram, the, application,...  [trabaj, andro, studi, intent, hac, conexion, ...\n",
              "...                                                 ...                                                ...\n",
              "1079          [conexion, remot, sql, serv, linux, mint]  [instal, sql, serv, linux, mint, bas, dat, cre...\n",
              "1080                     [cre, bas, dat, cent, funcion]  [utiliz, cent, segu, instruccion, siti, micros...\n",
              "1081                 [hac, respald, bas, dat, terminal]  [bas, dat, ms, sql, serv, express, ubuntu, adm...\n",
              "1082                       [aplic, windows, linux, win]  [aplic, desarroll, utiliz, cam, escan, lector,...\n",
              "1083  [wordpress, solicit, servidor, usuari, ftp, co...  [problem, puest, permis, entrar, dos, servidor...\n",
              "\n",
              "[1084 rows x 2 columns]"
            ]
          },
          "metadata": {
            "tags": []
          },
          "execution_count": 9
        }
      ]
    },
    {
      "cell_type": "markdown",
      "metadata": {
        "id": "SWjnwjz2KkWy",
        "colab_type": "text"
      },
      "source": [
        "### PRE-PROCESADO (SOLO STOPWORD & SIGNOS DE PUNTUACIÓN)"
      ]
    },
    {
      "cell_type": "code",
      "metadata": {
        "id": "VSVVmiSbKwA5",
        "colab_type": "code",
        "colab": {}
      },
      "source": [
        "def preprocess(doc):\n",
        "    label = re.compile('<.*?>')\n",
        "    doc = re.sub(label, '', doc)\n",
        "    doc = doc.lower()  # Minuscula todo el texto.\n",
        "    doc = word_tokenize(doc)  # Dividir en palabras.\n",
        "    doc = [w for w in doc if not w in es_stops]  # Eliminar stopwords.\n",
        "    doc = [w for w in doc if w.isalpha()]  # Eliminar numbers and punctuation.\n",
        "    return doc"
      ],
      "execution_count": 10,
      "outputs": []
    },
    {
      "cell_type": "code",
      "metadata": {
        "id": "4PuDD6gdK1ga",
        "colab_type": "code",
        "colab": {
          "base_uri": "https://localhost:8080/",
          "height": 0
        },
        "outputId": "906f280e-aa87-4bd9-87aa-6a8d3c420038"
      },
      "source": [
        "start = time()\n",
        "dataset['Processed_Title'] = dataset.apply(\n",
        "        lambda dataset: preprocess(dataset['Title']), axis=1)\n",
        "dataset['Processed_Body'] = dataset.apply(\n",
        "        lambda dataset: preprocess(dataset['Body']), axis=1)\n",
        "print('Preprocesado completo. %.2f segundos' % (time() - start))\n",
        "dataset.iloc[:,[7,8]]"
      ],
      "execution_count": 11,
      "outputs": [
        {
          "output_type": "stream",
          "text": [
            "Preprocesado completo. 1.52 segundos\n"
          ],
          "name": "stdout"
        },
        {
          "output_type": "execute_result",
          "data": {
            "text/html": [
              "<div>\n",
              "<style scoped>\n",
              "    .dataframe tbody tr th:only-of-type {\n",
              "        vertical-align: middle;\n",
              "    }\n",
              "\n",
              "    .dataframe tbody tr th {\n",
              "        vertical-align: top;\n",
              "    }\n",
              "\n",
              "    .dataframe thead th {\n",
              "        text-align: right;\n",
              "    }\n",
              "</style>\n",
              "<table border=\"1\" class=\"dataframe\">\n",
              "  <thead>\n",
              "    <tr style=\"text-align: right;\">\n",
              "      <th></th>\n",
              "      <th>Processed_Title</th>\n",
              "      <th>Processed_Body</th>\n",
              "    </tr>\n",
              "  </thead>\n",
              "  <tbody>\n",
              "    <tr>\n",
              "      <th>0</th>\n",
              "      <td>[debugear, código, django, utilizando, docker]</td>\n",
              "      <td>[cuento, realizando, proyecto, django, utilizo...</td>\n",
              "    </tr>\n",
              "    <tr>\n",
              "      <th>1</th>\n",
              "      <td>[muestra, error, usando, supervisor, digital, ...</td>\n",
              "      <td>[configurar, ruta, sudo, nano, program, factur...</td>\n",
              "    </tr>\n",
              "    <tr>\n",
              "      <th>2</th>\n",
              "      <td>[ejecutar, navegador, pantalla, completa, inic...</td>\n",
              "      <td>[realizando, proyecto, domotico, siguientes, c...</td>\n",
              "    </tr>\n",
              "    <tr>\n",
              "      <th>3</th>\n",
              "      <td>[pagina, web, blanco]</td>\n",
              "      <td>[buen, dia, pagina, web, sale, blanco, alguien...</td>\n",
              "    </tr>\n",
              "    <tr>\n",
              "      <th>4</th>\n",
              "      <td>[obtengo, error, skipped, frames, the, applica...</td>\n",
              "      <td>[trabajando, android, studio, intentando, hace...</td>\n",
              "    </tr>\n",
              "    <tr>\n",
              "      <th>...</th>\n",
              "      <td>...</td>\n",
              "      <td>...</td>\n",
              "    </tr>\n",
              "    <tr>\n",
              "      <th>1079</th>\n",
              "      <td>[conexion, remota, sql, server, linux, mint]</td>\n",
              "      <td>[instalado, sql, server, linux, mint, base, da...</td>\n",
              "    </tr>\n",
              "    <tr>\n",
              "      <th>1080</th>\n",
              "      <td>[crear, base, datos, centos, funciona]</td>\n",
              "      <td>[utilizando, centos, seguí, instrucciones, sit...</td>\n",
              "    </tr>\n",
              "    <tr>\n",
              "      <th>1081</th>\n",
              "      <td>[hacer, respaldo, base, datos, terminal]</td>\n",
              "      <td>[base, datos, ms, sql, server, express, ubuntu...</td>\n",
              "    </tr>\n",
              "    <tr>\n",
              "      <th>1082</th>\n",
              "      <td>[aplicación, windows, linux, wine]</td>\n",
              "      <td>[aplicación, desarrollada, utiliza, cámara, es...</td>\n",
              "    </tr>\n",
              "    <tr>\n",
              "      <th>1083</th>\n",
              "      <td>[wordpress, solicita, servidor, usuario, ftp, ...</td>\n",
              "      <td>[problema, puesto, permisos, entrar, dos, serv...</td>\n",
              "    </tr>\n",
              "  </tbody>\n",
              "</table>\n",
              "<p>1084 rows × 2 columns</p>\n",
              "</div>"
            ],
            "text/plain": [
              "                                        Processed_Title                                     Processed_Body\n",
              "0        [debugear, código, django, utilizando, docker]  [cuento, realizando, proyecto, django, utilizo...\n",
              "1     [muestra, error, usando, supervisor, digital, ...  [configurar, ruta, sudo, nano, program, factur...\n",
              "2     [ejecutar, navegador, pantalla, completa, inic...  [realizando, proyecto, domotico, siguientes, c...\n",
              "3                                 [pagina, web, blanco]  [buen, dia, pagina, web, sale, blanco, alguien...\n",
              "4     [obtengo, error, skipped, frames, the, applica...  [trabajando, android, studio, intentando, hace...\n",
              "...                                                 ...                                                ...\n",
              "1079       [conexion, remota, sql, server, linux, mint]  [instalado, sql, server, linux, mint, base, da...\n",
              "1080             [crear, base, datos, centos, funciona]  [utilizando, centos, seguí, instrucciones, sit...\n",
              "1081           [hacer, respaldo, base, datos, terminal]  [base, datos, ms, sql, server, express, ubuntu...\n",
              "1082                 [aplicación, windows, linux, wine]  [aplicación, desarrollada, utiliza, cámara, es...\n",
              "1083  [wordpress, solicita, servidor, usuario, ftp, ...  [problema, puesto, permisos, entrar, dos, serv...\n",
              "\n",
              "[1084 rows x 2 columns]"
            ]
          },
          "metadata": {
            "tags": []
          },
          "execution_count": 11
        }
      ]
    },
    {
      "cell_type": "markdown",
      "metadata": {
        "id": "7UVYt9t4IJlf",
        "colab_type": "text"
      },
      "source": [
        "# WORD MOVER DISTANCE (WMD)"
      ]
    },
    {
      "cell_type": "code",
      "metadata": {
        "id": "osgvZycT8hUt",
        "colab_type": "code",
        "colab": {}
      },
      "source": [
        "from sklearn.model_selection import train_test_split "
      ],
      "execution_count": 12,
      "outputs": []
    },
    {
      "cell_type": "markdown",
      "metadata": {
        "id": "m9QtwYuuIS6N",
        "colab_type": "text"
      },
      "source": [
        "### WMD - LEMMA"
      ]
    },
    {
      "cell_type": "code",
      "metadata": {
        "id": "a3D68qO09BFZ",
        "colab_type": "code",
        "colab": {
          "base_uri": "https://localhost:8080/",
          "height": 0
        },
        "outputId": "1241fd6a-def6-4a76-ebb0-86f52af747c2"
      },
      "source": [
        "train_l, test_l = train_test_split(dataset['Lemma_Title'], test_size = 0.20, shuffle = False)\n",
        "\n",
        "print(\"(Lemma) Ejemplos usados para entrenar: \", len(train_l))\n",
        "print(\"(Lemma) Ejemplos usados para test: \", len(test_l))"
      ],
      "execution_count": 13,
      "outputs": [
        {
          "output_type": "stream",
          "text": [
            "(Lemma) Ejemplos usados para entrenar:  867\n",
            "(Lemma) Ejemplos usados para test:  217\n"
          ],
          "name": "stdout"
        }
      ]
    },
    {
      "cell_type": "code",
      "metadata": {
        "id": "x6BH--rXYKJT",
        "colab_type": "code",
        "colab": {
          "base_uri": "https://localhost:8080/",
          "height": 0
        },
        "outputId": "705c033d-3283-485e-d8ed-5ef486a88034"
      },
      "source": [
        "test_l"
      ],
      "execution_count": 14,
      "outputs": [
        {
          "output_type": "execute_result",
          "data": {
            "text/plain": [
              "867                 [backup, postgresql, error, password]\n",
              "868     [ejecutar, sentenciar, postgresql, líneo, coma...\n",
              "869                          [raspberry, pi, kali, linux]\n",
              "870     [existir, alguno, alternativo, raspberry, pi, ...\n",
              "871     [problema, instalar, drive, adaptador, usb, wi...\n",
              "                              ...                        \n",
              "1079         [conexion, remoto, sql, server, linux, mint]\n",
              "1080              [crear, basar, dato, centos, funcionar]\n",
              "1081            [hacer, respaldar, basar, dato, terminal]\n",
              "1082                   [aplicación, windows, linux, wine]\n",
              "1083    [wordpress, solicitar, servidor, usuario, ftp,...\n",
              "Name: Lemma_Title, Length: 217, dtype: object"
            ]
          },
          "metadata": {
            "tags": []
          },
          "execution_count": 14
        }
      ]
    },
    {
      "cell_type": "code",
      "metadata": {
        "id": "x5cZ-zwQ-UMn",
        "colab_type": "code",
        "colab": {}
      },
      "source": [
        "lemma_title = dataset['Lemma_Title'].to_list()\n",
        "\n",
        "title = dataset['Title'].to_list()"
      ],
      "execution_count": 15,
      "outputs": []
    },
    {
      "cell_type": "code",
      "metadata": {
        "id": "ohMTAZoM9M7Z",
        "colab_type": "code",
        "colab": {
          "base_uri": "https://localhost:8080/",
          "height": 0
        },
        "outputId": "6d961b33-5821-40e9-edb5-29e612be27aa"
      },
      "source": [
        "from gensim.models import Word2Vec\n",
        "\n",
        "model_l = Word2Vec(lemma_title, workers=3, size=100)\n",
        "\n",
        "# Inicialización de WmdSimilarity.\n",
        "from gensim.similarities import WmdSimilarity\n",
        "num_best = 10\n",
        "instancia_l = WmdSimilarity(test_l, model_l, num_best)\n",
        "print(instancia_l)"
      ],
      "execution_count": 16,
      "outputs": [
        {
          "output_type": "stream",
          "text": [
            "WmdSimilarity<217 docs, 100 features>\n"
          ],
          "name": "stdout"
        }
      ]
    },
    {
      "cell_type": "code",
      "metadata": {
        "id": "R8OjOpxK-tUI",
        "colab_type": "code",
        "colab": {
          "base_uri": "https://localhost:8080/",
          "height": 0
        },
        "outputId": "fa7980f8-ec61-4a8f-ea58-826bd9297809"
      },
      "source": [
        "start = time()\n",
        "\n",
        "msj_l = 'Error al automatizar la instalación de Postgresql 9.4 en sistema embebido con Debian'\n",
        "bus_l = preprocess_lemma(msj_l)\n",
        "\n",
        "sim_l = instancia_l[bus_l]\n",
        "print(len(sim_l))\n",
        "print ('Cell took %.2f seconds to run.' %(time() - start))"
      ],
      "execution_count": 17,
      "outputs": [
        {
          "output_type": "stream",
          "text": [
            "10\n",
            "Cell took 0.08 seconds to run.\n"
          ],
          "name": "stdout"
        }
      ]
    },
    {
      "cell_type": "code",
      "metadata": {
        "id": "lMsC_-di-7pO",
        "colab_type": "code",
        "colab": {
          "base_uri": "https://localhost:8080/",
          "height": 0
        },
        "outputId": "64cc401a-ca55-4852-ad39-be28359c962f"
      },
      "source": [
        "print ('Busqueda: ', msj_l)\n",
        "print(\"-------------------------------------------------------\")\n",
        "for i in range(num_best): # (num_best)\n",
        "    print (title[sim_l[i][0]],'---> sim = %.4f' % sim_l[i][1])"
      ],
      "execution_count": 18,
      "outputs": [
        {
          "output_type": "stream",
          "text": [
            "Busqueda:  Error al automatizar la instalación de Postgresql 9.4 en sistema embebido con Debian\n",
            "-------------------------------------------------------\n",
            "grep combinado con echo ---> sim = 0.5410\n",
            "Como ejecutar mas de un archivo que esta en un parámetro de jenkins ---> sim = 0.5379\n",
            "problemas con la configuracion de GitLab, netbeans y linux ---> sim = 0.5302\n",
            "¿Qué puerto TCP usa el programa ping? ---> sim = 0.5284\n",
            "¿Cómo mostrar en pantalla solo los archivos de noviembre y diciembre para luego hacerle un grep? ---> sim = 0.5274\n",
            "¿Como agregar varios puertos al mismo contenedor de Docker? ---> sim = 0.5259\n",
            "Problema con git en local ---> sim = 0.5248\n",
            "bash script mostrar información de procesos ---> sim = 0.5223\n",
            "Error al conectar dispositivo HDMI . No input driver specified, ignoring this device ---> sim = 0.5214\n",
            "¿Como verificar si una cadena ingresada se encuentra dentro de un rango numérico? ---> sim = 0.5212\n"
          ],
          "name": "stdout"
        }
      ]
    },
    {
      "cell_type": "markdown",
      "metadata": {
        "id": "FcljReVfIZ8H",
        "colab_type": "text"
      },
      "source": [
        "### WMD - STEMMER"
      ]
    },
    {
      "cell_type": "code",
      "metadata": {
        "id": "X9j9kdt6GvTt",
        "colab_type": "code",
        "colab": {
          "base_uri": "https://localhost:8080/",
          "height": 0
        },
        "outputId": "54591e25-f575-4775-8aae-23dc60fdebb3"
      },
      "source": [
        "train_s, test_s = train_test_split(dataset['Stem_Title'], test_size = 0.20, shuffle = False)\n",
        "\n",
        "print(\"(Stemm) Ejemplos usados para entrenar: \", len(train_s))\n",
        "print(\"(Stemm) Ejemplos usados para test: \", len(test_s))"
      ],
      "execution_count": 19,
      "outputs": [
        {
          "output_type": "stream",
          "text": [
            "(Stemm) Ejemplos usados para entrenar:  867\n",
            "(Stemm) Ejemplos usados para test:  217\n"
          ],
          "name": "stdout"
        }
      ]
    },
    {
      "cell_type": "code",
      "metadata": {
        "id": "qF-3bFkeG38q",
        "colab_type": "code",
        "colab": {}
      },
      "source": [
        "stemm_title = dataset['Stem_Title'].to_list()\n",
        "\n",
        "title = dataset['Title'].to_list()"
      ],
      "execution_count": 20,
      "outputs": []
    },
    {
      "cell_type": "code",
      "metadata": {
        "id": "-8qxO2axG6Wa",
        "colab_type": "code",
        "colab": {
          "base_uri": "https://localhost:8080/",
          "height": 0
        },
        "outputId": "d3fbfb14-e57d-479b-d31a-b2ff59effe1c"
      },
      "source": [
        "from gensim.models import Word2Vec\n",
        "# Train Word2Vec on all the restaurants.\n",
        "model_s = Word2Vec(stemm_title, workers=3, size=100)\n",
        "\n",
        "# Inicialización de WmdSimilarity.\n",
        "from gensim.similarities import WmdSimilarity\n",
        "num_best = 10\n",
        "instancia_s = WmdSimilarity(test_s, model_s, num_best)\n",
        "print(instancia_s)"
      ],
      "execution_count": 21,
      "outputs": [
        {
          "output_type": "stream",
          "text": [
            "WmdSimilarity<217 docs, 100 features>\n"
          ],
          "name": "stdout"
        }
      ]
    },
    {
      "cell_type": "code",
      "metadata": {
        "id": "sPU3lf3pHCQi",
        "colab_type": "code",
        "colab": {
          "base_uri": "https://localhost:8080/",
          "height": 0
        },
        "outputId": "b278bba9-0270-493a-a8bc-153a5fcc8bdf"
      },
      "source": [
        "start = time()\n",
        "\n",
        "msj_s = 'Error al automatizar la instalación de Postgresql 9.4 en sistema embebido con Debian'\n",
        "bus_s = preprocess_stem(msj_s)\n",
        "\n",
        "sim_s = instancia_s[bus_s] \n",
        "print(len(sim_s))\n",
        "print ('Cell took %.2f seconds to run.' %(time() - start))"
      ],
      "execution_count": 22,
      "outputs": [
        {
          "output_type": "stream",
          "text": [
            "10\n",
            "Cell took 0.09 seconds to run.\n"
          ],
          "name": "stdout"
        }
      ]
    },
    {
      "cell_type": "code",
      "metadata": {
        "id": "W_M0efoVHHfi",
        "colab_type": "code",
        "colab": {
          "base_uri": "https://localhost:8080/",
          "height": 0
        },
        "outputId": "129cda29-9ad0-4c29-8db1-b0d7dc81c48b"
      },
      "source": [
        "print ('Busqueda: ', msj_s)\n",
        "print(\"-------------------------------------------------------\")\n",
        "for i in range(num_best): # (num_best)\n",
        "    print (title[sim_s[i][0]],'---> sim = %.4f' % sim_s[i][1])"
      ],
      "execution_count": 23,
      "outputs": [
        {
          "output_type": "stream",
          "text": [
            "Busqueda:  Error al automatizar la instalación de Postgresql 9.4 en sistema embebido con Debian\n",
            "-------------------------------------------------------\n",
            "¿Cómo mostrar en pantalla solo los archivos de noviembre y diciembre para luego hacerle un grep? ---> sim = 0.6087\n",
            "¿como puedo solucionar esto kernel panic not syncing vfs unable en parrot? ---> sim = 0.6009\n",
            "Cambiar permisos de carpetas compartidas con docker-compose ---> sim = 0.6009\n",
            "Pantalla completa Kali Linux VirtualBox? ---> sim = 0.6005\n",
            "Problema server vsftpd linux ---> sim = 0.5987\n",
            "moodle apache centos 7 ---> sim = 0.5920\n",
            "¿Como hago para reinstalar libbz2.so.1.0? ---> sim = 0.5680\n",
            "problemas con la configuracion de GitLab, netbeans y linux ---> sim = 0.5473\n",
            "Obtengo el error I/Choreographer: Skipped 110 frames! The application may be doing too much work on its main thread ---> sim = 0.5430\n",
            "Problema con git en local ---> sim = 0.5376\n"
          ],
          "name": "stdout"
        }
      ]
    },
    {
      "cell_type": "markdown",
      "metadata": {
        "id": "Rvp8LvmALVwC",
        "colab_type": "text"
      },
      "source": [
        "### WMD - TEXT"
      ]
    },
    {
      "cell_type": "code",
      "metadata": {
        "colab_type": "code",
        "id": "ygCUxgG2t689",
        "colab": {}
      },
      "source": [
        "def preprocess(doc):\n",
        "    label = re.compile('<.*?>')\n",
        "    doc = re.sub(label, '', doc)\n",
        "    doc = doc.lower()  # Minuscula todo el texto.\n",
        "    doc = word_tokenize(doc)  # Dividir en palabras.\n",
        "    doc = [w for w in doc if not w in es_stops]  # Eliminar stopwords.\n",
        "    doc = [w for w in doc if w.isalpha()]  # Eliminar numbers and punctuation.\n",
        "    return doc"
      ],
      "execution_count": 24,
      "outputs": []
    },
    {
      "cell_type": "code",
      "metadata": {
        "id": "ZFizV6iWLYMb",
        "colab_type": "code",
        "colab": {
          "base_uri": "https://localhost:8080/",
          "height": 0
        },
        "outputId": "1664adc1-833d-4da6-a505-63b26590e723"
      },
      "source": [
        "train_p, test_p = train_test_split(dataset['Processed_Title'], test_size = 0.20, shuffle = False)\n",
        "\n",
        "print(\"Ejemplos usados para entrenar: \", len(train_p))\n",
        "print(\"Ejemplos usados para test: \", len(test_p))"
      ],
      "execution_count": 25,
      "outputs": [
        {
          "output_type": "stream",
          "text": [
            "Ejemplos usados para entrenar:  867\n",
            "Ejemplos usados para test:  217\n"
          ],
          "name": "stdout"
        }
      ]
    },
    {
      "cell_type": "code",
      "metadata": {
        "id": "pmK92B29SBOy",
        "colab_type": "code",
        "colab": {
          "base_uri": "https://localhost:8080/",
          "height": 0
        },
        "outputId": "3d8252ad-7fd4-419b-9794-65a1e0129fec"
      },
      "source": [
        "test_p"
      ],
      "execution_count": 26,
      "outputs": [
        {
          "output_type": "execute_result",
          "data": {
            "text/plain": [
              "867                 [backup, postgresql, error, password]\n",
              "868     [ejecutar, sentencias, postgresql, línea, coma...\n",
              "869                          [raspberry, pi, kali, linux]\n",
              "870     [existe, alguna, alternativa, raspberry, pi, c...\n",
              "871     [problema, instalar, drive, adaptador, usb, wi...\n",
              "                              ...                        \n",
              "1079         [conexion, remota, sql, server, linux, mint]\n",
              "1080               [crear, base, datos, centos, funciona]\n",
              "1081             [hacer, respaldo, base, datos, terminal]\n",
              "1082                   [aplicación, windows, linux, wine]\n",
              "1083    [wordpress, solicita, servidor, usuario, ftp, ...\n",
              "Name: Processed_Title, Length: 217, dtype: object"
            ]
          },
          "metadata": {
            "tags": []
          },
          "execution_count": 26
        }
      ]
    },
    {
      "cell_type": "code",
      "metadata": {
        "id": "Zs0J52WILgaX",
        "colab_type": "code",
        "colab": {}
      },
      "source": [
        "processed_title = dataset['Processed_Title'].to_list()\n",
        "\n",
        "title = dataset['Title'].to_list()"
      ],
      "execution_count": 27,
      "outputs": []
    },
    {
      "cell_type": "code",
      "metadata": {
        "id": "ma4NSAvxLh4v",
        "colab_type": "code",
        "colab": {
          "base_uri": "https://localhost:8080/",
          "height": 0
        },
        "outputId": "b45c1e67-c1c2-4a24-9719-18819846da05"
      },
      "source": [
        "from gensim.models import Word2Vec\n",
        "# Train Word2Vec on all the restaurants.\n",
        "model_p = Word2Vec(processed_title, workers=3, size=100)\n",
        "\n",
        "# Inicialización de WmdSimilarity.\n",
        "from gensim.similarities import WmdSimilarity\n",
        "num_best = 10\n",
        "instancia_p = WmdSimilarity(train_p, model_p, num_best=10)\n",
        "print(instancia_p)"
      ],
      "execution_count": 28,
      "outputs": [
        {
          "output_type": "stream",
          "text": [
            "WmdSimilarity<867 docs, 100 features>\n"
          ],
          "name": "stdout"
        }
      ]
    },
    {
      "cell_type": "markdown",
      "metadata": {
        "id": "1hst0-KUtRuH",
        "colab_type": "text"
      },
      "source": [
        "# WMD - RESULTADO"
      ]
    },
    {
      "cell_type": "code",
      "metadata": {
        "id": "YDnLKdfLLjaB",
        "colab_type": "code",
        "colab": {
          "base_uri": "https://localhost:8080/",
          "height": 51
        },
        "outputId": "2af58ccc-d307-489e-b04e-60c5d48cd574"
      },
      "source": [
        "start = time()\n",
        "\n",
        "msj_p = 'Configurar QT Creator para depuración remota'\n",
        "bus_p = preprocess(msj_p)\n",
        "\n",
        "sim_p = instancia_p[bus_p]\n",
        "print(len(sim_p))\n",
        "print ('Cell took %.2f seconds to run.' %(time() - start))"
      ],
      "execution_count": 76,
      "outputs": [
        {
          "output_type": "stream",
          "text": [
            "10\n",
            "Cell took 0.18 seconds to run.\n"
          ],
          "name": "stdout"
        }
      ]
    },
    {
      "cell_type": "code",
      "metadata": {
        "id": "YAblRguQLk5I",
        "colab_type": "code",
        "colab": {
          "base_uri": "https://localhost:8080/",
          "height": 221
        },
        "outputId": "1df7b502-09a1-4295-c1fe-209161766675"
      },
      "source": [
        "print ('Busqueda: ', msj_p)\n",
        "print(\"-------------------------------------------------------\")\n",
        "for i in range(num_best): # (num_best)\n",
        "    print (title[sim_p[i][0]],'---> sim = %.4f' % sim_p[i][1])"
      ],
      "execution_count": 77,
      "outputs": [
        {
          "output_type": "stream",
          "text": [
            "Busqueda:  Configurar QT Creator para depuración remota\n",
            "-------------------------------------------------------\n",
            "Configurar QT Creator para depuración remota ---> sim = 1.0000\n",
            "QT - Dibujar sobre QPainter o sobre QPixmap? ---> sim = 0.6252\n",
            "Como configurar Zabbix ---> sim = 0.6252\n",
            "¿Cómo configurar eclipse mosquitto en windows? ---> sim = 0.5817\n",
            "Crear archivos ejecutables multiplataforma con QT y Netbeans ---> sim = 0.5376\n",
            "Cómo configurar Qt para que ejecute leyendo los datos de un archivo txt ---> sim = 0.5302\n",
            "Apache y NGINX configurar subdominio ---> sim = 0.5257\n",
            "¿Como configurar bien netbeans y javafx? He intentado casi todo y sigo teniendo estos errores ---> sim = 0.5188\n",
            "¿Que falta por configurar? IP estática en Ubuntu 16.04 ---> sim = 0.5152\n",
            "configurar variables de memoria para Oracle 11 y 12 linux ---> sim = 0.4941\n"
          ],
          "name": "stdout"
        }
      ]
    },
    {
      "cell_type": "markdown",
      "metadata": {
        "id": "6jpkzXMVcKFo",
        "colab_type": "text"
      },
      "source": [
        "# VECTOR SPACE MODEL (VSM)"
      ]
    },
    {
      "cell_type": "code",
      "metadata": {
        "id": "ar_D7og8cS1L",
        "colab_type": "code",
        "colab": {}
      },
      "source": [
        "from collections import Counter\n",
        "import numpy as np\n",
        "import math\n",
        "\n",
        "p_title = dataset['Processed_Title'].to_list()\n",
        "\n",
        "N = len(dataset) # N = Cantidad de documentos\n",
        "alpha = 0.3\n",
        "DF = {}\n",
        "\n",
        "for i in range(N):\n",
        "  for w in p_title[i]:\n",
        "      try:\n",
        "        DF[w].add(i)\n",
        "      except:\n",
        "        DF[w] = {i}\n",
        "\n",
        "for i in DF:\n",
        "        DF[i] = len(DF[i])\n",
        "\n",
        "total_vocab_size = len(DF)\n",
        "total_vocab = [x for x in DF]"
      ],
      "execution_count": 79,
      "outputs": []
    },
    {
      "cell_type": "code",
      "metadata": {
        "id": "NDCOpBocud-C",
        "colab_type": "code",
        "colab": {}
      },
      "source": [
        "def doc_freq(DF, word):\n",
        "    c = 0\n",
        "    try:\n",
        "        c = DF[word]\n",
        "    except:\n",
        "        pass\n",
        "    return c"
      ],
      "execution_count": 80,
      "outputs": []
    },
    {
      "cell_type": "markdown",
      "metadata": {
        "id": "n5yQFJl70VlZ",
        "colab_type": "text"
      },
      "source": [
        "# VSM - RESULTADO"
      ]
    },
    {
      "cell_type": "code",
      "metadata": {
        "id": "I9xS2AlItrEp",
        "colab_type": "code",
        "colab": {
          "base_uri": "https://localhost:8080/",
          "height": 68
        },
        "outputId": "98595676-11e5-452f-b7e6-74edf42af2a3"
      },
      "source": [
        "    start = time()\n",
        "\n",
        "    doc = 0\n",
        "    tf_idf_title = {}\n",
        "\n",
        "    for i in range(N):\n",
        "        tokens = p_body[i]\n",
        "        counter = Counter(tokens + p_title[i])\n",
        "        words_count = len(tokens + p_title[i])\n",
        "        for token in np.unique(tokens):\n",
        "            tf = counter[token] / words_count\n",
        "            df = doc_freq(DF, token)\n",
        "            idf = np.log((N + 1) / (df + 1))\n",
        "            tf_idf_title[doc, token] = tf * idf\n",
        "        doc += 1\n",
        "\n",
        "    for i in tf_idf_title:\n",
        "        tf_idf_title[i] *= alpha\n",
        "\n",
        "    # D = Matriz TF-IDF de terminos de documentos\n",
        "    D = np.zeros((N, total_vocab_size)) \n",
        "    for i in tf_idf_title:\n",
        "        try:\n",
        "            ind = total_vocab.index(i[1])\n",
        "            D[i[0]][ind] = tf_idf_title[i]\n",
        "        except:\n",
        "            pass\n",
        "\n",
        "    print('Matriz TF-IDF de terminos de documentos generada. %.2f segundos' % (time() - start))\n",
        "    print(D[0])\n",
        "    print(D[1])"
      ],
      "execution_count": 82,
      "outputs": [
        {
          "output_type": "stream",
          "text": [
            "Matriz TF-IDF de terminos de documentos generada. 1.27 segundos\n",
            "[0.04843222 0.03346368 0.03879558 ... 0.         0.         0.        ]\n",
            "[0. 0. 0. ... 0. 0. 0.]\n"
          ],
          "name": "stdout"
        }
      ]
    },
    {
      "cell_type": "code",
      "metadata": {
        "id": "D9y3aAjTv8Fe",
        "colab_type": "code",
        "colab": {}
      },
      "source": [
        "def cosine_sim(a, b):\n",
        "    cos_sim = np.dot(a, b)/(np.linalg.norm(a)*np.linalg.norm(b))\n",
        "    return cos_sim"
      ],
      "execution_count": 83,
      "outputs": []
    },
    {
      "cell_type": "code",
      "metadata": {
        "id": "q2ktKKvlwqbl",
        "colab_type": "code",
        "colab": {}
      },
      "source": [
        "def print_doc(dataset, id):\n",
        "    with pd.option_context('display.max_colwidth', 500):\n",
        "        print(dataset.iloc[[id], [0,1]])"
      ],
      "execution_count": 84,
      "outputs": []
    },
    {
      "cell_type": "code",
      "metadata": {
        "id": "6uGx9a9KuvUn",
        "colab_type": "code",
        "colab": {}
      },
      "source": [
        "start = time()\n",
        "\n",
        "def gen_vector(tokens):\n",
        "        Q = np.zeros((len(total_vocab)))\n",
        "        counter = Counter(tokens)\n",
        "        words_count = len(tokens)\n",
        "        for token in np.unique(tokens):\n",
        "            tf = counter[token] / words_count\n",
        "            df = doc_freq(DF, token)\n",
        "            idf = math.log((N + 1) / (df + 1))\n",
        "            try:\n",
        "                ind = total_vocab.index(token)\n",
        "                Q[ind] = tf * idf\n",
        "            except:\n",
        "                pass\n",
        "        return Q\n",
        "\n",
        "def cosine_similarity(k, query):\n",
        "        tokens = preprocess(query)\n",
        "        print(\"\\nQuery:\", query)\n",
        "        d_cosines = []\n",
        "        query_vector = gen_vector(tokens)\n",
        "        for d in D:\n",
        "            d_cosines.append(cosine_sim(query_vector, d))\n",
        "        index_sort = np.array(d_cosines).argsort()[-k:][::-1]\n",
        "        value_array = np.array(d_cosines)\n",
        "        value_sort = np.sort(value_array)[-k:][::-1]\n",
        "        res = []\n",
        "        for i in range(k):\n",
        "            res.append((index_sort[i], value_sort[i]))\n",
        "        return res\n",
        "\n"
      ],
      "execution_count": 85,
      "outputs": []
    },
    {
      "cell_type": "code",
      "metadata": {
        "id": "IjYv6RG-2D6d",
        "colab_type": "code",
        "colab": {
          "base_uri": "https://localhost:8080/",
          "height": 442
        },
        "outputId": "505b20a9-da92-4112-d21b-8355748fca2c"
      },
      "source": [
        "results = cosine_similarity(5, \"Configurar QT Creator para depuración remota\")\n",
        "\n",
        "print(\"\\n\")\n",
        "for i in range(len(results)):\n",
        "  print_doc(dataset, results[i][0])\n",
        "  print(\"sim: \",results[i]) \n",
        "  print(\"-------------------------------------------------------\")\n",
        "\n",
        "print('Tiempo de ejecución: %.2f segundos' % (time() - start))"
      ],
      "execution_count": 86,
      "outputs": [
        {
          "output_type": "stream",
          "text": [
            "\n",
            "Query: Configurar QT Creator para depuración remota\n",
            "\n",
            "\n",
            "         Id                                         Title\n",
            "240  227010  Configurar QT Creator para depuración remota\n",
            "sim:  (240, 0.4532126075018467)\n",
            "-------------------------------------------------------\n",
            "        Id                                                                    Title\n",
            "596  49528  Cómo configurar Qt para que ejecute leyendo los datos de un archivo txt\n",
            "sim:  (596, 0.2882178034325943)\n",
            "-------------------------------------------------------\n",
            "          Id                                                 Title\n",
            "1066  122881  Como instalar el modulo QT Designer en Linux(Ubuntu)\n",
            "sim:  (1066, 0.18813393665316802)\n",
            "-------------------------------------------------------\n",
            "         Id                                           Title\n",
            "485  279342  ¿Cómo configurar eclipse mosquitto en windows?\n",
            "sim:  (485, 0.16772771944835205)\n",
            "-------------------------------------------------------\n",
            "         Id                                                   Title\n",
            "692  183324  ¿Que falta por configurar? IP estática en Ubuntu 16.04\n",
            "sim:  (692, 0.14963714144612678)\n",
            "-------------------------------------------------------\n",
            "Tiempo de ejecución: 2.51 segundos\n"
          ],
          "name": "stdout"
        }
      ]
    },
    {
      "cell_type": "markdown",
      "metadata": {
        "id": "lgOiAYuMbTuv",
        "colab_type": "text"
      },
      "source": [
        "# COSINE SIMILARITY\n",
        "\n",
        "\n",
        "---\n",
        "\n"
      ]
    },
    {
      "cell_type": "code",
      "metadata": {
        "id": "nB-1Ny4suNzj",
        "colab_type": "code",
        "colab": {
          "base_uri": "https://localhost:8080/",
          "height": 581
        },
        "outputId": "420a6d40-7770-4224-941e-ed72743571e2"
      },
      "source": [
        "start = time()\n",
        "data = pd.read_csv('//content/gdrive/My Drive/ultimate.csv',\n",
        "                      sep=';', encoding='utf-8-sig')\n",
        "\n",
        "\n",
        "print('Dataset generado. %.2f segundos' % (time() - start))\n",
        "data.head()"
      ],
      "execution_count": 37,
      "outputs": [
        {
          "output_type": "stream",
          "text": [
            "Dataset generado. 0.07 segundos\n"
          ],
          "name": "stdout"
        },
        {
          "output_type": "execute_result",
          "data": {
            "text/html": [
              "<div>\n",
              "<style scoped>\n",
              "    .dataframe tbody tr th:only-of-type {\n",
              "        vertical-align: middle;\n",
              "    }\n",
              "\n",
              "    .dataframe tbody tr th {\n",
              "        vertical-align: top;\n",
              "    }\n",
              "\n",
              "    .dataframe thead th {\n",
              "        text-align: right;\n",
              "    }\n",
              "</style>\n",
              "<table border=\"1\" class=\"dataframe\">\n",
              "  <thead>\n",
              "    <tr style=\"text-align: right;\">\n",
              "      <th></th>\n",
              "      <th>Unnamed: 0</th>\n",
              "      <th>Id</th>\n",
              "      <th>Title</th>\n",
              "      <th>Body</th>\n",
              "      <th>Lemma_Title</th>\n",
              "      <th>Lemma_Body</th>\n",
              "      <th>Stem_Title</th>\n",
              "      <th>Stem_Body</th>\n",
              "      <th>Processed_Title</th>\n",
              "      <th>Processed_Body</th>\n",
              "    </tr>\n",
              "  </thead>\n",
              "  <tbody>\n",
              "    <tr>\n",
              "      <th>0</th>\n",
              "      <td>0</td>\n",
              "      <td>286498</td>\n",
              "      <td>Debugear código Django utilizando Docker</td>\n",
              "      <td>&lt;p&gt;Les cuento.\\r\\nEstoy realizando un proyecto...</td>\n",
              "      <td>debugear código django utilizar docker</td>\n",
              "      <td>contar realizar proyectar django utilizar pych...</td>\n",
              "      <td>debug codig djang utiliz dock</td>\n",
              "      <td>cuent realiz proyect djang utiliz pycharm wind...</td>\n",
              "      <td>debugear código django utilizando docker</td>\n",
              "      <td>cuento realizando proyecto django utilizo pych...</td>\n",
              "    </tr>\n",
              "    <tr>\n",
              "      <th>1</th>\n",
              "      <td>1</td>\n",
              "      <td>226916</td>\n",
              "      <td>En el file.conf muestra Error usando Superviso...</td>\n",
              "      <td>&lt;p&gt;Al configurar el file.conf&lt;br&gt;\\r\\nruta : su...</td>\n",
              "      <td>mostrar error usar supervisor digital ocean op...</td>\n",
              "      <td>configurar ruta sudar nano program facturaempr...</td>\n",
              "      <td>muestr error usand supervisor digital oce opci...</td>\n",
              "      <td>configur rut sud nan program facturaempres eje...</td>\n",
              "      <td>muestra error usando supervisor digital ocean ...</td>\n",
              "      <td>configurar ruta sudo nano program facturaempre...</td>\n",
              "    </tr>\n",
              "    <tr>\n",
              "      <th>2</th>\n",
              "      <td>2</td>\n",
              "      <td>161561</td>\n",
              "      <td>Ejecutar navegador en pantalla completa al ini...</td>\n",
              "      <td>&lt;p&gt;Estoy realizando un &lt;em&gt;proyecto Domotico&lt;/...</td>\n",
              "      <td>ejecutar navegador pantalla completo iniciar l...</td>\n",
              "      <td>realizar proyectar domotico siguiente componen...</td>\n",
              "      <td>ejecut naveg pantall complet inici linux</td>\n",
              "      <td>realiz proyect domot siguient component raspbe...</td>\n",
              "      <td>ejecutar navegador pantalla completa iniciar l...</td>\n",
              "      <td>realizando proyecto domotico siguientes compon...</td>\n",
              "    </tr>\n",
              "    <tr>\n",
              "      <th>3</th>\n",
              "      <td>3</td>\n",
              "      <td>230560</td>\n",
              "      <td>Pagina web en blanco</td>\n",
              "      <td>&lt;p&gt;Buen dia \\r\\nNo se por que mi pagina web sa...</td>\n",
              "      <td>paginar web blanco</td>\n",
              "      <td>bueno dia paginar web salir blanco alguien pod...</td>\n",
              "      <td>pagin web blanc</td>\n",
              "      <td>buen dia pagin web sal blanc algui podri ayud ...</td>\n",
              "      <td>pagina web blanco</td>\n",
              "      <td>buen dia pagina web sale blanco alguien podria...</td>\n",
              "    </tr>\n",
              "    <tr>\n",
              "      <th>4</th>\n",
              "      <td>4</td>\n",
              "      <td>309146</td>\n",
              "      <td>Obtengo el error I/Choreographer: Skipped 110 ...</td>\n",
              "      <td>&lt;p&gt;Estoy trabajando en android studio intentan...</td>\n",
              "      <td>obtener error skipped frames the application m...</td>\n",
              "      <td>trabajar android studio intentar hacer conexio...</td>\n",
              "      <td>obteng error skipp fram the application may be...</td>\n",
              "      <td>trabaj andro studi intent hac conexion maquin ...</td>\n",
              "      <td>obtengo error skipped frames the application m...</td>\n",
              "      <td>trabajando android studio intentando hacer con...</td>\n",
              "    </tr>\n",
              "  </tbody>\n",
              "</table>\n",
              "</div>"
            ],
            "text/plain": [
              "   Unnamed: 0  ...                                     Processed_Body\n",
              "0           0  ...  cuento realizando proyecto django utilizo pych...\n",
              "1           1  ...  configurar ruta sudo nano program facturaempre...\n",
              "2           2  ...  realizando proyecto domotico siguientes compon...\n",
              "3           3  ...  buen dia pagina web sale blanco alguien podria...\n",
              "4           4  ...  trabajando android studio intentando hacer con...\n",
              "\n",
              "[5 rows x 10 columns]"
            ]
          },
          "metadata": {
            "tags": []
          },
          "execution_count": 37
        }
      ]
    },
    {
      "cell_type": "code",
      "metadata": {
        "id": "SHjnnD-09swN",
        "colab_type": "code",
        "colab": {}
      },
      "source": [
        "from sklearn.feature_extraction.text import CountVectorizer\n",
        "from sklearn.metrics.pairwise import cosine_similarity\n",
        "import pandas as pd\n",
        "import numpy as np\n",
        "import string\n",
        "\n",
        "titles_cosim = data['Processed_Title'].to_list()\n",
        "id_index = data['Id'].to_list()\n",
        "# Create the Document Term Matrix\n",
        "vectorizer = CountVectorizer()"
      ],
      "execution_count": 38,
      "outputs": []
    },
    {
      "cell_type": "code",
      "metadata": {
        "id": "PUHh1eIehMyO",
        "colab_type": "code",
        "colab": {}
      },
      "source": [
        "def print_res(data, id):\n",
        "    with pd.option_context('display.max_colwidth', 500):\n",
        "        print(data.iloc[[id], [2,1]])"
      ],
      "execution_count": 64,
      "outputs": []
    },
    {
      "cell_type": "code",
      "metadata": {
        "id": "KFZaTrWfg_uD",
        "colab_type": "code",
        "colab": {}
      },
      "source": [
        "# Create the Document Term Matrix\n",
        "count_vectorizer = CountVectorizer()\n",
        "sparse_matrix = count_vectorizer.fit_transform(titles_cosim)\n",
        "doc_term_matrix = sparse_matrix.todense()\n",
        "dtm = pd.DataFrame(doc_term_matrix,\n",
        "                  columns=count_vectorizer.get_feature_names())"
      ],
      "execution_count": 63,
      "outputs": []
    },
    {
      "cell_type": "markdown",
      "metadata": {
        "id": "0V12290X0JdB",
        "colab_type": "text"
      },
      "source": [
        "# COSINE SIMILARITY - RESULTADO"
      ]
    },
    {
      "cell_type": "code",
      "metadata": {
        "id": "FnfbWhK8Su-B",
        "colab_type": "code",
        "colab": {
          "base_uri": "https://localhost:8080/",
          "height": 34
        },
        "outputId": "4398b846-1a37-4a2c-be4e-e2faecf4362d"
      },
      "source": [
        "# Create the Query Matrix\n",
        "query = preprocess(\"Configurar QT Creator para depuración remota\")\n",
        "print(query)\n",
        "query_matrix = count_vectorizer.transform(query)\n",
        "query_term_matrix = query_matrix.todense()\n",
        "qtm = pd.DataFrame(query_term_matrix,\n",
        "                  columns=count_vectorizer.get_feature_names())"
      ],
      "execution_count": 52,
      "outputs": [
        {
          "output_type": "stream",
          "text": [
            "['configurar', 'qt', 'creator', 'depuración', 'remota']\n"
          ],
          "name": "stdout"
        }
      ]
    },
    {
      "cell_type": "code",
      "metadata": {
        "id": "4ciKsNCQNZUe",
        "colab_type": "code",
        "colab": {
          "base_uri": "https://localhost:8080/",
          "height": 51
        },
        "outputId": "0a7edd60-2b24-4b08-a37a-d6984ce26f56"
      },
      "source": [
        "# Results and format\n",
        "k = 5\n",
        "cossim_matrix = cosine_similarity(qtm, dtm)\n",
        "last = len(cossim_matrix)-1\n",
        "exa = []\n",
        "arg_sort = cossim_matrix[last].argsort()[-k:][::-1]\n",
        "print(arg_sort)\n",
        "value_sort = np.sort(cossim_matrix[last])[-k:][::-1]\n",
        "print(value_sort)"
      ],
      "execution_count": 53,
      "outputs": [
        {
          "output_type": "stream",
          "text": [
            "[ 240 1079  816 1083  362]\n",
            "[0.4472136  0.40824829 0.33333333 0.         0.        ]\n"
          ],
          "name": "stdout"
        }
      ]
    },
    {
      "cell_type": "code",
      "metadata": {
        "id": "nk6pPa1ESsIL",
        "colab_type": "code",
        "colab": {}
      },
      "source": [
        "for i in range(k):\n",
        "    exa.append((arg_sort[i], value_sort[i]))"
      ],
      "execution_count": 54,
      "outputs": []
    },
    {
      "cell_type": "code",
      "metadata": {
        "id": "OtgxgwQvnNFD",
        "colab_type": "code",
        "colab": {
          "base_uri": "https://localhost:8080/",
          "height": 357
        },
        "outputId": "c2aaba52-fdd2-4907-b4a4-06df60a05129"
      },
      "source": [
        "for i in range(len(exa)):\n",
        "  print_res(data, exa[i][0])\n",
        "  print(\"sim: \",exa[i])\n",
        "  print(\"-------------------------------------------------------\")"
      ],
      "execution_count": 55,
      "outputs": [
        {
          "output_type": "stream",
          "text": [
            "                                            Title      Id\n",
            "240  Configurar QT Creator para depuración remota  227010\n",
            "sim:  (240, 0.4472135954999579)\n",
            "-------------------------------------------------------\n",
            "                                            Title      Id\n",
            "1079  Conexion remota de SQL Server linux mint 19  229945\n",
            "sim:  (1079, 0.4082482904638631)\n",
            "-------------------------------------------------------\n",
            "                                                                   Title      Id\n",
            "816  Poner timeout a ejecución en bash lanzado en máquina remota vía SSH  267148\n",
            "sim:  (816, 0.3333333333333333)\n",
            "-------------------------------------------------------\n",
            "                                                                                     Title      Id\n",
            "1083  Wordpress me solicita mi servidor usuario ftp y contraseña ftp para instalar plugins  216119\n",
            "sim:  (1083, 0.0)\n",
            "-------------------------------------------------------\n",
            "                                              Title      Id\n",
            "362  ¿Es normal que Xampp se instale mal en ubuntu?  325129\n",
            "sim:  (362, 0.0)\n",
            "-------------------------------------------------------\n"
          ],
          "name": "stdout"
        }
      ]
    }
  ]
}