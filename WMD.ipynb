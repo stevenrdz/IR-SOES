{
  "nbformat": 4,
  "nbformat_minor": 0,
  "metadata": {
    "colab": {
      "name": "WMD.ipynb",
      "provenance": [],
      "authorship_tag": "ABX9TyNf+GmjsOg459hSytpZTnbm"
    },
    "kernelspec": {
      "name": "python3",
      "display_name": "Python 3"
    }
  },
  "cells": [
    {
      "cell_type": "code",
      "metadata": {
        "id": "H9Pc2DC3gjgr",
        "colab_type": "code",
        "colab": {
          "base_uri": "https://localhost:8080/",
          "height": 122
        },
        "outputId": "161a059c-7c64-409a-9752-a3e1453f37ca"
      },
      "source": [
        "from google.colab import files\n",
        "from google.colab import drive\n",
        "drive.mount('/content/gdrive')"
      ],
      "execution_count": null,
      "outputs": [
        {
          "output_type": "stream",
          "text": [
            "Go to this URL in a browser: https://accounts.google.com/o/oauth2/auth?client_id=947318989803-6bn6qk8qdgf4n4g3pfee6491hc0brc4i.apps.googleusercontent.com&redirect_uri=urn%3aietf%3awg%3aoauth%3a2.0%3aoob&response_type=code&scope=email%20https%3a%2f%2fwww.googleapis.com%2fauth%2fdocs.test%20https%3a%2f%2fwww.googleapis.com%2fauth%2fdrive%20https%3a%2f%2fwww.googleapis.com%2fauth%2fdrive.photos.readonly%20https%3a%2f%2fwww.googleapis.com%2fauth%2fpeopleapi.readonly\n",
            "\n",
            "Enter your authorization code:\n",
            "··········\n",
            "Mounted at /content/gdrive\n"
          ],
          "name": "stdout"
        }
      ]
    },
    {
      "cell_type": "code",
      "metadata": {
        "id": "SGfxuouMgzdB",
        "colab_type": "code",
        "colab": {
          "base_uri": "https://localhost:8080/",
          "height": 102
        },
        "outputId": "6d46c36c-9207-4ae0-dcea-92981928338e"
      },
      "source": [
        "import nltk\n",
        "nltk.download('stopwords')\n",
        "nltk.download('punkt')"
      ],
      "execution_count": null,
      "outputs": [
        {
          "output_type": "stream",
          "text": [
            "[nltk_data] Downloading package stopwords to /root/nltk_data...\n",
            "[nltk_data]   Unzipping corpora/stopwords.zip.\n",
            "[nltk_data] Downloading package punkt to /root/nltk_data...\n",
            "[nltk_data]   Unzipping tokenizers/punkt.zip.\n"
          ],
          "name": "stdout"
        },
        {
          "output_type": "execute_result",
          "data": {
            "text/plain": [
              "True"
            ]
          },
          "metadata": {
            "tags": []
          },
          "execution_count": 2
        }
      ]
    },
    {
      "cell_type": "code",
      "metadata": {
        "id": "rT5KJ0wUg3kj",
        "colab_type": "code",
        "colab": {
          "base_uri": "https://localhost:8080/",
          "height": 34
        },
        "outputId": "00b12f5a-10f2-4dff-847e-0691ace1bbba"
      },
      "source": [
        "from time import time\n",
        "start_nb = time()\n",
        "\n",
        "start = time()\n",
        "import pandas as pd\n",
        "from nltk.corpus import stopwords\n",
        "import re\n",
        "from nltk import word_tokenize\n",
        "\n",
        "es_stops = set(stopwords.words('spanish'))\n",
        "\n",
        "print('Importación de Librerias. %.2f segundos' % (time() - start))"
      ],
      "execution_count": null,
      "outputs": [
        {
          "output_type": "stream",
          "text": [
            "Importación de Librerias. 0.00 segundos\n"
          ],
          "name": "stdout"
        }
      ]
    },
    {
      "cell_type": "code",
      "metadata": {
        "id": "E5UnyQIlg6H_",
        "colab_type": "code",
        "colab": {
          "base_uri": "https://localhost:8080/",
          "height": 221
        },
        "outputId": "bc8e54f4-e12d-4683-8a93-da62bd0a5896"
      },
      "source": [
        "start = time()\n",
        "dataset = pd.read_csv('//content/gdrive/My Drive/df.csv',\n",
        "                      sep=';', encoding='utf-8-sig')\n",
        "dataset_size = len(dataset)\n",
        "\n",
        "\n",
        "print('Dataset generado. %.2f segundos' % (time() - start))\n",
        "dataset.head()"
      ],
      "execution_count": null,
      "outputs": [
        {
          "output_type": "stream",
          "text": [
            "Dataset generado. 1.47 segundos\n"
          ],
          "name": "stdout"
        },
        {
          "output_type": "execute_result",
          "data": {
            "text/html": [
              "<div>\n",
              "<style scoped>\n",
              "    .dataframe tbody tr th:only-of-type {\n",
              "        vertical-align: middle;\n",
              "    }\n",
              "\n",
              "    .dataframe tbody tr th {\n",
              "        vertical-align: top;\n",
              "    }\n",
              "\n",
              "    .dataframe thead th {\n",
              "        text-align: right;\n",
              "    }\n",
              "</style>\n",
              "<table border=\"1\" class=\"dataframe\">\n",
              "  <thead>\n",
              "    <tr style=\"text-align: right;\">\n",
              "      <th></th>\n",
              "      <th>Id</th>\n",
              "      <th>Title</th>\n",
              "      <th>Body</th>\n",
              "    </tr>\n",
              "  </thead>\n",
              "  <tbody>\n",
              "    <tr>\n",
              "      <th>0</th>\n",
              "      <td>286498</td>\n",
              "      <td>Debugear código Django utilizando Docker</td>\n",
              "      <td>&lt;p&gt;Les cuento.\\r\\nEstoy realizando un proyecto...</td>\n",
              "    </tr>\n",
              "    <tr>\n",
              "      <th>1</th>\n",
              "      <td>226916</td>\n",
              "      <td>En el file.conf muestra Error usando Superviso...</td>\n",
              "      <td>&lt;p&gt;Al configurar el file.conf&lt;br&gt;\\r\\nruta : su...</td>\n",
              "    </tr>\n",
              "    <tr>\n",
              "      <th>2</th>\n",
              "      <td>161561</td>\n",
              "      <td>Ejecutar navegador en pantalla completa al ini...</td>\n",
              "      <td>&lt;p&gt;Estoy realizando un &lt;em&gt;proyecto Domotico&lt;/...</td>\n",
              "    </tr>\n",
              "    <tr>\n",
              "      <th>3</th>\n",
              "      <td>230560</td>\n",
              "      <td>Pagina web en blanco</td>\n",
              "      <td>&lt;p&gt;Buen dia \\r\\nNo se por que mi pagina web sa...</td>\n",
              "    </tr>\n",
              "    <tr>\n",
              "      <th>4</th>\n",
              "      <td>309146</td>\n",
              "      <td>Obtengo el error I/Choreographer: Skipped 110 ...</td>\n",
              "      <td>&lt;p&gt;Estoy trabajando en android studio intentan...</td>\n",
              "    </tr>\n",
              "  </tbody>\n",
              "</table>\n",
              "</div>"
            ],
            "text/plain": [
              "       Id  ...                                               Body\n",
              "0  286498  ...  <p>Les cuento.\\r\\nEstoy realizando un proyecto...\n",
              "1  226916  ...  <p>Al configurar el file.conf<br>\\r\\nruta : su...\n",
              "2  161561  ...  <p>Estoy realizando un <em>proyecto Domotico</...\n",
              "3  230560  ...  <p>Buen dia \\r\\nNo se por que mi pagina web sa...\n",
              "4  309146  ...  <p>Estoy trabajando en android studio intentan...\n",
              "\n",
              "[5 rows x 3 columns]"
            ]
          },
          "metadata": {
            "tags": []
          },
          "execution_count": 4
        }
      ]
    },
    {
      "cell_type": "code",
      "metadata": {
        "id": "zVlhIua3g8fG",
        "colab_type": "code",
        "colab": {}
      },
      "source": [
        "def preprocess(doc):\n",
        "    label = re.compile('<.*?>')\n",
        "    doc = re.sub(label, '', doc)\n",
        "    doc = doc.lower()  # Minuscula todo el texto.\n",
        "    doc = word_tokenize(doc)  # Dividir en palabras.\n",
        "    doc = [w for w in doc if not w in es_stops]  # Eliminar stopwords.\n",
        "    doc = [w for w in doc if w.isalpha()]  # Eliminar numbers and punctuation.\n",
        "    return doc"
      ],
      "execution_count": null,
      "outputs": []
    },
    {
      "cell_type": "code",
      "metadata": {
        "id": "30u82Tifg9ru",
        "colab_type": "code",
        "colab": {
          "base_uri": "https://localhost:8080/",
          "height": 436
        },
        "outputId": "1bfa5a12-4c0c-4d1e-f8ef-a94545937cfb"
      },
      "source": [
        "start = time()\n",
        "dataset['Processed_Title'] = dataset.apply(\n",
        "        lambda dataset: preprocess(dataset['Title']), axis=1)\n",
        "dataset['Processed_Body'] = dataset.apply(\n",
        "        lambda dataset: preprocess(dataset['Body']), axis=1)\n",
        "print('Preprocesado completo. %.2f segundos' % (time() - start))\n",
        "dataset.iloc[:,[3,4]]"
      ],
      "execution_count": null,
      "outputs": [
        {
          "output_type": "stream",
          "text": [
            "Preprocesado completo. 1.57 segundos\n"
          ],
          "name": "stdout"
        },
        {
          "output_type": "execute_result",
          "data": {
            "text/html": [
              "<div>\n",
              "<style scoped>\n",
              "    .dataframe tbody tr th:only-of-type {\n",
              "        vertical-align: middle;\n",
              "    }\n",
              "\n",
              "    .dataframe tbody tr th {\n",
              "        vertical-align: top;\n",
              "    }\n",
              "\n",
              "    .dataframe thead th {\n",
              "        text-align: right;\n",
              "    }\n",
              "</style>\n",
              "<table border=\"1\" class=\"dataframe\">\n",
              "  <thead>\n",
              "    <tr style=\"text-align: right;\">\n",
              "      <th></th>\n",
              "      <th>Processed_Title</th>\n",
              "      <th>Processed_Body</th>\n",
              "    </tr>\n",
              "  </thead>\n",
              "  <tbody>\n",
              "    <tr>\n",
              "      <th>0</th>\n",
              "      <td>[debugear, código, django, utilizando, docker]</td>\n",
              "      <td>[cuento, realizando, proyecto, django, utilizo...</td>\n",
              "    </tr>\n",
              "    <tr>\n",
              "      <th>1</th>\n",
              "      <td>[muestra, error, usando, supervisor, digital, ...</td>\n",
              "      <td>[configurar, ruta, sudo, nano, program, factur...</td>\n",
              "    </tr>\n",
              "    <tr>\n",
              "      <th>2</th>\n",
              "      <td>[ejecutar, navegador, pantalla, completa, inic...</td>\n",
              "      <td>[realizando, proyecto, domotico, siguientes, c...</td>\n",
              "    </tr>\n",
              "    <tr>\n",
              "      <th>3</th>\n",
              "      <td>[pagina, web, blanco]</td>\n",
              "      <td>[buen, dia, pagina, web, sale, blanco, alguien...</td>\n",
              "    </tr>\n",
              "    <tr>\n",
              "      <th>4</th>\n",
              "      <td>[obtengo, error, skipped, frames, the, applica...</td>\n",
              "      <td>[trabajando, android, studio, intentando, hace...</td>\n",
              "    </tr>\n",
              "    <tr>\n",
              "      <th>...</th>\n",
              "      <td>...</td>\n",
              "      <td>...</td>\n",
              "    </tr>\n",
              "    <tr>\n",
              "      <th>1079</th>\n",
              "      <td>[conexion, remota, sql, server, linux, mint]</td>\n",
              "      <td>[instalado, sql, server, linux, mint, base, da...</td>\n",
              "    </tr>\n",
              "    <tr>\n",
              "      <th>1080</th>\n",
              "      <td>[crear, base, datos, centos, funciona]</td>\n",
              "      <td>[utilizando, centos, seguí, instrucciones, sit...</td>\n",
              "    </tr>\n",
              "    <tr>\n",
              "      <th>1081</th>\n",
              "      <td>[hacer, respaldo, base, datos, terminal]</td>\n",
              "      <td>[base, datos, ms, sql, server, express, ubuntu...</td>\n",
              "    </tr>\n",
              "    <tr>\n",
              "      <th>1082</th>\n",
              "      <td>[aplicación, windows, linux, wine]</td>\n",
              "      <td>[aplicación, desarrollada, utiliza, cámara, es...</td>\n",
              "    </tr>\n",
              "    <tr>\n",
              "      <th>1083</th>\n",
              "      <td>[wordpress, solicita, servidor, usuario, ftp, ...</td>\n",
              "      <td>[problema, puesto, permisos, entrar, dos, serv...</td>\n",
              "    </tr>\n",
              "  </tbody>\n",
              "</table>\n",
              "<p>1084 rows × 2 columns</p>\n",
              "</div>"
            ],
            "text/plain": [
              "                                        Processed_Title                                     Processed_Body\n",
              "0        [debugear, código, django, utilizando, docker]  [cuento, realizando, proyecto, django, utilizo...\n",
              "1     [muestra, error, usando, supervisor, digital, ...  [configurar, ruta, sudo, nano, program, factur...\n",
              "2     [ejecutar, navegador, pantalla, completa, inic...  [realizando, proyecto, domotico, siguientes, c...\n",
              "3                                 [pagina, web, blanco]  [buen, dia, pagina, web, sale, blanco, alguien...\n",
              "4     [obtengo, error, skipped, frames, the, applica...  [trabajando, android, studio, intentando, hace...\n",
              "...                                                 ...                                                ...\n",
              "1079       [conexion, remota, sql, server, linux, mint]  [instalado, sql, server, linux, mint, base, da...\n",
              "1080             [crear, base, datos, centos, funciona]  [utilizando, centos, seguí, instrucciones, sit...\n",
              "1081           [hacer, respaldo, base, datos, terminal]  [base, datos, ms, sql, server, express, ubuntu...\n",
              "1082                 [aplicación, windows, linux, wine]  [aplicación, desarrollada, utiliza, cámara, es...\n",
              "1083  [wordpress, solicita, servidor, usuario, ftp, ...  [problema, puesto, permisos, entrar, dos, serv...\n",
              "\n",
              "[1084 rows x 2 columns]"
            ]
          },
          "metadata": {
            "tags": []
          },
          "execution_count": 6
        }
      ]
    },
    {
      "cell_type": "code",
      "metadata": {
        "id": "0X9YHvACg_tO",
        "colab_type": "code",
        "colab": {}
      },
      "source": [
        "from sklearn.model_selection import train_test_split "
      ],
      "execution_count": null,
      "outputs": []
    },
    {
      "cell_type": "code",
      "metadata": {
        "id": "ecQmpskmhDD2",
        "colab_type": "code",
        "colab": {
          "base_uri": "https://localhost:8080/",
          "height": 51
        },
        "outputId": "d9837256-8f41-4fe8-a8ec-c59f364d9a78"
      },
      "source": [
        "train_p, test_p = train_test_split(dataset['Processed_Title'], test_size = 0.20, shuffle = False)\n",
        "\n",
        "print(\"Ejemplos usados para entrenar: \", len(train_p))\n",
        "print(\"Ejemplos usados para test: \", len(test_p))"
      ],
      "execution_count": null,
      "outputs": [
        {
          "output_type": "stream",
          "text": [
            "Ejemplos usados para entrenar:  867\n",
            "Ejemplos usados para test:  217\n"
          ],
          "name": "stdout"
        }
      ]
    },
    {
      "cell_type": "code",
      "metadata": {
        "id": "n2eQ2A_JhEW9",
        "colab_type": "code",
        "colab": {}
      },
      "source": [
        "processed_title = dataset['Processed_Title'].to_list()\n",
        "\n",
        "title = dataset['Title'].to_list()"
      ],
      "execution_count": null,
      "outputs": []
    },
    {
      "cell_type": "code",
      "metadata": {
        "id": "r3GV07ZshFhe",
        "colab_type": "code",
        "colab": {
          "base_uri": "https://localhost:8080/",
          "height": 34
        },
        "outputId": "34632d65-a25d-4fe7-8dc5-83ff81a75000"
      },
      "source": [
        "from gensim.models import Word2Vec\n",
        "# Train Word2Vec on all the restaurants.\n",
        "model_p = Word2Vec(processed_title, workers=3, size=100)\n",
        "\n",
        "# Inicialización de WmdSimilarity.\n",
        "from gensim.similarities import WmdSimilarity\n",
        "num_best = 5\n",
        "instancia_p = WmdSimilarity(train_p, model_p, num_best=5)\n",
        "print(instancia_p)"
      ],
      "execution_count": null,
      "outputs": [
        {
          "output_type": "stream",
          "text": [
            "WmdSimilarity<867 docs, 100 features>\n"
          ],
          "name": "stdout"
        }
      ]
    },
    {
      "cell_type": "code",
      "metadata": {
        "id": "japN2h6uhHZf",
        "colab_type": "code",
        "colab": {
          "base_uri": "https://localhost:8080/",
          "height": 51
        },
        "outputId": "6d8f5fe1-85e7-44b1-f824-b26f0c4911ac"
      },
      "source": [
        "start = time()\n",
        "\n",
        "msj_p = 'Error “bad magic number” al cifrar/descifrar utilizando OpenSSL'\n",
        "bus_p = preprocess(msj_p)\n",
        "print(bus_p)\n",
        "sim_p = instancia_p[bus_p]\n",
        "# print(len(sim_p)) 5\n",
        "print ('Cell took %.2f seconds to run.' %(time() - start))"
      ],
      "execution_count": null,
      "outputs": [
        {
          "output_type": "stream",
          "text": [
            "['error', 'bad', 'magic', 'number', 'utilizando', 'openssl']\n",
            "Cell took 0.18 seconds to run.\n"
          ],
          "name": "stdout"
        }
      ]
    },
    {
      "cell_type": "code",
      "metadata": {
        "id": "9hppZ7FKhI31",
        "colab_type": "code",
        "colab": {
          "base_uri": "https://localhost:8080/",
          "height": 136
        },
        "outputId": "aae60bac-4ae5-4136-b5ae-4792cd577b55"
      },
      "source": [
        "print ('Busqueda: ', msj_p)\n",
        "print(\"\")\n",
        "for i in range(num_best): # (num_best)\n",
        "    print (title[sim_p[i][0]],'---> sim = %.4f' % sim_p[i][1])"
      ],
      "execution_count": null,
      "outputs": [
        {
          "output_type": "stream",
          "text": [
            "Busqueda:  Error “bad magic number” al cifrar/descifrar utilizando OpenSSL\n",
            "\n",
            "Error \"bad magic number\" al cifrar/descifrar utilizando OpenSSL ---> sim = 1.0000\n",
            "Error al implementar generación aleatoria de números en C ---> sim = 0.6065\n",
            "¿Por qué me tira este error de enlazado? ---> sim = 0.6063\n",
            "Error: std::out_of_range ---> sim = 0.6063\n",
            "Error MPI en C++ ---> sim = 0.6063\n"
          ],
          "name": "stdout"
        }
      ]
    }
  ]
}