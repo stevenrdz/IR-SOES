{
  "nbformat": 4,
  "nbformat_minor": 0,
  "metadata": {
    "colab": {
      "name": "WMD.ipynb",
      "provenance": [],
      "collapsed_sections": [],
      "authorship_tag": "ABX9TyPD5Ajg1LyPJJzOGgDtuRzb",
      "include_colab_link": true
    },
    "kernelspec": {
      "name": "python3",
      "display_name": "Python 3"
    }
  },
  "cells": [
    {
      "cell_type": "markdown",
      "metadata": {
        "id": "view-in-github",
        "colab_type": "text"
      },
      "source": [
        "<a href=\"https://colab.research.google.com/github/stevenrdz/IR-SOES/blob/master/WMD.ipynb\" target=\"_parent\"><img src=\"https://colab.research.google.com/assets/colab-badge.svg\" alt=\"Open In Colab\"/></a>"
      ]
    },
    {
      "cell_type": "code",
      "metadata": {
        "id": "H9Pc2DC3gjgr",
        "outputId": "b78c8bf4-1c58-473a-9a8b-bc0fd8743fa6",
        "colab": {
          "base_uri": "https://localhost:8080/",
          "height": 34
        }
      },
      "source": [
        "from google.colab import files\n",
        "from google.colab import drive\n",
        "drive.mount('/content/gdrive')"
      ],
      "execution_count": null,
      "outputs": [
        {
          "output_type": "stream",
          "text": [
            "Mounted at /content/gdrive\n"
          ],
          "name": "stdout"
        }
      ]
    },
    {
      "cell_type": "code",
      "metadata": {
        "id": "SGfxuouMgzdB",
        "outputId": "c6dab723-9a3a-47de-a54c-1c6c2819e213",
        "colab": {
          "base_uri": "https://localhost:8080/",
          "height": 102
        }
      },
      "source": [
        "import nltk\n",
        "nltk.download('stopwords')\n",
        "nltk.download('punkt')"
      ],
      "execution_count": null,
      "outputs": [
        {
          "output_type": "stream",
          "text": [
            "[nltk_data] Downloading package stopwords to /root/nltk_data...\n",
            "[nltk_data]   Unzipping corpora/stopwords.zip.\n",
            "[nltk_data] Downloading package punkt to /root/nltk_data...\n",
            "[nltk_data]   Unzipping tokenizers/punkt.zip.\n"
          ],
          "name": "stdout"
        },
        {
          "output_type": "execute_result",
          "data": {
            "text/plain": [
              "True"
            ]
          },
          "metadata": {
            "tags": []
          },
          "execution_count": 2
        }
      ]
    },
    {
      "cell_type": "code",
      "metadata": {
        "id": "rT5KJ0wUg3kj"
      },
      "source": [
        "from time import time\n",
        "start_nb = time()\n",
        "\n",
        "import pandas as pd\n",
        "from nltk.corpus import stopwords\n",
        "import re\n",
        "from nltk import word_tokenize\n",
        "import string\n",
        "\n",
        "es_stops = set(stopwords.words('spanish'))"
      ],
      "execution_count": null,
      "outputs": []
    },
    {
      "cell_type": "code",
      "metadata": {
        "id": "E5UnyQIlg6H_",
        "outputId": "51d1b320-caba-4272-c0c9-4c125b4cd843",
        "colab": {
          "base_uri": "https://localhost:8080/",
          "height": 221
        }
      },
      "source": [
        "start = time()\n",
        "dataset = pd.read_csv('//content/gdrive/My Drive/df.csv',\n",
        "                      sep=';', encoding='utf-8-sig')\n",
        "dataset_size = len(dataset)\n",
        "\n",
        "\n",
        "print('Dataset generado. %.2f segundos' % (time() - start))\n",
        "dataset.head()"
      ],
      "execution_count": null,
      "outputs": [
        {
          "output_type": "stream",
          "text": [
            "Dataset generado. 0.89 segundos\n"
          ],
          "name": "stdout"
        },
        {
          "output_type": "execute_result",
          "data": {
            "text/html": [
              "<div>\n",
              "<style scoped>\n",
              "    .dataframe tbody tr th:only-of-type {\n",
              "        vertical-align: middle;\n",
              "    }\n",
              "\n",
              "    .dataframe tbody tr th {\n",
              "        vertical-align: top;\n",
              "    }\n",
              "\n",
              "    .dataframe thead th {\n",
              "        text-align: right;\n",
              "    }\n",
              "</style>\n",
              "<table border=\"1\" class=\"dataframe\">\n",
              "  <thead>\n",
              "    <tr style=\"text-align: right;\">\n",
              "      <th></th>\n",
              "      <th>Id</th>\n",
              "      <th>Title</th>\n",
              "      <th>Body</th>\n",
              "    </tr>\n",
              "  </thead>\n",
              "  <tbody>\n",
              "    <tr>\n",
              "      <th>0</th>\n",
              "      <td>286498</td>\n",
              "      <td>Debugear código Django utilizando Docker</td>\n",
              "      <td>&lt;p&gt;Les cuento.\\r\\nEstoy realizando un proyecto...</td>\n",
              "    </tr>\n",
              "    <tr>\n",
              "      <th>1</th>\n",
              "      <td>226916</td>\n",
              "      <td>En el file.conf muestra Error usando Superviso...</td>\n",
              "      <td>&lt;p&gt;Al configurar el file.conf&lt;br&gt;\\r\\nruta : su...</td>\n",
              "    </tr>\n",
              "    <tr>\n",
              "      <th>2</th>\n",
              "      <td>161561</td>\n",
              "      <td>Ejecutar navegador en pantalla completa al ini...</td>\n",
              "      <td>&lt;p&gt;Estoy realizando un &lt;em&gt;proyecto Domotico&lt;/...</td>\n",
              "    </tr>\n",
              "    <tr>\n",
              "      <th>3</th>\n",
              "      <td>230560</td>\n",
              "      <td>Pagina web en blanco</td>\n",
              "      <td>&lt;p&gt;Buen dia \\r\\nNo se por que mi pagina web sa...</td>\n",
              "    </tr>\n",
              "    <tr>\n",
              "      <th>4</th>\n",
              "      <td>309146</td>\n",
              "      <td>Obtengo el error I/Choreographer: Skipped 110 ...</td>\n",
              "      <td>&lt;p&gt;Estoy trabajando en android studio intentan...</td>\n",
              "    </tr>\n",
              "  </tbody>\n",
              "</table>\n",
              "</div>"
            ],
            "text/plain": [
              "       Id  ...                                               Body\n",
              "0  286498  ...  <p>Les cuento.\\r\\nEstoy realizando un proyecto...\n",
              "1  226916  ...  <p>Al configurar el file.conf<br>\\r\\nruta : su...\n",
              "2  161561  ...  <p>Estoy realizando un <em>proyecto Domotico</...\n",
              "3  230560  ...  <p>Buen dia \\r\\nNo se por que mi pagina web sa...\n",
              "4  309146  ...  <p>Estoy trabajando en android studio intentan...\n",
              "\n",
              "[5 rows x 3 columns]"
            ]
          },
          "metadata": {
            "tags": []
          },
          "execution_count": 4
        }
      ]
    },
    {
      "cell_type": "code",
      "metadata": {
        "id": "zVlhIua3g8fG"
      },
      "source": [
        "def preprocess(doc):\n",
        "    code = re.compile('[¿?\"\"(),:'']') # Eliminación de signos de puntuacion.\n",
        "    doc = re.sub(code, '', doc)\n",
        "    punt = re.compile('[./@_]') # Eliminación de signos de puntuacion.\n",
        "    doc = re.sub(punt, ' ', doc)\n",
        "    code = re.compile('<pre><code>[\\s\\S]*</code></pre>') # Eliminación de codigo.\n",
        "    doc = re.sub(code, '', doc)\n",
        "    tag = re.compile('<.*?>') # Eliminación de etiquetas.\n",
        "    doc = re.sub(tag, '', doc)\n",
        "    doc = doc.lower()  # Minuscula todo el texto.\n",
        "    doc = word_tokenize(doc)  # Dividir en palabras.\n",
        "    doc = [w for w in doc if not w in es_stops]  # Eliminar stopwords.\n",
        "    # doc = [w for w in doc if w.isalpha()]  # Eliminar numbers and punctuation.\n",
        "    return doc"
      ],
      "execution_count": null,
      "outputs": []
    },
    {
      "cell_type": "code",
      "metadata": {
        "id": "30u82Tifg9ru",
        "outputId": "b069a64d-66be-4495-cfc7-4c16eea367ec",
        "colab": {
          "base_uri": "https://localhost:8080/",
          "height": 436
        }
      },
      "source": [
        "start = time()\n",
        "dataset['Processed_Title'] = dataset.apply(\n",
        "        lambda dataset: preprocess(dataset['Title']), axis=1)\n",
        "dataset['Processed_Body'] = dataset.apply(\n",
        "        lambda dataset: preprocess(dataset['Body']), axis=1)\n",
        "print('Preprocesado completo. %.2f segundos' % (time() - start))\n",
        "dataset.iloc[:,[3,4]]"
      ],
      "execution_count": null,
      "outputs": [
        {
          "output_type": "stream",
          "text": [
            "Preprocesado completo. 1.14 segundos\n"
          ],
          "name": "stdout"
        },
        {
          "output_type": "execute_result",
          "data": {
            "text/html": [
              "<div>\n",
              "<style scoped>\n",
              "    .dataframe tbody tr th:only-of-type {\n",
              "        vertical-align: middle;\n",
              "    }\n",
              "\n",
              "    .dataframe tbody tr th {\n",
              "        vertical-align: top;\n",
              "    }\n",
              "\n",
              "    .dataframe thead th {\n",
              "        text-align: right;\n",
              "    }\n",
              "</style>\n",
              "<table border=\"1\" class=\"dataframe\">\n",
              "  <thead>\n",
              "    <tr style=\"text-align: right;\">\n",
              "      <th></th>\n",
              "      <th>Processed_Title</th>\n",
              "      <th>Processed_Body</th>\n",
              "    </tr>\n",
              "  </thead>\n",
              "  <tbody>\n",
              "    <tr>\n",
              "      <th>0</th>\n",
              "      <td>[debugear, código, django, utilizando, docker]</td>\n",
              "      <td>[cuento, realizando, proyecto, django, utilizo...</td>\n",
              "    </tr>\n",
              "    <tr>\n",
              "      <th>1</th>\n",
              "      <td>[file, conf, muestra, error, usando, superviso...</td>\n",
              "      <td>[configurar, file, conf, ruta, sudo, nano, etc...</td>\n",
              "    </tr>\n",
              "    <tr>\n",
              "      <th>2</th>\n",
              "      <td>[ejecutar, navegador, pantalla, completa, inic...</td>\n",
              "      <td>[realizando, proyecto, domotico, siguientes, c...</td>\n",
              "    </tr>\n",
              "    <tr>\n",
              "      <th>3</th>\n",
              "      <td>[pagina, web, blanco]</td>\n",
              "      <td>[buen, dia, pagina, web, sale, blanco, alguien...</td>\n",
              "    </tr>\n",
              "    <tr>\n",
              "      <th>4</th>\n",
              "      <td>[obtengo, error, i, choreographer, skipped, 11...</td>\n",
              "      <td>[trabajando, android, studio, intentando, hace...</td>\n",
              "    </tr>\n",
              "    <tr>\n",
              "      <th>...</th>\n",
              "      <td>...</td>\n",
              "      <td>...</td>\n",
              "    </tr>\n",
              "    <tr>\n",
              "      <th>1079</th>\n",
              "      <td>[conexion, remota, sql, server, linux, mint, 19]</td>\n",
              "      <td>[instalado, sql, server, linux, mint, 19, base...</td>\n",
              "    </tr>\n",
              "    <tr>\n",
              "      <th>1080</th>\n",
              "      <td>[crear, base, datos, mssql-server, centos, 7, ...</td>\n",
              "      <td>[utilizando, mssql-server, centos, seguí, inst...</td>\n",
              "    </tr>\n",
              "    <tr>\n",
              "      <th>1081</th>\n",
              "      <td>[hacer, respaldo, base, datos, terminal]</td>\n",
              "      <td>[base, datos, ms, sql, server, 2017, express, ...</td>\n",
              "    </tr>\n",
              "    <tr>\n",
              "      <th>1082</th>\n",
              "      <td>[aplicación, windows, linux, wine]</td>\n",
              "      <td>[aplicación, desarrollada, vb, net, deve, xpre...</td>\n",
              "    </tr>\n",
              "    <tr>\n",
              "      <th>1083</th>\n",
              "      <td>[wordpress, solicita, servidor, usuario, ftp, ...</td>\n",
              "      <td>[problema, puesto, permisos, entrar, dos, serv...</td>\n",
              "    </tr>\n",
              "  </tbody>\n",
              "</table>\n",
              "<p>1084 rows × 2 columns</p>\n",
              "</div>"
            ],
            "text/plain": [
              "                                        Processed_Title                                     Processed_Body\n",
              "0        [debugear, código, django, utilizando, docker]  [cuento, realizando, proyecto, django, utilizo...\n",
              "1     [file, conf, muestra, error, usando, superviso...  [configurar, file, conf, ruta, sudo, nano, etc...\n",
              "2     [ejecutar, navegador, pantalla, completa, inic...  [realizando, proyecto, domotico, siguientes, c...\n",
              "3                                 [pagina, web, blanco]  [buen, dia, pagina, web, sale, blanco, alguien...\n",
              "4     [obtengo, error, i, choreographer, skipped, 11...  [trabajando, android, studio, intentando, hace...\n",
              "...                                                 ...                                                ...\n",
              "1079   [conexion, remota, sql, server, linux, mint, 19]  [instalado, sql, server, linux, mint, 19, base...\n",
              "1080  [crear, base, datos, mssql-server, centos, 7, ...  [utilizando, mssql-server, centos, seguí, inst...\n",
              "1081           [hacer, respaldo, base, datos, terminal]  [base, datos, ms, sql, server, 2017, express, ...\n",
              "1082                 [aplicación, windows, linux, wine]  [aplicación, desarrollada, vb, net, deve, xpre...\n",
              "1083  [wordpress, solicita, servidor, usuario, ftp, ...  [problema, puesto, permisos, entrar, dos, serv...\n",
              "\n",
              "[1084 rows x 2 columns]"
            ]
          },
          "metadata": {
            "tags": []
          },
          "execution_count": 6
        }
      ]
    },
    {
      "cell_type": "code",
      "metadata": {
        "id": "CXuhhlospklo",
        "outputId": "4c7b00c8-05d4-4fa1-d5bd-0d007d44332f",
        "colab": {
          "base_uri": "https://localhost:8080/",
          "height": 71
        }
      },
      "source": [
        "print(dataset['Processed_Body'][0])\n",
        "print(dataset['Processed_Body'][5])"
      ],
      "execution_count": null,
      "outputs": [
        {
          "output_type": "stream",
          "text": [
            "['cuento', 'realizando', 'proyecto', 'django', 'utilizo', 'pycharm', 'windows', '8', '1', 'levantar', 'servidor', 'web', 'base', 'datos', 'utilizo', 'docker', 'instalado', 'debian', 'linux', 'traves', 'maquina', 'virtual', 'instale', 'docker', 'windows', 'problemas', 'compatibilidad', 'problema', 'trabajar', 'manera', 'encuentro', 'forma', 'poder', 'debugear', 'código', 'poner', 'puntos', 'interrupcion', 'demás', 'buscando', 'lados', 'encontre', 'ninguna', 'solución', 'tal', 'vez', 'alguno', 'pudo', 'resolver', 'problema', 'dudas', 'dejo', 'archivo', 'docker-compose', 'yml', 'version', \"'3\", \"4'\", 'services', 'db', 'image', 'postgres', 'container', 'name', 'csuperior-postgres', 'environment', 'postgres', 'user', 'xxxxxxx', 'postgres', 'password', 'xxxxxxx', 'broker', 'image', 'rabbitmq', 'container', 'name', 'csuperior-broker', 'environment', '-', 'rabbitmq', 'default', 'user=xxxxxxx', '-', 'rabbitmq', 'default', 'pass=xxxxxxx', 'web', 'container', 'name', 'csuperior-web', 'volumes', '-', 'code', 'build', 'ports', '-', \"'80008000'\", 'command', 'python3', 'manage', 'py', 'runserver', '0', '0', '0', '08000', 'depends', 'on', '-', 'db', '-', 'broker', 'muchas', 'gracias']\n",
            "['intentando', 'generar', 'documento', 'gracias', 'plugin', 'xdocreport-1', '0', '4', 'jar', 'digamos', 'funcionado', 'pc', 'raíz', 'plantilla', 'generar', 'datos', 'introducidos', 'formulario', 'teléfono', 'android', 'logro', 'hacer', 'funcione', 'imagino', 'problema', 'encuentra', 'generadordocumentosservice', 'tourl', 'dos', 'clase', '-', 'main', 'java', '-', 'generadordocumentosservice', 'java', 'proyecto', 'documento', 'test', 'docx', 'dentro', 'assets', 'variables', 'mergefield', 'problema', 'darle', 'generar', 'archivo', 'clase', 'main', 'java', 'código', 'completo', 'main', 'java', 'public', 'static', 'void', 'generatedocumentstring', 'rutaplantilla', 'string', 'extension', 'boolean', 'convertirpdf', 'throws', 'ioexception', 'xdocreportexception', '{', 'map', '&', 'lt', ';', 'string', 'object', '&', 'gt', ';', 'variablesmap', '=', 'new', 'hashmap', '&', 'lt', ';', 'string', 'object', '&', 'gt', ';', ';', 'variablesmap', 'putname', 'name', ';', 'variablesmap', 'putsurname', 'surname', ';', 'variablesmap', 'putdate', 'date', ';', '2', 'create', 'fields', 'metadata', 'to', 'manage', 'lazy', 'loop', '#', 'forech', 'velocity', 'for', 'table', 'row', 'fieldsmetadata', 'metadata', '=', 'new', 'fieldsmetadata', ';', 'metadata', 'addfieldaslistlistanumeros', 'numero', ';', 'metadata', 'addfieldaslistlistanumeros', 'cuadrado', ';', 'metadata', 'addfieldaslistlistanumeros', 'raiz', ';', 'mapa', 'variables', 'tipo', 'imagen', 'variables', 'contienen', 'path', 'imagen', 'map', '&', 'lt', ';', 'string', 'string', '&', 'gt', ';', 'imagenesmap', '=', 'new', 'hashmap', '&', 'lt', ';', 'string', 'string', '&', 'gt', ';', ';', 'imagenesmap', 'putheader', 'image', 'logo', 'logo', 'png', ';', 'generadordocumentosservice', 'generadordocumentosservice', '=', 'new', 'generadordocumentosservice', ';', 'byte', '[', ']', 'mergedoutput', '=', 'generadordocumentosservice', 'generardocumentorutaplantilla', 'templateenginekind', 'freemarker', 'variablesmap', 'imagenesmap', 'convertirpdf', 'metadata', ';', 'fileoutputstream', '=', 'new', 'fileoutputstreamfaycan', 'contract', '+', '+extension', ';', 'writemergedoutput', ';', 'flush', ';', 'close', ';', '}', 'override', 'protected', 'void', 'oncreatebundle', 'savedinstancestate', '{', 'super', 'oncreatesavedinstancestate', ';', 'setcontentviewr', 'layout', 'activity', 'main', ';', 'txtnombre', '=', 'edittext', 'findviewbyidr', 'id', 'txtnombre', ';', 'txtapellidos', '=', 'edittext', 'findviewbyidr', 'id', 'txtapellidos', ';', 'txtfecha', '=', 'edittext', 'findviewbyidr', 'id', 'txtfecha', ';', 'name', '=', 'txtnombre', 'gettext', 'tostring', ';', 'surname', '=', 'txtapellidos', 'gettext', 'tostring', ';', 'date', '=', 'txtfecha', 'gettext', 'tostring', ';', 'btngenerar', '=', 'button', 'findviewbyidr', 'id', 'btngenerar', ';', 'btngenerar', 'setonclicklistenernew', 'view', 'onclicklistener', '{', 'override', 'public', 'void', 'onclickview', 'v', '{', 'try', '{', 'generatedocumentfile', 'android', 'asset', 'test', 'docx', 'docx', 'false', ';', '}', 'catch', 'exception', '{', 'toast', 'maketextgetapplicationcontext', 'the', 'document', 'could', 'not', 'be', 'generated+e', 'toast', 'length', 'short', 'show', ';', '}', '}', '}', ';', '}', 'clase', 'generadordocumentosservice', 'java', 'podría', 'ser', 'error', 'código', 'completo', 'generadordocumentosservice', 'java', 'public', 'static', 'inputstream', 'loaddocumentasstreamstring', 'filepath', 'throws', 'ioexception', '{', 'url', 'url', '=', 'new', 'filefilepath', 'touri', 'tourl', ';', 'inputstream', 'documentasstream', '=', 'url', 'openstream', ';', 'return', 'documentasstream', ';', '}']\n"
          ],
          "name": "stdout"
        }
      ]
    },
    {
      "cell_type": "code",
      "metadata": {
        "id": "G82I2BimHdFg"
      },
      "source": [
        "dataset['Full_Processed'] = dataset['Processed_Title'] + dataset['Processed_Body']"
      ],
      "execution_count": null,
      "outputs": []
    },
    {
      "cell_type": "code",
      "metadata": {
        "id": "0X9YHvACg_tO"
      },
      "source": [
        "from sklearn.model_selection import train_test_split "
      ],
      "execution_count": null,
      "outputs": []
    },
    {
      "cell_type": "code",
      "metadata": {
        "id": "IgpGLiW1dFFP"
      },
      "source": [
        "X = dataset['Processed_Title'] #Full_Processed Processed_Title"
      ],
      "execution_count": null,
      "outputs": []
    },
    {
      "cell_type": "code",
      "metadata": {
        "id": "ecQmpskmhDD2",
        "outputId": "7bf05307-5e20-48bc-bb15-91fc0fa780d8",
        "colab": {
          "base_uri": "https://localhost:8080/",
          "height": 51
        }
      },
      "source": [
        "train_p, test_p = train_test_split(X, test_size = 0.20, shuffle = False)\n",
        "\n",
        "print(\"Ejemplos usados para entrenar: \", len(train_p))\n",
        "print(\"Ejemplos usados para test: \", len(test_p))"
      ],
      "execution_count": null,
      "outputs": [
        {
          "output_type": "stream",
          "text": [
            "Ejemplos usados para entrenar:  867\n",
            "Ejemplos usados para test:  217\n"
          ],
          "name": "stdout"
        }
      ]
    },
    {
      "cell_type": "code",
      "metadata": {
        "id": "n2eQ2A_JhEW9"
      },
      "source": [
        "processed_title = dataset['Processed_Title'].to_list() #Full_Processed Processed_Title Processed_Body\n",
        "title = dataset['Title'].to_list()"
      ],
      "execution_count": null,
      "outputs": []
    },
    {
      "cell_type": "code",
      "metadata": {
        "id": "r3GV07ZshFhe",
        "outputId": "9645b84c-d5bb-4b27-f8bb-5021d0f7b1c1",
        "colab": {
          "base_uri": "https://localhost:8080/",
          "height": 34
        }
      },
      "source": [
        "from gensim.models import Word2Vec\n",
        "# Train Word2Vec on all post.\n",
        "model_p = Word2Vec(processed_title, workers=3, size=100)\n",
        "\n",
        "# Inicialización de WmdSimilarity.\n",
        "from gensim.similarities import WmdSimilarity\n",
        "num_best = 15\n",
        "instancia_p = WmdSimilarity(train_p, model_p, num_best)\n",
        "print(instancia_p)"
      ],
      "execution_count": null,
      "outputs": [
        {
          "output_type": "stream",
          "text": [
            "WmdSimilarity<867 docs, 100 features>\n"
          ],
          "name": "stdout"
        }
      ]
    },
    {
      "cell_type": "code",
      "metadata": {
        "id": "japN2h6uhHZf",
        "outputId": "801be4e1-c89e-4020-e813-bb916bb3ebe8",
        "colab": {
          "base_uri": "https://localhost:8080/",
          "height": 51
        }
      },
      "source": [
        "start = time()\n",
        "\n",
        "msj_p = '¿Por qué no existe oficialmente un Docker para Sistemas operativos de 32 bits (x86)?'\n",
        "bus_p = preprocess(msj_p)\n",
        "print(bus_p)\n",
        "sim_p = instancia_p[bus_p]\n",
        "# print(len(sim_p)) 5\n",
        "print ('Tiempo de ejecución: %.2f segundos en ejecutarse.' %(time() - start))"
      ],
      "execution_count": null,
      "outputs": [
        {
          "output_type": "stream",
          "text": [
            "['existe', 'oficialmente', 'docker', 'sistemas', 'operativos', '32', 'bits', 'x86']\n",
            "Tiempo de ejecución: 0.21 segundos en ejecutarse.\n"
          ],
          "name": "stdout"
        }
      ]
    },
    {
      "cell_type": "code",
      "metadata": {
        "id": "9hppZ7FKhI31",
        "outputId": "7541b444-14f9-4bae-bbe3-7611748736cf",
        "colab": {
          "base_uri": "https://localhost:8080/",
          "height": 306
        }
      },
      "source": [
        "print ('Búsqueda: ', msj_p)\n",
        "print(\"\")\n",
        "for i in range(num_best): # (num_best)\n",
        "    print (title[sim_p[i][0]],'---> sim = %.4f' % sim_p[i][1])"
      ],
      "execution_count": null,
      "outputs": [
        {
          "output_type": "stream",
          "text": [
            "Búsqueda:  ¿Por qué no existe oficialmente un Docker para Sistemas operativos de 32 bits (x86)?\n",
            "\n",
            "Por qué no existe oficialmente un Docker para Sistemas operativos de 32 bits (x86)? ---> sim = 1.0000\n",
            "Designar directorio de docker de Informix ---> sim = 0.6193\n",
            "¿Como se cambia la ip a la que se enlaza un contenedor docker? ---> sim = 0.5981\n",
            "Docker container error Waiting for headers ---> sim = 0.5520\n",
            "¿Existe alguna combinación de teclas para imprimir caracteres ASCII en Linux? ---> sim = 0.5453\n",
            "Error con Plugin de nginx para Docker Compose ---> sim = 0.5437\n",
            "Como comprobar si existe una palabra dentro de un fichero ---> sim = 0.5141\n",
            "Debugear código Django utilizando Docker ---> sim = 0.5129\n",
            "Mejor opción: Windows Docker vs Compilar en Linux? ---> sim = 0.5107\n",
            "¿Porque si añado la ubicación de mi programa al PATH y luego lo ejecuto me dice que no existe en Ubuntu? ---> sim = 0.5016\n",
            "¿Existe una manera estándar de limpiar la pantalla en C/C++? ---> sim = 0.5000\n",
            "/boot/grub no existe pero /grub sí. ¿Como decirle al cargador de arranque eso? ---> sim = 0.4926\n",
            "Como acceder a mi servidor virtual Linux que tengo en Docker desde afuera ---> sim = 0.4887\n",
            "¿Como agregar varios puertos al mismo contenedor de Docker? ---> sim = 0.4884\n",
            "¿Como ejecutar un contenedor de Docker de una maquina virtual Ubuntu Server para ser visualizado en Windows? ---> sim = 0.4776\n"
          ],
          "name": "stdout"
        }
      ]
    },
    {
      "cell_type": "code",
      "metadata": {
        "id": "VwFdI942yHo5"
      },
      "source": [
        "# Error al instalar MySQL 8 en Ubuntu 16.04 ---> sim = 1.0000\n",
        "# Error al instalar php 7,2 en ubuntu 16.04 ---> sim = 0.7468\n",
        "# Ubuntu 16.02 lts error al instalar e desinstalar paquetes ---> sim = 0.7345\n",
        "# ¿Por que cuando intento instalar el ssh en ubuntu me muestra error? ---> sim = 0.6593\n",
        "# ¿Cómo instalar php-mbregex en ubuntu 16.04? ---> sim = 0.6302\n",
        "# Error instalar xampp en linux ---> sim = 0.6237\n",
        "# Error con \"main\" no definida en linux ubuntu ---> sim = 0.6172\n",
        "# ¿Como puedo instalar PHP en Ubuntu? ---> sim = 0.6146\n",
        "# Mysql error 1046: No database selected ---> sim = 0.6116\n",
        "# Problema con el grub al instalar ubuntu ---> sim = 0.6080\n",
        "# ¿Ayuda me da este error al hacer en consulta en Mysql Uncaught Error: Call to undefined function mysql_error()? ---> sim = 0.6062\n",
        "# Error found when loading /home/hernan/.profile Ubuntu 18 ---> sim = 0.6062\n",
        "# Google compute Engine, error al conectar remotamente al MySQL ---> sim = 0.6057\n",
        "# Error al instalar en Red Hat ---> sim = 0.6054\n",
        "# Problemas al instalar LAMP en ubuntu ---> sim = 0.6053"
      ],
      "execution_count": null,
      "outputs": []
    },
    {
      "cell_type": "code",
      "metadata": {
        "id": "LDBZA_WCPYbF",
        "outputId": "a9a18efb-0586-4049-8f24-b078a779a06d",
        "colab": {
          "base_uri": "https://localhost:8080/",
          "height": 54
        }
      },
      "source": [
        "search_results = []\n",
        "for i in range(num_best): # (num_best)\n",
        "  # print (title[sim_p[i][0]],'---> sim = %.4f' % sim_p[i][1])\n",
        "  temp = {\n",
        "            'title': str(title[sim_p[i][0]]),\n",
        "            'similarity_score': str('%.4f' % sim_p[i][1]),\n",
        "        }\n",
        "  search_results.append(temp)\n",
        "\n",
        "print(search_results[:])"
      ],
      "execution_count": null,
      "outputs": [
        {
          "output_type": "stream",
          "text": [
            "[{'title': 'Error al instalar MySQL 8 en Ubuntu 16.04', 'similarity_score': '1.0000'}, {'title': 'Error al instalar php 7,2 en ubuntu 16.04', 'similarity_score': '0.7486'}, {'title': '¿Cómo instalar php-mbregex en ubuntu 16.04?', 'similarity_score': '0.6855'}, {'title': 'Ubuntu 16.02 lts error al instalar e desinstalar paquetes', 'similarity_score': '0.6616'}, {'title': 'CronJob Ubuntu 16.04/php7.0', 'similarity_score': '0.6125'}, {'title': 'VM Ubuntu 16.04 , No se inicia ningún Navegador web', 'similarity_score': '0.6107'}, {'title': '¿Por que cuando intento instalar el ssh en ubuntu me muestra error?', 'similarity_score': '0.6072'}, {'title': '¿Que falta por configurar? IP estática en Ubuntu 16.04', 'similarity_score': '0.6016'}, {'title': 'Error de OpenSSL usando composer en ubuntu 18.04', 'similarity_score': '0.5947'}, {'title': 'Error con \"main\" no definida en linux ubuntu', 'similarity_score': '0.5766'}, {'title': '¿Como puedo instalar PHP en Ubuntu?', 'similarity_score': '0.5686'}, {'title': 'INSTALAR CENTREON 19.04 EN REDHAT LINUX ENTERPRISE 7', 'similarity_score': '0.5680'}, {'title': 'Error al instalar en Red Hat', 'similarity_score': '0.5656'}, {'title': 'Error instalar xampp en linux', 'similarity_score': '0.5644'}, {'title': 'Instalar Ubuntu o Linux mint sin EUFI desde USB', 'similarity_score': '0.5635'}]\n"
          ],
          "name": "stdout"
        }
      ]
    },
    {
      "cell_type": "code",
      "metadata": {
        "id": "4xPuBaIPeMgF",
        "outputId": "5d8ccda9-434c-4862-8bcb-cdddf90cc686",
        "colab": {
          "base_uri": "https://localhost:8080/",
          "height": 71
        }
      },
      "source": [
        "model_p.save('wmd.bin')"
      ],
      "execution_count": null,
      "outputs": [
        {
          "output_type": "stream",
          "text": [
            "/usr/local/lib/python3.6/dist-packages/smart_open/smart_open_lib.py:254: UserWarning: This function is deprecated, use smart_open.open instead. See the migration notes for details: https://github.com/RaRe-Technologies/smart_open/blob/master/README.rst#migrating-to-the-new-open-function\n",
            "  'See the migration notes for details: %s' % _MIGRATION_NOTES_URL\n"
          ],
          "name": "stderr"
        }
      ]
    },
    {
      "cell_type": "code",
      "metadata": {
        "id": "3CeCVqFjCEjb",
        "outputId": "18bca889-daad-40c4-86c7-47b0a289235b",
        "colab": {
          "base_uri": "https://localhost:8080/",
          "height": 71
        }
      },
      "source": [
        "# Import saved Wordvec Embeddings\n",
        "import gensim\n",
        "w2v_model = gensim.models.word2vec.Word2Vec.load('/content/wmd.bin')"
      ],
      "execution_count": null,
      "outputs": [
        {
          "output_type": "stream",
          "text": [
            "/usr/local/lib/python3.6/dist-packages/smart_open/smart_open_lib.py:254: UserWarning: This function is deprecated, use smart_open.open instead. See the migration notes for details: https://github.com/RaRe-Technologies/smart_open/blob/master/README.rst#migrating-to-the-new-open-function\n",
            "  'See the migration notes for details: %s' % _MIGRATION_NOTES_URL\n"
          ],
          "name": "stderr"
        }
      ]
    },
    {
      "cell_type": "code",
      "metadata": {
        "id": "jvkLNG0kCmZ-",
        "outputId": "df9b1149-0a97-4727-c353-03aef514c613",
        "colab": {
          "base_uri": "https://localhost:8080/",
          "height": 34
        }
      },
      "source": [
        "w2v_model"
      ],
      "execution_count": null,
      "outputs": [
        {
          "output_type": "execute_result",
          "data": {
            "text/plain": [
              "<gensim.models.word2vec.Word2Vec at 0x7fe49ceb3320>"
            ]
          },
          "metadata": {
            "tags": []
          },
          "execution_count": 20
        }
      ]
    },
    {
      "cell_type": "code",
      "metadata": {
        "id": "qG1htZWADMy1",
        "outputId": "a04f437b-2651-4ed2-b600-1851cf727765",
        "colab": {
          "base_uri": "https://localhost:8080/",
          "height": 34
        }
      },
      "source": [
        "# Inicialización de WmdSimilarity.\n",
        "from gensim.similarities import WmdSimilarity\n",
        "num_best = 5\n",
        "instancia_p = WmdSimilarity(train_p, model_p, num_best=5)\n",
        "print(instancia_p)"
      ],
      "execution_count": null,
      "outputs": [
        {
          "output_type": "stream",
          "text": [
            "WmdSimilarity<867 docs, 100 features>\n"
          ],
          "name": "stdout"
        }
      ]
    }
  ]
}