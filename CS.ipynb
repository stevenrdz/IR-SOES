{
  "nbformat": 4,
  "nbformat_minor": 0,
  "metadata": {
    "colab": {
      "name": "CS.ipynb",
      "provenance": [],
      "authorship_tag": "ABX9TyPAfid8v+D4l/TdXUxyf3oU",
      "include_colab_link": true
    },
    "kernelspec": {
      "name": "python3",
      "display_name": "Python 3"
    }
  },
  "cells": [
    {
      "cell_type": "markdown",
      "metadata": {
        "id": "view-in-github",
        "colab_type": "text"
      },
      "source": [
        "<a href=\"https://colab.research.google.com/github/stevenrdz/IR-SOES/blob/master/CS.ipynb\" target=\"_parent\"><img src=\"https://colab.research.google.com/assets/colab-badge.svg\" alt=\"Open In Colab\"/></a>"
      ]
    },
    {
      "cell_type": "code",
      "metadata": {
        "id": "Wl1i7nz4iwZb",
        "outputId": "ff15d8e1-b5a7-4242-fdbd-4f0021933efd",
        "colab": {
          "base_uri": "https://localhost:8080/",
          "height": 122
        }
      },
      "source": [
        "from google.colab import files\n",
        "from google.colab import drive\n",
        "drive.mount('/content/gdrive')"
      ],
      "execution_count": null,
      "outputs": [
        {
          "output_type": "stream",
          "text": [
            "Go to this URL in a browser: https://accounts.google.com/o/oauth2/auth?client_id=947318989803-6bn6qk8qdgf4n4g3pfee6491hc0brc4i.apps.googleusercontent.com&redirect_uri=urn%3aietf%3awg%3aoauth%3a2.0%3aoob&response_type=code&scope=email%20https%3a%2f%2fwww.googleapis.com%2fauth%2fdocs.test%20https%3a%2f%2fwww.googleapis.com%2fauth%2fdrive%20https%3a%2f%2fwww.googleapis.com%2fauth%2fdrive.photos.readonly%20https%3a%2f%2fwww.googleapis.com%2fauth%2fpeopleapi.readonly\n",
            "\n",
            "Enter your authorization code:\n",
            "··········\n",
            "Mounted at /content/gdrive\n"
          ],
          "name": "stdout"
        }
      ]
    },
    {
      "cell_type": "code",
      "metadata": {
        "id": "t2vC2XqZivNj",
        "outputId": "1548637d-9a73-4164-c101-cdcaa44ea1a7",
        "colab": {
          "base_uri": "https://localhost:8080/",
          "height": 102
        }
      },
      "source": [
        "import nltk\n",
        "nltk.download('stopwords')\n",
        "nltk.download('punkt')"
      ],
      "execution_count": null,
      "outputs": [
        {
          "output_type": "stream",
          "text": [
            "[nltk_data] Downloading package stopwords to /root/nltk_data...\n",
            "[nltk_data]   Unzipping corpora/stopwords.zip.\n",
            "[nltk_data] Downloading package punkt to /root/nltk_data...\n",
            "[nltk_data]   Unzipping tokenizers/punkt.zip.\n"
          ],
          "name": "stdout"
        },
        {
          "output_type": "execute_result",
          "data": {
            "text/plain": [
              "True"
            ]
          },
          "metadata": {
            "tags": []
          },
          "execution_count": 2
        }
      ]
    },
    {
      "cell_type": "code",
      "metadata": {
        "id": "qbRym5Z0isTs",
        "outputId": "ace7de3e-b2d8-415e-bdcf-f427a43f987e",
        "colab": {
          "base_uri": "https://localhost:8080/",
          "height": 34
        }
      },
      "source": [
        "from time import time\n",
        "start_nb = time()\n",
        "\n",
        "start = time()\n",
        "import pandas as pd\n",
        "from nltk.corpus import stopwords\n",
        "import re\n",
        "from nltk import word_tokenize\n",
        "\n",
        "es_stops = set(stopwords.words('spanish'))\n",
        "\n",
        "print('Importación de Librerias. %.2f segundos' % (time() - start))"
      ],
      "execution_count": null,
      "outputs": [
        {
          "output_type": "stream",
          "text": [
            "Importación de Librerias. 0.00 segundos\n"
          ],
          "name": "stdout"
        }
      ]
    },
    {
      "cell_type": "code",
      "metadata": {
        "id": "cErokgQliSxH",
        "outputId": "d83cdd3c-1dcc-4ce2-c335-de693b256108",
        "colab": {
          "base_uri": "https://localhost:8080/",
          "height": 306
        }
      },
      "source": [
        "start = time()\n",
        "data = pd.read_csv('//content/gdrive/My Drive/ultimate.csv',\n",
        "                      sep=';', encoding='utf-8-sig')\n",
        "\n",
        "\n",
        "print('Dataset generado. %.2f segundos' % (time() - start))\n",
        "data.head()"
      ],
      "execution_count": null,
      "outputs": [
        {
          "output_type": "stream",
          "text": [
            "Dataset generado. 0.27 segundos\n"
          ],
          "name": "stdout"
        },
        {
          "output_type": "execute_result",
          "data": {
            "text/html": [
              "<div>\n",
              "<style scoped>\n",
              "    .dataframe tbody tr th:only-of-type {\n",
              "        vertical-align: middle;\n",
              "    }\n",
              "\n",
              "    .dataframe tbody tr th {\n",
              "        vertical-align: top;\n",
              "    }\n",
              "\n",
              "    .dataframe thead th {\n",
              "        text-align: right;\n",
              "    }\n",
              "</style>\n",
              "<table border=\"1\" class=\"dataframe\">\n",
              "  <thead>\n",
              "    <tr style=\"text-align: right;\">\n",
              "      <th></th>\n",
              "      <th>Id</th>\n",
              "      <th>Title</th>\n",
              "      <th>Body</th>\n",
              "      <th>Processed_Title</th>\n",
              "      <th>Processed_Body</th>\n",
              "    </tr>\n",
              "  </thead>\n",
              "  <tbody>\n",
              "    <tr>\n",
              "      <th>0</th>\n",
              "      <td>286498</td>\n",
              "      <td>Debugear código Django utilizando Docker</td>\n",
              "      <td>&lt;p&gt;Les cuento.\\r\\nEstoy realizando un proyecto...</td>\n",
              "      <td>debugear código django utilizando docker</td>\n",
              "      <td>cuento realizando proyecto django utilizo pych...</td>\n",
              "    </tr>\n",
              "    <tr>\n",
              "      <th>1</th>\n",
              "      <td>226916</td>\n",
              "      <td>En el file.conf muestra Error usando Superviso...</td>\n",
              "      <td>&lt;p&gt;Al configurar el file.conf&lt;br&gt;\\r\\nruta : su...</td>\n",
              "      <td>muestra error usando supervisor digital ocean ...</td>\n",
              "      <td>configurar ruta sudo nano program facturaempre...</td>\n",
              "    </tr>\n",
              "    <tr>\n",
              "      <th>2</th>\n",
              "      <td>161561</td>\n",
              "      <td>Ejecutar navegador en pantalla completa al ini...</td>\n",
              "      <td>&lt;p&gt;Estoy realizando un &lt;em&gt;proyecto Domotico&lt;/...</td>\n",
              "      <td>ejecutar navegador pantalla completa iniciar l...</td>\n",
              "      <td>realizando proyecto domotico siguientes compon...</td>\n",
              "    </tr>\n",
              "    <tr>\n",
              "      <th>3</th>\n",
              "      <td>230560</td>\n",
              "      <td>Pagina web en blanco</td>\n",
              "      <td>&lt;p&gt;Buen dia \\r\\nNo se por que mi pagina web sa...</td>\n",
              "      <td>pagina web blanco</td>\n",
              "      <td>buen dia pagina web sale blanco alguien podria...</td>\n",
              "    </tr>\n",
              "    <tr>\n",
              "      <th>4</th>\n",
              "      <td>309146</td>\n",
              "      <td>Obtengo el error I/Choreographer: Skipped 110 ...</td>\n",
              "      <td>&lt;p&gt;Estoy trabajando en android studio intentan...</td>\n",
              "      <td>obtengo error skipped frames the application m...</td>\n",
              "      <td>trabajando android studio intentando hacer con...</td>\n",
              "    </tr>\n",
              "  </tbody>\n",
              "</table>\n",
              "</div>"
            ],
            "text/plain": [
              "       Id  ...                                     Processed_Body\n",
              "0  286498  ...  cuento realizando proyecto django utilizo pych...\n",
              "1  226916  ...  configurar ruta sudo nano program facturaempre...\n",
              "2  161561  ...  realizando proyecto domotico siguientes compon...\n",
              "3  230560  ...  buen dia pagina web sale blanco alguien podria...\n",
              "4  309146  ...  trabajando android studio intentando hacer con...\n",
              "\n",
              "[5 rows x 5 columns]"
            ]
          },
          "metadata": {
            "tags": []
          },
          "execution_count": 4
        }
      ]
    },
    {
      "cell_type": "code",
      "metadata": {
        "id": "FqBc45cmil_S"
      },
      "source": [
        "def preprocess(doc):\n",
        "    code = re.compile('[¿?\"\"(),:'']') # Eliminación de signos de puntuacion.\n",
        "    doc = re.sub(code, '', doc)\n",
        "    punt = re.compile('[./@_]') # Eliminación de signos de puntuacion.\n",
        "    doc = re.sub(punt, ' ', doc)\n",
        "    code = re.compile('<pre><code>[\\s\\S]*</code></pre>') # Eliminación de codigo.\n",
        "    doc = re.sub(code, '', doc)\n",
        "    tag = re.compile('<.*?>') # Eliminación de etiquetas.\n",
        "    doc = re.sub(tag, '', doc)\n",
        "    doc = doc.lower()  # Minuscula todo el texto.\n",
        "    doc = word_tokenize(doc)  # Dividir en palabras.\n",
        "    doc = [w for w in doc if not w in es_stops]  # Eliminar stopwords.\n",
        "    # doc = [w for w in doc if w.isalpha()]  # Eliminar numbers and punctuation.\n",
        "    return doc"
      ],
      "execution_count": null,
      "outputs": []
    },
    {
      "cell_type": "code",
      "metadata": {
        "id": "TcoMFH-PiX4M"
      },
      "source": [
        "from sklearn.feature_extraction.text import CountVectorizer\n",
        "from sklearn.metrics.pairwise import cosine_similarity\n",
        "import pandas as pd\n",
        "import numpy as np\n",
        "import string\n",
        "\n",
        "titles_cosim = data['Processed_Title'].to_list()\n",
        "id_index = data['Id'].to_list()\n",
        "# Create the Document Term Matrix\n",
        "vectorizer = CountVectorizer()"
      ],
      "execution_count": null,
      "outputs": []
    },
    {
      "cell_type": "code",
      "metadata": {
        "id": "9Gu0tjGiiZDj"
      },
      "source": [
        "def print_res(data, id):\n",
        "    with pd.option_context('display.max_colwidth', 500):\n",
        "        print(data.iloc[[id], [0,1]])"
      ],
      "execution_count": null,
      "outputs": []
    },
    {
      "cell_type": "code",
      "metadata": {
        "id": "IKVIWU9uiaQa"
      },
      "source": [
        "# Create the Document Term Matrix\n",
        "count_vectorizer = CountVectorizer()\n",
        "sparse_matrix = count_vectorizer.fit_transform(titles_cosim)\n",
        "doc_term_matrix = sparse_matrix.todense()\n",
        "dtm = pd.DataFrame(doc_term_matrix,\n",
        "                  columns=count_vectorizer.get_feature_names())"
      ],
      "execution_count": null,
      "outputs": []
    },
    {
      "cell_type": "code",
      "metadata": {
        "id": "T_5dL03ribrb",
        "outputId": "78e3cfe7-31be-4ead-b08e-d9c11bbc1722",
        "colab": {
          "base_uri": "https://localhost:8080/",
          "height": 34
        }
      },
      "source": [
        "# Create the Query Matrix\n",
        "query = preprocess(\"Problemas con OSRM con R y Ubuntu 18.04\")\n",
        "print(query)\n",
        "query_matrix = count_vectorizer.transform(query)\n",
        "query_term_matrix = query_matrix.todense()\n",
        "qtm = pd.DataFrame(query_term_matrix,\n",
        "                  columns=count_vectorizer.get_feature_names())"
      ],
      "execution_count": null,
      "outputs": [
        {
          "output_type": "stream",
          "text": [
            "['problemas', 'osrm', 'r', 'ubuntu']\n"
          ],
          "name": "stdout"
        }
      ]
    },
    {
      "cell_type": "code",
      "metadata": {
        "id": "G7ki9zRcidKD",
        "outputId": "2f59b48c-923e-42b2-80d5-b90fc93bf5ce",
        "colab": {
          "base_uri": "https://localhost:8080/",
          "height": 51
        }
      },
      "source": [
        "# Results and format\n",
        "k = 5\n",
        "cossim_matrix = cosine_similarity(qtm, dtm)\n",
        "last = len(cossim_matrix)-1\n",
        "exa = []\n",
        "arg_sort = cossim_matrix[last].argsort()[-k:][::-1]\n",
        "print(arg_sort)\n",
        "value_sort = np.sort(cossim_matrix[last])[-k:][::-1]\n",
        "print(value_sort)"
      ],
      "execution_count": null,
      "outputs": [
        {
          "output_type": "stream",
          "text": [
            "[ 619  470 1048  923  456]\n",
            "[0.70710678 0.70710678 0.70710678 0.70710678 0.70710678]\n"
          ],
          "name": "stdout"
        }
      ]
    },
    {
      "cell_type": "code",
      "metadata": {
        "id": "BgjlQOBuiekT"
      },
      "source": [
        "for i in range(k):\n",
        "    exa.append((arg_sort[i], value_sort[i]))"
      ],
      "execution_count": null,
      "outputs": []
    },
    {
      "cell_type": "code",
      "metadata": {
        "id": "Gc_8Ql_oifw6",
        "outputId": "5e975ab2-a5b7-48a4-8581-c13cf050c789",
        "colab": {
          "base_uri": "https://localhost:8080/",
          "height": 357
        }
      },
      "source": [
        "for i in range(len(exa)):\n",
        "  print_res(data, exa[i][0])\n",
        "  print(\"sim: \",exa[i])\n",
        "  print(\"-------------------------------------------------------\")"
      ],
      "execution_count": null,
      "outputs": [
        {
          "output_type": "stream",
          "text": [
            "         Id                            Title\n",
            "619  265755  Java_Home no se setea en ubuntu\n",
            "sim:  (619, 0.7071067811865475)\n",
            "-------------------------------------------------------\n",
            "         Id                                        Title\n",
            "470  124058  ¿Cómo instalar php-mbregex en ubuntu 16.04?\n",
            "sim:  (470, 0.7071067811865475)\n",
            "-------------------------------------------------------\n",
            "          Id                        Title\n",
            "1048  303052  ¿Qué le sucede a mi Ubuntu?\n",
            "sim:  (1048, 0.7071067811865475)\n",
            "-------------------------------------------------------\n",
            "         Id                Title\n",
            "923  217036  Particionado Ubuntu\n",
            "sim:  (923, 0.7071067811865475)\n",
            "-------------------------------------------------------\n",
            "         Id                        Title\n",
            "456  198725  CronJob Ubuntu 16.04/php7.0\n",
            "sim:  (456, 0.7071067811865475)\n",
            "-------------------------------------------------------\n"
          ],
          "name": "stdout"
        }
      ]
    }
  ]
}