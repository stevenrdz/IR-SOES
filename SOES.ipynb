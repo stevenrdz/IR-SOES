{
  "nbformat": 4,
  "nbformat_minor": 0,
  "metadata": {
    "colab": {
      "name": "SOES.ipynb",
      "provenance": [],
      "collapsed_sections": [
        "m9QtwYuuIS6N",
        "FcljReVfIZ8H",
        "Rvp8LvmALVwC"
      ],
      "toc_visible": true,
      "authorship_tag": "ABX9TyP1o+FcDivw8b1hlw5Ik7uX",
      "include_colab_link": true
    },
    "kernelspec": {
      "name": "python3",
      "display_name": "Python 3"
    }
  },
  "cells": [
    {
      "cell_type": "markdown",
      "metadata": {
        "id": "view-in-github",
        "colab_type": "text"
      },
      "source": [
        "<a href=\"https://colab.research.google.com/github/stevenrdz/IR-SOES/blob/master/SOES.ipynb\" target=\"_parent\"><img src=\"https://colab.research.google.com/assets/colab-badge.svg\" alt=\"Open In Colab\"/></a>"
      ]
    },
    {
      "cell_type": "code",
      "metadata": {
        "id": "rDlWxMaH6Tzd",
        "colab_type": "code",
        "colab": {
          "base_uri": "https://localhost:8080/",
          "height": 921
        },
        "outputId": "49bb814b-06f4-4497-e355-994d549bed1c"
      },
      "source": [
        "!pip install spacy\n",
        "!python -m spacy download es_core_news_md"
      ],
      "execution_count": 1,
      "outputs": [
        {
          "output_type": "stream",
          "text": [
            "Requirement already satisfied: spacy in /usr/local/lib/python3.6/dist-packages (2.2.4)\n",
            "Requirement already satisfied: cymem<2.1.0,>=2.0.2 in /usr/local/lib/python3.6/dist-packages (from spacy) (2.0.3)\n",
            "Requirement already satisfied: blis<0.5.0,>=0.4.0 in /usr/local/lib/python3.6/dist-packages (from spacy) (0.4.1)\n",
            "Requirement already satisfied: setuptools in /usr/local/lib/python3.6/dist-packages (from spacy) (49.1.0)\n",
            "Requirement already satisfied: requests<3.0.0,>=2.13.0 in /usr/local/lib/python3.6/dist-packages (from spacy) (2.23.0)\n",
            "Requirement already satisfied: murmurhash<1.1.0,>=0.28.0 in /usr/local/lib/python3.6/dist-packages (from spacy) (1.0.2)\n",
            "Requirement already satisfied: preshed<3.1.0,>=3.0.2 in /usr/local/lib/python3.6/dist-packages (from spacy) (3.0.2)\n",
            "Requirement already satisfied: numpy>=1.15.0 in /usr/local/lib/python3.6/dist-packages (from spacy) (1.18.5)\n",
            "Requirement already satisfied: srsly<1.1.0,>=1.0.2 in /usr/local/lib/python3.6/dist-packages (from spacy) (1.0.2)\n",
            "Requirement already satisfied: plac<1.2.0,>=0.9.6 in /usr/local/lib/python3.6/dist-packages (from spacy) (1.1.3)\n",
            "Requirement already satisfied: tqdm<5.0.0,>=4.38.0 in /usr/local/lib/python3.6/dist-packages (from spacy) (4.41.1)\n",
            "Requirement already satisfied: thinc==7.4.0 in /usr/local/lib/python3.6/dist-packages (from spacy) (7.4.0)\n",
            "Requirement already satisfied: catalogue<1.1.0,>=0.0.7 in /usr/local/lib/python3.6/dist-packages (from spacy) (1.0.0)\n",
            "Requirement already satisfied: wasabi<1.1.0,>=0.4.0 in /usr/local/lib/python3.6/dist-packages (from spacy) (0.7.1)\n",
            "Requirement already satisfied: idna<3,>=2.5 in /usr/local/lib/python3.6/dist-packages (from requests<3.0.0,>=2.13.0->spacy) (2.10)\n",
            "Requirement already satisfied: urllib3!=1.25.0,!=1.25.1,<1.26,>=1.21.1 in /usr/local/lib/python3.6/dist-packages (from requests<3.0.0,>=2.13.0->spacy) (1.24.3)\n",
            "Requirement already satisfied: chardet<4,>=3.0.2 in /usr/local/lib/python3.6/dist-packages (from requests<3.0.0,>=2.13.0->spacy) (3.0.4)\n",
            "Requirement already satisfied: certifi>=2017.4.17 in /usr/local/lib/python3.6/dist-packages (from requests<3.0.0,>=2.13.0->spacy) (2020.6.20)\n",
            "Requirement already satisfied: importlib-metadata>=0.20; python_version < \"3.8\" in /usr/local/lib/python3.6/dist-packages (from catalogue<1.1.0,>=0.0.7->spacy) (1.7.0)\n",
            "Requirement already satisfied: zipp>=0.5 in /usr/local/lib/python3.6/dist-packages (from importlib-metadata>=0.20; python_version < \"3.8\"->catalogue<1.1.0,>=0.0.7->spacy) (3.1.0)\n",
            "Collecting es_core_news_md==2.2.5\n",
            "\u001b[?25l  Downloading https://github.com/explosion/spacy-models/releases/download/es_core_news_md-2.2.5/es_core_news_md-2.2.5.tar.gz (78.4MB)\n",
            "\u001b[K     |████████████████████████████████| 78.4MB 1.2MB/s \n",
            "\u001b[?25hRequirement already satisfied: spacy>=2.2.2 in /usr/local/lib/python3.6/dist-packages (from es_core_news_md==2.2.5) (2.2.4)\n",
            "Requirement already satisfied: blis<0.5.0,>=0.4.0 in /usr/local/lib/python3.6/dist-packages (from spacy>=2.2.2->es_core_news_md==2.2.5) (0.4.1)\n",
            "Requirement already satisfied: cymem<2.1.0,>=2.0.2 in /usr/local/lib/python3.6/dist-packages (from spacy>=2.2.2->es_core_news_md==2.2.5) (2.0.3)\n",
            "Requirement already satisfied: requests<3.0.0,>=2.13.0 in /usr/local/lib/python3.6/dist-packages (from spacy>=2.2.2->es_core_news_md==2.2.5) (2.23.0)\n",
            "Requirement already satisfied: thinc==7.4.0 in /usr/local/lib/python3.6/dist-packages (from spacy>=2.2.2->es_core_news_md==2.2.5) (7.4.0)\n",
            "Requirement already satisfied: numpy>=1.15.0 in /usr/local/lib/python3.6/dist-packages (from spacy>=2.2.2->es_core_news_md==2.2.5) (1.18.5)\n",
            "Requirement already satisfied: preshed<3.1.0,>=3.0.2 in /usr/local/lib/python3.6/dist-packages (from spacy>=2.2.2->es_core_news_md==2.2.5) (3.0.2)\n",
            "Requirement already satisfied: tqdm<5.0.0,>=4.38.0 in /usr/local/lib/python3.6/dist-packages (from spacy>=2.2.2->es_core_news_md==2.2.5) (4.41.1)\n",
            "Requirement already satisfied: murmurhash<1.1.0,>=0.28.0 in /usr/local/lib/python3.6/dist-packages (from spacy>=2.2.2->es_core_news_md==2.2.5) (1.0.2)\n",
            "Requirement already satisfied: setuptools in /usr/local/lib/python3.6/dist-packages (from spacy>=2.2.2->es_core_news_md==2.2.5) (49.1.0)\n",
            "Requirement already satisfied: srsly<1.1.0,>=1.0.2 in /usr/local/lib/python3.6/dist-packages (from spacy>=2.2.2->es_core_news_md==2.2.5) (1.0.2)\n",
            "Requirement already satisfied: plac<1.2.0,>=0.9.6 in /usr/local/lib/python3.6/dist-packages (from spacy>=2.2.2->es_core_news_md==2.2.5) (1.1.3)\n",
            "Requirement already satisfied: wasabi<1.1.0,>=0.4.0 in /usr/local/lib/python3.6/dist-packages (from spacy>=2.2.2->es_core_news_md==2.2.5) (0.7.1)\n",
            "Requirement already satisfied: catalogue<1.1.0,>=0.0.7 in /usr/local/lib/python3.6/dist-packages (from spacy>=2.2.2->es_core_news_md==2.2.5) (1.0.0)\n",
            "Requirement already satisfied: idna<3,>=2.5 in /usr/local/lib/python3.6/dist-packages (from requests<3.0.0,>=2.13.0->spacy>=2.2.2->es_core_news_md==2.2.5) (2.10)\n",
            "Requirement already satisfied: certifi>=2017.4.17 in /usr/local/lib/python3.6/dist-packages (from requests<3.0.0,>=2.13.0->spacy>=2.2.2->es_core_news_md==2.2.5) (2020.6.20)\n",
            "Requirement already satisfied: chardet<4,>=3.0.2 in /usr/local/lib/python3.6/dist-packages (from requests<3.0.0,>=2.13.0->spacy>=2.2.2->es_core_news_md==2.2.5) (3.0.4)\n",
            "Requirement already satisfied: urllib3!=1.25.0,!=1.25.1,<1.26,>=1.21.1 in /usr/local/lib/python3.6/dist-packages (from requests<3.0.0,>=2.13.0->spacy>=2.2.2->es_core_news_md==2.2.5) (1.24.3)\n",
            "Requirement already satisfied: importlib-metadata>=0.20; python_version < \"3.8\" in /usr/local/lib/python3.6/dist-packages (from catalogue<1.1.0,>=0.0.7->spacy>=2.2.2->es_core_news_md==2.2.5) (1.7.0)\n",
            "Requirement already satisfied: zipp>=0.5 in /usr/local/lib/python3.6/dist-packages (from importlib-metadata>=0.20; python_version < \"3.8\"->catalogue<1.1.0,>=0.0.7->spacy>=2.2.2->es_core_news_md==2.2.5) (3.1.0)\n",
            "Building wheels for collected packages: es-core-news-md\n",
            "  Building wheel for es-core-news-md (setup.py) ... \u001b[?25l\u001b[?25hdone\n",
            "  Created wheel for es-core-news-md: filename=es_core_news_md-2.2.5-cp36-none-any.whl size=79649483 sha256=684009d5e7d4bbbb5aa75c47cecc99d2f7177544576271c5ca1a5f22c825688d\n",
            "  Stored in directory: /tmp/pip-ephem-wheel-cache-3aoh22ad/wheels/b7/bb/a3/29ab5cf80c2c0a8fa0f2af8402fdace3f159e8265f0fdcbcdb\n",
            "Successfully built es-core-news-md\n",
            "Installing collected packages: es-core-news-md\n",
            "Successfully installed es-core-news-md-2.2.5\n",
            "\u001b[38;5;2m✔ Download and installation successful\u001b[0m\n",
            "You can now load the model via spacy.load('es_core_news_md')\n"
          ],
          "name": "stdout"
        }
      ]
    },
    {
      "cell_type": "code",
      "metadata": {
        "id": "62EgQaiixIPV",
        "colab_type": "code",
        "colab": {
          "base_uri": "https://localhost:8080/",
          "height": 102
        },
        "outputId": "046b3ff6-176a-43f0-a365-897c33c9f44d"
      },
      "source": [
        "import nltk\n",
        "nltk.download('stopwords')\n",
        "nltk.download('punkt')"
      ],
      "execution_count": 2,
      "outputs": [
        {
          "output_type": "stream",
          "text": [
            "[nltk_data] Downloading package stopwords to /root/nltk_data...\n",
            "[nltk_data]   Unzipping corpora/stopwords.zip.\n",
            "[nltk_data] Downloading package punkt to /root/nltk_data...\n",
            "[nltk_data]   Unzipping tokenizers/punkt.zip.\n"
          ],
          "name": "stdout"
        },
        {
          "output_type": "execute_result",
          "data": {
            "text/plain": [
              "True"
            ]
          },
          "metadata": {
            "tags": []
          },
          "execution_count": 2
        }
      ]
    },
    {
      "cell_type": "code",
      "metadata": {
        "id": "dW074_De73it",
        "colab_type": "code",
        "colab": {
          "base_uri": "https://localhost:8080/",
          "height": 122
        },
        "outputId": "66f88fe1-9a2c-4344-9f10-2bae792c2392"
      },
      "source": [
        "from google.colab import files\n",
        "from google.colab import drive\n",
        "drive.mount('/content/gdrive')"
      ],
      "execution_count": 3,
      "outputs": [
        {
          "output_type": "stream",
          "text": [
            "Go to this URL in a browser: https://accounts.google.com/o/oauth2/auth?client_id=947318989803-6bn6qk8qdgf4n4g3pfee6491hc0brc4i.apps.googleusercontent.com&redirect_uri=urn%3aietf%3awg%3aoauth%3a2.0%3aoob&response_type=code&scope=email%20https%3a%2f%2fwww.googleapis.com%2fauth%2fdocs.test%20https%3a%2f%2fwww.googleapis.com%2fauth%2fdrive%20https%3a%2f%2fwww.googleapis.com%2fauth%2fdrive.photos.readonly%20https%3a%2f%2fwww.googleapis.com%2fauth%2fpeopleapi.readonly\n",
            "\n",
            "Enter your authorization code:\n",
            "··········\n",
            "Mounted at /content/gdrive\n"
          ],
          "name": "stdout"
        }
      ]
    },
    {
      "cell_type": "code",
      "metadata": {
        "id": "p3fAyvwXiXuy",
        "colab_type": "code",
        "colab": {
          "base_uri": "https://localhost:8080/",
          "height": 34
        },
        "outputId": "52e98d53-b94b-466f-cc8a-af326a94ae70"
      },
      "source": [
        "from time import time\n",
        "start_nb = time()\n",
        "\n",
        "start = time()\n",
        "import pandas as pd\n",
        "from nltk import SnowballStemmer\n",
        "from nltk.corpus import stopwords\n",
        "import re\n",
        "from nltk import word_tokenize\n",
        "\n",
        "import es_core_news_md\n",
        "nlp = es_core_news_md.load()\n",
        "\n",
        "es_stops = set(stopwords.words('spanish'))\n",
        "Snowball_stemmer = SnowballStemmer('spanish')\n",
        "\n",
        "print('Importación de Librerias. %.2f segundos' % (time() - start))"
      ],
      "execution_count": 4,
      "outputs": [
        {
          "output_type": "stream",
          "text": [
            "Importación de Librerias. 17.71 segundos\n"
          ],
          "name": "stdout"
        }
      ]
    },
    {
      "cell_type": "markdown",
      "metadata": {
        "id": "tOXCGO4uI8C2",
        "colab_type": "text"
      },
      "source": [
        "# PRE-PROCESSED"
      ]
    },
    {
      "cell_type": "markdown",
      "metadata": {
        "id": "W_LratP0JLZE",
        "colab_type": "text"
      },
      "source": [
        "### DATASET"
      ]
    },
    {
      "cell_type": "code",
      "metadata": {
        "id": "Y5ZKX68J4iG4",
        "colab_type": "code",
        "colab": {
          "base_uri": "https://localhost:8080/",
          "height": 221
        },
        "outputId": "6023d1bd-144f-4fae-9f9c-4c63cb0d9fe7"
      },
      "source": [
        "start = time()\n",
        "dataset = pd.read_csv('//content/gdrive/My Drive/df.csv',\n",
        "                      sep=';', encoding='utf-8-sig')\n",
        "dataset_size = len(dataset)\n",
        "\n",
        "\n",
        "print('Dataset generado. %.2f segundos' % (time() - start))\n",
        "dataset.head()"
      ],
      "execution_count": 5,
      "outputs": [
        {
          "output_type": "stream",
          "text": [
            "Dataset generado. 0.22 segundos\n"
          ],
          "name": "stdout"
        },
        {
          "output_type": "execute_result",
          "data": {
            "text/html": [
              "<div>\n",
              "<style scoped>\n",
              "    .dataframe tbody tr th:only-of-type {\n",
              "        vertical-align: middle;\n",
              "    }\n",
              "\n",
              "    .dataframe tbody tr th {\n",
              "        vertical-align: top;\n",
              "    }\n",
              "\n",
              "    .dataframe thead th {\n",
              "        text-align: right;\n",
              "    }\n",
              "</style>\n",
              "<table border=\"1\" class=\"dataframe\">\n",
              "  <thead>\n",
              "    <tr style=\"text-align: right;\">\n",
              "      <th></th>\n",
              "      <th>Id</th>\n",
              "      <th>Title</th>\n",
              "      <th>Body</th>\n",
              "    </tr>\n",
              "  </thead>\n",
              "  <tbody>\n",
              "    <tr>\n",
              "      <th>0</th>\n",
              "      <td>286498</td>\n",
              "      <td>Debugear código Django utilizando Docker</td>\n",
              "      <td>&lt;p&gt;Les cuento.\\r\\nEstoy realizando un proyecto...</td>\n",
              "    </tr>\n",
              "    <tr>\n",
              "      <th>1</th>\n",
              "      <td>226916</td>\n",
              "      <td>En el file.conf muestra Error usando Superviso...</td>\n",
              "      <td>&lt;p&gt;Al configurar el file.conf&lt;br&gt;\\r\\nruta : su...</td>\n",
              "    </tr>\n",
              "    <tr>\n",
              "      <th>2</th>\n",
              "      <td>161561</td>\n",
              "      <td>Ejecutar navegador en pantalla completa al ini...</td>\n",
              "      <td>&lt;p&gt;Estoy realizando un &lt;em&gt;proyecto Domotico&lt;/...</td>\n",
              "    </tr>\n",
              "    <tr>\n",
              "      <th>3</th>\n",
              "      <td>230560</td>\n",
              "      <td>Pagina web en blanco</td>\n",
              "      <td>&lt;p&gt;Buen dia \\r\\nNo se por que mi pagina web sa...</td>\n",
              "    </tr>\n",
              "    <tr>\n",
              "      <th>4</th>\n",
              "      <td>309146</td>\n",
              "      <td>Obtengo el error I/Choreographer: Skipped 110 ...</td>\n",
              "      <td>&lt;p&gt;Estoy trabajando en android studio intentan...</td>\n",
              "    </tr>\n",
              "  </tbody>\n",
              "</table>\n",
              "</div>"
            ],
            "text/plain": [
              "       Id  ...                                               Body\n",
              "0  286498  ...  <p>Les cuento.\\r\\nEstoy realizando un proyecto...\n",
              "1  226916  ...  <p>Al configurar el file.conf<br>\\r\\nruta : su...\n",
              "2  161561  ...  <p>Estoy realizando un <em>proyecto Domotico</...\n",
              "3  230560  ...  <p>Buen dia \\r\\nNo se por que mi pagina web sa...\n",
              "4  309146  ...  <p>Estoy trabajando en android studio intentan...\n",
              "\n",
              "[5 rows x 3 columns]"
            ]
          },
          "metadata": {
            "tags": []
          },
          "execution_count": 5
        }
      ]
    },
    {
      "cell_type": "markdown",
      "metadata": {
        "id": "pekPnFXiJA0e",
        "colab_type": "text"
      },
      "source": [
        "### LEMATIZACIÓN"
      ]
    },
    {
      "cell_type": "code",
      "metadata": {
        "id": "2DSSL7vrgKs4",
        "colab_type": "code",
        "colab": {}
      },
      "source": [
        "def preprocess_lemma(doc):\n",
        "    separator = ' '\n",
        "    label = re.compile('<.*?>')\n",
        "    doc = re.sub(label, '', doc)\n",
        "    doc = doc.lower()  # Minuscula todo el texto.\n",
        "    doc = word_tokenize(doc)  # Dividir en palabras.\n",
        "    doc = [w for w in doc if not w in es_stops]  # Eliminar stopwords.\n",
        "    doc = [w for w in doc if w.isalpha()]  # Eliminar numbers and punctuation.\n",
        "    doc = separator.join(doc)\n",
        "    doc = nlp(doc)\n",
        "    doc = [w.lemma_ for w in doc]\n",
        "    return doc"
      ],
      "execution_count": 6,
      "outputs": []
    },
    {
      "cell_type": "code",
      "metadata": {
        "id": "n2wSzh6Y2aJ0",
        "colab_type": "code",
        "colab": {
          "base_uri": "https://localhost:8080/",
          "height": 436
        },
        "outputId": "1ee99982-730d-4f68-8d62-4938e0967b9d"
      },
      "source": [
        "start = time()\n",
        "dataset['Lemma_Title'] = dataset.apply(\n",
        "        lambda dataset: preprocess_lemma(dataset['Title']), axis=1)\n",
        "dataset['Lemma_Body'] = dataset.apply(\n",
        "        lambda dataset: preprocess_lemma(dataset['Body']), axis=1)\n",
        "print('Dataset generado. %.2f segundos' % (time() - start))\n",
        "dataset.iloc[:,[3,4]]"
      ],
      "execution_count": 7,
      "outputs": [
        {
          "output_type": "stream",
          "text": [
            "Dataset generado. 28.45 segundos\n"
          ],
          "name": "stdout"
        },
        {
          "output_type": "execute_result",
          "data": {
            "text/html": [
              "<div>\n",
              "<style scoped>\n",
              "    .dataframe tbody tr th:only-of-type {\n",
              "        vertical-align: middle;\n",
              "    }\n",
              "\n",
              "    .dataframe tbody tr th {\n",
              "        vertical-align: top;\n",
              "    }\n",
              "\n",
              "    .dataframe thead th {\n",
              "        text-align: right;\n",
              "    }\n",
              "</style>\n",
              "<table border=\"1\" class=\"dataframe\">\n",
              "  <thead>\n",
              "    <tr style=\"text-align: right;\">\n",
              "      <th></th>\n",
              "      <th>Lemma_Title</th>\n",
              "      <th>Lemma_Body</th>\n",
              "    </tr>\n",
              "  </thead>\n",
              "  <tbody>\n",
              "    <tr>\n",
              "      <th>0</th>\n",
              "      <td>[debugear, código, django, utilizar, docker]</td>\n",
              "      <td>[contar, realizar, proyectar, django, utilizar...</td>\n",
              "    </tr>\n",
              "    <tr>\n",
              "      <th>1</th>\n",
              "      <td>[mostrar, error, usar, supervisor, digital, oc...</td>\n",
              "      <td>[configurar, ruta, sudar, nano, program, factu...</td>\n",
              "    </tr>\n",
              "    <tr>\n",
              "      <th>2</th>\n",
              "      <td>[ejecutar, navegador, pantalla, completo, inic...</td>\n",
              "      <td>[realizar, proyectar, domotico, siguiente, com...</td>\n",
              "    </tr>\n",
              "    <tr>\n",
              "      <th>3</th>\n",
              "      <td>[paginar, web, blanco]</td>\n",
              "      <td>[bueno, dia, paginar, web, salir, blanco, algu...</td>\n",
              "    </tr>\n",
              "    <tr>\n",
              "      <th>4</th>\n",
              "      <td>[obtener, error, skipped, frames, the, applica...</td>\n",
              "      <td>[trabajar, android, studio, intentar, hacer, c...</td>\n",
              "    </tr>\n",
              "    <tr>\n",
              "      <th>...</th>\n",
              "      <td>...</td>\n",
              "      <td>...</td>\n",
              "    </tr>\n",
              "    <tr>\n",
              "      <th>1079</th>\n",
              "      <td>[conexion, remoto, sql, server, linux, mint]</td>\n",
              "      <td>[instalar, sql, server, linux, mint, basar, da...</td>\n",
              "    </tr>\n",
              "    <tr>\n",
              "      <th>1080</th>\n",
              "      <td>[crear, basar, dato, centos, funcionar]</td>\n",
              "      <td>[utilizar, centos, seguir, instrucción, sitiar...</td>\n",
              "    </tr>\n",
              "    <tr>\n",
              "      <th>1081</th>\n",
              "      <td>[hacer, respaldar, basar, dato, terminal]</td>\n",
              "      <td>[basar, dato, milisegundo, sql, server, expres...</td>\n",
              "    </tr>\n",
              "    <tr>\n",
              "      <th>1082</th>\n",
              "      <td>[aplicación, windows, linux, wine]</td>\n",
              "      <td>[aplicación, desarrollar, utilizar, cámara, es...</td>\n",
              "    </tr>\n",
              "    <tr>\n",
              "      <th>1083</th>\n",
              "      <td>[wordpress, solicitar, servidor, usuario, ftp,...</td>\n",
              "      <td>[problema, poner, permiso, entrar, do, servido...</td>\n",
              "    </tr>\n",
              "  </tbody>\n",
              "</table>\n",
              "<p>1084 rows × 2 columns</p>\n",
              "</div>"
            ],
            "text/plain": [
              "                                            Lemma_Title                                         Lemma_Body\n",
              "0          [debugear, código, django, utilizar, docker]  [contar, realizar, proyectar, django, utilizar...\n",
              "1     [mostrar, error, usar, supervisor, digital, oc...  [configurar, ruta, sudar, nano, program, factu...\n",
              "2     [ejecutar, navegador, pantalla, completo, inic...  [realizar, proyectar, domotico, siguiente, com...\n",
              "3                                [paginar, web, blanco]  [bueno, dia, paginar, web, salir, blanco, algu...\n",
              "4     [obtener, error, skipped, frames, the, applica...  [trabajar, android, studio, intentar, hacer, c...\n",
              "...                                                 ...                                                ...\n",
              "1079       [conexion, remoto, sql, server, linux, mint]  [instalar, sql, server, linux, mint, basar, da...\n",
              "1080            [crear, basar, dato, centos, funcionar]  [utilizar, centos, seguir, instrucción, sitiar...\n",
              "1081          [hacer, respaldar, basar, dato, terminal]  [basar, dato, milisegundo, sql, server, expres...\n",
              "1082                 [aplicación, windows, linux, wine]  [aplicación, desarrollar, utilizar, cámara, es...\n",
              "1083  [wordpress, solicitar, servidor, usuario, ftp,...  [problema, poner, permiso, entrar, do, servido...\n",
              "\n",
              "[1084 rows x 2 columns]"
            ]
          },
          "metadata": {
            "tags": []
          },
          "execution_count": 7
        }
      ]
    },
    {
      "cell_type": "markdown",
      "metadata": {
        "id": "Ax27boXvJFGc",
        "colab_type": "text"
      },
      "source": [
        "### STEMMER"
      ]
    },
    {
      "cell_type": "code",
      "metadata": {
        "id": "aToiGtAB2T1_",
        "colab_type": "code",
        "colab": {}
      },
      "source": [
        "def preprocess_stem(doc):\n",
        "    label = re.compile('<.*?>')\n",
        "    doc = re.sub(label, '', doc)\n",
        "    doc = doc.lower()  # Minuscula todo el texto.\n",
        "    doc = word_tokenize(doc)  # Dividir en palabras.\n",
        "    doc = [w for w in doc if not w in es_stops]  # Eliminar stopwords.\n",
        "    doc = [w for w in doc if w.isalpha()]  # Eliminar numbers and punctuation.\n",
        "    doc = [Snowball_stemmer.stem(w) for w in doc]  # Extraer raices o stems (Stemming)\n",
        "    return doc"
      ],
      "execution_count": 8,
      "outputs": []
    },
    {
      "cell_type": "code",
      "metadata": {
        "id": "zOhDPy7SZ79W",
        "colab_type": "code",
        "colab": {
          "base_uri": "https://localhost:8080/",
          "height": 436
        },
        "outputId": "0cf8ca23-65aa-4992-d8b8-07fb3880441a"
      },
      "source": [
        "start = time()\n",
        "dataset['Stem_Title'] = dataset.apply(\n",
        "        lambda dataset: preprocess_stem(dataset['Title']), axis=1)\n",
        "dataset['Stem_Body'] = dataset.apply(\n",
        "        lambda dataset: preprocess_stem(dataset['Body']), axis=1)\n",
        "print('Preprocesado completo. %.2f segundos' % (time() - start))\n",
        "dataset.iloc[:,[5,6]]"
      ],
      "execution_count": 9,
      "outputs": [
        {
          "output_type": "stream",
          "text": [
            "Preprocesado completo. 3.60 segundos\n"
          ],
          "name": "stdout"
        },
        {
          "output_type": "execute_result",
          "data": {
            "text/html": [
              "<div>\n",
              "<style scoped>\n",
              "    .dataframe tbody tr th:only-of-type {\n",
              "        vertical-align: middle;\n",
              "    }\n",
              "\n",
              "    .dataframe tbody tr th {\n",
              "        vertical-align: top;\n",
              "    }\n",
              "\n",
              "    .dataframe thead th {\n",
              "        text-align: right;\n",
              "    }\n",
              "</style>\n",
              "<table border=\"1\" class=\"dataframe\">\n",
              "  <thead>\n",
              "    <tr style=\"text-align: right;\">\n",
              "      <th></th>\n",
              "      <th>Stem_Title</th>\n",
              "      <th>Stem_Body</th>\n",
              "    </tr>\n",
              "  </thead>\n",
              "  <tbody>\n",
              "    <tr>\n",
              "      <th>0</th>\n",
              "      <td>[debug, codig, djang, utiliz, dock]</td>\n",
              "      <td>[cuent, realiz, proyect, djang, utiliz, pychar...</td>\n",
              "    </tr>\n",
              "    <tr>\n",
              "      <th>1</th>\n",
              "      <td>[muestr, error, usand, supervisor, digital, oc...</td>\n",
              "      <td>[configur, rut, sud, nan, program, facturaempr...</td>\n",
              "    </tr>\n",
              "    <tr>\n",
              "      <th>2</th>\n",
              "      <td>[ejecut, naveg, pantall, complet, inici, linux]</td>\n",
              "      <td>[realiz, proyect, domot, siguient, component, ...</td>\n",
              "    </tr>\n",
              "    <tr>\n",
              "      <th>3</th>\n",
              "      <td>[pagin, web, blanc]</td>\n",
              "      <td>[buen, dia, pagin, web, sal, blanc, algui, pod...</td>\n",
              "    </tr>\n",
              "    <tr>\n",
              "      <th>4</th>\n",
              "      <td>[obteng, error, skipp, fram, the, application,...</td>\n",
              "      <td>[trabaj, andro, studi, intent, hac, conexion, ...</td>\n",
              "    </tr>\n",
              "    <tr>\n",
              "      <th>...</th>\n",
              "      <td>...</td>\n",
              "      <td>...</td>\n",
              "    </tr>\n",
              "    <tr>\n",
              "      <th>1079</th>\n",
              "      <td>[conexion, remot, sql, serv, linux, mint]</td>\n",
              "      <td>[instal, sql, serv, linux, mint, bas, dat, cre...</td>\n",
              "    </tr>\n",
              "    <tr>\n",
              "      <th>1080</th>\n",
              "      <td>[cre, bas, dat, cent, funcion]</td>\n",
              "      <td>[utiliz, cent, segu, instruccion, siti, micros...</td>\n",
              "    </tr>\n",
              "    <tr>\n",
              "      <th>1081</th>\n",
              "      <td>[hac, respald, bas, dat, terminal]</td>\n",
              "      <td>[bas, dat, ms, sql, serv, express, ubuntu, adm...</td>\n",
              "    </tr>\n",
              "    <tr>\n",
              "      <th>1082</th>\n",
              "      <td>[aplic, windows, linux, win]</td>\n",
              "      <td>[aplic, desarroll, utiliz, cam, escan, lector,...</td>\n",
              "    </tr>\n",
              "    <tr>\n",
              "      <th>1083</th>\n",
              "      <td>[wordpress, solicit, servidor, usuari, ftp, co...</td>\n",
              "      <td>[problem, puest, permis, entrar, dos, servidor...</td>\n",
              "    </tr>\n",
              "  </tbody>\n",
              "</table>\n",
              "<p>1084 rows × 2 columns</p>\n",
              "</div>"
            ],
            "text/plain": [
              "                                             Stem_Title                                          Stem_Body\n",
              "0                   [debug, codig, djang, utiliz, dock]  [cuent, realiz, proyect, djang, utiliz, pychar...\n",
              "1     [muestr, error, usand, supervisor, digital, oc...  [configur, rut, sud, nan, program, facturaempr...\n",
              "2       [ejecut, naveg, pantall, complet, inici, linux]  [realiz, proyect, domot, siguient, component, ...\n",
              "3                                   [pagin, web, blanc]  [buen, dia, pagin, web, sal, blanc, algui, pod...\n",
              "4     [obteng, error, skipp, fram, the, application,...  [trabaj, andro, studi, intent, hac, conexion, ...\n",
              "...                                                 ...                                                ...\n",
              "1079          [conexion, remot, sql, serv, linux, mint]  [instal, sql, serv, linux, mint, bas, dat, cre...\n",
              "1080                     [cre, bas, dat, cent, funcion]  [utiliz, cent, segu, instruccion, siti, micros...\n",
              "1081                 [hac, respald, bas, dat, terminal]  [bas, dat, ms, sql, serv, express, ubuntu, adm...\n",
              "1082                       [aplic, windows, linux, win]  [aplic, desarroll, utiliz, cam, escan, lector,...\n",
              "1083  [wordpress, solicit, servidor, usuari, ftp, co...  [problem, puest, permis, entrar, dos, servidor...\n",
              "\n",
              "[1084 rows x 2 columns]"
            ]
          },
          "metadata": {
            "tags": []
          },
          "execution_count": 9
        }
      ]
    },
    {
      "cell_type": "markdown",
      "metadata": {
        "id": "SWjnwjz2KkWy",
        "colab_type": "text"
      },
      "source": [
        "### PRE-PROCESADO (SOLO STOPWORD & SIGNOS DE PUNTUACIÓN)"
      ]
    },
    {
      "cell_type": "code",
      "metadata": {
        "id": "VSVVmiSbKwA5",
        "colab_type": "code",
        "colab": {}
      },
      "source": [
        "def preprocess(doc):\n",
        "    label = re.compile('<.*?>')\n",
        "    doc = re.sub(label, '', doc)\n",
        "    doc = doc.lower()  # Minuscula todo el texto.\n",
        "    doc = word_tokenize(doc)  # Dividir en palabras.\n",
        "    doc = [w for w in doc if not w in es_stops]  # Eliminar stopwords.\n",
        "    doc = [w for w in doc if w.isalpha()]  # Eliminar numbers and punctuation.\n",
        "    return doc"
      ],
      "execution_count": 10,
      "outputs": []
    },
    {
      "cell_type": "code",
      "metadata": {
        "id": "4PuDD6gdK1ga",
        "colab_type": "code",
        "colab": {
          "base_uri": "https://localhost:8080/",
          "height": 436
        },
        "outputId": "66f2117e-0870-4f95-9aed-08a69b472231"
      },
      "source": [
        "start = time()\n",
        "dataset['Processed_Title'] = dataset.apply(\n",
        "        lambda dataset: preprocess(dataset['Title']), axis=1)\n",
        "dataset['Processed_Body'] = dataset.apply(\n",
        "        lambda dataset: preprocess(dataset['Body']), axis=1)\n",
        "print('Preprocesado completo. %.2f segundos' % (time() - start))\n",
        "dataset.iloc[:,[7,8]]"
      ],
      "execution_count": 11,
      "outputs": [
        {
          "output_type": "stream",
          "text": [
            "Preprocesado completo. 1.59 segundos\n"
          ],
          "name": "stdout"
        },
        {
          "output_type": "execute_result",
          "data": {
            "text/html": [
              "<div>\n",
              "<style scoped>\n",
              "    .dataframe tbody tr th:only-of-type {\n",
              "        vertical-align: middle;\n",
              "    }\n",
              "\n",
              "    .dataframe tbody tr th {\n",
              "        vertical-align: top;\n",
              "    }\n",
              "\n",
              "    .dataframe thead th {\n",
              "        text-align: right;\n",
              "    }\n",
              "</style>\n",
              "<table border=\"1\" class=\"dataframe\">\n",
              "  <thead>\n",
              "    <tr style=\"text-align: right;\">\n",
              "      <th></th>\n",
              "      <th>Processed_Title</th>\n",
              "      <th>Processed_Body</th>\n",
              "    </tr>\n",
              "  </thead>\n",
              "  <tbody>\n",
              "    <tr>\n",
              "      <th>0</th>\n",
              "      <td>[debugear, código, django, utilizando, docker]</td>\n",
              "      <td>[cuento, realizando, proyecto, django, utilizo...</td>\n",
              "    </tr>\n",
              "    <tr>\n",
              "      <th>1</th>\n",
              "      <td>[muestra, error, usando, supervisor, digital, ...</td>\n",
              "      <td>[configurar, ruta, sudo, nano, program, factur...</td>\n",
              "    </tr>\n",
              "    <tr>\n",
              "      <th>2</th>\n",
              "      <td>[ejecutar, navegador, pantalla, completa, inic...</td>\n",
              "      <td>[realizando, proyecto, domotico, siguientes, c...</td>\n",
              "    </tr>\n",
              "    <tr>\n",
              "      <th>3</th>\n",
              "      <td>[pagina, web, blanco]</td>\n",
              "      <td>[buen, dia, pagina, web, sale, blanco, alguien...</td>\n",
              "    </tr>\n",
              "    <tr>\n",
              "      <th>4</th>\n",
              "      <td>[obtengo, error, skipped, frames, the, applica...</td>\n",
              "      <td>[trabajando, android, studio, intentando, hace...</td>\n",
              "    </tr>\n",
              "    <tr>\n",
              "      <th>...</th>\n",
              "      <td>...</td>\n",
              "      <td>...</td>\n",
              "    </tr>\n",
              "    <tr>\n",
              "      <th>1079</th>\n",
              "      <td>[conexion, remota, sql, server, linux, mint]</td>\n",
              "      <td>[instalado, sql, server, linux, mint, base, da...</td>\n",
              "    </tr>\n",
              "    <tr>\n",
              "      <th>1080</th>\n",
              "      <td>[crear, base, datos, centos, funciona]</td>\n",
              "      <td>[utilizando, centos, seguí, instrucciones, sit...</td>\n",
              "    </tr>\n",
              "    <tr>\n",
              "      <th>1081</th>\n",
              "      <td>[hacer, respaldo, base, datos, terminal]</td>\n",
              "      <td>[base, datos, ms, sql, server, express, ubuntu...</td>\n",
              "    </tr>\n",
              "    <tr>\n",
              "      <th>1082</th>\n",
              "      <td>[aplicación, windows, linux, wine]</td>\n",
              "      <td>[aplicación, desarrollada, utiliza, cámara, es...</td>\n",
              "    </tr>\n",
              "    <tr>\n",
              "      <th>1083</th>\n",
              "      <td>[wordpress, solicita, servidor, usuario, ftp, ...</td>\n",
              "      <td>[problema, puesto, permisos, entrar, dos, serv...</td>\n",
              "    </tr>\n",
              "  </tbody>\n",
              "</table>\n",
              "<p>1084 rows × 2 columns</p>\n",
              "</div>"
            ],
            "text/plain": [
              "                                        Processed_Title                                     Processed_Body\n",
              "0        [debugear, código, django, utilizando, docker]  [cuento, realizando, proyecto, django, utilizo...\n",
              "1     [muestra, error, usando, supervisor, digital, ...  [configurar, ruta, sudo, nano, program, factur...\n",
              "2     [ejecutar, navegador, pantalla, completa, inic...  [realizando, proyecto, domotico, siguientes, c...\n",
              "3                                 [pagina, web, blanco]  [buen, dia, pagina, web, sale, blanco, alguien...\n",
              "4     [obtengo, error, skipped, frames, the, applica...  [trabajando, android, studio, intentando, hace...\n",
              "...                                                 ...                                                ...\n",
              "1079       [conexion, remota, sql, server, linux, mint]  [instalado, sql, server, linux, mint, base, da...\n",
              "1080             [crear, base, datos, centos, funciona]  [utilizando, centos, seguí, instrucciones, sit...\n",
              "1081           [hacer, respaldo, base, datos, terminal]  [base, datos, ms, sql, server, express, ubuntu...\n",
              "1082                 [aplicación, windows, linux, wine]  [aplicación, desarrollada, utiliza, cámara, es...\n",
              "1083  [wordpress, solicita, servidor, usuario, ftp, ...  [problema, puesto, permisos, entrar, dos, serv...\n",
              "\n",
              "[1084 rows x 2 columns]"
            ]
          },
          "metadata": {
            "tags": []
          },
          "execution_count": 11
        }
      ]
    },
    {
      "cell_type": "markdown",
      "metadata": {
        "id": "7UVYt9t4IJlf",
        "colab_type": "text"
      },
      "source": [
        "# WORD MOVER DISTANCE (WMD)"
      ]
    },
    {
      "cell_type": "code",
      "metadata": {
        "id": "osgvZycT8hUt",
        "colab_type": "code",
        "colab": {}
      },
      "source": [
        "from sklearn.model_selection import train_test_split "
      ],
      "execution_count": 12,
      "outputs": []
    },
    {
      "cell_type": "markdown",
      "metadata": {
        "id": "m9QtwYuuIS6N",
        "colab_type": "text"
      },
      "source": [
        "### WMD - LEMMA"
      ]
    },
    {
      "cell_type": "code",
      "metadata": {
        "id": "a3D68qO09BFZ",
        "colab_type": "code",
        "colab": {
          "base_uri": "https://localhost:8080/",
          "height": 0
        },
        "outputId": "f517a510-1441-4cfb-8f61-a9073ef3693f"
      },
      "source": [
        "train_l, test_l = train_test_split(dataset['Lemma_Title'], test_size = 0.20, shuffle = False)\n",
        "\n",
        "print(\"(Lemma) Ejemplos usados para entrenar: \", len(train_l))\n",
        "print(\"(Lemma) Ejemplos usados para test: \", len(test_l))"
      ],
      "execution_count": 13,
      "outputs": [
        {
          "output_type": "stream",
          "text": [
            "(Lemma) Ejemplos usados para entrenar:  867\n",
            "(Lemma) Ejemplos usados para test:  217\n"
          ],
          "name": "stdout"
        }
      ]
    },
    {
      "cell_type": "code",
      "metadata": {
        "id": "x6BH--rXYKJT",
        "colab_type": "code",
        "colab": {
          "base_uri": "https://localhost:8080/",
          "height": 0
        },
        "outputId": "6eaf312f-35db-47be-ac55-63c14db1feed"
      },
      "source": [
        "test_l"
      ],
      "execution_count": 14,
      "outputs": [
        {
          "output_type": "execute_result",
          "data": {
            "text/plain": [
              "867                 [backup, postgresql, error, password]\n",
              "868     [ejecutar, sentenciar, postgresql, líneo, coma...\n",
              "869                          [raspberry, pi, kali, linux]\n",
              "870     [existir, alguno, alternativo, raspberry, pi, ...\n",
              "871     [problema, instalar, drive, adaptador, usb, wi...\n",
              "                              ...                        \n",
              "1079         [conexion, remoto, sql, server, linux, mint]\n",
              "1080              [crear, basar, dato, centos, funcionar]\n",
              "1081            [hacer, respaldar, basar, dato, terminal]\n",
              "1082                   [aplicación, windows, linux, wine]\n",
              "1083    [wordpress, solicitar, servidor, usuario, ftp,...\n",
              "Name: Lemma_Title, Length: 217, dtype: object"
            ]
          },
          "metadata": {
            "tags": []
          },
          "execution_count": 14
        }
      ]
    },
    {
      "cell_type": "code",
      "metadata": {
        "id": "x5cZ-zwQ-UMn",
        "colab_type": "code",
        "colab": {}
      },
      "source": [
        "lemma_title = dataset['Lemma_Title'].to_list()\n",
        "\n",
        "title = dataset['Title'].to_list()"
      ],
      "execution_count": 15,
      "outputs": []
    },
    {
      "cell_type": "code",
      "metadata": {
        "id": "ohMTAZoM9M7Z",
        "colab_type": "code",
        "colab": {
          "base_uri": "https://localhost:8080/",
          "height": 0
        },
        "outputId": "506f5558-9fa4-423e-c263-16ce65d29929"
      },
      "source": [
        "from gensim.models import Word2Vec\n",
        "\n",
        "model_l = Word2Vec(lemma_title, workers=3, size=100)\n",
        "\n",
        "# Inicialización de WmdSimilarity.\n",
        "from gensim.similarities import WmdSimilarity\n",
        "num_best = 10\n",
        "instancia_l = WmdSimilarity(test_l, model_l, num_best)\n",
        "print(instancia_l)"
      ],
      "execution_count": 16,
      "outputs": [
        {
          "output_type": "stream",
          "text": [
            "WmdSimilarity<217 docs, 100 features>\n"
          ],
          "name": "stdout"
        }
      ]
    },
    {
      "cell_type": "code",
      "metadata": {
        "id": "R8OjOpxK-tUI",
        "colab_type": "code",
        "colab": {
          "base_uri": "https://localhost:8080/",
          "height": 0
        },
        "outputId": "caa13000-fc5d-4e0d-eb2a-bb09db4356eb"
      },
      "source": [
        "start = time()\n",
        "\n",
        "msj_l = 'Error al automatizar la instalación de Postgresql 9.4 en sistema embebido con Debian'\n",
        "bus_l = preprocess_lemma(msj_l)\n",
        "\n",
        "sim_l = instancia_l[bus_l]\n",
        "print(len(sim_l))\n",
        "print ('Cell took %.2f seconds to run.' %(time() - start))"
      ],
      "execution_count": 17,
      "outputs": [
        {
          "output_type": "stream",
          "text": [
            "10\n",
            "Cell took 0.09 seconds to run.\n"
          ],
          "name": "stdout"
        }
      ]
    },
    {
      "cell_type": "code",
      "metadata": {
        "id": "lMsC_-di-7pO",
        "colab_type": "code",
        "colab": {
          "base_uri": "https://localhost:8080/",
          "height": 0
        },
        "outputId": "0475b4fa-630a-486b-9a32-a807a77732bc"
      },
      "source": [
        "print ('Busqueda: ', msj_l)\n",
        "print(\"-------------------------------------------------------\")\n",
        "for i in range(num_best): # (num_best)\n",
        "    print (title[sim_l[i][0]],'---> sim = %.4f' % sim_l[i][1])"
      ],
      "execution_count": 18,
      "outputs": [
        {
          "output_type": "stream",
          "text": [
            "Busqueda:  Error al automatizar la instalación de Postgresql 9.4 en sistema embebido con Debian\n",
            "-------------------------------------------------------\n",
            "grep combinado con echo ---> sim = 0.5392\n",
            "problemas con la configuracion de GitLab, netbeans y linux ---> sim = 0.5345\n",
            "¿Como agregar varios puertos al mismo contenedor de Docker? ---> sim = 0.5268\n",
            "Como ejecutar mas de un archivo que esta en un parámetro de jenkins ---> sim = 0.5266\n",
            "¿Cómo mostrar en pantalla solo los archivos de noviembre y diciembre para luego hacerle un grep? ---> sim = 0.5264\n",
            "¿como puedo solucionar esto kernel panic not syncing vfs unable en parrot? ---> sim = 0.5242\n",
            "Cambiar permisos de carpetas compartidas con docker-compose ---> sim = 0.5242\n",
            "Problema con git en local ---> sim = 0.5236\n",
            "¿Como verificar si una cadena ingresada se encuentra dentro de un rango numérico? ---> sim = 0.5224\n",
            "Pantalla completa Kali Linux VirtualBox? ---> sim = 0.5216\n"
          ],
          "name": "stdout"
        }
      ]
    },
    {
      "cell_type": "markdown",
      "metadata": {
        "id": "FcljReVfIZ8H",
        "colab_type": "text"
      },
      "source": [
        "### WMD - STEMMER"
      ]
    },
    {
      "cell_type": "code",
      "metadata": {
        "id": "X9j9kdt6GvTt",
        "colab_type": "code",
        "colab": {
          "base_uri": "https://localhost:8080/",
          "height": 0
        },
        "outputId": "bbae780a-ebdd-4c3c-857c-686dc1ba2f9a"
      },
      "source": [
        "train_s, test_s = train_test_split(dataset['Stem_Title'], test_size = 0.20, shuffle = False)\n",
        "\n",
        "print(\"(Stemm) Ejemplos usados para entrenar: \", len(train_s))\n",
        "print(\"(Stemm) Ejemplos usados para test: \", len(test_s))"
      ],
      "execution_count": 19,
      "outputs": [
        {
          "output_type": "stream",
          "text": [
            "(Stemm) Ejemplos usados para entrenar:  867\n",
            "(Stemm) Ejemplos usados para test:  217\n"
          ],
          "name": "stdout"
        }
      ]
    },
    {
      "cell_type": "code",
      "metadata": {
        "id": "qF-3bFkeG38q",
        "colab_type": "code",
        "colab": {}
      },
      "source": [
        "stemm_title = dataset['Stem_Title'].to_list()\n",
        "\n",
        "title = dataset['Title'].to_list()"
      ],
      "execution_count": 20,
      "outputs": []
    },
    {
      "cell_type": "code",
      "metadata": {
        "id": "-8qxO2axG6Wa",
        "colab_type": "code",
        "colab": {
          "base_uri": "https://localhost:8080/",
          "height": 0
        },
        "outputId": "3b1d3223-48df-4217-8502-a1f58c8ff74f"
      },
      "source": [
        "from gensim.models import Word2Vec\n",
        "# Train Word2Vec on all the restaurants.\n",
        "model_s = Word2Vec(stemm_title, workers=3, size=100)\n",
        "\n",
        "# Inicialización de WmdSimilarity.\n",
        "from gensim.similarities import WmdSimilarity\n",
        "num_best = 10\n",
        "instancia_s = WmdSimilarity(test_s, model_s, num_best)\n",
        "print(instancia_s)"
      ],
      "execution_count": 21,
      "outputs": [
        {
          "output_type": "stream",
          "text": [
            "WmdSimilarity<217 docs, 100 features>\n"
          ],
          "name": "stdout"
        }
      ]
    },
    {
      "cell_type": "code",
      "metadata": {
        "id": "sPU3lf3pHCQi",
        "colab_type": "code",
        "colab": {
          "base_uri": "https://localhost:8080/",
          "height": 0
        },
        "outputId": "d48ccb1e-315c-4809-f754-52086bd7aad4"
      },
      "source": [
        "start = time()\n",
        "\n",
        "msj_s = 'Error al automatizar la instalación de Postgresql 9.4 en sistema embebido con Debian'\n",
        "bus_s = preprocess_stem(msj_s)\n",
        "\n",
        "sim_s = instancia_s[bus_s] \n",
        "print(len(sim_s))\n",
        "print ('Cell took %.2f seconds to run.' %(time() - start))"
      ],
      "execution_count": 22,
      "outputs": [
        {
          "output_type": "stream",
          "text": [
            "10\n",
            "Cell took 0.08 seconds to run.\n"
          ],
          "name": "stdout"
        }
      ]
    },
    {
      "cell_type": "code",
      "metadata": {
        "id": "W_M0efoVHHfi",
        "colab_type": "code",
        "colab": {
          "base_uri": "https://localhost:8080/",
          "height": 0
        },
        "outputId": "b8e61584-5588-49e3-aebd-0e59fcf5d83a"
      },
      "source": [
        "print ('Busqueda: ', msj_s)\n",
        "print(\"-------------------------------------------------------\")\n",
        "for i in range(num_best): # (num_best)\n",
        "    print (title[sim_s[i][0]],'---> sim = %.4f' % sim_s[i][1])"
      ],
      "execution_count": 23,
      "outputs": [
        {
          "output_type": "stream",
          "text": [
            "Busqueda:  Error al automatizar la instalación de Postgresql 9.4 en sistema embebido con Debian\n",
            "-------------------------------------------------------\n",
            "¿como puedo solucionar esto kernel panic not syncing vfs unable en parrot? ---> sim = 0.6256\n",
            "Cambiar permisos de carpetas compartidas con docker-compose ---> sim = 0.6256\n",
            "¿Cómo mostrar en pantalla solo los archivos de noviembre y diciembre para luego hacerle un grep? ---> sim = 0.6219\n",
            "Pantalla completa Kali Linux VirtualBox? ---> sim = 0.6186\n",
            "Problema server vsftpd linux ---> sim = 0.6104\n",
            "moodle apache centos 7 ---> sim = 0.6103\n",
            "¿Como hago para reinstalar libbz2.so.1.0? ---> sim = 0.5790\n",
            "Obtengo el error I/Choreographer: Skipped 110 frames! The application may be doing too much work on its main thread ---> sim = 0.5634\n",
            "problemas con la configuracion de GitLab, netbeans y linux ---> sim = 0.5616\n",
            "Problema con git en local ---> sim = 0.5512\n"
          ],
          "name": "stdout"
        }
      ]
    },
    {
      "cell_type": "markdown",
      "metadata": {
        "id": "Rvp8LvmALVwC",
        "colab_type": "text"
      },
      "source": [
        "### WMD - TEXT"
      ]
    },
    {
      "cell_type": "code",
      "metadata": {
        "colab_type": "code",
        "id": "ygCUxgG2t689",
        "colab": {}
      },
      "source": [
        "def preprocess(doc):\n",
        "    label = re.compile('<.*?>')\n",
        "    doc = re.sub(label, '', doc)\n",
        "    doc = doc.lower()  # Minuscula todo el texto.\n",
        "    doc = word_tokenize(doc)  # Dividir en palabras.\n",
        "    doc = [w for w in doc if not w in es_stops]  # Eliminar stopwords.\n",
        "    doc = [w for w in doc if w.isalpha()]  # Eliminar numbers and punctuation.\n",
        "    return doc"
      ],
      "execution_count": 24,
      "outputs": []
    },
    {
      "cell_type": "code",
      "metadata": {
        "id": "ZFizV6iWLYMb",
        "colab_type": "code",
        "colab": {
          "base_uri": "https://localhost:8080/",
          "height": 51
        },
        "outputId": "bb555508-e259-48d3-e8fc-764ff3abb958"
      },
      "source": [
        "train_p, test_p = train_test_split(dataset['Processed_Title'], test_size = 0.20, shuffle = False)\n",
        "\n",
        "print(\"Ejemplos usados para entrenar: \", len(train_p))\n",
        "print(\"Ejemplos usados para test: \", len(test_p))"
      ],
      "execution_count": 25,
      "outputs": [
        {
          "output_type": "stream",
          "text": [
            "Ejemplos usados para entrenar:  867\n",
            "Ejemplos usados para test:  217\n"
          ],
          "name": "stdout"
        }
      ]
    },
    {
      "cell_type": "code",
      "metadata": {
        "id": "pmK92B29SBOy",
        "colab_type": "code",
        "colab": {
          "base_uri": "https://localhost:8080/",
          "height": 221
        },
        "outputId": "19d25eec-12ac-46c8-e95d-9eb29f7a1af0"
      },
      "source": [
        "test_p"
      ],
      "execution_count": 26,
      "outputs": [
        {
          "output_type": "execute_result",
          "data": {
            "text/plain": [
              "867                 [backup, postgresql, error, password]\n",
              "868     [ejecutar, sentencias, postgresql, línea, coma...\n",
              "869                          [raspberry, pi, kali, linux]\n",
              "870     [existe, alguna, alternativa, raspberry, pi, c...\n",
              "871     [problema, instalar, drive, adaptador, usb, wi...\n",
              "                              ...                        \n",
              "1079         [conexion, remota, sql, server, linux, mint]\n",
              "1080               [crear, base, datos, centos, funciona]\n",
              "1081             [hacer, respaldo, base, datos, terminal]\n",
              "1082                   [aplicación, windows, linux, wine]\n",
              "1083    [wordpress, solicita, servidor, usuario, ftp, ...\n",
              "Name: Processed_Title, Length: 217, dtype: object"
            ]
          },
          "metadata": {
            "tags": []
          },
          "execution_count": 26
        }
      ]
    },
    {
      "cell_type": "code",
      "metadata": {
        "id": "Zs0J52WILgaX",
        "colab_type": "code",
        "colab": {}
      },
      "source": [
        "processed_title = dataset['Processed_Title'].to_list()\n",
        "\n",
        "title = dataset['Title'].to_list()"
      ],
      "execution_count": 27,
      "outputs": []
    },
    {
      "cell_type": "code",
      "metadata": {
        "id": "ma4NSAvxLh4v",
        "colab_type": "code",
        "colab": {
          "base_uri": "https://localhost:8080/",
          "height": 34
        },
        "outputId": "6919fb89-9c18-4e1d-c09e-170c2a0c264e"
      },
      "source": [
        "from gensim.models import Word2Vec\n",
        "# Train Word2Vec on all the restaurants.\n",
        "model_p = Word2Vec(processed_title, workers=3, size=100)\n",
        "\n",
        "# Inicialización de WmdSimilarity.\n",
        "from gensim.similarities import WmdSimilarity\n",
        "num_best = 10\n",
        "instancia_p = WmdSimilarity(train_p, model_p, num_best=10)\n",
        "print(instancia_p)"
      ],
      "execution_count": 28,
      "outputs": [
        {
          "output_type": "stream",
          "text": [
            "WmdSimilarity<867 docs, 100 features>\n"
          ],
          "name": "stdout"
        }
      ]
    },
    {
      "cell_type": "code",
      "metadata": {
        "id": "YDnLKdfLLjaB",
        "colab_type": "code",
        "colab": {
          "base_uri": "https://localhost:8080/",
          "height": 51
        },
        "outputId": "d0135e53-46c4-4090-82a8-d67e95fb8aa9"
      },
      "source": [
        "start = time()\n",
        "\n",
        "msj_p = 'Error al automatizar la instalación de Postgresql 9.4 en sistema embebido con Debian'\n",
        "bus_p = preprocess(msj_p)\n",
        "\n",
        "sim_p = instancia_p[bus_p]\n",
        "print(len(sim_p))\n",
        "print ('Cell took %.2f seconds to run.' %(time() - start))"
      ],
      "execution_count": 29,
      "outputs": [
        {
          "output_type": "stream",
          "text": [
            "10\n",
            "Cell took 0.28 seconds to run.\n"
          ],
          "name": "stdout"
        }
      ]
    },
    {
      "cell_type": "code",
      "metadata": {
        "id": "YAblRguQLk5I",
        "colab_type": "code",
        "colab": {
          "base_uri": "https://localhost:8080/",
          "height": 221
        },
        "outputId": "d3c93441-d6ea-4c5a-acea-edb6656a8d30"
      },
      "source": [
        "print ('Busqueda: ', msj_p)\n",
        "print(\"-------------------------------------------------------\")\n",
        "for i in range(num_best): # (num_best)\n",
        "    print (title[sim_p[i][0]],'---> sim = %.4f' % sim_p[i][1])"
      ],
      "execution_count": 30,
      "outputs": [
        {
          "output_type": "stream",
          "text": [
            "Busqueda:  Error al automatizar la instalación de Postgresql 9.4 en sistema embebido con Debian\n",
            "-------------------------------------------------------\n",
            "Error al automatizar la instalación de Postgresql 9.4 en sistema embebido con Debian ---> sim = 1.0000\n",
            "Tengo un error constante en Debian cuando quiero actualizar mi sistema ---> sim = 0.6554\n",
            "I/O Error: Sistema de archivos de solo lectura en SSD (XUBUNTU) ---> sim = 0.6034\n",
            "Error al instalar php-db en Debian 10 Buster ---> sim = 0.5989\n",
            "Error: spawn EACCES -- Derivados debian -- ionic ---> sim = 0.5942\n",
            "Error instalar xampp en linux ---> sim = 0.5116\n",
            "¿como puedo obtener informacion del sistema emulando /proc/net? ---> sim = 0.5112\n",
            "¿Cómo montar un disco duro NTFS en Linux (Debian)? ---> sim = 0.5110\n",
            "Problema con linux en instalación /permisos ---> sim = 0.5106\n",
            "Error al conectar dispositivo HDMI . No input driver specified, ignoring this device ---> sim = 0.5103\n"
          ],
          "name": "stdout"
        }
      ]
    },
    {
      "cell_type": "code",
      "metadata": {
        "id": "Hn1gBKhwEge3",
        "colab_type": "code",
        "colab": {}
      },
      "source": [
        "dataset.iloc[:,[3,5,7]]\n",
        "dataset.to_csv('ultimate.csv', sep=';', encoding='utf-8-sig')"
      ],
      "execution_count": 96,
      "outputs": []
    },
    {
      "cell_type": "markdown",
      "metadata": {
        "id": "6jpkzXMVcKFo",
        "colab_type": "text"
      },
      "source": [
        "# VECTOR SPACE MODEL (VSM)"
      ]
    },
    {
      "cell_type": "code",
      "metadata": {
        "id": "ar_D7og8cS1L",
        "colab_type": "code",
        "colab": {}
      },
      "source": [
        "from collections import Counter\n",
        "import numpy as np\n",
        "import math\n",
        "\n",
        "p_title = dataset['Processed_Title'].to_list()\n",
        "p_body = dataset['Processed_Body'].to_list()\n",
        "\n",
        "N = len(dataset) # N = Cantidad de documentos\n",
        "alpha = 0.3\n",
        "DF = {}\n",
        "\n",
        "for i in range(N):\n",
        "  for w in p_title[i]:\n",
        "      try:\n",
        "        DF[w].add(i)\n",
        "      except:\n",
        "        DF[w] = {i}\n",
        "  for w in p_body[i]:\n",
        "      try:\n",
        "        DF[w].add(i)\n",
        "      except:\n",
        "        DF[w] = {i}\n",
        "\n",
        "for i in DF:\n",
        "        DF[i] = len(DF[i])\n",
        "\n",
        "total_vocab_size = len(DF)\n",
        "total_vocab = [x for x in DF]"
      ],
      "execution_count": 32,
      "outputs": []
    },
    {
      "cell_type": "code",
      "metadata": {
        "id": "NDCOpBocud-C",
        "colab_type": "code",
        "colab": {}
      },
      "source": [
        "def doc_freq(DF, word):\n",
        "    c = 0\n",
        "    try:\n",
        "        c = DF[word]\n",
        "    except:\n",
        "        pass\n",
        "    return c"
      ],
      "execution_count": 33,
      "outputs": []
    },
    {
      "cell_type": "code",
      "metadata": {
        "id": "I9xS2AlItrEp",
        "colab_type": "code",
        "colab": {
          "base_uri": "https://localhost:8080/",
          "height": 68
        },
        "outputId": "27c95271-8213-4058-c5cf-8f60b92e4bdb"
      },
      "source": [
        "    start = time()\n",
        "\n",
        "    doc = 0\n",
        "    tf_idf_title = {}\n",
        "\n",
        "    for i in range(N):\n",
        "        tokens = p_body[i]\n",
        "        counter = Counter(tokens + p_title[i])\n",
        "        words_count = len(tokens + p_title[i])\n",
        "        for token in np.unique(tokens):\n",
        "            tf = counter[token] / words_count\n",
        "            df = doc_freq(DF, token)\n",
        "            idf = np.log((N + 1) / (df + 1))\n",
        "            tf_idf_title[doc, token] = tf * idf\n",
        "        doc += 1\n",
        "\n",
        "    doc = 0\n",
        "    tf_idf_body = {}\n",
        "\n",
        "    for i in range(N):\n",
        "        tokens = p_title[i]\n",
        "        counter = Counter(tokens + p_body[i])\n",
        "        words_count = len(tokens + p_body[i])\n",
        "        for token in np.unique(tokens):\n",
        "            tf = counter[token] / words_count\n",
        "            df = doc_freq(DF, token)\n",
        "            # numerator is added 1 to avoid negative values\n",
        "            idf = np.log((N + 1) / (df + 1))  \n",
        "            tf_idf_body[doc, token] = tf * idf\n",
        "        doc += 1\n",
        "\n",
        "    for i in tf_idf_title:\n",
        "        tf_idf_title[i] *= alpha\n",
        "\n",
        "    for i in tf_idf_body:\n",
        "        tf_idf_title[i] = tf_idf_body[i]\n",
        "\n",
        "    # D = Matriz TF-IDF de terminos de documentos\n",
        "    D = np.zeros((N, total_vocab_size)) \n",
        "    for i in tf_idf_title:\n",
        "        try:\n",
        "            ind = total_vocab.index(i[1])\n",
        "            D[i[0]][ind] = tf_idf_title[i]\n",
        "        except:\n",
        "            pass\n",
        "\n",
        "    print('Matriz TF-IDF de terminos de documentos generada. %.2f segundos' % (time() - start))\n",
        "    print(D[0])\n",
        "    print(D[1])"
      ],
      "execution_count": 34,
      "outputs": [
        {
          "output_type": "stream",
          "text": [
            "Matriz TF-IDF de terminos de documentos generada. 2.43 segundos\n",
            "[0.16144072 0.05125391 0.12287463 ... 0.         0.         0.        ]\n",
            "[0. 0. 0. ... 0. 0. 0.]\n"
          ],
          "name": "stdout"
        }
      ]
    },
    {
      "cell_type": "code",
      "metadata": {
        "id": "D9y3aAjTv8Fe",
        "colab_type": "code",
        "colab": {}
      },
      "source": [
        "def cosine_sim(a, b):\n",
        "    cos_sim = np.dot(a, b)/(np.linalg.norm(a)*np.linalg.norm(b))\n",
        "    return cos_sim"
      ],
      "execution_count": 35,
      "outputs": []
    },
    {
      "cell_type": "code",
      "metadata": {
        "id": "q2ktKKvlwqbl",
        "colab_type": "code",
        "colab": {}
      },
      "source": [
        "def print_doc(dataset, id):\n",
        "    with pd.option_context('display.max_colwidth', 500):\n",
        "        print(dataset.iloc[[id], [0,1]])"
      ],
      "execution_count": 36,
      "outputs": []
    },
    {
      "cell_type": "code",
      "metadata": {
        "id": "6uGx9a9KuvUn",
        "colab_type": "code",
        "colab": {
          "base_uri": "https://localhost:8080/",
          "height": 442
        },
        "outputId": "38361fc3-516a-4ad4-bca7-bb6d37586137"
      },
      "source": [
        "start = time()\n",
        "\n",
        "def gen_vector(tokens):\n",
        "        Q = np.zeros((len(total_vocab)))\n",
        "        counter = Counter(tokens)\n",
        "        words_count = len(tokens)\n",
        "        for token in np.unique(tokens):\n",
        "            tf = counter[token] / words_count\n",
        "            df = doc_freq(DF, token)\n",
        "            idf = math.log((N + 1) / (df + 1))\n",
        "            try:\n",
        "                ind = total_vocab.index(token)\n",
        "                Q[ind] = tf * idf\n",
        "            except:\n",
        "                pass\n",
        "        return Q\n",
        "\n",
        "def cosine_similarity(k, query):\n",
        "        tokens = preprocess(query)\n",
        "        print(\"\\nQuery:\", query)\n",
        "        d_cosines = []\n",
        "        query_vector = gen_vector(tokens)\n",
        "        for d in D:\n",
        "            d_cosines.append(cosine_sim(query_vector, d))\n",
        "        index_sort = np.array(d_cosines).argsort()[-k:][::-1]\n",
        "        value_array = np.array(d_cosines)\n",
        "        value_sort = np.sort(value_array)[-k:][::-1]\n",
        "        res = []\n",
        "        for i in range(k):\n",
        "            res.append((index_sort[i], value_sort[i]))\n",
        "        return res\n",
        "\n",
        "results = cosine_similarity(5, \"comando sort linux\")\n",
        "\n",
        "print(\"\\n\")\n",
        "for i in range(len(results)):\n",
        "  print_doc(dataset, results[i][0])\n",
        "  print(\"sim: \",results[i]) \n",
        "  print(\"-------------------------------------------------------\")\n",
        "\n",
        "print('Tiempo de ejecución: %.2f segundos' % (time() - start))"
      ],
      "execution_count": 205,
      "outputs": [
        {
          "output_type": "stream",
          "text": [
            "\n",
            "Query: comando sort linux\n",
            "\n",
            "\n",
            "         Id               Title\n",
            "730  333044  Comando sort linux\n",
            "sim:  (730, 0.8811562305046355)\n",
            "-------------------------------------------------------\n",
            "        Id                                                                               Title\n",
            "661  91952  ¿Cómo funciona este código para ver intentos de conexión a tu servidor en CentOs7?\n",
            "sim:  (661, 0.3191679678748724)\n",
            "-------------------------------------------------------\n",
            "         Id                         Title\n",
            "323  212579  Comando equivalente en Linux\n",
            "sim:  (323, 0.13800630021480367)\n",
            "-------------------------------------------------------\n",
            "         Id                                           Title\n",
            "353  202549  comando para interfaz para cambiar ip en linux\n",
            "sim:  (353, 0.11402418179538279)\n",
            "-------------------------------------------------------\n",
            "         Id                                                  Title\n",
            "137  281456  ¿Como ejecuto un comando como root desde un .desktop?\n",
            "sim:  (137, 0.11289343858481421)\n",
            "-------------------------------------------------------\n",
            "Tiempo de ejecución: 0.10 segundos\n"
          ],
          "name": "stdout"
        }
      ]
    },
    {
      "cell_type": "markdown",
      "metadata": {
        "id": "vSRChxFSmmto",
        "colab_type": "text"
      },
      "source": [
        "# TEST"
      ]
    },
    {
      "cell_type": "code",
      "metadata": {
        "id": "nB-1Ny4suNzj",
        "colab_type": "code",
        "colab": {
          "base_uri": "https://localhost:8080/",
          "height": 581
        },
        "outputId": "c451e7e2-f68b-404f-d74b-3c29ab89cfda"
      },
      "source": [
        "start = time()\n",
        "data = pd.read_csv('//content/gdrive/My Drive/ultimate.csv',\n",
        "                      sep=';', encoding='utf-8-sig')\n",
        "\n",
        "\n",
        "print('Dataset generado. %.2f segundos' % (time() - start))\n",
        "data.head()"
      ],
      "execution_count": 97,
      "outputs": [
        {
          "output_type": "stream",
          "text": [
            "Dataset generado. 0.18 segundos\n"
          ],
          "name": "stdout"
        },
        {
          "output_type": "execute_result",
          "data": {
            "text/html": [
              "<div>\n",
              "<style scoped>\n",
              "    .dataframe tbody tr th:only-of-type {\n",
              "        vertical-align: middle;\n",
              "    }\n",
              "\n",
              "    .dataframe tbody tr th {\n",
              "        vertical-align: top;\n",
              "    }\n",
              "\n",
              "    .dataframe thead th {\n",
              "        text-align: right;\n",
              "    }\n",
              "</style>\n",
              "<table border=\"1\" class=\"dataframe\">\n",
              "  <thead>\n",
              "    <tr style=\"text-align: right;\">\n",
              "      <th></th>\n",
              "      <th>Unnamed: 0</th>\n",
              "      <th>Id</th>\n",
              "      <th>Title</th>\n",
              "      <th>Body</th>\n",
              "      <th>Lemma_Title</th>\n",
              "      <th>Lemma_Body</th>\n",
              "      <th>Stem_Title</th>\n",
              "      <th>Stem_Body</th>\n",
              "      <th>Processed_Title</th>\n",
              "      <th>Processed_Body</th>\n",
              "    </tr>\n",
              "  </thead>\n",
              "  <tbody>\n",
              "    <tr>\n",
              "      <th>0</th>\n",
              "      <td>0</td>\n",
              "      <td>286498</td>\n",
              "      <td>Debugear código Django utilizando Docker</td>\n",
              "      <td>&lt;p&gt;Les cuento.\\r\\nEstoy realizando un proyecto...</td>\n",
              "      <td>debugear código django utilizar docker</td>\n",
              "      <td>contar realizar proyectar django utilizar pych...</td>\n",
              "      <td>debug codig djang utiliz dock</td>\n",
              "      <td>cuent realiz proyect djang utiliz pycharm wind...</td>\n",
              "      <td>debugear código django utilizando docker</td>\n",
              "      <td>cuento realizando proyecto django utilizo pych...</td>\n",
              "    </tr>\n",
              "    <tr>\n",
              "      <th>1</th>\n",
              "      <td>1</td>\n",
              "      <td>226916</td>\n",
              "      <td>En el file.conf muestra Error usando Superviso...</td>\n",
              "      <td>&lt;p&gt;Al configurar el file.conf&lt;br&gt;\\r\\nruta : su...</td>\n",
              "      <td>mostrar error usar supervisor digital ocean op...</td>\n",
              "      <td>configurar ruta sudar nano program facturaempr...</td>\n",
              "      <td>muestr error usand supervisor digital oce opci...</td>\n",
              "      <td>configur rut sud nan program facturaempres eje...</td>\n",
              "      <td>muestra error usando supervisor digital ocean ...</td>\n",
              "      <td>configurar ruta sudo nano program facturaempre...</td>\n",
              "    </tr>\n",
              "    <tr>\n",
              "      <th>2</th>\n",
              "      <td>2</td>\n",
              "      <td>161561</td>\n",
              "      <td>Ejecutar navegador en pantalla completa al ini...</td>\n",
              "      <td>&lt;p&gt;Estoy realizando un &lt;em&gt;proyecto Domotico&lt;/...</td>\n",
              "      <td>ejecutar navegador pantalla completo iniciar l...</td>\n",
              "      <td>realizar proyectar domotico siguiente componen...</td>\n",
              "      <td>ejecut naveg pantall complet inici linux</td>\n",
              "      <td>realiz proyect domot siguient component raspbe...</td>\n",
              "      <td>ejecutar navegador pantalla completa iniciar l...</td>\n",
              "      <td>realizando proyecto domotico siguientes compon...</td>\n",
              "    </tr>\n",
              "    <tr>\n",
              "      <th>3</th>\n",
              "      <td>3</td>\n",
              "      <td>230560</td>\n",
              "      <td>Pagina web en blanco</td>\n",
              "      <td>&lt;p&gt;Buen dia \\r\\nNo se por que mi pagina web sa...</td>\n",
              "      <td>paginar web blanco</td>\n",
              "      <td>bueno dia paginar web salir blanco alguien pod...</td>\n",
              "      <td>pagin web blanc</td>\n",
              "      <td>buen dia pagin web sal blanc algui podri ayud ...</td>\n",
              "      <td>pagina web blanco</td>\n",
              "      <td>buen dia pagina web sale blanco alguien podria...</td>\n",
              "    </tr>\n",
              "    <tr>\n",
              "      <th>4</th>\n",
              "      <td>4</td>\n",
              "      <td>309146</td>\n",
              "      <td>Obtengo el error I/Choreographer: Skipped 110 ...</td>\n",
              "      <td>&lt;p&gt;Estoy trabajando en android studio intentan...</td>\n",
              "      <td>obtener error skipped frames the application m...</td>\n",
              "      <td>trabajar android studio intentar hacer conexio...</td>\n",
              "      <td>obteng error skipp fram the application may be...</td>\n",
              "      <td>trabaj andro studi intent hac conexion maquin ...</td>\n",
              "      <td>obtengo error skipped frames the application m...</td>\n",
              "      <td>trabajando android studio intentando hacer con...</td>\n",
              "    </tr>\n",
              "  </tbody>\n",
              "</table>\n",
              "</div>"
            ],
            "text/plain": [
              "   Unnamed: 0  ...                                     Processed_Body\n",
              "0           0  ...  cuento realizando proyecto django utilizo pych...\n",
              "1           1  ...  configurar ruta sudo nano program facturaempre...\n",
              "2           2  ...  realizando proyecto domotico siguientes compon...\n",
              "3           3  ...  buen dia pagina web sale blanco alguien podria...\n",
              "4           4  ...  trabajando android studio intentando hacer con...\n",
              "\n",
              "[5 rows x 10 columns]"
            ]
          },
          "metadata": {
            "tags": []
          },
          "execution_count": 97
        }
      ]
    },
    {
      "cell_type": "code",
      "metadata": {
        "id": "SHjnnD-09swN",
        "colab_type": "code",
        "colab": {}
      },
      "source": [
        "from sklearn.feature_extraction.text import CountVectorizer\n",
        "import pandas as pd\n",
        "import string\n",
        "\n",
        "count = data['Processed_Title'].to_list()\n",
        "# Create the Document Term Matrix\n",
        "vectorizer = CountVectorizer()"
      ],
      "execution_count": 165,
      "outputs": []
    },
    {
      "cell_type": "code",
      "metadata": {
        "id": "FnfbWhK8Su-B",
        "colab_type": "code",
        "colab": {
          "base_uri": "https://localhost:8080/",
          "height": 102
        },
        "outputId": "1d02923f-1d7f-458b-bc50-5fe297d419ae"
      },
      "source": [
        "sparse_matrix = vectorizer.fit_transform(count)\n",
        "print(sparse_matrix[0:1])\n"
      ],
      "execution_count": 166,
      "outputs": [
        {
          "output_type": "stream",
          "text": [
            "  (0, 423)\t1\n",
            "  (0, 402)\t1\n",
            "  (0, 527)\t1\n",
            "  (0, 1771)\t1\n",
            "  (0, 530)\t1\n"
          ],
          "name": "stdout"
        }
      ]
    },
    {
      "cell_type": "code",
      "metadata": {
        "id": "nk6pPa1ESsIL",
        "colab_type": "code",
        "colab": {
          "base_uri": "https://localhost:8080/",
          "height": 129
        },
        "outputId": "2097a898-865d-4d72-ce7b-01d5687d0e26"
      },
      "source": [
        "doc_term_matrix = sparse_matrix.todense()\n",
        "doc_term_matrix\n",
        "\n",
        "df = pd.DataFrame(doc_term_matrix, \n",
        "                  columns=vectorizer.get_feature_names())\n",
        "df[:1]"
      ],
      "execution_count": 170,
      "outputs": [
        {
          "output_type": "execute_result",
          "data": {
            "text/html": [
              "<div>\n",
              "<style scoped>\n",
              "    .dataframe tbody tr th:only-of-type {\n",
              "        vertical-align: middle;\n",
              "    }\n",
              "\n",
              "    .dataframe tbody tr th {\n",
              "        vertical-align: top;\n",
              "    }\n",
              "\n",
              "    .dataframe thead th {\n",
              "        text-align: right;\n",
              "    }\n",
              "</style>\n",
              "<table border=\"1\" class=\"dataframe\">\n",
              "  <thead>\n",
              "    <tr style=\"text-align: right;\">\n",
              "      <th></th>\n",
              "      <th>abierto</th>\n",
              "      <th>abrir</th>\n",
              "      <th>abro</th>\n",
              "      <th>absoluta</th>\n",
              "      <th>accede</th>\n",
              "      <th>acceder</th>\n",
              "      <th>acceso</th>\n",
              "      <th>access</th>\n",
              "      <th>acción</th>\n",
              "      <th>acentos</th>\n",
              "      <th>acl</th>\n",
              "      <th>activar</th>\n",
              "      <th>actual</th>\n",
              "      <th>actualiza</th>\n",
              "      <th>actualizaciones</th>\n",
              "      <th>actualización</th>\n",
              "      <th>actualizar</th>\n",
              "      <th>actúe</th>\n",
              "      <th>adaptador</th>\n",
              "      <th>additions</th>\n",
              "      <th>addons</th>\n",
              "      <th>addres</th>\n",
              "      <th>adios</th>\n",
              "      <th>advertencias</th>\n",
              "      <th>afuera</th>\n",
              "      <th>again</th>\n",
              "      <th>agente</th>\n",
              "      <th>agrandar</th>\n",
              "      <th>agregar</th>\n",
              "      <th>agrupar</th>\n",
              "      <th>aix</th>\n",
              "      <th>aleatoria</th>\n",
              "      <th>alguna</th>\n",
              "      <th>algún</th>\n",
              "      <th>alias</th>\n",
              "      <th>almacenadas</th>\n",
              "      <th>almacenar</th>\n",
              "      <th>almohadilla</th>\n",
              "      <th>alojada</th>\n",
              "      <th>alojados</th>\n",
              "      <th>...</th>\n",
              "      <th>why</th>\n",
              "      <th>wifi</th>\n",
              "      <th>wifislax</th>\n",
              "      <th>wifit</th>\n",
              "      <th>wikidata</th>\n",
              "      <th>will</th>\n",
              "      <th>window</th>\n",
              "      <th>windows</th>\n",
              "      <th>wine</th>\n",
              "      <th>wireless</th>\n",
              "      <th>with</th>\n",
              "      <th>word</th>\n",
              "      <th>wordpress</th>\n",
              "      <th>work</th>\n",
              "      <th>workrave</th>\n",
              "      <th>world</th>\n",
              "      <th>ws</th>\n",
              "      <th>wxmaxima</th>\n",
              "      <th>xamarin</th>\n",
              "      <th>xampp</th>\n",
              "      <th>xe</th>\n",
              "      <th>xlsx</th>\n",
              "      <th>xp</th>\n",
              "      <th>xrdp</th>\n",
              "      <th>xubuntu</th>\n",
              "      <th>yes</th>\n",
              "      <th>yii</th>\n",
              "      <th>your</th>\n",
              "      <th>yum</th>\n",
              "      <th>zabbix</th>\n",
              "      <th>zip</th>\n",
              "      <th>ziparchive</th>\n",
              "      <th>zombie</th>\n",
              "      <th>zoom</th>\n",
              "      <th>zte</th>\n",
              "      <th>árbol</th>\n",
              "      <th>éste</th>\n",
              "      <th>última</th>\n",
              "      <th>último</th>\n",
              "      <th>único</th>\n",
              "    </tr>\n",
              "  </thead>\n",
              "  <tbody>\n",
              "    <tr>\n",
              "      <th>0</th>\n",
              "      <td>0</td>\n",
              "      <td>0</td>\n",
              "      <td>0</td>\n",
              "      <td>0</td>\n",
              "      <td>0</td>\n",
              "      <td>0</td>\n",
              "      <td>0</td>\n",
              "      <td>0</td>\n",
              "      <td>0</td>\n",
              "      <td>0</td>\n",
              "      <td>0</td>\n",
              "      <td>0</td>\n",
              "      <td>0</td>\n",
              "      <td>0</td>\n",
              "      <td>0</td>\n",
              "      <td>0</td>\n",
              "      <td>0</td>\n",
              "      <td>0</td>\n",
              "      <td>0</td>\n",
              "      <td>0</td>\n",
              "      <td>0</td>\n",
              "      <td>0</td>\n",
              "      <td>0</td>\n",
              "      <td>0</td>\n",
              "      <td>0</td>\n",
              "      <td>0</td>\n",
              "      <td>0</td>\n",
              "      <td>0</td>\n",
              "      <td>0</td>\n",
              "      <td>0</td>\n",
              "      <td>0</td>\n",
              "      <td>0</td>\n",
              "      <td>0</td>\n",
              "      <td>0</td>\n",
              "      <td>0</td>\n",
              "      <td>0</td>\n",
              "      <td>0</td>\n",
              "      <td>0</td>\n",
              "      <td>0</td>\n",
              "      <td>0</td>\n",
              "      <td>...</td>\n",
              "      <td>0</td>\n",
              "      <td>0</td>\n",
              "      <td>0</td>\n",
              "      <td>0</td>\n",
              "      <td>0</td>\n",
              "      <td>0</td>\n",
              "      <td>0</td>\n",
              "      <td>0</td>\n",
              "      <td>0</td>\n",
              "      <td>0</td>\n",
              "      <td>0</td>\n",
              "      <td>0</td>\n",
              "      <td>0</td>\n",
              "      <td>0</td>\n",
              "      <td>0</td>\n",
              "      <td>0</td>\n",
              "      <td>0</td>\n",
              "      <td>0</td>\n",
              "      <td>0</td>\n",
              "      <td>0</td>\n",
              "      <td>0</td>\n",
              "      <td>0</td>\n",
              "      <td>0</td>\n",
              "      <td>0</td>\n",
              "      <td>0</td>\n",
              "      <td>0</td>\n",
              "      <td>0</td>\n",
              "      <td>0</td>\n",
              "      <td>0</td>\n",
              "      <td>0</td>\n",
              "      <td>0</td>\n",
              "      <td>0</td>\n",
              "      <td>0</td>\n",
              "      <td>0</td>\n",
              "      <td>0</td>\n",
              "      <td>0</td>\n",
              "      <td>0</td>\n",
              "      <td>0</td>\n",
              "      <td>0</td>\n",
              "      <td>0</td>\n",
              "    </tr>\n",
              "  </tbody>\n",
              "</table>\n",
              "<p>1 rows × 1887 columns</p>\n",
              "</div>"
            ],
            "text/plain": [
              "   abierto  abrir  abro  absoluta  accede  ...  árbol  éste  última  último  único\n",
              "0        0      0     0         0       0  ...      0     0       0       0      0\n",
              "\n",
              "[1 rows x 1887 columns]"
            ]
          },
          "metadata": {
            "tags": []
          },
          "execution_count": 170
        }
      ]
    },
    {
      "cell_type": "code",
      "metadata": {
        "id": "qsak3W_TdoNo",
        "colab_type": "code",
        "colab": {
          "base_uri": "https://localhost:8080/",
          "height": 51
        },
        "outputId": "b69ffd29-b7a1-4657-c9a1-11c1dce48080"
      },
      "source": [
        "search = []\n",
        "search = input(\"Ingrese pregunta: \")\n",
        "search = search.split()\n",
        "print(search)"
      ],
      "execution_count": 112,
      "outputs": [
        {
          "output_type": "stream",
          "text": [
            "Ingrese pregunta: comando sort linux\n",
            "['comando', 'sort', 'linux']\n"
          ],
          "name": "stdout"
        }
      ]
    },
    {
      "cell_type": "code",
      "metadata": {
        "id": "Nh5FpexAgt1v",
        "colab_type": "code",
        "colab": {
          "base_uri": "https://localhost:8080/",
          "height": 68
        },
        "outputId": "cda61370-0adb-418c-c9b0-bae654821b86"
      },
      "source": [
        "query = vectorizer.fit_transform(list(search))\n",
        "\n",
        "print(query[:])"
      ],
      "execution_count": 113,
      "outputs": [
        {
          "output_type": "stream",
          "text": [
            "  (0, 0)\t1\n",
            "  (1, 2)\t1\n",
            "  (2, 1)\t1\n"
          ],
          "name": "stdout"
        }
      ]
    },
    {
      "cell_type": "code",
      "metadata": {
        "id": "7uBobKePiB0d",
        "colab_type": "code",
        "colab": {
          "base_uri": "https://localhost:8080/",
          "height": 111
        },
        "outputId": "ff753d3f-207c-465d-ff0c-1ec817e6875e"
      },
      "source": [
        "do_search = query.todense()\n",
        "do_search\n",
        "\n",
        "df = pd.DataFrame(do_search, \n",
        "                  columns=vectorizer.get_feature_names())\n",
        "df[:2]"
      ],
      "execution_count": 114,
      "outputs": [
        {
          "output_type": "execute_result",
          "data": {
            "text/html": [
              "<div>\n",
              "<style scoped>\n",
              "    .dataframe tbody tr th:only-of-type {\n",
              "        vertical-align: middle;\n",
              "    }\n",
              "\n",
              "    .dataframe tbody tr th {\n",
              "        vertical-align: top;\n",
              "    }\n",
              "\n",
              "    .dataframe thead th {\n",
              "        text-align: right;\n",
              "    }\n",
              "</style>\n",
              "<table border=\"1\" class=\"dataframe\">\n",
              "  <thead>\n",
              "    <tr style=\"text-align: right;\">\n",
              "      <th></th>\n",
              "      <th>comando</th>\n",
              "      <th>linux</th>\n",
              "      <th>sort</th>\n",
              "    </tr>\n",
              "  </thead>\n",
              "  <tbody>\n",
              "    <tr>\n",
              "      <th>0</th>\n",
              "      <td>1</td>\n",
              "      <td>0</td>\n",
              "      <td>0</td>\n",
              "    </tr>\n",
              "    <tr>\n",
              "      <th>1</th>\n",
              "      <td>0</td>\n",
              "      <td>0</td>\n",
              "      <td>1</td>\n",
              "    </tr>\n",
              "  </tbody>\n",
              "</table>\n",
              "</div>"
            ],
            "text/plain": [
              "   comando  linux  sort\n",
              "0        1      0     0\n",
              "1        0      0     1"
            ]
          },
          "metadata": {
            "tags": []
          },
          "execution_count": 114
        }
      ]
    },
    {
      "cell_type": "code",
      "metadata": {
        "id": "fUGPn3PLSoNG",
        "colab_type": "code",
        "colab": {
          "base_uri": "https://localhost:8080/",
          "height": 136
        },
        "outputId": "43487d92-6e07-4d90-e265-4e7b6b2b88e3"
      },
      "source": [
        "from sklearn.metrics.pairwise import cosine_similarity\n",
        "print(cosine_similarity(sparse_matrix, sparse_matrix))"
      ],
      "execution_count": 115,
      "outputs": [
        {
          "output_type": "stream",
          "text": [
            "[[1.         0.         0.         ... 0.         0.         0.        ]\n",
            " [0.         1.         0.         ... 0.         0.         0.        ]\n",
            " [0.         0.         1.         ... 0.         0.20412415 0.        ]\n",
            " ...\n",
            " [0.         0.         0.         ... 1.         0.         0.        ]\n",
            " [0.         0.         0.20412415 ... 0.         1.         0.        ]\n",
            " [0.         0.         0.         ... 0.         0.         1.        ]]\n"
          ],
          "name": "stdout"
        }
      ]
    },
    {
      "cell_type": "code",
      "metadata": {
        "id": "6aTAxROkU10V",
        "colab_type": "code",
        "colab": {
          "base_uri": "https://localhost:8080/",
          "height": 34
        },
        "outputId": "66e7902a-bcfe-4578-bc66-f860aa27f4c6"
      },
      "source": [
        "from sklearn.metrics.pairwise import linear_kernel\n",
        "cosine_similarities = linear_kernel(doc_term_matrix[5], doc_term_matrix).flatten()\n",
        "print(cosine_similarities)"
      ],
      "execution_count": 150,
      "outputs": [
        {
          "output_type": "stream",
          "text": [
            "[0. 0. 0. ... 0. 0. 0.]\n"
          ],
          "name": "stdout"
        }
      ]
    },
    {
      "cell_type": "code",
      "metadata": {
        "id": "HCjdG0N_U9ir",
        "colab_type": "code",
        "colab": {
          "base_uri": "https://localhost:8080/",
          "height": 68
        },
        "outputId": "fdf4b34a-5b57-4801-bc04-748faff02721"
      },
      "source": [
        "related_docs_indices = cosine_similarities.argsort()[:-11:-1]\n",
        "print(related_docs_indices)\n",
        "print(len(related_docs_indices))\n",
        "print(cosine_similarities[related_docs_indices])\n",
        "score= cosine_similarities[related_docs_indices]"
      ],
      "execution_count": 155,
      "outputs": [
        {
          "output_type": "stream",
          "text": [
            "[  5 506 682 496 505 504 502 501 499 498]\n",
            "10\n",
            "[6. 2. 2. 1. 1. 1. 1. 1. 1. 1.]\n"
          ],
          "name": "stdout"
        }
      ]
    },
    {
      "cell_type": "code",
      "metadata": {
        "id": "sDBrUx88VR2C",
        "colab_type": "code",
        "colab": {
          "base_uri": "https://localhost:8080/",
          "height": 187
        },
        "outputId": "cf822c69-39d1-4f41-edda-e36d23e0bf76"
      },
      "source": [
        "for i in range(len(related_docs_indices)):\n",
        "    print(\"score\",score[i],\"->\",related_docs_indices[i],\"--->\",count[related_docs_indices[i]])"
      ],
      "execution_count": 156,
      "outputs": [
        {
          "output_type": "stream",
          "text": [
            "score 6.0 -> 5 ---> java android generar documento partir plantilla\n",
            "score 2.0 -> 506 ---> please include gradle in your path or install android studio android studio ionic\n",
            "score 2.0 -> 682 ---> puedo generar archivo posea variable quiero partir varios archivos\n",
            "score 1.0 -> 496 ---> emulador android studio suena ubuntu distro\n",
            "score 1.0 -> 505 ---> problema abrir proyectos android studio ubuntu\n",
            "score 1.0 -> 504 ---> utilizar android studio gradle instala linux\n",
            "score 1.0 -> 502 ---> puedo abrir android studio versiones linux debian\n",
            "score 1.0 -> 501 ---> cambiar dirección ip dispositivo android si usando ethernet\n",
            "score 1.0 -> 499 ---> ruta tarjeta removible sd card android xamarin\n",
            "score 1.0 -> 498 ---> android studio mejor desarrollo aplicaciones libreria opencv\n"
          ],
          "name": "stdout"
        }
      ]
    },
    {
      "cell_type": "markdown",
      "metadata": {
        "id": "uy9y08kqIj7O",
        "colab_type": "text"
      },
      "source": [
        "TEST - SOFT COSINE"
      ]
    },
    {
      "cell_type": "code",
      "metadata": {
        "id": "8KXjTw4uUloy",
        "colab_type": "code",
        "colab": {
          "base_uri": "https://localhost:8080/",
          "height": 34
        },
        "outputId": "dcc57db7-d329-4b15-f1b2-daa532194b55"
      },
      "source": [
        "from sklearn import preprocessing\n"
      ],
      "execution_count": 53,
      "outputs": [
        {
          "output_type": "execute_result",
          "data": {
            "text/plain": [
              "array([1, 1, 2, 6])"
            ]
          },
          "metadata": {
            "tags": []
          },
          "execution_count": 53
        }
      ]
    },
    {
      "cell_type": "code",
      "metadata": {
        "id": "oz7iR9b-VWY0",
        "colab_type": "code",
        "colab": {}
      },
      "source": [
        "exa = data['Processed_Title'].to_list()\n",
        "exa"
      ],
      "execution_count": null,
      "outputs": []
    },
    {
      "cell_type": "code",
      "metadata": {
        "id": "aknVhPHKauEe",
        "colab_type": "code",
        "colab": {
          "base_uri": "https://localhost:8080/",
          "height": 34
        },
        "outputId": "482e3ea9-c51f-4cea-d530-a5d30cb0a896"
      },
      "source": [
        "le = preprocessing.LabelEncoder()\n",
        "var = le.fit_transform(exa)\n",
        "var"
      ],
      "execution_count": 225,
      "outputs": [
        {
          "output_type": "execute_result",
          "data": {
            "text/plain": [
              "array([ 256,  641,  311, ...,  503,   48, 1080])"
            ]
          },
          "metadata": {
            "tags": []
          },
          "execution_count": 225
        }
      ]
    },
    {
      "cell_type": "code",
      "metadata": {
        "id": "FryEybCja6TM",
        "colab_type": "code",
        "colab": {
          "base_uri": "https://localhost:8080/",
          "height": 54
        },
        "outputId": "866da717-b483-4a14-eb51-e80888d2ec36"
      },
      "source": [
        "print(list(le.classes_))\n",
        "# ['amsterdam', 'paris', 'tokyo']"
      ],
      "execution_count": 227,
      "outputs": [
        {
          "output_type": "stream",
          "text": [
            "['abrir archivo directorio', 'abrir archivo puerto especifico linux', 'abrir externa recursos ubuntu', 'abrir fichero archivo determinado programa mediante consola linux', 'abrir fichero modo lectura c', 'abrir programa compilado terminal', 'abrir puerto udp servidor debian', 'acceder archivos linux contraseña pc red', 'acceder carpeta red gdrive terminal puedo verla dolphin kubuntu', 'acceder directorio oculto linux', 'acceder mediante ip puerto redireccionar url', 'acceder root usuario baja prioridad', 'acceder servidor virtual linux docker afuera', 'acceder sitio localhost', 'acceso archivos mediante php alias directorio apache', 'acceso denegado phpmyadmin ubuntu', 'acceso servidor web local linux', 'acceso xampp internet', 'access denied for user using password', 'access denied for user using password yes', 'activar', 'actualiza programa linux terminal', 'actualizar kali', 'actualizar nodejs ubuntu', 'actualizar openssl servidor centos', 'actualizar xampp linux ubuntu', 'adaptador puente conexión', 'agente ocs visualiza interfaz web', 'agregar binario virtualbox usando vagrant linux', 'agregar contenido dos ficheros log orden ocurrencia', 'agregar espacio disco virtualbox', 'agregar información exif imagen', 'agregar script bootstrap html linux', 'agregar varios puertos mismo contenedor docker', 'alguna combinación teclas imprimir caracteres ascii linux', 'algún comando permita darle poner revés variable', 'algún problema si crea contraseña contiene carácteres especiales usuarios linux', 'almacenadas imágenes descargas comando wget', 'amateur linux', 'android studio mejor desarrollo aplicaciones libreria opencv', 'análisis tiempo escritura ofstream versus file', 'apache nginx configurar subdominio', 'apache timeout puerto', 'apagar reiniciar sistema operativo javascript', 'aparece error warning uninstalling will remove the application data', 'api kernel', 'aplicación java partes funcionan programa fallan si ejecuta servicio', 'aplicación puedo dar cliente ligero', 'aplicación windows linux wine', 'aplico match user inicia ssh service', 'app engine tareas cron', 'aprendiendo posibilidad mostrar resultado comando error continuación', 'archivo bash linux moverse carpeta especifico', 'archivo php ser ejecutado segundo plano linux', 'archivos funcionan vm google cloud', 'archlinux arranca', 'arquitectura armvf', 'arranco sistema operativo', 'arranque lento ubuntu', 'asociar usuario ftp carpeta', 'assembler solo lee digitos', 'asteriscos archivo crontab significa', 'atributeerror pygame', 'audio wav', 'aumentar espacio partición raíz', 'automatizar script wifislax', 'automatizar tareas cambio permisos', 'averiguar tipografñia linux', 'awk hacer output lineas', 'ayuda problemas debian', 'ayuda programa c obtener mac addres', 'azure data studio', 'añadir salto linea después imprimir array linux', 'añadir texto final archivo', 'backup postgresql error password', 'backup solo directorios', 'bash autocomplete', 'bash comparar dos arrays if', 'bash contar carpetas directorio actual excluyendo nombre determinado', 'bash mail caracteres especiales', 'bash script linux error pasarle argumentos', 'bash script mostrar información procesos', 'bloque informacion usuario prestashop', 'bloquear acceso traves navegador directorio', 'bloqueo proyectos netbeans', 'bluetooth inicia ubuntu después actualización', 'borrar forma segura linux', 'borrar pantalla terminal php', 'borrar texto archivo linux', 'bucle for detecta tipo fichero linux shell', 'buscar archivos contienen cadena texto linux', 'buscar archivos día semana', 'buscar indicando profundidad n deep', 'buscar numero cifra cadena varios números', 'buscar siguiente coincidencia editor vi', 'buscar string directorio archivos linux', 'busqueda cadena fichero', 'búsqueda avanzada linux', 'c', 'c linux simular comportamiento shell pipes', 'calculo consumo interfaces mediante snmp', 'cambia ip enlaza contenedor docker', 'cambia ultima fecha modificación archivo directorio', 'cambiar baudrate raspian jessie comunicación serial', 'cambiar codigo windows linux', 'cambiar colores comando ls linux', 'cambiar contenido valor línea concreto shell script', 'cambiar contraseña usuario solo hash', 'cambiar dirección ip dispositivo android si usando ethernet', 'cambiar documentroot lamp apache mysql php', 'cambiar fondo terminal', 'cambiar formato última fecha modificación fichero directorio', 'cambiar hora bios vez cambiarlo kernel linux', 'cambiar idioma gitlab', 'cambiar letra mayúscula shell script', 'cambiar nombre localhost forma correcta', 'cambiar nombre usuario muestra izquierda muestra terminal linux', 'cambiar permisos carpetas compartidas', 'cambiar puertos jetty hudson archiva ubuntu', 'cambiar puertos snmp', 'cambiar tamaño terminal linux ejecutar script python', 'cambiar título consola', 'cambiar título terminal mediante script', 'cd dinamico shell linux', 'cdn jquery funcionando linux mint', 'centreon oid obtengo datos', 'cerrar consola cmd terminar proceso shell script', 'certificado ssl incorrecto', 'cifrar descifrar archivo protegido contraseña usando pgp', 'clamav antivirus linux archivos infectados', 'clonar repositorio gitlab pida contraseña', 'cluster apache mysql mariadb', 'codeigniter servidor centos', 'colocar contraseña mysql server cuenta root kubuntu', 'comando at ejecuta comando programo', 'comando equivalente linux', 'comando equivalente windows', 'comando interfaz cambiar ip linux', 'comando linux', 'comando linux funciona bien terminal secuencia comando varias lineas', 'comando necesito utilizar', 'comando sed bash variable comillas', 'comando sort linux', 'comandos at ejecutan linux', 'comandos dar permisos totales carpeta', 'comandos personalizados linux', 'comparan cadenas bash', 'comparar dos archivos extraer valores incluya comun tercer archivo', 'compartir carpeta host guesst', 'compartir carpeta solaris windows samba', 'compilador detecta clase implementada', 'compilar binario mismo código fuente cualquier sistema operativo arquitectura', 'compilar compilado', 'compilar ionic ios usando darling debian', 'compilo motor javascript ubuntu', 'composer install permission denied', 'comprobar si archivo fichero dispositivo', 'comprobar si archivos pueden leer usuario actual', 'comprobar si existe palabra dentro fichero', 'compruebo si usuario programa instalado script', 'computadora apaga ninguna distro linux', 'concatenar archivos', 'concatenar filas archivo linux', 'concatenar string array char', 'condiciones múltiples bash', 'conectar ssh instancia aws', 'conectarme internet vía cable ubuntu mate', 'conectarse llaves públicas permisos sudo', 'conexion mysql servidor linux app windows', 'conexion php base datos sql server linux', 'conexion remota sql server linux mint', 'conexión consultar servidor posgresql', 'conexión usuarios sftp carpetas individuales enjauladas', 'configuraciones paquetes kali linux opción debo elegir configuración sslh', 'configuración correcta amazon linux ami dominio principal puerto', 'configuración optimización imagemagick tesseract', 'configuración permisos ficheros texto apache', 'configurar apache diversos virtualhost nginx proxy server', 'configurar bien netbeans javafx intentado casi sigo errores', 'configurar eclipse mosquitto windows', 'configurar qt creator depuración remota', 'configurar script linux corra permisos usuario', 'configurar sublime repl ejecute código python', 'configurar variables memoria oracle linux', 'configurar zabbix', 'connectar sql server centos', 'conseguir mismo tamaño cada linea shell linux', 'conseguir proceso lanzado script muera terminar script', 'consejos mejorar script crea backup base datos poder enviarlo correo automáticamente', 'conservar permisos subir archivos nuevos', 'construir instaladores windows mac linux electron', 'construir script perl medida insertan datos archivo log obtengan procesen instantaneamente', 'consulta compilación sass npm servidor', 'convertir pdf espanol nombres archivo texto', 'copia cadena acción erronea desbordamiento', 'copiar archivos carpeta cambiándoles nombre carpeta destino terminal linux', 'copiar archivos lista contenida archivo', 'copiar archivos según nombre ftp', 'copiar contenido fichero definiendo final busqueda texto linux', 'copiar contenido fichero partir determinada línea linux', 'core auto ejecutable', 'core console application linux', 'correcto manejo crontab', 'correjir error instala editor sublime text repositorios ppa distribuciones linux mint lubuntu', 'corren script php si corre phpinfo', 'corto primera letra cada línea según condiciones', 'could not initialize class mainprincipal apace spark', 'could not start ksmserver check your installation kubuntu', 'creación usuarios linux', 'crear', 'crear api windows server', 'crear archivos ejecutables multiplataforma qt netbeans', 'crear archivos parrot', 'crear base datos centos funciona', 'crear comando linux local hacer acción servidor', 'crear conexión vpn linux instancia amazon aws', 'crear directorios nombre largo', 'crear programa creando', 'crear servidor web casa visualizarlo red diferente mia hacer server publico', 'crear task eliminar usuarios puntos montage ansible', 'crear usuario permisos root poder descargar archivos', 'crear usuario pueda identificar', 'crear usuarios partir fichero texto script bash', 'crear varios archivos subcarpeta', 'crear virtualhost apache programa escuchando puerto', 'create virtualbox default error', 'creo archivo texto duplica signo linux', 'cron ejecutado varias veces varios usuarios', 'cronjob mysql ejecuta servidor linux easyname', 'cronjob ubuntu', 'crontab funciona dentro script usuario root', 'crontab linux backup', 'cuál diferencia apt install install', 'cuándo libera puntero c devuelto función sistema', 'código cuda funciona sólo gpu', 'cómo abrir puerto serie cliente linux escritorio remoto windows', 'cómo buscar archivo find', 'cómo compilar gcc', 'cómo configurar qt ejecute leyendo datos archivo txt', 'cómo enviar varias variables comando shell script', 'cómo escribir comando linux muestre archivos directorios vacíos directorio trabajo', 'cómo guardar correctamente vídeo opencv', 'cómo guardar salida comando bash variable', 'cómo hacer llamada sistema cree proceso', 'cómo instalar oracle client library python notebook jupyter', 'cómo mostrar resultados comandos servidor linux php', 'cómo pasar si puede dirección variable modificada cpputest', 'cómo puedo compilar código python sublimetext usando', 'cómo utilizar comando echo linux', 'da error hacer consulta mysql uncaught error call to undefined function', 'da error syntax error unexpected end of file', 'dar acceso servidor linux determinado tiempo', 'dar nombre determinado archivo bash', 'dar soporte ftp varios sitios web misma máquina proftpd', 'daños pueden ser causados mal uso herramientas pentesting kali linux', 'debo completar directiva', 'debugear código django utilizando docker', 'decodificar cadena enviada gps servidor', 'denegado ejecutar programa compilado c', 'des comentar linea especifica archivo comando linux', 'desactivar gestos doble toque fedora', 'desbloquear pestañas firefox ubuntu', 'desbloqueo ip phpmyadmin permite acceso', 'descargar subir mover archivos ftp powershell', 'descargar wget carpeta ftp accede web contiene subcarpetas', 'descomprimo archivo gener', 'deshabilitar log archivos específicos dentro bloque location reverse proxy', 'designar directorio docker informix', 'desinstalar java', 'desplegar proyecto angularcli sevidor nodejs', 'detectar cierre sesión ssh', 'detectar parte script php provoca lentitud', 'determinar tipo triangulo', 'diferencia', 'diferencia chown chmod', 'diferencia salida ejecución comando bash terminal python', 'diferencia systemctl reboot reboot', 'diferencia vps servidor cloud', 'diferencias entorno linux windows programar php mysql', 'directorio colaborativo', 'dirigir trafico bridge interfaz publica maquina', 'distribución linux mas conveniente ordenador bajos recursos', 'django error configuracion url', 'django settings specified', 'dns delegar subdominio ubuntu', 'docker container error waiting for headers', 'dominio app responde', 'driver ethernet tp link tf ubuntu', 'duda array bash', 'duda envios email html ssmtp linux', 'duda java linux windows', 'duda llamada sistema fork', 'duda server laravel', 'efecto poner comillas echo', 'ejecucion comando linux php', 'ejecutando ruby c', 'ejecutar aplicación wine terminal ssh', 'ejecutar archivo php iniciar fedora', 'ejecutar autoclick segundo plano', 'ejecutar cerrar aplicación tras tiempo', 'ejecutar comando cada horas minutos crontab', 'ejecutar comando java', 'ejecutar comando linux php da error sudo tty present and askpass program specified', 'ejecutar comando si falla volverlo lanzar consola', 'ejecutar contenedor docker maquina virtual ubuntu server ser visualizado windows', 'ejecutar función python cada hora linux', 'ejecutar kali linux', 'ejecutar libreoffice php', 'ejecutar linux gksu', 'ejecutar mas archivo parámetro jenkins', 'ejecutar mysql script tipo bash', 'ejecutar navegador pantalla completa iniciar linux', 'ejecutar phantomjs php', 'ejecutar programa mpi', 'ejecutar script bash python script path', 'ejecutar script formatear discos php', 'ejecutar script mediante variable sistema', 'ejecutar script mysql java linux', 'ejecutar script ssh comparar respuesta si salta error', 'ejecutar sentencias postgresql línea comandos centos', 'ejecutar servicio red arranque servidor rhel', 'ejecutar update sql copiando campo', 'ejecuto comando root', 'elementary problema localhost ip ambigua', 'elimina directorio contenido', 'eliminar archivo', 'eliminar archivos duplicados linux script', 'eliminar archivos temporarales actualizaciones fallidas open suse', 'eliminar arranque grub', 'eliminar carpeta antiguedad días windows mediante bash linux', 'eliminar carpeta tipo vacia linux', 'eliminar definitivamente composer linux', 'eliminar sistemas linux pc', 'eliminar tags html sed', 'emulador android studio suena ubuntu distro', 'encontrado path ejecutable', 'encontrar directorios ficheros directorio actual contengan determinada cadena', 'encontrar eliminar archivos menos n número días', 'encontrar texto varios directorios', 'encontraron errores procesar', 'encuentra base datos usuario puedo usarlo host', 'encuentro archivo centos', 'encuentro comando dispara aplicación', 'enlazador enlaza', 'entrada datos incorrecta soluciono problema', 'entro modo super usuario disitrbucion linux basado fedora adios', 'entro windows linux módem zte', 'enviar archivos servidor', 'enviar datos post orange pi', 'enviar float través socket', 'enviar segundo plano', 'envío archivo texto android', 'equivalente lp windows', 'error abrir terminal linux', 'error acceder virtualhost apache', 'error actualizar instalar paquetes linux mint', 'error arrancar script nodejs https', 'error arranque linux mint', 'error automatizar instalación postgresql sistema embebido debian', 'error bad magic number utilizando openssl', 'error ca connect to local mysql server through socket', 'error can not retrieve repository metadata for repository addons please verify its path and try again', 'error capturar imagen cámara gstreamer python', 'error clonar sitio web kali linux', 'error composer update kali linux', 'error conectar dispositivo hdmi input driver specified ignoring this device', 'error configuracion socket phpmyadmin kali linux', 'error connection closed acceso ssh centos', 'error constante debian quiero actualizar sistema', 'error crear carpeta php', 'error crear zip uilizando clase ziparchive php', 'error denegado ejecuta comando crear nuevo proyecto laravel mkdir permission denied', 'error dev sector iniciar cualquier distribucion', 'error ejecutando función python openssl', 'error ejecutar archivo ssl', 'error ejecutar comando malformed line in source list', 'error entrar screen existente', 'error found when loading ubuntu', 'error guardar ansible tower awx', 'error guardar datos struct', 'error idioma instalar android studio linux mint', 'error implementar generación aleatoria números c', 'error incomprensible php servidor', 'error iniciar linux maquina virtual', 'error inicio servidor ruby on rails s linux mint consola bundler error backtrace', 'error inicio sesión linux deepin', 'error instalar debian buster', 'error instalar exelearning fedora', 'error instalar libreras r as lib is unspecified', 'error instalar linux', 'error instalar mysql ubuntu', 'error instalar módulos pip python linux', 'error instalar php ubuntu', 'error instalar pillow ubuntu bits', 'error instalar red hat', 'error instalar servidor web opensuse laravel', 'error instalar xampp linux', 'error intentar conectarse sql plus terminal ubuntu', 'error intentar instalar sudo upgrade', 'error ionic ejecutar aplicacion linux', 'error linux', 'error llamar funcion c', 'error main definida linux ubuntu', 'error migrar laravel', 'error montar volumen lógico directorio', 'error mpi', 'error módulo requests python cron', 'error nagios', 'error openssl usando composer ubuntu', 'error php librería mbstring mpdf', 'error pip linux', 'error plugin nginx docker compose', 'error port connection refused conectar ssh redhat', 'error pyodbc ubuntu', 'error querer ejecutar archivo', 'error sintaxis bash', 'error sintaxis bash linux syntax error near unexpected token', 'error sistema archivos solo lectura ssd xubuntu', 'error spawn eacces derivados debian ionic', 'error spell checkig is unavalable word list can be found for the language', 'error sqlite c monodevelop ubuntu', 'error std', 'error tor assertionerror not supported proxy scheme', 'error tratar instalar escritorio pantheon ubuntu', 'error usar comando pip', 'error usar osmosdr gnuradio', 'error xrdp login', 'escalamiento aplicacion nodejs digitalocean', 'escribir archivos partición', 'escribir comando terminal script', 'escribir código php multi plataforma sistemas operativos', 'establecer acl default other', 'establecer ruta red manera estica manera permanente debian ubuntu derivados', 'establecer variables entorno solus', 'eventos gamepad uinput funcionan', 'evitar acceso usuarios carpeta nfs linux', 'evitar conexión rechazada', 'evitar dependencia particular generación paquete rpm', 'evitar hotlinking descargas', 'evitar mysql siempre conecte localhost', 'excluir directorio comando find', 'existe alguna alternativa raspberry pi conectar ssh bajo nat', 'existe decirle cargador arranque', 'existe oficialmente docker sistemas operativos bits', 'exlciur directorio empaquetar tar', 'exponer informacion maquina ubuntu prometheus', 'exportar bd forma segura encriptándola', 'exportar todas base datos traves script', 'expresiones regulares bash', 'expresión regular rechace casos específicos', 'extraccion imagenes script hacer', 'extraer caracteres archivo texto linux', 'extraer datos bloques texto puede aparezcan', 'extraer texto dos palabras', 'extraer valor especifico campos archivo txt dat csv', 'failed to conect to the journal socket ubuntu server', 'falla conexión internet explorador servicios spotify', 'falla conexión ssh cambio puerto', 'fallo crear volumen lvm device not found or ignored by filtering', 'fallo debian', 'falta configurar ip estática ubuntu', 'fichero php phpinfo salta error navegador', 'ficheros heredan permisos carpeta superior usando php apache', 'filenotfounderror errno', 'filtrado líneas grep unix', 'filtrar líneas palabras terminen', 'filtrar string', 'finalizado proceso linux', 'firewall debian jessie', 'firewall iptables red local', 'forbidden error', 'forma bloquear puertos usb desbloquearlos clave', 'formas guardar salida comando variable', 'formulario dejo funcionar xampp linux', 'forzar salida stderr stdout separandolas string', 'funcion gotoxy gcc consegui ejemplo crearla entiendo codigo', 'funcion testigos pipe', 'funciona alias aparentemente bien escrito', 'funciona código ver intentos conexión servidor', 'funciona nftables', 'funciona wifi linux mint serena', 'generar archivos acentos laravel', 'generar salida colores shell script bash archivo mantener colores', 'genero archivo word ruby linux', 'git push hace', 'google compute engine error conectar remotamente mysql', 'grep combinado echo', 'grep varias lineas bash', 'guardan variables código c', 'guardar resultado comando externo ejecutado python', 'guardar variables valores grabc', 'habilitar htaccess apache scientific linux', 'habilitar localización pop up javascript', 'habilitar login usuario linux', 'hace linux ejecutar archivo python arrancar máquina', 'hacen comandos entiendo bien', 'hacen comandos find linux', 'hacer correr programa gedit ubuntu terminal', 'hacer despliegue aplicación core apache', 'hacer fork devuelva dos resultados diferentes comandos', 'hacer lista dns ip comprobar si coinciden', 'hacer programa hecho c quede instalado linux', 'hacer remmapping remapear ciertas teclas', 'hacer respaldo base datos terminal', 'hacer script bash añada texto final archivo guarde', 'hacer servidor linux instalado antivirus analice computadoras red', 'hago aparezca windows grub', 'hago reinstalar', 'hago script bash utilizar comando telnet forma recursiva', 'hago sustituir linea archivo script', 'hello world c linux mint', 'hora ejecutará cron linux comando timedatectl muestra horas diferentes', 'hosting reseller banahosting', 'htaccess fuciona virtual host xampp', 'http error localhost is currently unable to handle this request', 'icono asociado tipo archivo linux', 'ignorar parada servicios si estan servidor destino', 'image scan solo funciona usuario root demas', 'implementación hilos windows vs linux', 'implícita incompatible función interna exit', 'importar archivo pfx openvas', 'importar modulos scripts extencion', 'imposible ejecutar comando importerror module named site', 'imposible instalar antergos', 'imprimir int medio funcion parametro string', 'imprimir línea archivo', 'imprimir líneas carácter aparece menos veces', 'inciar sesión crontab', 'incluir archivos ocultos tar', 'información muestra comando ls', 'ingresar datos array bash linux', 'inicialización infinita debian', 'iniciar mongodb configuraciones replicación replicaset manera servicio ubuntu server', 'iniciar programa escrito c arrancar sistema linux', 'iniciar servicio funciona mediante systemctl', 'iniciar workrave encender equipo debian jessie', 'insecureplatformwarning usar pip ubuntu', 'insert tabla informix script', 'instala eclipse servidor web logic linux', 'instala linux vea vscode', 'instalacion angular linux lite bits', 'instalacion bitbucket jira', 'instalación linux pantalla negra despues instalar', 'instalando kali linux dispositivo android', 'instalar bcftools mac problema c error', 'instalar centreon redhat linux enterprise', 'instalar certbot linux', 'instalar cloudradar servidor', 'instalar dotnet core', 'instalar driver audio', 'instalar entorno grafico vps linux', 'instalar gcc', 'instalar git kali linux ubuntu', 'instalar linux cdrom montado red hat', 'instalar modulo qt designer linux ubuntu', 'instalar php apache suse linux enterprise server', 'instalar plugin effects ubuntu editor kdenlive', 'instalar python linux trisquel', 'instalar qtarmsim lubuntu', 'instalar ubuntu', 'instalar ubuntu linux mint eufi usb', 'integracion htaccess ptpasswd', 'integrar laravel apache linux', 'intento instalar ssh ubuntu muestra error', 'introducir tabuladores fichero despues uniq linux', 'introducir texto archivo determinada columna shell script', 'introducir variable bash cada líneas comando ls', 'java android generar documento partir plantilla', 'jax ws webserviceclient problema', 'joomla problemas instalar nuevo componente', 'jupyter funciona fedora', 'lanzar comandos java', 'laravel puedo visualizar imágenes subir web hosting', 'lector pdf ubuntu permite hacer zoom', 'leer archivo diréctamente disco memoria caché bash', 'leer archivo txt guardar contenido variable mediante', 'leer asignar valor resultado comando', 'leer ficheros java usando linux', 'lenguaje c linux chdir devuelve valor siempre', 'lentitud red internet', 'leo información', 'letra ñ genera arg terminal linux', 'levantar app rails red local', 'levantar interfaces red centos', 'leyendo archivo significado línea código perl', 'librerias javafx', 'librerias vs llamadas sistema', 'limitación número paquetes ble linux', 'limitar ancho banda cuenta ftp servidor web ubuntu', 'limitar permisos nuevamente carpeta', 'lineas patrón sed', 'linux archivo directorio puede pertenecer mas grupo', 'linux assembly intel raw malloc nasm ld', 'linux crontab creando rutinas', 'linux pueden mostrar directorios forma árbol', 'linux python servicios demonios', 'linux red hat funciona yum', 'linux script funciona libreelec hace lakka', 'linux sendmail puede especificar línea comandos servidor smtp distinto configuración', 'linux servidor sftp', 'listar archivos eliminarlos find rm', 'listar usuarios deshabilitados baja lógica linux', 'listar usuarios linux', 'live usb kali linux mac probind edd', 'llamar función php línea comandos yii', 'llamar programa erlang c', 'llamar shell subsistema linux jenkins windows', 'load average procesador nucleos', 'localizar archivos mas recientes cada carpeta árbol carpetas linux', 'lograr respaldo empaquetado archivos forma profesional vía cronjob', 'logs comandos ejecutados via terminal', 'lubuntu apaga reinicia suspende', 'makefile borra archivos compilo', 'mandar imprimir txt impresora usb python', 'manera configurar resolución ejecuta terminal c', 'manera correcta redirigir paquetes servidor linux', 'manera estándar limpiar pantalla', 'manera reanudar tarea tar interrumpida', 'mantener abierto proceso cerrar sesión ssh', 'mapear puerto aun cotenedor existente', 'matar proceso desconocido linux', 'mejor opción windows docker vs compilar linux', 'meses string enteros', 'metadata archivo pdf', 'misconf redis error', 'modificar perfil usuario', 'mongodb connection refused', 'montar disco duro ntfs linux debian', 'moodle apache centos', 'mostrar contador igual valor', 'mostrar mensaje comando arroje vacío', 'mostrar mensaje warning ssh', 'mostrar notificación intentar apagar debian entorno escritorio', 'mostrar notificación ubuntu', 'mostrar pantalla solo archivos noviembre diciembre luego hacerle grep', 'mostrar petición mostrar forma misma página php', 'mostrar ruta linux usando lenguaje c', 'mover archivos directorio determinados directorios dependiendo extension', 'mover linux disco', 'ms office solo lectura samba fedora', 'msbuild usando jenkins servidor linux', 'muestra error usando supervisor digital ocean opcion corregirlo', 'muestra información ficheros c', 'muestro errores linux syslog php', 'muestro grupo si contiene menos usuario', 'muevo archivos directorio directorio dependiendo nombre', 'multiples rutas estáticas linux', 'mysql error database selected', 'mysql permite entrar motor', 'máximo valor ulimit debo reiniciar terminal volver definirlo', 'nas terramaster comandos limitados', 'necesita cerrar pipes utilizan', 'nfs server linux deja escribir', 'nginx mostrar personalizado', 'nginx unificar configuración http https', 'nodejs serialport funciona servicio linux debian si manualmente', 'normal xampp instale mal ubuntu', 'notificación acceso ssh', 'nvidia causó problemas', 'obtener archivo wget', 'obtener carpeta usuario cualquier usuario linux ubuntu', 'obtener fichero almacenar string diccionario python', 'obtener grupo usuario linux lenguaje c', 'obtener mes fecha bash', 'obtener porcentaje uso ram disk linux', 'obtener ruta absoluta archivo c linux', 'obtener status repositorios git directorio', 'obtener valor variable creada dentro función ejecutada segundo plano', 'obtener valores consulta preparada sqlite', 'obtener variable shell c', 'obtener ventana linux coordenadas', 'obtengo dos hash distintas', 'obtengo error skipped frames the application may be doing too much work on its main thread', 'ocultar salida comando groupadd', 'operaciones aritméticas simples', 'operador test condicional', 'oracle', 'oracle sql xe error entrar sqlplus linux deepin basado debian', 'orden argumentos getopt c', 'pagina web blanco', 'pantalla completa kali linux virtualbox', 'pantalla negra ejecutar pygame', 'paralelizar calculos matriz mpi scatter gatter', 'particionado ubuntu', 'particiones disco gentoo partición tipo gpt', 'partición linux', 'pasar archivos linux partición windows', 'pasar parametros php script linux', 'pasar resultado comando remoto variable', 'pasar xlsx csv aix', 'paso variables php js funciona windows mas linux', 'path linux windows', 'path vmware wxmaxima', 'perdida sistema archivos tras bootear dd', 'permisos carpeta ubuntu', 'permisos debería tener directorio poder modificar archivos directorios', 'permisos ejecución shell vala', 'permisos httpd centos', 'permisos usar servidor web wordpress', 'permitir acceso ftp enlace simbólico jaula usuario', 'php access token genera windows', 'php fatal error class controller not found', 'php linux base datos alojada windows db postgresql', 'php ruta linux funciona', 'phpmyadmin funciona ubuntu', 'please include gradle in your path or install android studio android studio ionic', 'pobible recuperar archivo borrado comando servidor linux', 'poner aplicación django producción apache', 'poner inicio dual ubuntu si computador arranca windows', 'poner sitio web visible ip publica', 'poner timeout ejecución bash lanzado máquina remota vía ssh', 'portal cautivo mediante iptables', 'posible agregar archivo paquete comprimido descomprimirlo', 'posible programar tareas pasarle parámetros hora actual operaciones', 'posible separar servidor vnc maquina quiero controlar', 'postgres hacer backup espacio', 'preferibles llamadas sistema bloqueantes bloqueantes', 'pregunta nessus', 'preprocesador interpreta palabra linux constante', 'principio software libre', 'problema abrir proyectos android studio ubuntu', 'problema acceder frontend zabbix', 'problema acceder servidor apache red local nombre dominio ssl', 'problema acceso web pagina moodle', 'problema añadir librería codeblocks', 'problema bluetooth slackware current', 'problema boot usb intalar ubuntu linux', 'problema cambiar ip ubuntu server', 'problema clase ziparchive php', 'problema comprimiendo archivos tar', 'problema concurrencia filósofos comensales', 'problema conectarme servidor reh hat', 'problema conexión ssh inversa tunnel', 'problema configurar linux virtualbox', 'problema construir pdf latex usando linux', 'problema credenciales server ftp', 'problema cron hacer encuentre path correcto', 'problema descargar archivos gnu wget', 'problema desplegar proyecto centos', 'problema despues agrandar particion logica', 'problema dominios apache', 'problema eclipse debian', 'problema ejecutando crontab cada dos minutos utilizando usuario root', 'problema ejecutar bash cronjob', 'problema ejecutar copia seguridad rsync cron linux', 'problema ejecutar root', 'problema ejecutar rsync ssh certificado clave privada', 'problema fi código bash', 'problema gcm linux', 'problema git local', 'problema grub dejó funcionar después actualización windows', 'problema grub instalar ubuntu', 'problema instalación cliente oracle swap size servidor redhat', 'problema instalación darshan', 'problema instalación guest additions lubuntu', 'problema instalar cabeceras kali linux', 'problema instalar drive adaptador usb wifit sistema operativo linux elementary', 'problema instalar manjaro', 'problema instalar oracle debian', 'problema instalar proyecto django virtualenv debian', 'problema intentar ejecutar comando sudo update', 'problema linux contraseña', 'problema linux instalación', 'problema live usb kali linux file system read only', 'problema migración moodle window centos', 'problema montar nas pc linux comando mount', 'problema password', 'problema proxy realizar peticion', 'problema raspberry pi importerror can not open shared object file such file or directory', 'problema repositorio linux', 'problema repositorio ubuntu', 'problema ruby on rails dependencias faltantes', 'problema rutas php', 'problema script bash linux', 'problema server vsftpd linux', 'problema sonido lubuntu', 'problema tablas bootstrap linux', 'problema tratar iniciar mysql xampp', 'problema websocket python', 'problema wordpress mail funcion', 'problema yum centos errno http error not found', 'problemas actualización ubuntu', 'problemas backup whm', 'problemas cliente oc login openshift', 'problemas conectarme apache ubuntu sql server mediante php', 'problemas conexión mediante wireless virtualbox', 'problemas conexión ssh kali linux usuario root', 'problemas configuracion gitlab netbeans linux', 'problemas crontab raspberry', 'problemas descargar archivos directorio sitioweb', 'problemas disco externo leido', 'problemas django instalar plugin cymysql conectar base datos', 'problemas ejecutar shell script problemas if', 'problemas firefox openstreemap', 'problemas instalación node linux ubuntu', 'problemas instalar angular ionic windows fsevents', 'problemas instalar lamp ubuntu', 'problemas intentar actualizar paquetes linux', 'problemas osrm r ubuntu', 'problemas permisos carpeta servidor web linux', 'problemas script visualizar expulsar usuarios', 'problemas servicio mysql linux', 'problemas virtualizacion vmware', 'problemas wifi error pcie', 'proceso hijo pasar zombie huérfano', 'producen cómo solucionan errores gpg', 'programa avisar conexión linux', 'programa crontab ejecutar tarea ultimo dia mes', 'programar crontab', 'proteger directorio contraseña', 'proxy burp suite lento', 'puede acceder phpmyadmin tras instalación', 'puede cc compilar archivo', 'puede depurar php visual studio code', 'puede incrementar fechas shell', 'puede montar partición subdirectorio directorio vacío ubuntu', 'puede obtener información paquete instalar pfsense', 'puede programar php servidor web windows', 'puedo abrir android studio versiones linux debian', 'puedo abrir puertos centos', 'puedo acceder usuario terminal centos ssh', 'puedo actualizar linux elementary', 'puedo agregar sub dominio centos', 'puedo agrupar aplicación comando cut wc', 'puedo arreglar error filenotfounderror errno existe fichero directorio', 'puedo borrar linux archivos anteriores fecha determinada indicada nombre archivos', 'puedo borrar todas sesiones apache ubuntu', 'puedo cambiar muchas líneas archivo texto si diferente texto', 'puedo cambiar nivel ejecución monousuario realizar tareas linux', 'puedo capturar array texto linea archivo txt shell', 'puedo compartir pantalla', 'puedo compilar drivers', 'puedo compilar ningún código codeblocks', 'puedo contar cantidad archivos dentro zip linux', 'puedo copiar documentos directorio', 'puedo corregir dependencias', 'puedo crear foreign key mariadb', 'puedo crear virtualhost vagrant vea red local', 'puedo editar', 'puedo ejecutar codigo', 'puedo ejecutar script python consola linux si directorio', 'puedo eliminar archivo cuyo nombre contiene carácter almohadilla', 'puedo eliminar lineas texto iguales segundo campo', 'puedo eliminar usuario root servidor web', 'puedo encontrar detener aplicación utilizando puerto linux', 'puedo enviar correos squirrelmail postfix dovecot', 'puedo envíar notificación usuario usando dbus', 'puedo establecer salida sonido canales manjaro deepen', 'puedo extraer líneas cuyo uid solo contenga único número', 'puedo filtrar nuevos correos ficheros', 'puedo generar archivo posea variable quiero partir varios archivos', 'puedo generar copias incrementales tar linux', 'puedo guardar campos específicos csv', 'puedo guardar salida estándar fichero mensajes error', 'puedo hacer comando tar actúe ficheros listados fichero', 'puedo hacer funcionar servidor local ruta especifico php', 'puedo importar base datos mysql servidor linux mediante secure shell client', 'puedo imprimir ciertos campos línea', 'puedo imprimir raspberry pi raspbian usando python', 'puedo indicar línea archivo cadena dada', 'puedo iniciar sesión gráficamente linux usuario creado terminal', 'puedo instalar dev linux paso paso', 'puedo instalar laravel', 'puedo instalar nodejs consola ssh', 'puedo instalar php ubuntu', 'puedo juntar tres líneas', 'puedo leer contenido fichero línea línea bash', 'puedo leer dos ficheros vez paralelo bash', 'puedo listar cronjobs servidor', 'puedo modificar formato fecha shell scripting', 'puedo modificar permisos defecto linux', 'puedo montar servidor java', 'puedo obtener archivos determinada extensión dentro directorio', 'puedo obtener informacion sistema emulando', 'puedo obtener ip so guest windows xp montado vmware linux consola', 'puedo pasar resultado obtenido ejecutar comando comando haga acción', 'puedo quedarme línas bloque solamente si contiene patrón determinado', 'puedo recuperar informes tablas dañadas', 'puedo recuperar interfaz gráfica ubuntu', 'puedo redirigir salida fichero mostrar terminal', 'puedo reparar ciclo if haga verificación', 'puedo romper while', 'puedo saber maquinas tieneen erronea ansible', 'puedo solucionar kernel panic not syncing vfs unable parrot', 'puedo sustituir cadena awk', 'puedo tener múltiples cajas misma distribución vagrant', 'puedo usar mostrar dato referente', 'puedo usar subcarpeta dominio principal php', 'puedo usar wget copiar página usa credenciales', 'puedo validar si variable contiene nombre fichero termina', 'puedo ver archivos directorios carpeta actual usando python', 'puedo ver librerías usa gcc c', 'puedo ver u obtener código fuente algún comando', 'puedo volver entrar usuario', 'puerto', 'puerto queda ocupado presionar ctrl c terminal linux aplicaciones nodejs', 'puerto tcp usa programa ping', 'python da error', 'pésimo rendimiento modulo netfilter linux', 'qt dibujar qpainter qpixmap', 'queda bloqueado linux server', 'quiere decir error composer', 'quiero ejecutar comando iniciar terminal hago', 'quiero guardar registro errores php carpeta script', 'quitar redirección correo plesk', 'quitar salto linea windows linux', 'quitar warning código', 'quito dominio abro url externa', 'raid centos funciona después hard reset', 'raspberry pi ejecutar firefox inicie ambiente gráfico', 'raspberry pi error not connected', 'raspberry pi error timed out waiting for device', 'raspberry pi kali linux', 'realiza script editar lineas especificas archivo', 'realizar comando itraf php obtener salida', 'realizar consultas páginas externas base mysql', 'realizar deploy heroku', 'realizar tarea programada ubuntu python', 'recibo error unable to create output servidor linux uso mpdf', 'reconocedor voz arecord python', 'reconocer teclas dirección lenguaje c linux', 'recortar archivos multimedia línea comandos', 'recuperar información ssd', 'recuperar repositorio git', 'redimensionamiento espacio linux', 'redimensionar directorio linux gparted', 'redireccion servicio', 'redireccion sitio web travez puertos habilitados', 'redireccionamiento traefik', 'redireccionar puerto mediante dns', 'redireccionar todas páginas web subdominio móviles', 'redirigir lineas log fichero mantenerlas log principal', 'redirigir salida archivo mismo archivo provoca borre contenido', 'redirigir salida comando principio archivo bash', 'referencia main definir', 'referirme servidor red local linux', 'refrescar navegador raspberry remotamente navegador', 'registrar pulsación', 'reinicio apache ruta', 'reinstalar xampp ubuntu', 'remplazo sed variables', 'rendimiento base datos mysql', 'renombrar archivos contenidos varios directorios', 'renombrar archivos espacios utilizando sed', 'renombrar directorio linux', 'renombrar grupo archivos', 'resolucion', 'restar hora nanosegundos', 'restaurar base datos mysql centos archivo', 'restaurar module lmde', 'restringir usuarios grupo invitados puedan salir directorio', 'retornar parametros salida nombre funciones c', 'reviso cambios hicieron servidor linux usuario realizó', 'rsync equipo remoto local', 'rsync rsh', 'rundeck error interno centos', 'ruta absoluta', 'ruta archivo jdk linux mint', 'ruta tarjeta removible sd card android xamarin', 'saber dependencias necesarias instalar determinada aplicación python bajo linux', 'saber número subred comado', 'saber pid consola actual konsole', 'saber si pdf protegido contraseña', 'saber si presionó tecla enter linux', 'saber tamaño terminal bash', 'saber último reinicio proceso', 'sale éste error ubuntu instalar', 'saltos línea formato dos python', 'script bash ejecuta correctamente si hago través crontab', 'script bash parametros espacio', 'script buscar palabras texto txt quiero hacerlo usar comando grep', 'script lanzado regla udev queda zombie lanzar nuevo proceso', 'script lemp', 'script linux buscar archivos tipo especifico', 'script marca sido encontrado servicio', 'script mover archivos carpeta vpn', 'script puedo mover directorio archivo directorio script', 'script python ejecutado cron', 'script vuelva script', 'segmentation fault core dumped modificar valores vector enteros', 'seguimiento fichero tail', 'seguro dar permisos carpeta proyecto web php', 'semaforos recursos compartidos', 'semáforos linux', 'separar cadena texto consola linux', 'servidor correo debian postfix dovecot', 'servidor fallar principal', 'servidor ftp montar diferentes carpetas', 'servidor puede resolver ningún nombre dominio', 'servidor remoto tunel inverso puerto ocupado veces encuentra cerrado', 'servidor suse apaga', 'servidor web local error pagina jsp', 'setea ubuntu', 'sh recorrer carpeta copiar archivos', 'shell lea multiples parametros ciclo', 'shell scripting analizar caracteres oración ingresada teclado', 'si añado ubicación programa path luego ejecuto dice existe ubuntu', 'significa comando apt install', 'significa rama encima', 'significa simbolo bash', 'significa símbolo delante parámetro bash expansiones indirectas bash', 'significado ubuntu utilizar crontab php', 'siguientes advertencias da mysqltuner', 'sirve comando linux', 'sistema audio jack estropeado', 'solicitud memoria', 'solucionar error can not find command ef si paquete instalado', 'solucionar error compilar referencia definir', 'solucionar error macchanger mac', 'solucionar problema linux mint iniciar intellij', 'soluciono error iniciar servidor rails aplicación', 'split pide input file name aún ingreso', 'ssh host usuario usan varias personas', 'storage size of is known struct', 'subir bd servidor linux mysql', 'subir busybox router ftp', 'sucede ubuntu', 'sudo ssh sigue solicitando contraseña clave privada sudo pide', 'suma cadena numeros bash linux', 'suma dos numeros punto flotante mediante funcion inline asm c', 'suma n cantidad numeros bash linux', 'sumar datos linux', 'symfony linux', 'tablas corruptas mysql engine innodb linux', 'tamaño fichero final wikidata', 'tar ejecuta correctamente', 'teclado español navegadores', 'tiempo ejecución cpu', 'tipos shortstring ansichar ansistring delphi tokio linux', 'tira error enlazado', 'trabajar decimales shell linux uso condicional if else', 'trabajar repositorio local ubuntu server', 'trabajar rutas espacios linux python', 'ubuntu doble pantalla radeon vega', 'ubuntu instalo programas descargo', 'ubuntu lts error instalar desinstalar paquetes', 'ubuntu server ejecutar python script via crontab', 'ubuntu server mysql the mysql server is running with the option', 'unable to create socket permission denied', 'uncaught exception in centos', 'unir cliente servidor ldap', 'unlink permission denied', 'unsatisfiedlinkerror', 'usar ciclo for bash script', 'usar cp crear fichero contenido varios ficheros', 'usar freeling ruby sistema operativo ubuntu', 'usar mismo dominio varios servidores web', 'usar ruby opensuse', 'usar salida comando linux parámetro comando ls cd etc', 'uso apropiado', 'utilizar android studio gradle instala linux', 'utilizar exit finalizar script linux', 'utilizar mismo virtualenv python windows linux', 'utilzando rsync patrones patterns', 'valgrind errores compilacion ejecucion', 'validar php funcionando debian', 'valor devuelto orden simple', 'variable shell contiene resultado query', 'variably modified at file scope c', 'ver características sistema putty', 'ver uso tarjeta grafica linux', 'verificar nombres exactos servicios ejecutando', 'verificar script python ejecutando si ejecute', 'verificar si cadena ingresada encuentra dentro rango numérico', 'version not found', 'violacion segmento ensamblador', 'violacion segmento problema punteros memoria dinamica', 'violación segmento generado python', 'virtualbox lento linux', 'visualizar fuentes powerline vim terminator linux', 'vm ubuntu inicia ningún navegador web', 'volcado hexadecimal directorio linux', 'volver función función anterior', 'vpn ipsec linux', 'vps arsys arroja error archivos estan bien alojados', 'vs code python venv cómo activar ambiente virtual', 'warning deprecated conversion from string constant', 'warning shadow member of this', 'why folders can have permissions in linux', 'windows nat homólogo iptables', 'wordpress solicita servidor usuario ftp contraseña ftp instalar plugins', 'yum instalado']\n"
          ],
          "name": "stdout"
        }
      ]
    },
    {
      "cell_type": "code",
      "metadata": {
        "id": "MaHbIedJ_sQD",
        "colab_type": "code",
        "colab": {
          "base_uri": "https://localhost:8080/",
          "height": 51
        },
        "outputId": "eaa1de02-b0d7-478a-a537-ac0dd134fb74"
      },
      "source": [
        "list(le.inverse_transform([256,641]))"
      ],
      "execution_count": 228,
      "outputs": [
        {
          "output_type": "execute_result",
          "data": {
            "text/plain": [
              "['debugear código django utilizando docker',\n",
              " 'muestra error usando supervisor digital ocean opcion corregirlo']"
            ]
          },
          "metadata": {
            "tags": []
          },
          "execution_count": 228
        }
      ]
    },
    {
      "cell_type": "code",
      "metadata": {
        "id": "UIx7S1P2iz9F",
        "colab_type": "code",
        "colab": {}
      },
      "source": [
        "def cosine_sim(a, b):\n",
        "    cos_sim = np.dot(a, b)/(np.linalg.norm(a)*np.linalg.norm(b))\n",
        "    return cos_sim"
      ],
      "execution_count": 210,
      "outputs": []
    },
    {
      "cell_type": "code",
      "metadata": {
        "id": "Djd4FPJlxCG4",
        "colab_type": "code",
        "colab": {
          "base_uri": "https://localhost:8080/",
          "height": 34
        },
        "outputId": "4e03b6a0-77a3-4d25-945f-3bb3c536f62f"
      },
      "source": [
        "search = preprocess(\"Error al automatizar la instalación de Postgresql 9.4 en sistema embebido con Debian\")\n",
        "print(search)\n"
      ],
      "execution_count": 213,
      "outputs": [
        {
          "output_type": "stream",
          "text": [
            "['error', 'automatizar', 'instalación', 'postgresql', 'sistema', 'embebido', 'debian']\n"
          ],
          "name": "stdout"
        }
      ]
    },
    {
      "cell_type": "code",
      "metadata": {
        "id": "jfYTsiBqyv1i",
        "colab_type": "code",
        "colab": {
          "base_uri": "https://localhost:8080/",
          "height": 34
        },
        "outputId": "fd2af3c3-2cc6-433c-cb8e-be0eef64ecef"
      },
      "source": [
        "question = le.fit_transform(search)\n",
        "question"
      ],
      "execution_count": 214,
      "outputs": [
        {
          "output_type": "execute_result",
          "data": {
            "text/plain": [
              "array([3, 0, 4, 5, 6, 2, 1])"
            ]
          },
          "metadata": {
            "tags": []
          },
          "execution_count": 214
        }
      ]
    }
  ]
}